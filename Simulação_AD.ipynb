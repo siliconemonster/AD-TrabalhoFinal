{
  "nbformat": 4,
  "nbformat_minor": 0,
  "metadata": {
    "colab": {
      "name": "Simulação AD.ipynb",
      "provenance": [],
      "collapsed_sections": [
        "5aTNjkgw6BQE",
        "Gc9N2-zG-xLw",
        "KdkPXO0Ct0Mx",
        "u3BiHArOYdw0",
        "Ao8WTJ_L-6bJ",
        "dbngC-ww8GMD",
        "xZKkOaD0F5QP",
        "a7nycr1t1i5P",
        "L94gjOxJigqZ",
        "F3vgL7m44jUM",
        "SIa_whUE4oy5",
        "Q6YYKUl-LiEs",
        "F-myokldMeB1",
        "ID3wiy4TAcsL",
        "Pjqqm7orYegP",
        "ToFXNIAv8eNI",
        "MXCb5PwF8eNQ",
        "4GRyo7Qu8eNR",
        "SG4tshBM-cPg",
        "itQmSYB0bZho",
        "stA87GcTAxYy",
        "Cd7jlD_PVGc8",
        "11L3Fp9KA-Yk",
        "pGTDBTUjBfF2",
        "f4uXGIs6BfF3"
      ],
      "include_colab_link": true
    },
    "kernelspec": {
      "display_name": "Python 3",
      "name": "python3"
    },
    "language_info": {
      "name": "python"
    }
  },
  "cells": [
    {
      "cell_type": "markdown",
      "metadata": {
        "id": "view-in-github",
        "colab_type": "text"
      },
      "source": [
        "<a href=\"https://colab.research.google.com/github/siliconemonster/AD-TrabalhoFinal/blob/main/Simula%C3%A7%C3%A3o_AD.ipynb\" target=\"_parent\"><img src=\"https://colab.research.google.com/assets/colab-badge.svg\" alt=\"Open In Colab\"/></a>"
      ]
    },
    {
      "cell_type": "markdown",
      "metadata": {
        "id": "5aTNjkgw6BQE"
      },
      "source": [
        "## Importando bibliotecas"
      ]
    },
    {
      "cell_type": "code",
      "metadata": {
        "id": "9qMnzYxPsbKS"
      },
      "source": [
        "from collections import Counter\n",
        "import copy\n",
        "import fractions\n",
        "from fractions import Fraction\n",
        "import itertools\n",
        "from itertools import permutations\n",
        "from itertools import combinations\n",
        "from itertools import combinations_with_replacement\n",
        "import math\n",
        "from math import *\n",
        "from matplotlib import pyplot as plt\n",
        "from matplotlib.legend_handler import HandlerLine2D\n",
        "import numpy as np\n",
        "from numpy import random\n",
        "from numpy.linalg import matrix_power\n",
        "import pandas as pd\n",
        "import queue \n",
        "import random\n",
        "from random import sample\n",
        "from random import random\n",
        "from scipy.stats import poisson\n",
        "import sympy as sy\n",
        "from sympy import Matrix"
      ],
      "execution_count": 250,
      "outputs": []
    },
    {
      "cell_type": "markdown",
      "metadata": {
        "id": "Gc9N2-zG-xLw"
      },
      "source": [
        "# Funções Auxiliares"
      ]
    },
    {
      "cell_type": "code",
      "metadata": {
        "id": "-_UNhiT8aJ21"
      },
      "source": [
        "# Função para validar parâmetro passado para a função\n",
        "def validaParametro(parametro, paramValidos, parametroPassado):\n",
        "\n",
        "    if parametroPassado not in paramValidos:\n",
        "        raise ValueError(\"Parâmetro \" + str(parametro) + \": valor passado de ver estar entre os seguintes valores: \" + str(paramValidos))\n"
      ],
      "execution_count": 251,
      "outputs": []
    },
    {
      "cell_type": "code",
      "metadata": {
        "id": "fzeFkanRyZr4"
      },
      "source": [
        "# Função para inicializar uma cache\n",
        "def initializeCache(numConteudos, tamCache):\n",
        "  conteudos = list(range(1, numConteudos + 1))\n",
        "  cache = sample(conteudos, k = tamCache)\n",
        "  \n",
        "  return cache"
      ],
      "execution_count": 252,
      "outputs": []
    },
    {
      "cell_type": "code",
      "metadata": {
        "id": "P01pvIaVdKPu"
      },
      "source": [
        "# Função para muda o estado da cache\n",
        "def cacheReceivesReq(caso, cacheEnt, conteudo, depurar = False):\n",
        "  cache = cacheEnt.copy()\n",
        "  RequisicaoAtendida = 0\n",
        "  #print(\"Conteudo Requisitado: \" + str(requisicao))\n",
        "  #print(\"Cache:\" + str(cache))\n",
        "\n",
        "  if (conteudo in cache):\n",
        "    if (caso == \"FIFO\" or caso == \"Random\" or caso == \"Estatica\"):\n",
        "      cache = cache\n",
        "      RequisicaoAtendida = 1    \n",
        "      if (depurar): print(\"Cache possui requisição!\")\n",
        "      if (depurar): print(\"Cache permanece inalterada.\")\n",
        "\n",
        "    elif (caso == \"LRU\"):\n",
        "      RequisicaoAtendida = 1    \n",
        "      if (depurar): print(\"Cache possui requisição!\")\n",
        "\n",
        "      if (depurar): print(\"Conteúdo requisitado ficará na primeira posição.\")\n",
        "      cache.remove(conteudo)\n",
        "      cache.insert(0, conteudo)\n",
        "      if (depurar): print(\"Novo estado da cache: \" + str(cache)) \n",
        "   \n",
        "  else:\n",
        "    if (depurar): print(\"Cache não possui conteúdo da requisição )=\")    \n",
        "    if (caso == \"FIFO\" or caso == \"LRU\"):\n",
        "      if (depurar): print(\"Conteúdo requisitado entrará na primeira posição, e o conteúdo da última sairá.\") \n",
        "      cache.insert(0, conteudo)\n",
        "      del cache[-1]\n",
        "      if (depurar): print(\"Novo estado da cache: \" + str(cache)) \n",
        "\n",
        "    elif (caso == \"Random\"):\n",
        "      if (depurar): print(\"Conteúdo requisitado entrará numa posição aleatória.\")\n",
        "      pos = random.randint(0,2)\n",
        "      cache[pos] = conteudo\n",
        "      if (depurar): print(\"Novo estado da cache: \" + str(cache))\n",
        "\n",
        "    elif (caso == \"Estatica\"):\n",
        "      if (depurar): print(\"Cache permanece inalterada.\")\n",
        "      cache = cache\n",
        "\n",
        "  return cache, RequisicaoAtendida"
      ],
      "execution_count": 253,
      "outputs": []
    },
    {
      "cell_type": "code",
      "metadata": {
        "id": "-uW1cNLh0Brg"
      },
      "source": [
        "# Função para verificicar se a cache possui conteúdo, utilizada pelo simulador dos cenários III e IV\n",
        "def cacheReceivesReq3_4(caso, cacheEnt, conteudo, depurar = False):\n",
        "  cache = cacheEnt.copy()\n",
        "  RequisicaoAtendida = 0\n",
        "  #print(\"Conteudo Requisitado: \" + str(requisicao))\n",
        "  #print(\"Cache:\" + str(cache))\n",
        "\n",
        "  if (conteudo in cache):\n",
        "    if (caso == \"FIFO\" or caso == \"Random\" or caso == \"Estatica\"):\n",
        "      cache = cache\n",
        "      RequisicaoAtendida = 1    \n",
        "      if (depurar): print(\"Cache possui requisição!\")\n",
        "      if (depurar): print(\"Cache permanece inalterada.\")\n",
        "\n",
        "    elif (caso == \"LRU\"):\n",
        "      RequisicaoAtendida = 1    \n",
        "      if (depurar): print(\"Cache possui requisição!\")\n",
        "\n",
        "      if (depurar): print(\"Conteúdo requisitado ficará na primeira posição.\")\n",
        "      cache.remove(conteudo)\n",
        "      cache.insert(0, conteudo)\n",
        "      if (depurar): print(\"Novo estado da cache: \" + str(cache)) \n",
        "   \n",
        "  else:\n",
        "    if (depurar): print(\"Cache não possui conteúdo da requisição )=\")\n",
        "    \n",
        "  return cache, RequisicaoAtendida"
      ],
      "execution_count": 254,
      "outputs": []
    },
    {
      "cell_type": "code",
      "metadata": {
        "id": "XqXLD_2z0haf"
      },
      "source": [
        "# Função para mudar o estado da cache, utilizada pelo simulador dos cenários III e IV\n",
        "def servidor_atende_cache3_4(caso, cacheEnt, conteudo, depurar = False):\n",
        "  cache = cacheEnt.copy()\n",
        "\n",
        "  if (caso == \"FIFO\" or caso == \"LRU\"):\n",
        "        if (depurar): print(\"Conteúdo requisitado entrará na primeira posição, e o conteúdo da última sairá.\") \n",
        "        cache.insert(0, conteudo)\n",
        "        del cache[-1]\n",
        "        if (depurar): print(\"Novo estado da cache: \" + str(cache)) \n",
        "\n",
        "  elif (caso == \"Random\"):\n",
        "    if (depurar): print(\"Conteúdo requisitado entrará numa posição aleatória da cache.\")\n",
        "    pos = random.randint(0,2)\n",
        "    cache[pos] = conteudo\n",
        "    if (depurar): print(\"Novo estado da cache: \" + str(cache))\n",
        "\n",
        "  elif (caso == \"Estatica\"):\n",
        "    if (depurar): print(\"Cache permanece inalterada.\")\n",
        "    cache = cache\n",
        "\n",
        "    return cache"
      ],
      "execution_count": 255,
      "outputs": []
    },
    {
      "cell_type": "code",
      "metadata": {
        "id": "_FqSg1OiXp34"
      },
      "source": [
        "# Função para calcular o intervalo de confiança\n",
        "def intervaloDeConfianca(n, cenario, caso, numConteudos, tamCache, probabilidades, teta, cachesDiferentes = True, p = 0.9):\n",
        "  \n",
        "  experimentosMedia = []\n",
        "  \n",
        "  for i in range (n):  \n",
        "\n",
        "    if (cenario == 3 or cenario == 4):\n",
        "      sucessos = simulacaoCenario3_4(100000,\"FIFO\", 3, 2 , [1/3,1/3,1/3], teta = teta, depurar = False)\n",
        "      #sucessos = simulacaoCenario3_4(100000, caso, numConteudos ,tamCache, probabilidades, teta = teta, cachesDiferentes = cachesDiferentes)\n",
        "\n",
        "    else:\n",
        "\n",
        "      cache1, cache2, sucessos = eval(\"simulacaoCenario\" + str(cenario) + \n",
        "                                      \"(100000, caso, numConteudos ,tamCache, probabilidades, cachesDiferentes = cachesDiferentes)\")\n",
        "    \n",
        "    \n",
        "    experimentosMedia.append(sucessos) \n",
        "  \n",
        "  media = np.mean(experimentosMedia)\n",
        "  variancia = np.var(experimentosMedia)\n",
        "\n",
        "  # Intervalo de Confiança para a Variância\n",
        "  intervalo_de_confianca = []\n",
        "\n",
        "  desvio = sqrt(variancia)\n",
        "  intervalo_de_confianca.append(media - 1.96 * desvio/ sqrt(n))\n",
        "  intervalo_de_confianca.append(media + 1.96 * desvio/ sqrt(n))\n",
        "\n",
        "  print(\"Cenário: \" + str(cenario))\n",
        "  print(\"Caso: \" + caso)\n",
        "  print(\"Tamanho de cada cache: \" + str(tamCache))\n",
        "  print(\"Número de conteúdos: \" + str(numConteudos))\n",
        "  print(\"Intervalo de Confiança: \" + str(intervalo_de_confianca))\n",
        "  print(\"-------- \\n\")\n",
        "\n",
        "  return intervalo_de_confianca"
      ],
      "execution_count": 256,
      "outputs": []
    },
    {
      "cell_type": "markdown",
      "metadata": {
        "id": "KdkPXO0Ct0Mx"
      },
      "source": [
        "# I. Simulação Cenário I"
      ]
    },
    {
      "cell_type": "markdown",
      "metadata": {
        "id": "u3BiHArOYdw0"
      },
      "source": [
        "## Função da Simulação do Cenário I"
      ]
    },
    {
      "cell_type": "markdown",
      "metadata": {
        "id": "hkKY4uvLS9BX"
      },
      "source": [
        "<h3> Parâmetros de entrada para a função\n",
        "\n",
        "O simulador do cenário I é dado pela função abaixo que tem os seguintes parâmetros de entrada:\n",
        "\n",
        "*   $numRequisicoes$ - Número de requisões que serão realizadas no experimento. Deve ser um número inteiro maior que $0$.\n",
        "*   $caso$ - qual é o caso/tipo das caches. Os possíveis valores de entrada são: \"FIFO\", \"LRU\", \"Random\" ou \"Estatica\"\n",
        "*   $numConteudos$ - número de conteúdos que podem ser requisitados. Deve ser um número inteiro maior que $0$.\n",
        "*   $tamCache$ - tamanho das caches. Deve ser um número inteiro maior que $0$.\n",
        "*   $probabilidades$ - probabilidade de cada conteúdo ser requisitado. Deve ser passado uma lista de tamanho igual ao número de conteúdos. Por exemplo, se são três conteúdos e possuem probabilidade de requisição uniforme, a lista passada deverá ser $[1/3,1/3,1/3]$\n",
        "*   $depurar$ - Booleano para indicar se deseja imprimir a depuração do código ou não. O default é o valor \"False\", onde não se depura.\n",
        "*   $cache1\\_inicial$ - Estado inicial de uma cache. Se nada for passado, ela irá ser inicializada aleatóriamente.\n",
        "*   $cache2\\_inicial$ - Estado inicial da outra cache. Se nada for passado, ela irá ser inicializada aleatóriamente.\n",
        "*   $cachesDiferentes$ - Booleano para indicar se deseja que as caches comecem em estados diferentes ou iguais. O default é o valor \"True\", onde começam com em estados diferentes.\n",
        "\n",
        "<h3> Descrição do Simulador\n",
        "\n",
        "Inicialmente, as caches são incializadas com os estados passados, caso não sejam passados, elas são inicializadas de forma aleatória com os conteúdos possíveis, que nesse caso serão representados por números inteiros de $1$ ao $numConteudos$ dado. \n",
        "\n",
        "Após isso, agenda-se um evento de uma requisição para cada conteúdo na lista de eventos, esse evento idica qual o tempo em que a requisição irá acontecer e qual conteúdo estará sendo requisitado. O tempo do agendamento é gerado de forma aleatória seguindo a distriuição exponencial tendo como parâmetro a taxa do conteúdo e a cada vez que um evento é adicionado, a lista é ordenada em função dos tempos apresentados em cada evento. \n",
        "\n",
        "Com as caches inicializadas e uma requisição agendada para cada conteúdo, começa-se a realização dos eventos, ou seja, as requisições agendadas começam a ser a realizadas. Em termos de código, inicia-se um loop em cima da lista de eventos, onde em cada iteração, a requsição com menor tempo presente na lista é encaminhada paras as duas caches e para cada cache é realizado o seguinte processo: analisá-se se a cache possui o conteúdo requisitado e assim marca-se se a requisição foi atendida ou não, em ambos os casos a cache muda de estado seguindo o padrão do tipo de cache especificado. Após ser encaminhada para as duas caches, verifica-se a requisição foi atendida por pelo menos uma das caches, se sim, é marcado como sucesso. Após uma requsição ser feita, é agendada uma nova requisição para o mesmo conteúdo onde o tempo do agendamento é gerado de forma aleatória seguindo a distriuição exponencial com parâmetro igual a probabilidade do conteúdo, dessa forma garantimos que cada conteúdo seja requisitado seguindo sua taxa de chegada.\n",
        "\n",
        "Após o número de requisições pedidas serem feitas, verifica-se o número de sucessos e finalmente calcula-se a probabilidade de sucesso fazendo o seguinte cálculo: $numero\\ de\\ sucessos/numero\\ de\\ requisicoes\\ realizadas$\n"
      ]
    },
    {
      "cell_type": "code",
      "metadata": {
        "id": "suVu9BaPsR72"
      },
      "source": [
        "def simulacaoCenario1(numRequisicoes, caso, numConteudos, tamCache, probabilidades, depurar = False,cache1_inicial = False, cache2_inicial = False, cachesDiferentes = True):\n",
        "\n",
        "  validaParametro(\"caso\", [\"FIFO\", \"LRU\", \"Random\", \"Estatica\"], \"LIFO\")\n",
        "  \n",
        "  Requisicoes = []\n",
        "  taxa = 1*probabilidades\n",
        "  \n",
        "  # agendando uma requisição para cada conteúdo\n",
        "  for i in range (numConteudos):\n",
        "    tempo = np.random.exponential(1/taxa[i])    \n",
        "    par = [tempo, i +1]\n",
        "    Requisicoes.append(par)  \n",
        "  Requisicoes = sorted(Requisicoes, key=lambda tup: tup[0]) # ordena a lista de requisições em função do menor tempo\n",
        "    \n",
        "\n",
        "  # se não foi passado o estado inicial para cache 1, inicializa a cache aleatóriamente\n",
        "  if not cache1_inicial:    \n",
        "    cache1_inicial = initializeCache(numConteudos, tamCache)\n",
        "\n",
        "  # se não foi passado o estado inicial para cache 2, inicializa a cache para um estado igual ou diferente da cache 1\n",
        "  if not cache2_inicial:\n",
        "    cache2_inicial = []\n",
        "\n",
        "    # caches começam com estados iniciais diferentes\n",
        "    if cachesDiferentes:\n",
        "      cache2_inicial = initializeCache(numConteudos, tamCache)\n",
        "      if (caso == \"Estatica\"):\n",
        "        while (list(set(cache2_inicial)) == list(set(cache1_inicial))):\n",
        "          cache2_inicial = initializeCache(numConteudos, tamCache) \n",
        "      else:\n",
        "        while (cache2_inicial == cache1_inicial):\n",
        "          cache2_inicial = initializeCache(numConteudos, tamCache)    \n",
        "\n",
        "    # caches começam com estados iniciais iguais\n",
        "    else:\n",
        "      cache2_inicial = cache1_inicial.copy()\n",
        "\n",
        "  cache1 = cache1_inicial\n",
        "  cache2 = cache2_inicial\n",
        "\n",
        "  sucessos = 0 # contador de sucessos\n",
        "  requisicoes = 0 # contador de requisições  \n",
        "\n",
        "  # enquanto as requisições realizadas for menor que o numero de requisicoes\n",
        "  while (requisicoes < numRequisicoes):\n",
        "\n",
        "    evento = Requisicoes[0] # primeiro evento da lista de requisições\n",
        "    tempoAtual = evento[0] # tempo atual\n",
        "    conteudo = evento[1] # conteúdo sendo requisitado\n",
        "\n",
        "    if (depurar): print(\"Tempo \" + str(tempoAtual) + \" ocorreu requisição do tipo \" + str(conteudo) + \"\\n\")    \n",
        "    if (depurar): print(\"Conteúdo na cache 1: \" + str(cache1))\n",
        "    # atualiza estado da cache 1\n",
        "    cache1, RequisicaoAtendidaC1 = cacheReceivesReq(caso, cache1, conteudo, depurar)\n",
        "    if (depurar): print(\"\\n\")\n",
        "    if (depurar): print(\"Conteúdo na cache 2: \" + str(cache2))\n",
        "    # atualiza estado da cache 2\n",
        "    cache2, RequisicaoAtendidaC2 = cacheReceivesReq(caso, cache2, conteudo, depurar)  \n",
        "\n",
        "    # se a requisição foi atendida pela cache 1 ou pela cache 2 ou por ambas, o número de sucessos aumenta\n",
        "    if (RequisicaoAtendidaC1 or RequisicaoAtendidaC2):\n",
        "      sucessos = sucessos + 1\n",
        "    \n",
        "    else:\n",
        "      if (depurar): print(\"Requisição não foi inicialmente atendida por nenhuma cache :/ !\")\n",
        "\n",
        "    if (depurar): print(\"------ \\n\")\n",
        "\n",
        "    del Requisicoes[0]\n",
        "\n",
        "    # nova requisição para o mesmo conteúdo é agendada para assim manter a taxa de chegada\n",
        "    tempoAgendado = tempoAtual + np.random.exponential(1/taxa[conteudo-1])\n",
        "    Requisicoes.append([tempoAgendado,conteudo])  \n",
        "    Requisicoes = sorted(Requisicoes, key=lambda tup: tup[0]) # ordena a lista de requisições em função do menor tempo\n",
        "    requisicoes = requisicoes + 1 \n",
        "\n",
        "  if (depurar): print(\"Sucessos: \" + str(sucessos))\n",
        "  return cache1, cache2, sucessos/numRequisicoes # retorna os estados finais das caches e a taxa de sucessos\n"
      ],
      "execution_count": 257,
      "outputs": []
    },
    {
      "cell_type": "code",
      "metadata": {
        "id": "hZ3k8TBs0O-E"
      },
      "source": [
        "def analiseEstadoInicial(caso, numconteudos,tamcache, probabilidades):\n",
        "    \n",
        "  linha = 0\n",
        "  analise = pd.DataFrame(columns=['Estado_inicial_cache_1', 'Estado_inicial_cache_2', 'Sucessos',\n",
        "                                      'Estado_final_cache_1','Estado_final_cache_2'])\n",
        "  conteudos = list(range(1, numconteudos+1))\n",
        "  caches = list(permutations([1,2,3], 2)) \n",
        "  estadosCaches = list(combinations_with_replacement(caches, tamcache))\n",
        "\n",
        "  for estados in estadosCaches:\n",
        "    cache1_inicial = list(estados[0])\n",
        "    cache2_inicial = list(estados[1])\n",
        "    cache1, cache2, probSucessos = simulacaoCenario1(100000,caso, numconteudos ,tamcache, probabilidades, False, cache1_inicial, cache2_inicial)\n",
        "    analise.loc[linha+1] = [cache1_inicial] + [cache2_inicial] + [str(probSucessos)] + [cache1] + [cache2]\n",
        "    linha = linha + 1\n",
        "    print('Estados = ' + str(linha))\n",
        "\n",
        "  analise.to_excel(\"analise_Estado_Inicial_\" + caso + \".xlsx\")"
      ],
      "execution_count": 258,
      "outputs": []
    },
    {
      "cell_type": "markdown",
      "metadata": {
        "id": "n9vxnvNiYn6U"
      },
      "source": [
        "## Simulação dos casos com depuração"
      ]
    },
    {
      "cell_type": "markdown",
      "metadata": {
        "id": "ZC4u8e8upOKP"
      },
      "source": [
        "<h4> Abaixo são realizados testes onde são feitas 10 requisições apenas para fins de vizualizar a depuração do simulador para cado tipo de cache."
      ]
    },
    {
      "cell_type": "markdown",
      "metadata": {
        "id": "yXnyRWRWYv74"
      },
      "source": [
        "### Simulação caso FIFO"
      ]
    },
    {
      "cell_type": "code",
      "metadata": {
        "colab": {
          "base_uri": "https://localhost:8080/",
          "height": 270
        },
        "id": "fJ2ksFwS6YkX",
        "outputId": "5fc36650-b1fe-4362-8945-4e506bee2441"
      },
      "source": [
        "simulacaoCenario1(10,\"FIFO\", 3 ,2, [1/3,1/3,1/3], depurar = True)"
      ],
      "execution_count": 259,
      "outputs": [
        {
          "output_type": "error",
          "ename": "ValueError",
          "evalue": "ignored",
          "traceback": [
            "\u001b[0;31m---------------------------------------------------------------------------\u001b[0m",
            "\u001b[0;31mValueError\u001b[0m                                Traceback (most recent call last)",
            "\u001b[0;32m<ipython-input-259-df3b99021ac9>\u001b[0m in \u001b[0;36m<module>\u001b[0;34m()\u001b[0m\n\u001b[0;32m----> 1\u001b[0;31m \u001b[0msimulacaoCenario1\u001b[0m\u001b[0;34m(\u001b[0m\u001b[0;36m10\u001b[0m\u001b[0;34m,\u001b[0m\u001b[0;34m\"FIFO\"\u001b[0m\u001b[0;34m,\u001b[0m \u001b[0;36m3\u001b[0m \u001b[0;34m,\u001b[0m\u001b[0;36m2\u001b[0m\u001b[0;34m,\u001b[0m \u001b[0;34m[\u001b[0m\u001b[0;36m1\u001b[0m\u001b[0;34m/\u001b[0m\u001b[0;36m3\u001b[0m\u001b[0;34m,\u001b[0m\u001b[0;36m1\u001b[0m\u001b[0;34m/\u001b[0m\u001b[0;36m3\u001b[0m\u001b[0;34m,\u001b[0m\u001b[0;36m1\u001b[0m\u001b[0;34m/\u001b[0m\u001b[0;36m3\u001b[0m\u001b[0;34m]\u001b[0m\u001b[0;34m,\u001b[0m \u001b[0mdepurar\u001b[0m \u001b[0;34m=\u001b[0m \u001b[0;32mTrue\u001b[0m\u001b[0;34m)\u001b[0m\u001b[0;34m\u001b[0m\u001b[0;34m\u001b[0m\u001b[0m\n\u001b[0m",
            "\u001b[0;32m<ipython-input-257-3f977a268f91>\u001b[0m in \u001b[0;36msimulacaoCenario1\u001b[0;34m(numRequisicoes, caso, numConteudos, tamCache, probabilidades, depurar, cache1_inicial, cache2_inicial, cachesDiferentes)\u001b[0m\n\u001b[1;32m      1\u001b[0m \u001b[0;32mdef\u001b[0m \u001b[0msimulacaoCenario1\u001b[0m\u001b[0;34m(\u001b[0m\u001b[0mnumRequisicoes\u001b[0m\u001b[0;34m,\u001b[0m \u001b[0mcaso\u001b[0m\u001b[0;34m,\u001b[0m \u001b[0mnumConteudos\u001b[0m\u001b[0;34m,\u001b[0m \u001b[0mtamCache\u001b[0m\u001b[0;34m,\u001b[0m \u001b[0mprobabilidades\u001b[0m\u001b[0;34m,\u001b[0m \u001b[0mdepurar\u001b[0m \u001b[0;34m=\u001b[0m \u001b[0;32mFalse\u001b[0m\u001b[0;34m,\u001b[0m\u001b[0mcache1_inicial\u001b[0m \u001b[0;34m=\u001b[0m \u001b[0;32mFalse\u001b[0m\u001b[0;34m,\u001b[0m \u001b[0mcache2_inicial\u001b[0m \u001b[0;34m=\u001b[0m \u001b[0;32mFalse\u001b[0m\u001b[0;34m,\u001b[0m \u001b[0mcachesDiferentes\u001b[0m \u001b[0;34m=\u001b[0m \u001b[0;32mTrue\u001b[0m\u001b[0;34m)\u001b[0m\u001b[0;34m:\u001b[0m\u001b[0;34m\u001b[0m\u001b[0;34m\u001b[0m\u001b[0m\n\u001b[1;32m      2\u001b[0m \u001b[0;34m\u001b[0m\u001b[0m\n\u001b[0;32m----> 3\u001b[0;31m   \u001b[0mvalidaParametro\u001b[0m\u001b[0;34m(\u001b[0m\u001b[0;34m\"caso\"\u001b[0m\u001b[0;34m,\u001b[0m \u001b[0;34m[\u001b[0m\u001b[0;34m\"FIFO\"\u001b[0m\u001b[0;34m,\u001b[0m \u001b[0;34m\"LRU\"\u001b[0m\u001b[0;34m,\u001b[0m \u001b[0;34m\"Random\"\u001b[0m\u001b[0;34m,\u001b[0m \u001b[0;34m\"Estatica\"\u001b[0m\u001b[0;34m]\u001b[0m\u001b[0;34m,\u001b[0m \u001b[0;34m\"LIFO\"\u001b[0m\u001b[0;34m)\u001b[0m\u001b[0;34m\u001b[0m\u001b[0;34m\u001b[0m\u001b[0m\n\u001b[0m\u001b[1;32m      4\u001b[0m \u001b[0;34m\u001b[0m\u001b[0m\n\u001b[1;32m      5\u001b[0m   \u001b[0mRequisicoes\u001b[0m \u001b[0;34m=\u001b[0m \u001b[0;34m[\u001b[0m\u001b[0;34m]\u001b[0m\u001b[0;34m\u001b[0m\u001b[0;34m\u001b[0m\u001b[0m\n",
            "\u001b[0;32m<ipython-input-251-7a18697330e8>\u001b[0m in \u001b[0;36mvalidaParametro\u001b[0;34m(parametro, paramValidos, parametroPassado)\u001b[0m\n\u001b[1;32m      3\u001b[0m \u001b[0;34m\u001b[0m\u001b[0m\n\u001b[1;32m      4\u001b[0m     \u001b[0;32mif\u001b[0m \u001b[0mparametroPassado\u001b[0m \u001b[0;32mnot\u001b[0m \u001b[0;32min\u001b[0m \u001b[0mparamValidos\u001b[0m\u001b[0;34m:\u001b[0m\u001b[0;34m\u001b[0m\u001b[0;34m\u001b[0m\u001b[0m\n\u001b[0;32m----> 5\u001b[0;31m         \u001b[0;32mraise\u001b[0m \u001b[0mValueError\u001b[0m\u001b[0;34m(\u001b[0m\u001b[0;34m\"Parâmetro \"\u001b[0m \u001b[0;34m+\u001b[0m \u001b[0mstr\u001b[0m\u001b[0;34m(\u001b[0m\u001b[0mparametro\u001b[0m\u001b[0;34m)\u001b[0m \u001b[0;34m+\u001b[0m \u001b[0;34m\": valor passado de ver estar entre os seguintes valores: \"\u001b[0m \u001b[0;34m+\u001b[0m \u001b[0mstr\u001b[0m\u001b[0;34m(\u001b[0m\u001b[0mparamValidos\u001b[0m\u001b[0;34m)\u001b[0m\u001b[0;34m)\u001b[0m\u001b[0;34m\u001b[0m\u001b[0;34m\u001b[0m\u001b[0m\n\u001b[0m",
            "\u001b[0;31mValueError\u001b[0m: Parâmetro caso: valor passado de ver estar entre os seguintes valores: ['FIFO', 'LRU', 'Random', 'Estatica']"
          ]
        }
      ]
    },
    {
      "cell_type": "markdown",
      "metadata": {
        "id": "0TTClRGNZCEc"
      },
      "source": [
        "### Simulação caso LRU"
      ]
    },
    {
      "cell_type": "code",
      "metadata": {
        "id": "mOJCdi6_KZGm"
      },
      "source": [
        "simulacaoCenario1(10,\"LRU\", 3 ,2, [1/3,1/3,1/3], depurar = True)"
      ],
      "execution_count": null,
      "outputs": []
    },
    {
      "cell_type": "markdown",
      "metadata": {
        "id": "UmFnMZQqZHs7"
      },
      "source": [
        "### Simulação caso Random"
      ]
    },
    {
      "cell_type": "code",
      "metadata": {
        "id": "penSIU5_8H0G"
      },
      "source": [
        "simulacaoCenario1(10,\"Random\",3 ,2, [1/3,1/3,1/3], depurar = True)"
      ],
      "execution_count": null,
      "outputs": []
    },
    {
      "cell_type": "markdown",
      "metadata": {
        "id": "76q43coFZJ18"
      },
      "source": [
        "### Simulações caso Estática "
      ]
    },
    {
      "cell_type": "markdown",
      "metadata": {
        "id": "1NKNsYwJgG88"
      },
      "source": [
        "#### 1º Caso - As caches possuem os mesmos conteúdos populares"
      ]
    },
    {
      "cell_type": "code",
      "metadata": {
        "id": "kWrE1nd5VdFr"
      },
      "source": [
        "simulacaoCenario1(10,\"Estatica\",3 ,2, [1/3,1/3,1/3], depurar = True, cachesDiferentes=False)"
      ],
      "execution_count": null,
      "outputs": []
    },
    {
      "cell_type": "markdown",
      "metadata": {
        "id": "ks8xo0wkgTlB"
      },
      "source": [
        "#### 2º Caso - As caches possuem conteúdos populares diferentes"
      ]
    },
    {
      "cell_type": "code",
      "metadata": {
        "id": "CwC9sx1BVkyK"
      },
      "source": [
        "simulacaoCenario1(10,\"Estatica\",3 ,2, [1/3,1/3,1/3], depurar = True, cachesDiferentes=True)"
      ],
      "execution_count": null,
      "outputs": []
    },
    {
      "cell_type": "markdown",
      "metadata": {
        "id": "AyeinzHzZjZQ"
      },
      "source": [
        "## Intervalos de Confiança para cada Caso"
      ]
    },
    {
      "cell_type": "markdown",
      "metadata": {
        "id": "ChmoPOQIreyg"
      },
      "source": [
        "<h4> Abaixo é calculado o intervalo de confiança para cada caso. O intervalo é calculado pela função auxiliar \"intervaloDeConfianca\" em que se realiza 10 simulações onde em cada simulação são feitas 100000 requisições. Os limites inferiores e superiorers do intervalo são obtidos da seguinte maneira:\n",
        "\n",
        "$limite\\ inferior = (media\\ dos\\ resultados\\ das\\ simulacoes\\ - 1.96*desvio\\ padrao\\ dos\\ resultados\\ das\\ simulacoes)/ \\ raiz\\ quadrada\\ do\\ numero\\ de\\ simulacoes$\n",
        "\n",
        "$limite\\ superior\\ = (media\\ dos\\ resultados\\ das\\ simulacoes\\ + 1.96*desvio\\ padrao\\ dos\\ resultados\\ das\\ simulações)/ \\ raiz\\ quadrada\\ do\\ numero\\ de\\ simulacoes$"
      ]
    },
    {
      "cell_type": "markdown",
      "metadata": {
        "id": "QwpIRCcPcW2v"
      },
      "source": [
        "### Caso FIFO"
      ]
    },
    {
      "cell_type": "code",
      "metadata": {
        "id": "g0joi5UQZuuL"
      },
      "source": [
        "intervaloConfiancaFIFO = intervaloDeConfianca(10,1, \"FIFO\", 3 ,2, [1/3,1/3,1/3])\n",
        "intervaloConfiancaFIFO = intervaloDeConfianca(10,1, \"FIFO\", 4 ,2, [1/4,1/4,1/4,1/4])"
      ],
      "execution_count": null,
      "outputs": []
    },
    {
      "cell_type": "markdown",
      "metadata": {
        "id": "9L3ORzsmcqSL"
      },
      "source": [
        "### Caso LRU"
      ]
    },
    {
      "cell_type": "code",
      "metadata": {
        "id": "jqM2IDANcob8"
      },
      "source": [
        "intervaloConfiancaFIFO = intervaloDeConfianca(10,1, \"LRU\", 3 ,2, [1/3,1/3,1/3])\n",
        "intervaloConfiancaFIFO = intervaloDeConfianca(10,1, \"LRU\", 4 ,2, [1/4,1/4,1/4,1/4])"
      ],
      "execution_count": null,
      "outputs": []
    },
    {
      "cell_type": "markdown",
      "metadata": {
        "id": "uGcQm-STctYb"
      },
      "source": [
        "### Caso Random"
      ]
    },
    {
      "cell_type": "code",
      "metadata": {
        "id": "cttVgRdnctYb"
      },
      "source": [
        "intervaloConfiancaFIFO = intervaloDeConfianca(10,1, \"Random\", 3,2, [1/3,1/3,1/3])\n",
        "intervaloConfiancaFIFO = intervaloDeConfianca(10,1, \"Random\", 4,2, [1/4,1/4,1/4,1/4])"
      ],
      "execution_count": null,
      "outputs": []
    },
    {
      "cell_type": "markdown",
      "metadata": {
        "id": "M9Q24AHjct5v"
      },
      "source": [
        "### Caso Estática"
      ]
    },
    {
      "cell_type": "markdown",
      "metadata": {
        "id": "PvPxji3_fAIz"
      },
      "source": [
        "#### Caches com mesmos conteúdos populares"
      ]
    },
    {
      "cell_type": "code",
      "metadata": {
        "id": "y5enE1xact5v"
      },
      "source": [
        "intervaloConfiancaFIFO = intervaloDeConfianca(10,1, \"Estatica\", 3 ,2, [1/3,1/3,1/3], cachesDiferentes = False)\n",
        "intervaloConfiancaFIFO = intervaloDeConfianca(10,1, \"Estatica\", 4 ,2, [1/4,1/4,1/4,1/4], cachesDiferentes = False)"
      ],
      "execution_count": null,
      "outputs": []
    },
    {
      "cell_type": "markdown",
      "metadata": {
        "id": "Eozwq6mmfIjN"
      },
      "source": [
        "#### Caches com conteúdos populares diferentes"
      ]
    },
    {
      "cell_type": "code",
      "metadata": {
        "id": "XOtGLqKXeS_r"
      },
      "source": [
        "intervaloConfiancaFIFO = intervaloDeConfianca(10,1, \"Estatica\", 3 ,2, [1/3,1/3,1/3], cachesDiferentes = True)\n",
        "intervaloConfiancaFIFO = intervaloDeConfianca(10,1, \"Estatica\", 4 ,2, [1/4,1/4,1/4,1/4], cachesDiferentes = True)"
      ],
      "execution_count": null,
      "outputs": []
    },
    {
      "cell_type": "markdown",
      "metadata": {
        "id": "Ao8WTJ_L-6bJ"
      },
      "source": [
        "# II. Simulação Cenário II"
      ]
    },
    {
      "cell_type": "markdown",
      "metadata": {
        "id": "dEY_oj_ahSeF"
      },
      "source": [
        "## Função da Simulação do Cenário II\n",
        "\n"
      ]
    },
    {
      "cell_type": "markdown",
      "metadata": {
        "id": "oZJykQ8rwA6s"
      },
      "source": [
        "<h3> Parâmetros de entrada para a função\n",
        "\n",
        "O simulador do cenário II é dado pela função abaixo que tem os seguintes parâmetros de entrada:\n",
        "\n",
        "*   $numRequisicoes$ - Número de requisões que serão realizadas no experimento. Deve ser um número inteiro maior que $0$.\n",
        "*   $caso$ - qual é o caso/tipo das caches. Os possíveis valores de entrada são: \"FIFO\", \"LRU\", \"Random\" ou \"Estatica\"\n",
        "*   $numConteudos$ - número de conteúdos que podem ser requisitados. Deve ser um número inteiro maior que $0$.\n",
        "*   $tamCache$ - tamanho das caches. Deve ser um número inteiro maior que $0$.\n",
        "*   $probabilidades$ - probabilidade de cada conteúdo ser requisitado. Deve ser passado uma lista de tamanho igual ao número de conteúdos. Por exemplo, se são três conteúdos e possuem probabilidade de requisição uniforme, a lista passada deverá ser $[1/3,1/3,1/3]$\n",
        "*   $p$ - probabildide de um canal falhar. Deve ser um float entre $0$ e $1$ e tem como default o valor $0.9$.\n",
        "*   $depurar$ - Booleano para indicar se deseja imprimir a depuração do código ou não. O default é o valor \"False\", onde não se depura.\n",
        "*   $cache1\\_inicial$ - Estado inicial de uma cache. Se nada for passado, ela irá ser inicializada aleatóriamente.\n",
        "*   $cache2\\_inicial$ - Estado inicial da outra cache. Se nada for passado, ela irá ser inicializada aleatóriamente.\n",
        "*   $cachesDiferentes$ - Booleano para indicar se deseja que as caches comecem em estados diferentes ou iguais. O default é o valor \"True\", onde começam com em estados diferentes.\n",
        "\n",
        "<h3> Descrição do Simulador\n",
        "\n",
        "Como o cenário II se assemelha muito ao cenário I, a descrição do simulador ficará muito parecida. Temos então que inicialmente, as caches são incializadas com os estados passados, caso não sejam passados, elas são inicializadas de forma aleatória com os conteúdos possíveis, que nesse caso serão representados por números inteiros de $1$ ao $numConteudos$ dado. \n",
        "\n",
        "Após isso, agenda-se um evento de uma requisição para cada conteúdo na lista de eventos, esse evento indica qual o tempo em que a requisição irá acontecer e qual conteúdo estará sendo requisitado. O tempo do agendamento é gerado de forma aleatória seguindo a distriuição exponencial tendo como parâmetro a taxa do conteúdo e a cada vez que um evento é adicionado, a lista é ordenada em função dos tempos apresentados em cada evento. \n",
        "\n",
        "Com as caches inicializadas e uma requisição agendada para cada conteúdo, começa-se a realização dos eventos, ou seja, as requisições agendadas começam a ser a realizadas. Em termos de código, inicia-se um loop em cima da lista de eventos, onde em cada iteração, a requsição com menor tempo presente na lista é encaminhada paras as duas caches. Neste ponto que o cenário II se diferencia do cenário I, neste caso há a probabilidade do canal que leva a requisição até a cache falhar, e com isso não tem a possibilidade da requisição ser atendida pela cache que por conta disso não mudará de estado.\n",
        "\n",
        "Então para cada cache é realizado o seguinte processo: tenta-se encaminhar a requisição para cache, para isso gera-se um número entre $0$ e $1$, se o número for menor ou igual ao parâmetro $p$ (que por default é $0.9$, o que implica que o canal tem 90% de chance de funcionar), o canal funciona e a requisição alcança a cache e assim analisa-se se a cache possui o conteúdo requisitado e marca-se se a requisição foi atendida ou não, em ambos os casos em que o canal funciona, a cache muda de estado seguindo o padrão do tipo de cache especificado. Após a tentativa de se encaminhar a requisição para as duas caches, verifica-se a requisição foi atendida por pelo menos uma das caches, se sim, é marcado como sucesso. Após uma requsição ser feita, é agendada uma nova requisição para o mesmo conteúdo onde o tempo do agendamento é gerado de forma aleatória seguindo a distriuição exponencial com parâmetro igual a probabilidade do conteúdo, dessa forma garantimos que cada conteúdo seja requisitado seguindo sua taxa de chegada.\n",
        "\n",
        "Após o número de requisições pedidas serem feitas, verifica-se o número de casos em que não ocorreu usermiss, ou seja, os eventos onde a requisição foi atendida e finalmente calcula-se a probabilidade de usermiss fazendo o seguinte cálculo: $(numero\\ de\\ requisicoes\\ realizadas - numero\\ de\\ casos\\ de\\ nao\\ usermiss)/numero\\ de\\ requisicoes\\ realizadas$\n"
      ]
    },
    {
      "cell_type": "code",
      "metadata": {
        "id": "veyAp_MA-5mD"
      },
      "source": [
        "def simulacaoCenario2(numRequisicoes, caso, numConteudos, tamCache, probabilidades, p = 0.9, depurar = False, cache1_inicial = False, cache2_inicial = False, cachesDiferentes = True):\n",
        "\n",
        "  Requisicoes = []\n",
        "  taxa = 1*probabilidades\n",
        "  \n",
        "  # agendando uma requisição para cada conteúdo\n",
        "  for i in range (numConteudos):\n",
        "    tempo = np.random.exponential(1/taxa[i])    \n",
        "    par = [tempo, i +1]\n",
        "    Requisicoes.append(par)  \n",
        "  Requisicoes = sorted(Requisicoes, key=lambda tup: tup[0]) # ordena a lista de requisições em função do menor tempo\n",
        "    \n",
        "\n",
        "  # se não foi passado o estado inicial para cache 1, inicializa a cache aleatóriamente\n",
        "  if not cache1_inicial:    \n",
        "    cache1_inicial = initializeCache(numConteudos, tamCache)\n",
        "\n",
        "  # se não foi passado o estado inicial para cache 2, inicializa a cache para um estado igual ou diferente da cache 1\n",
        "  if not cache2_inicial:\n",
        "    cache2_inicial = []\n",
        "\n",
        "    # caches começam com estados iniciais diferentes\n",
        "    if cachesDiferentes:\n",
        "      cache2_inicial = initializeCache(numConteudos, tamCache)\n",
        "      if (caso == \"Estatica\"):\n",
        "        while (list(set(cache2_inicial)) == list(set(cache1_inicial))):\n",
        "          cache2_inicial = initializeCache(numConteudos, tamCache) \n",
        "      else:\n",
        "        while (cache2_inicial == cache1_inicial):\n",
        "          cache2_inicial = initializeCache(numConteudos, tamCache)    \n",
        "\n",
        "    # caches começam com estados iniciais iguais\n",
        "    else:\n",
        "      cache2_inicial = cache1_inicial.copy()\n",
        "\n",
        "  cache1 = cache1_inicial\n",
        "  cache2 = cache2_inicial\n",
        "\n",
        "  sucessos = 0 # contador de sucessos\n",
        "  requisicoes = 0 # contador de requisições\n",
        "  userMiss = 0 # contador de usermiss\n",
        "\n",
        "  # enquanto as requisições realizadas for menor que o numero de requisicoes\n",
        "  while (requisicoes < numRequisicoes):\n",
        "\n",
        "    RequicaoAtendidaC1 = 0\n",
        "    RequicaoAtendidaC2 = 0\n",
        "\n",
        "    evento = Requisicoes[0]\n",
        "    tempoAtual = evento[0] # tempo atual\n",
        "    conteudo = evento[1] # conteudo da requisição atual\n",
        "\n",
        "    if (depurar): print(\"Tempo \" + str(tempoAtual) + \" ocorreu requisição do tipo \" + str(conteudo) + \"\\n\")\n",
        "    if (depurar): print(\"Cache 1:\" + str(cache1))\n",
        "\n",
        "    numAleatorioC1 = random.uniform(0, 1)\n",
        "    if (numAleatorioC1 <= p):\n",
        "      if (depurar): print(\"Canal 1 funcionou!\")\n",
        "      cache1, RequicaoAtendidaC1 = cacheReceivesReq(caso, cache1, conteudo, depurar)\n",
        "    else:\n",
        "      if (depurar): print(\"Canal 1 não funcionou!\")\n",
        "\n",
        "    if (depurar): print(\"\\n\")\n",
        "    if (depurar): print(\"Cache 2:\" + str(cache2))\n",
        "\n",
        "\n",
        "    numAleatorioC2 = random.uniform(0, 1)\n",
        "    if (numAleatorioC2 <= p):\n",
        "      if (depurar): print(\"Canal 2 funcionou!\")\n",
        "      cache2, RequicaoAtendidaC2 = cacheReceivesReq(caso, cache2, conteudo,depurar)\n",
        "    else:\n",
        "      if (depurar): print(\"Canal 2 não funcionou!\") \n",
        "\n",
        "\n",
        "    if (RequicaoAtendidaC1 or RequicaoAtendidaC2):\n",
        "      sucessos = sucessos + 1\n",
        "    \n",
        "    else:\n",
        "      if (depurar): print(\"\\n\")\n",
        "      userMiss = userMiss + 1\n",
        "      if (depurar): print(\"User Miss :/ !\")\n",
        "\n",
        "    if (depurar): print(\"------ \\n\")\n",
        "\n",
        "    del Requisicoes[0]\n",
        "\n",
        "    tempoAgendado = tempoAtual + np.random.exponential(1/taxa[conteudo-1])\n",
        "    Requisicoes.append([tempoAgendado,conteudo])  \n",
        "    Requisicoes = sorted(Requisicoes, key=lambda tup: tup[0])\n",
        "    \n",
        "    requisicoes = requisicoes + 1    \n",
        "\n",
        "\n",
        "  if (depurar): print(\"Sucessos: \" + str(sucessos))\n",
        "  if (depurar): print(\"User Miss: \" + str(userMiss))\n",
        "  return cache1, cache2, userMiss/numRequisicoes\n"
      ],
      "execution_count": null,
      "outputs": []
    },
    {
      "cell_type": "markdown",
      "metadata": {
        "id": "2DbG3p4jhdjM"
      },
      "source": [
        "## Simulação dos casos com depuração"
      ]
    },
    {
      "cell_type": "markdown",
      "metadata": {
        "id": "E7VyAe5LSM5k"
      },
      "source": [
        "<h4> Abaixo são realizados testes onde são feitas 10 requisições apenas para fins de vizualizar a depuração do simulador para cado tipo de cache."
      ]
    },
    {
      "cell_type": "markdown",
      "metadata": {
        "id": "Eg-zoThChdjR"
      },
      "source": [
        "### Simulação caso FIFO"
      ]
    },
    {
      "cell_type": "code",
      "metadata": {
        "colab": {
          "base_uri": "https://localhost:8080/"
        },
        "id": "nn_gesjPbl8U",
        "outputId": "8fc4e90a-e8e7-463b-8091-91b93a48ceee"
      },
      "source": [
        "simulacaoCenario2(10,\"FIFO\",3, 2 , [1/3,1/3,1/3], depurar=True)"
      ],
      "execution_count": null,
      "outputs": [
        {
          "output_type": "stream",
          "text": [
            "Tempo 0.27975793366543195 ocorreu requisição do tipo 2\n",
            "\n",
            "Cache 1:[3, 1]\n",
            "Canal 1 funcionou!\n",
            "Cache não possui conteúdo da requisição )=\n",
            "Conteúdo requisitado entrará na primeira posição, e o conteúdo da última sairá.\n",
            "Novo estado da cache: [2, 3]\n",
            "\n",
            "\n",
            "Cache 2:[1, 3]\n",
            "Canal 2 funcionou!\n",
            "Cache não possui conteúdo da requisição )=\n",
            "Conteúdo requisitado entrará na primeira posição, e o conteúdo da última sairá.\n",
            "Novo estado da cache: [2, 1]\n",
            "\n",
            "\n",
            "User Miss :/ !\n",
            "------ \n",
            "\n",
            "Tempo 0.4857996929177464 ocorreu requisição do tipo 3\n",
            "\n",
            "Cache 1:[2, 3]\n",
            "Canal 1 funcionou!\n",
            "Cache possui requisição!\n",
            "Cache permanece inalterada.\n",
            "\n",
            "\n",
            "Cache 2:[2, 1]\n",
            "Canal 2 funcionou!\n",
            "Cache não possui conteúdo da requisição )=\n",
            "Conteúdo requisitado entrará na primeira posição, e o conteúdo da última sairá.\n",
            "Novo estado da cache: [3, 2]\n",
            "------ \n",
            "\n",
            "Tempo 0.6636154163596899 ocorreu requisição do tipo 2\n",
            "\n",
            "Cache 1:[2, 3]\n",
            "Canal 1 funcionou!\n",
            "Cache possui requisição!\n",
            "Cache permanece inalterada.\n",
            "\n",
            "\n",
            "Cache 2:[3, 2]\n",
            "Canal 2 funcionou!\n",
            "Cache possui requisição!\n",
            "Cache permanece inalterada.\n",
            "------ \n",
            "\n",
            "Tempo 1.5324772445672687 ocorreu requisição do tipo 1\n",
            "\n",
            "Cache 1:[2, 3]\n",
            "Canal 1 funcionou!\n",
            "Cache não possui conteúdo da requisição )=\n",
            "Conteúdo requisitado entrará na primeira posição, e o conteúdo da última sairá.\n",
            "Novo estado da cache: [1, 2]\n",
            "\n",
            "\n",
            "Cache 2:[3, 2]\n",
            "Canal 2 funcionou!\n",
            "Cache não possui conteúdo da requisição )=\n",
            "Conteúdo requisitado entrará na primeira posição, e o conteúdo da última sairá.\n",
            "Novo estado da cache: [1, 3]\n",
            "\n",
            "\n",
            "User Miss :/ !\n",
            "------ \n",
            "\n",
            "Tempo 2.8755048668564216 ocorreu requisição do tipo 2\n",
            "\n",
            "Cache 1:[1, 2]\n",
            "Canal 1 funcionou!\n",
            "Cache possui requisição!\n",
            "Cache permanece inalterada.\n",
            "\n",
            "\n",
            "Cache 2:[1, 3]\n",
            "Canal 2 não funcionou!\n",
            "------ \n",
            "\n",
            "Tempo 3.5953495875238914 ocorreu requisição do tipo 3\n",
            "\n",
            "Cache 1:[1, 2]\n",
            "Canal 1 funcionou!\n",
            "Cache não possui conteúdo da requisição )=\n",
            "Conteúdo requisitado entrará na primeira posição, e o conteúdo da última sairá.\n",
            "Novo estado da cache: [3, 1]\n",
            "\n",
            "\n",
            "Cache 2:[1, 3]\n",
            "Canal 2 funcionou!\n",
            "Cache possui requisição!\n",
            "Cache permanece inalterada.\n",
            "------ \n",
            "\n",
            "Tempo 5.341526178207683 ocorreu requisição do tipo 3\n",
            "\n",
            "Cache 1:[3, 1]\n",
            "Canal 1 funcionou!\n",
            "Cache possui requisição!\n",
            "Cache permanece inalterada.\n",
            "\n",
            "\n",
            "Cache 2:[1, 3]\n",
            "Canal 2 funcionou!\n",
            "Cache possui requisição!\n",
            "Cache permanece inalterada.\n",
            "------ \n",
            "\n",
            "Tempo 8.636667601576788 ocorreu requisição do tipo 1\n",
            "\n",
            "Cache 1:[3, 1]\n",
            "Canal 1 funcionou!\n",
            "Cache possui requisição!\n",
            "Cache permanece inalterada.\n",
            "\n",
            "\n",
            "Cache 2:[1, 3]\n",
            "Canal 2 funcionou!\n",
            "Cache possui requisição!\n",
            "Cache permanece inalterada.\n",
            "------ \n",
            "\n",
            "Tempo 10.342059768482219 ocorreu requisição do tipo 1\n",
            "\n",
            "Cache 1:[3, 1]\n",
            "Canal 1 não funcionou!\n",
            "\n",
            "\n",
            "Cache 2:[1, 3]\n",
            "Canal 2 funcionou!\n",
            "Cache possui requisição!\n",
            "Cache permanece inalterada.\n",
            "------ \n",
            "\n",
            "Tempo 10.846999688608292 ocorreu requisição do tipo 1\n",
            "\n",
            "Cache 1:[3, 1]\n",
            "Canal 1 funcionou!\n",
            "Cache possui requisição!\n",
            "Cache permanece inalterada.\n",
            "\n",
            "\n",
            "Cache 2:[1, 3]\n",
            "Canal 2 funcionou!\n",
            "Cache possui requisição!\n",
            "Cache permanece inalterada.\n",
            "------ \n",
            "\n",
            "Sucessos: 8\n",
            "User Miss: 2\n"
          ],
          "name": "stdout"
        },
        {
          "output_type": "execute_result",
          "data": {
            "text/plain": [
              "([3, 1], [1, 3], 0.2)"
            ]
          },
          "metadata": {
            "tags": []
          },
          "execution_count": 26
        }
      ]
    },
    {
      "cell_type": "markdown",
      "metadata": {
        "id": "8UIkO8YLhh1p"
      },
      "source": [
        "### Simulação caso LRU"
      ]
    },
    {
      "cell_type": "code",
      "metadata": {
        "colab": {
          "base_uri": "https://localhost:8080/"
        },
        "id": "8MeELIcnMtp6",
        "outputId": "7e27032a-3922-41c4-f5f0-41f06d529444"
      },
      "source": [
        "simulacaoCenario2(10,\"LRU\",3, 2 , [1/3,1/3,1/3],depurar=True)"
      ],
      "execution_count": null,
      "outputs": [
        {
          "output_type": "stream",
          "text": [
            "Tempo 0.012414628255363703 ocorreu requisição do tipo 1\n",
            "\n",
            "Cache 1:[2, 3]\n",
            "Canal 1 funcionou!\n",
            "Cache não possui conteúdo da requisição )=\n",
            "Conteúdo requisitado entrará na primeira posição, e o conteúdo da última sairá.\n",
            "Novo estado da cache: [1, 2]\n",
            "\n",
            "\n",
            "Cache 2:[1, 3]\n",
            "Canal 2 funcionou!\n",
            "Cache possui requisição!\n",
            "Conteúdo requisitado ficará na primeira posição.\n",
            "Novo estado da cache: [1, 3]\n",
            "------ \n",
            "\n",
            "Tempo 1.3343487472400324 ocorreu requisição do tipo 2\n",
            "\n",
            "Cache 1:[1, 2]\n",
            "Canal 1 não funcionou!\n",
            "\n",
            "\n",
            "Cache 2:[1, 3]\n",
            "Canal 2 funcionou!\n",
            "Cache não possui conteúdo da requisição )=\n",
            "Conteúdo requisitado entrará na primeira posição, e o conteúdo da última sairá.\n",
            "Novo estado da cache: [2, 1]\n",
            "\n",
            "\n",
            "User Miss :/ !\n",
            "------ \n",
            "\n",
            "Tempo 1.76469019397767 ocorreu requisição do tipo 1\n",
            "\n",
            "Cache 1:[1, 2]\n",
            "Canal 1 funcionou!\n",
            "Cache possui requisição!\n",
            "Conteúdo requisitado ficará na primeira posição.\n",
            "Novo estado da cache: [1, 2]\n",
            "\n",
            "\n",
            "Cache 2:[2, 1]\n",
            "Canal 2 funcionou!\n",
            "Cache possui requisição!\n",
            "Conteúdo requisitado ficará na primeira posição.\n",
            "Novo estado da cache: [1, 2]\n",
            "------ \n",
            "\n",
            "Tempo 2.06037705654314 ocorreu requisição do tipo 1\n",
            "\n",
            "Cache 1:[1, 2]\n",
            "Canal 1 funcionou!\n",
            "Cache possui requisição!\n",
            "Conteúdo requisitado ficará na primeira posição.\n",
            "Novo estado da cache: [1, 2]\n",
            "\n",
            "\n",
            "Cache 2:[1, 2]\n",
            "Canal 2 funcionou!\n",
            "Cache possui requisição!\n",
            "Conteúdo requisitado ficará na primeira posição.\n",
            "Novo estado da cache: [1, 2]\n",
            "------ \n",
            "\n",
            "Tempo 2.3464047347439765 ocorreu requisição do tipo 1\n",
            "\n",
            "Cache 1:[1, 2]\n",
            "Canal 1 funcionou!\n",
            "Cache possui requisição!\n",
            "Conteúdo requisitado ficará na primeira posição.\n",
            "Novo estado da cache: [1, 2]\n",
            "\n",
            "\n",
            "Cache 2:[1, 2]\n",
            "Canal 2 funcionou!\n",
            "Cache possui requisição!\n",
            "Conteúdo requisitado ficará na primeira posição.\n",
            "Novo estado da cache: [1, 2]\n",
            "------ \n",
            "\n",
            "Tempo 2.4055452171953307 ocorreu requisição do tipo 1\n",
            "\n",
            "Cache 1:[1, 2]\n",
            "Canal 1 funcionou!\n",
            "Cache possui requisição!\n",
            "Conteúdo requisitado ficará na primeira posição.\n",
            "Novo estado da cache: [1, 2]\n",
            "\n",
            "\n",
            "Cache 2:[1, 2]\n",
            "Canal 2 funcionou!\n",
            "Cache possui requisição!\n",
            "Conteúdo requisitado ficará na primeira posição.\n",
            "Novo estado da cache: [1, 2]\n",
            "------ \n",
            "\n",
            "Tempo 2.4308188087801414 ocorreu requisição do tipo 2\n",
            "\n",
            "Cache 1:[1, 2]\n",
            "Canal 1 funcionou!\n",
            "Cache possui requisição!\n",
            "Conteúdo requisitado ficará na primeira posição.\n",
            "Novo estado da cache: [2, 1]\n",
            "\n",
            "\n",
            "Cache 2:[1, 2]\n",
            "Canal 2 funcionou!\n",
            "Cache possui requisição!\n",
            "Conteúdo requisitado ficará na primeira posição.\n",
            "Novo estado da cache: [2, 1]\n",
            "------ \n",
            "\n",
            "Tempo 2.506558446365364 ocorreu requisição do tipo 1\n",
            "\n",
            "Cache 1:[2, 1]\n",
            "Canal 1 funcionou!\n",
            "Cache possui requisição!\n",
            "Conteúdo requisitado ficará na primeira posição.\n",
            "Novo estado da cache: [1, 2]\n",
            "\n",
            "\n",
            "Cache 2:[2, 1]\n",
            "Canal 2 funcionou!\n",
            "Cache possui requisição!\n",
            "Conteúdo requisitado ficará na primeira posição.\n",
            "Novo estado da cache: [1, 2]\n",
            "------ \n",
            "\n",
            "Tempo 3.5062279567617685 ocorreu requisição do tipo 2\n",
            "\n",
            "Cache 1:[1, 2]\n",
            "Canal 1 funcionou!\n",
            "Cache possui requisição!\n",
            "Conteúdo requisitado ficará na primeira posição.\n",
            "Novo estado da cache: [2, 1]\n",
            "\n",
            "\n",
            "Cache 2:[1, 2]\n",
            "Canal 2 funcionou!\n",
            "Cache possui requisição!\n",
            "Conteúdo requisitado ficará na primeira posição.\n",
            "Novo estado da cache: [2, 1]\n",
            "------ \n",
            "\n",
            "Tempo 5.935420002947484 ocorreu requisição do tipo 2\n",
            "\n",
            "Cache 1:[2, 1]\n",
            "Canal 1 funcionou!\n",
            "Cache possui requisição!\n",
            "Conteúdo requisitado ficará na primeira posição.\n",
            "Novo estado da cache: [2, 1]\n",
            "\n",
            "\n",
            "Cache 2:[2, 1]\n",
            "Canal 2 funcionou!\n",
            "Cache possui requisição!\n",
            "Conteúdo requisitado ficará na primeira posição.\n",
            "Novo estado da cache: [2, 1]\n",
            "------ \n",
            "\n",
            "Sucessos: 9\n",
            "User Miss: 1\n"
          ],
          "name": "stdout"
        },
        {
          "output_type": "execute_result",
          "data": {
            "text/plain": [
              "([2, 1], [2, 1], 0.1)"
            ]
          },
          "metadata": {
            "tags": []
          },
          "execution_count": 30
        }
      ]
    },
    {
      "cell_type": "markdown",
      "metadata": {
        "id": "cC7MDsYChm5Z"
      },
      "source": [
        "### Simulação caso Random"
      ]
    },
    {
      "cell_type": "code",
      "metadata": {
        "id": "iNiySvLwBhjJ",
        "colab": {
          "base_uri": "https://localhost:8080/"
        },
        "outputId": "65787311-f127-4518-e0db-1c00c388f320"
      },
      "source": [
        "simulacaoCenario2(10,\"Random\", 3, 2 , [1/3,1/3,1/3],depurar=True)"
      ],
      "execution_count": null,
      "outputs": [
        {
          "output_type": "stream",
          "text": [
            "Tempo 1.5122235713040193 ocorreu requisição do tipo 1\n",
            "\n",
            "Cache 1:[3, 2]\n",
            "Canal 1 funcionou!\n",
            "Cache não possui conteúdo da requisição )=\n",
            "Conteúdo requisitado entrará numa posição aleatória.\n",
            "Novo estado da cache: [1, 2]\n",
            "\n",
            "\n",
            "Cache 2:[3, 1]\n",
            "Canal 2 funcionou!\n",
            "Cache possui requisição!\n",
            "Cache permanece inalterada.\n",
            "------ \n",
            "\n",
            "Tempo 3.715821480678369 ocorreu requisição do tipo 2\n",
            "\n",
            "Cache 1:[1, 2]\n",
            "Canal 1 funcionou!\n",
            "Cache possui requisição!\n",
            "Cache permanece inalterada.\n",
            "\n",
            "\n",
            "Cache 2:[3, 1]\n",
            "Canal 2 funcionou!\n",
            "Cache não possui conteúdo da requisição )=\n",
            "Conteúdo requisitado entrará numa posição aleatória.\n",
            "Novo estado da cache: [2, 1]\n",
            "------ \n",
            "\n",
            "Tempo 5.401592879967691 ocorreu requisição do tipo 2\n",
            "\n",
            "Cache 1:[1, 2]\n",
            "Canal 1 funcionou!\n",
            "Cache possui requisição!\n",
            "Cache permanece inalterada.\n",
            "\n",
            "\n",
            "Cache 2:[2, 1]\n",
            "Canal 2 funcionou!\n",
            "Cache possui requisição!\n",
            "Cache permanece inalterada.\n",
            "------ \n",
            "\n",
            "Tempo 5.941510835484923 ocorreu requisição do tipo 3\n",
            "\n",
            "Cache 1:[1, 2]\n",
            "Canal 1 funcionou!\n",
            "Cache não possui conteúdo da requisição )=\n",
            "Conteúdo requisitado entrará numa posição aleatória.\n",
            "Novo estado da cache: [3, 2]\n",
            "\n",
            "\n",
            "Cache 2:[2, 1]\n",
            "Canal 2 funcionou!\n",
            "Cache não possui conteúdo da requisição )=\n",
            "Conteúdo requisitado entrará numa posição aleatória.\n",
            "Novo estado da cache: [3, 1]\n",
            "\n",
            "\n",
            "User Miss :/ !\n",
            "------ \n",
            "\n",
            "Tempo 6.853126859705952 ocorreu requisição do tipo 2\n",
            "\n",
            "Cache 1:[3, 2]\n",
            "Canal 1 funcionou!\n",
            "Cache possui requisição!\n",
            "Cache permanece inalterada.\n",
            "\n",
            "\n",
            "Cache 2:[3, 1]\n",
            "Canal 2 funcionou!\n",
            "Cache não possui conteúdo da requisição )=\n",
            "Conteúdo requisitado entrará numa posição aleatória.\n",
            "Novo estado da cache: [2, 1]\n",
            "------ \n",
            "\n",
            "Tempo 7.838037849245783 ocorreu requisição do tipo 2\n",
            "\n",
            "Cache 1:[3, 2]\n",
            "Canal 1 funcionou!\n",
            "Cache possui requisição!\n",
            "Cache permanece inalterada.\n",
            "\n",
            "\n",
            "Cache 2:[2, 1]\n",
            "Canal 2 não funcionou!\n",
            "------ \n",
            "\n",
            "Tempo 9.809013940552209 ocorreu requisição do tipo 3\n",
            "\n",
            "Cache 1:[3, 2]\n",
            "Canal 1 não funcionou!\n",
            "\n",
            "\n",
            "Cache 2:[2, 1]\n",
            "Canal 2 não funcionou!\n",
            "\n",
            "\n",
            "User Miss :/ !\n",
            "------ \n",
            "\n",
            "Tempo 9.931262449791449 ocorreu requisição do tipo 1\n",
            "\n",
            "Cache 1:[3, 2]\n",
            "Canal 1 funcionou!\n",
            "Cache não possui conteúdo da requisição )=\n",
            "Conteúdo requisitado entrará numa posição aleatória.\n",
            "Novo estado da cache: [3, 1]\n",
            "\n",
            "\n",
            "Cache 2:[2, 1]\n",
            "Canal 2 funcionou!\n",
            "Cache possui requisição!\n",
            "Cache permanece inalterada.\n",
            "------ \n",
            "\n",
            "Tempo 10.692600421821728 ocorreu requisição do tipo 1\n",
            "\n",
            "Cache 1:[3, 1]\n",
            "Canal 1 funcionou!\n",
            "Cache possui requisição!\n",
            "Cache permanece inalterada.\n",
            "\n",
            "\n",
            "Cache 2:[2, 1]\n",
            "Canal 2 funcionou!\n",
            "Cache possui requisição!\n",
            "Cache permanece inalterada.\n",
            "------ \n",
            "\n",
            "Tempo 11.71836661354071 ocorreu requisição do tipo 3\n",
            "\n",
            "Cache 1:[3, 1]\n",
            "Canal 1 não funcionou!\n",
            "\n",
            "\n",
            "Cache 2:[2, 1]\n",
            "Canal 2 funcionou!\n",
            "Cache não possui conteúdo da requisição )=\n",
            "Conteúdo requisitado entrará numa posição aleatória.\n",
            "Novo estado da cache: [3, 1]\n",
            "\n",
            "\n",
            "User Miss :/ !\n",
            "------ \n",
            "\n",
            "Sucessos: 7\n",
            "User Miss: 3\n"
          ],
          "name": "stdout"
        },
        {
          "output_type": "execute_result",
          "data": {
            "text/plain": [
              "([3, 1], [3, 1], 0.3)"
            ]
          },
          "metadata": {
            "tags": []
          },
          "execution_count": 31
        }
      ]
    },
    {
      "cell_type": "markdown",
      "metadata": {
        "id": "VAuSNHvOhpRk"
      },
      "source": [
        "### Simulação caso Estátca"
      ]
    },
    {
      "cell_type": "code",
      "metadata": {
        "id": "3aDtv1KCb4GS",
        "colab": {
          "base_uri": "https://localhost:8080/"
        },
        "outputId": "a3c54277-bdb9-4a0b-8404-e9f804a21663"
      },
      "source": [
        "simulacaoCenario2(10,\"Estatica\", 3, 2 , [1/3,1/3,1/3],depurar=True)"
      ],
      "execution_count": null,
      "outputs": [
        {
          "output_type": "stream",
          "text": [
            "Tempo 2.051126075860234 ocorreu requisição do tipo 1\n",
            "\n",
            "Cache 1:[2, 3]\n",
            "Canal 1 funcionou!\n",
            "Cache não possui conteúdo da requisição )=\n",
            "Cache permanece inalterada.\n",
            "\n",
            "\n",
            "Cache 2:[1, 2]\n",
            "Canal 2 funcionou!\n",
            "Cache possui requisição!\n",
            "Cache permanece inalterada.\n",
            "------ \n",
            "\n",
            "Tempo 4.5766889688066925 ocorreu requisição do tipo 2\n",
            "\n",
            "Cache 1:[2, 3]\n",
            "Canal 1 funcionou!\n",
            "Cache possui requisição!\n",
            "Cache permanece inalterada.\n",
            "\n",
            "\n",
            "Cache 2:[1, 2]\n",
            "Canal 2 funcionou!\n",
            "Cache possui requisição!\n",
            "Cache permanece inalterada.\n",
            "------ \n",
            "\n",
            "Tempo 4.5924332395683 ocorreu requisição do tipo 3\n",
            "\n",
            "Cache 1:[2, 3]\n",
            "Canal 1 funcionou!\n",
            "Cache possui requisição!\n",
            "Cache permanece inalterada.\n",
            "\n",
            "\n",
            "Cache 2:[1, 2]\n",
            "Canal 2 não funcionou!\n",
            "------ \n",
            "\n",
            "Tempo 6.692044907185119 ocorreu requisição do tipo 2\n",
            "\n",
            "Cache 1:[2, 3]\n",
            "Canal 1 funcionou!\n",
            "Cache possui requisição!\n",
            "Cache permanece inalterada.\n",
            "\n",
            "\n",
            "Cache 2:[1, 2]\n",
            "Canal 2 funcionou!\n",
            "Cache possui requisição!\n",
            "Cache permanece inalterada.\n",
            "------ \n",
            "\n",
            "Tempo 6.754797346863972 ocorreu requisição do tipo 3\n",
            "\n",
            "Cache 1:[2, 3]\n",
            "Canal 1 funcionou!\n",
            "Cache possui requisição!\n",
            "Cache permanece inalterada.\n",
            "\n",
            "\n",
            "Cache 2:[1, 2]\n",
            "Canal 2 não funcionou!\n",
            "------ \n",
            "\n",
            "Tempo 7.765306505584386 ocorreu requisição do tipo 1\n",
            "\n",
            "Cache 1:[2, 3]\n",
            "Canal 1 funcionou!\n",
            "Cache não possui conteúdo da requisição )=\n",
            "Cache permanece inalterada.\n",
            "\n",
            "\n",
            "Cache 2:[1, 2]\n",
            "Canal 2 não funcionou!\n",
            "\n",
            "\n",
            "User Miss :/ !\n",
            "------ \n",
            "\n",
            "Tempo 8.504157421118393 ocorreu requisição do tipo 3\n",
            "\n",
            "Cache 1:[2, 3]\n",
            "Canal 1 funcionou!\n",
            "Cache possui requisição!\n",
            "Cache permanece inalterada.\n",
            "\n",
            "\n",
            "Cache 2:[1, 2]\n",
            "Canal 2 funcionou!\n",
            "Cache não possui conteúdo da requisição )=\n",
            "Cache permanece inalterada.\n",
            "------ \n",
            "\n",
            "Tempo 8.733742224192888 ocorreu requisição do tipo 2\n",
            "\n",
            "Cache 1:[2, 3]\n",
            "Canal 1 funcionou!\n",
            "Cache possui requisição!\n",
            "Cache permanece inalterada.\n",
            "\n",
            "\n",
            "Cache 2:[1, 2]\n",
            "Canal 2 funcionou!\n",
            "Cache possui requisição!\n",
            "Cache permanece inalterada.\n",
            "------ \n",
            "\n",
            "Tempo 9.521036981334024 ocorreu requisição do tipo 1\n",
            "\n",
            "Cache 1:[2, 3]\n",
            "Canal 1 funcionou!\n",
            "Cache não possui conteúdo da requisição )=\n",
            "Cache permanece inalterada.\n",
            "\n",
            "\n",
            "Cache 2:[1, 2]\n",
            "Canal 2 funcionou!\n",
            "Cache possui requisição!\n",
            "Cache permanece inalterada.\n",
            "------ \n",
            "\n",
            "Tempo 9.960465911954248 ocorreu requisição do tipo 2\n",
            "\n",
            "Cache 1:[2, 3]\n",
            "Canal 1 não funcionou!\n",
            "\n",
            "\n",
            "Cache 2:[1, 2]\n",
            "Canal 2 não funcionou!\n",
            "\n",
            "\n",
            "User Miss :/ !\n",
            "------ \n",
            "\n",
            "Sucessos: 8\n",
            "User Miss: 2\n"
          ],
          "name": "stdout"
        },
        {
          "output_type": "execute_result",
          "data": {
            "text/plain": [
              "([2, 3], [1, 2], 0.2)"
            ]
          },
          "metadata": {
            "tags": []
          },
          "execution_count": 32
        }
      ]
    },
    {
      "cell_type": "markdown",
      "metadata": {
        "id": "8mO4wETomZYs"
      },
      "source": [
        "## Intervalos de Confiança para cada Caso"
      ]
    },
    {
      "cell_type": "markdown",
      "metadata": {
        "id": "4X_DzoGjU_6d"
      },
      "source": [
        "<h4> Abaixo é calculado o intervalo de confiança para cada caso. O intervalo é calculado pela função auxiliar \"intervaloDeConfianca\" em que se realiza 10 simulações onde em cada simulação são feitas 100000 requisições. Os limites inferiores e superiorers do intervalo são obtidos da seguinte maneira:\n",
        "\n",
        "$limite\\ inferior = (media\\ dos\\ resultados\\ das\\ simulacoes\\ - 1.96*desvio\\ padrao\\ dos\\ resultados\\ das\\ simulacoes)/ \\ raiz\\ quadrada\\ do\\ numero\\ de\\ simulacoes$\n",
        "\n",
        "$limite\\ superior\\ = (media\\ dos\\ resultados\\ das\\ simulacoes\\ + 1.96*desvio\\ padrao\\ dos\\ resultados\\ das\\ simulações)/ \\ raiz\\ quadrada\\ do\\ numero\\ de\\ simulacoes$"
      ]
    },
    {
      "cell_type": "markdown",
      "metadata": {
        "id": "nYwEilEUmf4e"
      },
      "source": [
        "### Caso FIFO"
      ]
    },
    {
      "cell_type": "code",
      "metadata": {
        "id": "KQdfdglKmjrk",
        "colab": {
          "base_uri": "https://localhost:8080/"
        },
        "outputId": "1e72f9b2-2446-4dbe-d7df-364fb6f85dab"
      },
      "source": [
        "intervaloConfiancaFIFO = intervaloDeConfianca(10,2, \"FIFO\", 3 ,2, [1/3,1/3,1/3])\n",
        "intervaloConfiancaFIFO = intervaloDeConfianca(10,2, \"FIFO\", 4 ,2, [1/4,1/4,1/4,1/4])"
      ],
      "execution_count": null,
      "outputs": [
        {
          "output_type": "stream",
          "text": [
            "Cenário: 2\n",
            "Caso: FIFO\n",
            "Tamanho de cada cache: 2\n",
            "Número de conteúdos: 3\n",
            "Intervalo de Confiança: [0.25162229167887246, 0.2892637083211275]\n",
            "-------- \n",
            "\n",
            "Cenário: 2\n",
            "Caso: FIFO\n",
            "Tamanho de cada cache: 2\n",
            "Número de conteúdos: 4\n",
            "Intervalo de Confiança: [0.447038484254743, 0.44866151574525703]\n",
            "-------- \n",
            "\n"
          ],
          "name": "stdout"
        }
      ]
    },
    {
      "cell_type": "markdown",
      "metadata": {
        "id": "_Pcr1-P7pIjE"
      },
      "source": [
        "### Caso LRU"
      ]
    },
    {
      "cell_type": "code",
      "metadata": {
        "id": "bXZ42GZ5pIjE",
        "colab": {
          "base_uri": "https://localhost:8080/"
        },
        "outputId": "4f3fbd94-f673-401a-ebc4-736a6ffe5f8f"
      },
      "source": [
        "intervaloConfiancaFIFO = intervaloDeConfianca(10,2, \"LRU\", 3 ,2, [1/3,1/3,1/3])\n",
        "intervaloConfiancaFIFO = intervaloDeConfianca(10,2, \"LRU\", 4 ,2, [1/4,1/4,1/4,1/4])"
      ],
      "execution_count": null,
      "outputs": [
        {
          "output_type": "stream",
          "text": [
            "Cenário: 2\n",
            "Caso: LRU\n",
            "Tamanho de cada cache: 2\n",
            "Número de conteúdos: 3\n",
            "Intervalo de Confiança: [0.2995347027423773, 0.30078129725762276]\n",
            "-------- \n",
            "\n",
            "Cenário: 2\n",
            "Caso: LRU\n",
            "Tamanho de cada cache: 2\n",
            "Número de conteúdos: 4\n",
            "Intervalo de Confiança: [0.46343624269699873, 0.46518775730300116]\n",
            "-------- \n",
            "\n"
          ],
          "name": "stdout"
        }
      ]
    },
    {
      "cell_type": "markdown",
      "metadata": {
        "id": "u37bvEaxpIjE"
      },
      "source": [
        "### Caso Random"
      ]
    },
    {
      "cell_type": "code",
      "metadata": {
        "id": "Cbn1l2X_pIjF",
        "colab": {
          "base_uri": "https://localhost:8080/"
        },
        "outputId": "ec584ff8-ba0c-4927-984c-240d71472d95"
      },
      "source": [
        "intervaloConfiancaFIFO = intervaloDeConfianca(10,2, \"Random\", 3,2, [1/3,1/3,1/3])\n",
        "intervaloConfiancaFIFO = intervaloDeConfianca(10,2, \"Random\", 4,2, [1/4,1/4,1/4,1/4])"
      ],
      "execution_count": null,
      "outputs": [
        {
          "output_type": "stream",
          "text": [
            "Cenário: 2\n",
            "Caso: Random\n",
            "Tamanho de cada cache: 2\n",
            "Número de conteúdos: 3\n",
            "Intervalo de Confiança: [0.23337410464132188, 0.2340318953586781]\n",
            "-------- \n",
            "\n",
            "Cenário: 2\n",
            "Caso: Random\n",
            "Tamanho de cada cache: 2\n",
            "Número de conteúdos: 4\n",
            "Intervalo de Confiança: [0.3952307689555719, 0.39708723104442806]\n",
            "-------- \n",
            "\n"
          ],
          "name": "stdout"
        }
      ]
    },
    {
      "cell_type": "markdown",
      "metadata": {
        "id": "ztPEVE6-pIjF"
      },
      "source": [
        "### Caso Estática"
      ]
    },
    {
      "cell_type": "markdown",
      "metadata": {
        "id": "JjSjOfw7pIjF"
      },
      "source": [
        "#### Caches com mesmos conteúdos populares"
      ]
    },
    {
      "cell_type": "code",
      "metadata": {
        "id": "tSSNTfUIpIjG",
        "colab": {
          "base_uri": "https://localhost:8080/"
        },
        "outputId": "5f8835ad-7a6a-4f62-aaa0-5571a7b7c662"
      },
      "source": [
        "intervaloConfiancaFIFO = intervaloDeConfianca(10,2, \"Estatica\", 3 ,2, [1/3,1/3,1/3], cachesDiferentes = False)\n",
        "intervaloConfiancaFIFO = intervaloDeConfianca(10,2, \"Estatica\", 4 ,2, [1/4,1/4,1/4,1/4], cachesDiferentes = False)"
      ],
      "execution_count": null,
      "outputs": [
        {
          "output_type": "stream",
          "text": [
            "Cenário: 2\n",
            "Caso: Estatica\n",
            "Tamanho de cada cache: 2\n",
            "Número de conteúdos: 3\n",
            "Intervalo de Confiança: [0.3391868504771537, 0.3404951495228462]\n",
            "-------- \n",
            "\n",
            "Cenário: 2\n",
            "Caso: Estatica\n",
            "Tamanho de cada cache: 2\n",
            "Número de conteúdos: 4\n",
            "Intervalo de Confiança: [0.5035160766069994, 0.5058059233930005]\n",
            "-------- \n",
            "\n"
          ],
          "name": "stdout"
        }
      ]
    },
    {
      "cell_type": "markdown",
      "metadata": {
        "id": "_INwfXwapIjG"
      },
      "source": [
        "#### Caches com conteúdos populares diferentes"
      ]
    },
    {
      "cell_type": "code",
      "metadata": {
        "id": "jM6HIgJipIjG",
        "colab": {
          "base_uri": "https://localhost:8080/"
        },
        "outputId": "d3cfc635-d734-47bd-b87d-154c741381c2"
      },
      "source": [
        "intervaloConfiancaFIFO = intervaloDeConfianca(10,2, \"Estatica\", 3 ,2, [1/3,1/3,1/3], cachesDiferentes = True)\n",
        "intervaloConfiancaFIFO = intervaloDeConfianca(10,2, \"Estatica\", 4 ,2, [1/4,1/4,1/4,1/4], cachesDiferentes = True)"
      ],
      "execution_count": null,
      "outputs": [
        {
          "output_type": "stream",
          "text": [
            "Cenário: 2\n",
            "Caso: Estatica\n",
            "Tamanho de cada cache: 2\n",
            "Número de conteúdos: 3\n",
            "Intervalo de Confiança: [0.06973014278775484, 0.07062585721224514]\n",
            "-------- \n",
            "\n",
            "Cenário: 2\n",
            "Caso: Estatica\n",
            "Tamanho de cada cache: 2\n",
            "Número de conteúdos: 4\n",
            "Intervalo de Confiança: [0.1847645504972557, 0.3001854495027443]\n",
            "-------- \n",
            "\n"
          ],
          "name": "stdout"
        }
      ]
    },
    {
      "cell_type": "markdown",
      "metadata": {
        "id": "dbngC-ww8GMD"
      },
      "source": [
        "# III. Simulação Cenário III"
      ]
    },
    {
      "cell_type": "markdown",
      "metadata": {
        "id": "4djuc1rTaF0R"
      },
      "source": [
        "## Funções da Simulação do Cenário III"
      ]
    },
    {
      "cell_type": "markdown",
      "metadata": {
        "id": "VNfFG5RI6xHz"
      },
      "source": [
        "<h3> Parâmetros de entrada para a função\n",
        "\n",
        "O simulador do cenário $III$ é dado pela função abaixo que tem os seguintes parâmetros de entrada:\n",
        "\n",
        "*   $numRequisicoes$ - Número de requisões que serão realizadas no experimento. Deve ser um número inteiro maior que $0$.\n",
        "*   $caso$ - qual é o caso/tipo das caches. Os possíveis valores de entrada são: \"FIFO\", \"LRU\", \"Random\" ou \"Estatica\"\n",
        "*   $numConteudos$ - número de conteúdos que podem ser requisitados. Deve ser um número inteiro maior que $0$.\n",
        "*   $tamCache$ - tamanho das caches. Deve ser um número inteiro maior que $0$.\n",
        "*   $probabilidades$ - probabilidade de cada conteúdo ser requisitado. Deve ser passado uma lista de tamanho igual ao número de conteúdos. Por exemplo, se são três conteúdos e possuem probabilidade de requisição uniforme, a lista passada deverá ser $[1/3,1/3,1/3]$\n",
        "*   $p$ - probabildide de um canal falhar. Deve ser um float entre $0$ e $1$ e tem como default o valor $0.9$.\n",
        "*   $teta$ - taxa de serviço do servidor à cache. Deve ser um inteiro maior do que $0$  e tem como default o valor $math.inf = \\infty$.\n",
        "*   $alpha$ - taxa de timeout para uma requisição. Deve ser um inteiro maior do que $0$  e tem como default o valor $1$.\n",
        "*   $depurar$ - Booleano para indicar se deseja imprimir a depuração do código ou não. O default é o valor \"False\", onde não se depura.\n",
        "*   $cachesDiferentes$ - Booleano para indicar se deseja que as caches comecem em estados diferentes ou iguais. O default é o valor \"True\", onde começam com em estados diferentes.\n",
        "\n",
        "<h3> Descrição do Simulador\n",
        "\n",
        "O cenário $III$ apresenta um funcionamento mais próximo da realidade. Nossa modelagem do problema funciona como descrito abaixo:\n",
        "\n",
        "Temos que inicialmente, as caches são incializadas com os estados passados, caso não sejam passados, elas são inicializadas de forma aleatória com os conteúdos possíveis, que nesse caso serão representados por números inteiros de $1$ ao $numConteudos$ dado. \n",
        "\n",
        "Após isso, agenda-se um evento de uma requisição para cada conteúdo na lista de eventos, esse evento indica qual o tempo em que a requisição irá acontecer e qual conteúdo estará sendo requisitado. O tempo do agendamento é gerado de forma aleatória seguindo a distriuição exponencial tendo como parâmetro a taxa do conteúdo e a cada vez que um evento é adicionado, a lista é ordenada em função dos tempos apresentados em cada evento. \n",
        "\n",
        "Com as caches inicializadas e uma requisição agendada para cada conteúdo, inicia-se o processo. Em termos de código, inicia-se um loop em cima da lista de eventos, onde para cada requisição, novos eventos são gerados para simular seu atendimento. Primeiramente, tenta-se encaminhar a requisição com menor tempo presente na lista inicial de eventos para as duas caches. Aqui temos um novo evento e mais dois possíveis novos eventos para acrescentar na lista, pois tenta-se encaminhar a requisição para cada cache, para isso gera-se um número entre $0$ e $1$, se o número for menor ou igual ao parâmetro $p$ (que por default é $0.9$, o que implica que o canal tem 90% de chance de funcionar), o canal funciona e cria-se um novo evento da requsição chegando na cache, repete-se isso para as duas. Assim, há a possibilidade da criação de um evento onde a requisição chega na cache 1 e/ou outro evento onde a requisição chega na cache 2. Além disso, é gerado um número aleatório seguindo a distribuição exponencial com parametro $1/\\alpha$ para indicar o timer da requisição, assim, cria-se um novo evento que será o timeout da requisição.\n",
        "\n",
        "Quando o evento da requisição chegando na cache acontecer, é verificado se a cache possui o conteúdo requisitado. Se sim, cria-se um novo evento da requisição sendo atendida pela cache agendado para acontecer em $n$ segundos, onde $n$ é calculado gerando um número aleatório seguindo a distribuição exponencial com parametro $1/\\mu$. Já se a cache não possuir, primeiro cria-se um novo evento onde cache receberá o conteúdo requisitado do servidor para assim poder atender a requisição, o evento é agendado para acontecer em $m$ segundos, onde $m$ é calculado gerando um número aleatório seguindo a distribuição exponencial com parametro $1/\\theta$ ($\\theta = \\infty$ no caso desse cenário) e só quando esse novo evento criado acontecer, que cria-se o evento da requisição sendo atendida.\n",
        "\n",
        "Já se o evento timeout da requisição chegar a acontecer, da forma que modelamos, ele cancela todos os outros eventos referentes a requisição que sofreu o timeout, isso para simular o cancelamento do processo de tentativa de atender a requisição pela caches, e cria um evento da requisição sendo atendida pelo servidor alternativo, o evento é agendado para acontecer em $l$ segundos, onde $l$ é calculado gerando um número aleatório seguindo a distribuição exponencial com parametro $1/\\gamma$, onde nesse cenário.\n",
        "\n",
        "Por último, quando o evento requisição atendida acontece, seja pela cache $1$, cache $2$ ou pelo servidor alternativo por conta do timeout, verificá-se se há mias requisições abertas para o mesmo conteúdo da que está sendo atendida, e cancela todos os processos referentes a essas requisições junto com os processos referentes à que está sendo atendida. Após isso, anota-se qual foi o tempo de atendimento de cada requisição fazendo $tempo\\ do\\ evento\\ requisição\\ atendida\\ - tempo\\ de\\ chegada\\ da\\ requisicao$.\n",
        "\n",
        "Todos esses eventos acontecem para cada requisição e se misturam, ou seja, pode ter um evento da requisição \"req2\" chegando na cache $1$ enquando e logo em seguida outra requição \"req1\" sendo atendida pelo servidor alternativo. \n",
        "\n",
        "Após termos o número especificado pelo parâmetro de requisições atendida, seja pelo jeito que for, as iterações param e calcula-se o tempo de atendimento médio das requisições fazendo-se $soma\\ do\\ tempo\\ de\\ atendimendo\\ de\\ cada\\ requisicao/numero\\ de\\ requisições$. \n",
        "\n",
        "Lebrando que sempre que uma nova requisição chega, outra requisição para o mesmo conteúdo é agendada onde o tempo do agendamento é gerado de forma aleatória seguindo a distriuição exponencial com parâmetro igual a probabilidade do conteúdo, dessa forma garantimos que cada conteúdo seja requisitado seguindo sua taxa de chegada. A depuração apresentada mais embaixo deve ajudar a entender o funcionamento da simulação aqui descrito que imaginamos que possa ser confusa já que muitos eventos são gerados.\n",
        "\n",
        "\n",
        "\n"
      ]
    },
    {
      "cell_type": "code",
      "metadata": {
        "id": "33xQ5YzV8Qf1"
      },
      "source": [
        "def adicionaEvento(Requisicoes,tempoAgendamento, conteudo, nomeEvento, identfRequisicao):\n",
        "  # Adicionando o timeout da requisição na lista de eventos\n",
        "      evento = [tempoAgendamento, conteudo, nomeEvento, identfRequisicao]\n",
        "      Requisicoes.append(evento)\n",
        "      Requisicoes = sorted(Requisicoes, key=lambda tup: tup[0])\n",
        "      return Requisicoes\n",
        "\n",
        "def atendeRequisicoesMesmoConteudo(Requisicoes,tempoAtual, conteudo, aberturaRequisicoes, dicionario, requisicoes,identfRequisicao, depurar = False):\n",
        "\n",
        "  removerEventos = []\n",
        "\n",
        "  # Remove os eventos referentes as requisições que foram atendidas\n",
        "  for evento in Requisicoes: \n",
        "    if evento[1] == conteudo and \"SISTEMA\" not in evento: \n",
        "        removerEventos.append(evento)\n",
        "\n",
        "  # Remove os eventos referentes as requisições que foram atendidas\n",
        "  for i in range(len(removerEventos)):\n",
        "    Requisicoes.remove(removerEventos[i])\n",
        "\n",
        "  atendidasAgora = [x for x in aberturaRequisicoes if ((\"conteudo \" + str(conteudo)) == x[1] and x[3]==0)]\n",
        "  requisicoesAtendidas =  [x[0] for x in atendidasAgora]\n",
        "                                   \n",
        "  if (depurar):\n",
        "    if(len(requisicoesAtendidas)>1):\n",
        "      requisicoesAtendidas.remove(identfRequisicao)\n",
        "      print(\"Requisições \" + str(requisicoesAtendidas) + \" atendidas pois também eram para o conteúdo \" + str(conteudo))\n",
        "        \n",
        "  for req in atendidasAgora:\n",
        "    #print(\"ATENDEU OUTRAS REQUISICOES!\")\n",
        "    tempoAtendimentoReq = tempoAtual - req[2]\n",
        "    identfRequisicao = req[0]\n",
        "    dicionario[identfRequisicao] = [tempoAtendimentoReq]\n",
        "    requisicaoAtual = [x for x in aberturaRequisicoes if (identfRequisicao == x[0])]\n",
        "    requisicaoAtual = requisicaoAtual[0]\n",
        "    aberturaRequisicoes.remove(requisicaoAtual)\n",
        "    requisicoes = requisicoes + 1 \n",
        "\n",
        "  return Requisicoes, aberturaRequisicoes, dicionario, requisicoes\n"
      ],
      "execution_count": null,
      "outputs": []
    },
    {
      "cell_type": "code",
      "metadata": {
        "id": "Eg9Fu-Ki8Qf2"
      },
      "source": [
        "def simulacaoCenario3_4(numRequisicoes, caso, numConteudos, tamCache, probabilidades, teta, alpha = 1, p = 0.9, depurar = False, cachesDiferentes = True):\n",
        "\n",
        "  \n",
        "  Requisicoes = []  \n",
        "  requsicoes = numConteudos\n",
        "  taxa = probabilidades\n",
        "  tempoAtendimentoC1 = {}\n",
        "  tempoAtendimentoC2 = {}\n",
        "  tempoAtendimentoTimeout = {}\n",
        "  aberturaRequisicoes = []\n",
        "  \n",
        "  for i in range (numConteudos):\n",
        "    tempo = np.random.exponential(1/taxa[i])    \n",
        "    agendamento = [tempo, i +1, \"SISTEMA\", \"req\" + str(i)]\n",
        "    aberturaRequisicoes.append([\"req\" + str(i), \"conteudo \" + str(i +1), tempo, -1])\n",
        "    Requisicoes.append(agendamento)\n",
        "\n",
        "  Requisicoes = sorted(Requisicoes, key=lambda tup: tup[0])\n",
        "  if (depurar):print(Requisicoes)\n",
        "  if (depurar):print(\"\\n\")\n",
        "    \n",
        "  cache1_inicial = initializeCache(numConteudos, tamCache)\n",
        "\n",
        " # se não foi passado o estado inicial para cache 2, inicializa a cache para um estado igual ou diferente da cache 1\n",
        "  \n",
        "  cache2_inicial = []\n",
        "\n",
        "  # caches começam com estados iniciais diferentes\n",
        "  if cachesDiferentes:\n",
        "    cache2_inicial = initializeCache(numConteudos, tamCache)\n",
        "    if (caso == \"Estatica\"):\n",
        "      while (list(set(cache2_inicial)) == list(set(cache1_inicial))):\n",
        "        cache2_inicial = initializeCache(numConteudos, tamCache) \n",
        "    else:\n",
        "      while (cache2_inicial == cache1_inicial):\n",
        "        cache2_inicial = initializeCache(numConteudos, tamCache)    \n",
        "\n",
        "  # caches começam com estados iniciais iguais\n",
        "  else:\n",
        "    cache2_inicial = cache1_inicial.copy()\n",
        "\n",
        "  cache1 = cache1_inicial\n",
        "  cache2 = cache2_inicial\n",
        "\n",
        "  requisicaoGerada = numConteudos \n",
        "  requisicoes = 0 # contador de requisições\n",
        "  \n",
        "  while (requisicoes < numRequisicoes):\n",
        "\n",
        "    evento = Requisicoes[0]\n",
        "    del Requisicoes[0]\n",
        "\n",
        "    tempoAtual = evento[0]\n",
        "    conteudo = evento[1] # conteudo da requisição\n",
        "    identfRequisicao = evento[3] # identificador da requisição\n",
        "\n",
        "    if (depurar):print(\"Evento: \" + str(evento) + str(\"\\n\"))  \n",
        "    \n",
        "    if (evento[2] == \"SISTEMA\" ):\n",
        "      \n",
        "      if (depurar):print(\"No tempo \" + str(tempoAtual) + \" cliente faz requisição '\" + \n",
        "                         str(identfRequisicao) + \"' do conteúdo \" + str(conteudo) + \"\\n\")\n",
        "\n",
        "      timer = np.random.exponential(1/alpha)\n",
        "\n",
        "      # Adicionando o timeout da requisição na lista de eventos\n",
        "      timeoutReq = [tempoAtual + timer, conteudo, \"TIMEOUT_\" + str(identfRequisicao), identfRequisicao]\n",
        "      if (depurar):print(\"Timer \" + str(evento[3] + \" = \" + str(timer)))\n",
        "      Requisicoes.append(timeoutReq)\n",
        "      Requisicoes = sorted(Requisicoes, key=lambda tup: tup[0])\n",
        "\n",
        "      for requisicao in aberturaRequisicoes:\n",
        "\n",
        "        if identfRequisicao == requisicao[0]:\n",
        "          requisicaoAtual = requisicao\n",
        "\n",
        "      indice = aberturaRequisicoes.index(requisicaoAtual)\n",
        "      aberturaRequisicoes[indice][3] = 0\n",
        "\n",
        "      # Verifica se o canal 1 funciona, se sim (probabilidade = p), envia requisição para cache 1\n",
        "      canal1Funciona = random.uniform(0, 1)\n",
        "      if (canal1Funciona <= p):\n",
        "\n",
        "        # Cria evento da requisição chegando na cache 1   \n",
        "        tempoCanal = np.random.exponential(1)      \n",
        "        Requisicoes = adicionaEvento(Requisicoes,tempoAtual + tempoCanal, conteudo, \"CACHE1\", identfRequisicao) \n",
        "        if (depurar): print(\"Canal 1 funcionou! Requisição seguirá para a cache 1 e cherará em \" + str(tempoCanal) + \" segundos\")   \n",
        "\n",
        "      else:\n",
        "          if (depurar): print(\"Canal 1 não funcionou!\")\n",
        "\n",
        "      # Verifica se o canal 2 funciona, se sim (probabilidade = p), envia requisição para cache 2\n",
        "      canal2Funciona = random.uniform(0, 1)\n",
        "      if (canal2Funciona <= p):    \n",
        "\n",
        "        # Cria evento da requisição chegando na cache 2   \n",
        "        tempoCanal = np.random.exponential(1)      \n",
        "        Requisicoes = adicionaEvento(Requisicoes,tempoAtual + tempoCanal, conteudo, \"CACHE2\", identfRequisicao)   \n",
        "        if (depurar): print(\"Canal 2 funcionou! Requisição seguirá para a cache 2 e cherará em \" + str(tempoCanal) + \" segundos\")     \n",
        "\n",
        "      else:\n",
        "          if (depurar): print(\"Canal 2 não funcionou!\")\n",
        "\n",
        "      # Agendando nova requisição \n",
        "      tempoAgendado = tempoAtual + np.random.exponential(1/taxa[conteudo-1])\n",
        "      Requisicoes = adicionaEvento(Requisicoes,tempoAgendado, conteudo, \"SISTEMA\", \"req\" + str(requisicaoGerada))\n",
        "      aberturaRequisicoes.append([\"req\" + str(requisicaoGerada), \"conteudo \" + str(conteudo), tempoAgendado, -1])\n",
        "      requisicaoGerada = requisicaoGerada + 1 # contador de requisições geradas \n",
        "        \n",
        "\n",
        "    # Evento: Requisição chega na cache 1\n",
        "    elif (evento[2] == \"CACHE1\"):\n",
        "      if (depurar): print(\" No tempo \" + str(tempoAtual) + \" a requisição '\" + str(identfRequisicao)\n",
        "       + \" do conteúdo \" + str(conteudo) + \" chega na cache 1\")\n",
        "      if (depurar): print(\"Estado atual cache 1:\" + str(cache1))\n",
        "      \n",
        "      cache1, RequicaoAtendidaC1 = cacheReceivesReq3_4(caso, cache1, conteudo, depurar)\n",
        "      \n",
        "      if not (RequicaoAtendidaC1):# Se a cache não possui o conteúdo requisitado\n",
        "\n",
        "        # Novo evento da solicitação do conteúdo sendo encaminhada para o servidor\n",
        "        tempoIdaVoltaServidor = np.random.exponential(1/teta)  #tempo de delay do canal cache-servidor\n",
        "        Requisicoes = adicionaEvento(Requisicoes, tempoAtual + tempoIdaVoltaServidor, conteudo, \"CACHE1_SERVIDOR\", identfRequisicao)     \n",
        "\n",
        "      else: # cache possui o conteúdo, requisição será atendida\n",
        "\n",
        "        # Novo evento da requisição sendo atendida pela cache 1\n",
        "        tempoVoltaUsuario = np.random.exponential(1) # tempo de delay do canal cache-usuário\n",
        "        if (depurar):print(\"Requisição \" + str(identfRequisicao) + \" será atendida em \" + str(tempoVoltaUsuario) + \" segundos\")\n",
        "        Requisicoes = adicionaEvento(Requisicoes, tempoAtual + tempoVoltaUsuario, conteudo, \"REQUISICAO_ATENDIDA_C1\", identfRequisicao)  \n",
        "\n",
        "    # Evento: Requisição chega na cache 2\n",
        "    elif (evento[2] == \"CACHE2\"):\n",
        "      if (depurar): print(\"No tempo \" + str(tempoAtual) + \" a requisição do tipo \" + str(conteudo) + \" chega na cache 2\")\n",
        "      if (depurar): print(\"Estado atual cache 2:\" + str(cache2))\n",
        "      cache2, RequicaoAtendidaC2 = cacheReceivesReq3_4(caso, cache2, conteudo, depurar)\n",
        "\n",
        "      if not (RequicaoAtendidaC2): # Se a cache não possui o conteúdo requisitado\n",
        "\n",
        "        # Novo evento da solicitação do conteúdo sendo encaminhada para o servidor\n",
        "        tempoIdaVoltaServidor = np.random.exponential(1/teta)         \n",
        "        Requisicoes = adicionaEvento(Requisicoes, tempoAtual + tempoIdaVoltaServidor, conteudo, \"CACHE2_SERVIDOR\", identfRequisicao) \n",
        "      \n",
        "\n",
        "      else:# cache possui o conteúdo, requisição será atendida\n",
        "        \n",
        "        # Criação de novo evento da requisição sendo atendida pela cache 2\n",
        "        tempoVoltaUsuario = np.random.exponential(1) # tempo de delay do canal cache-usuário\n",
        "        if (depurar):print(\"Requisição \" + str(identfRequisicao) + \" será atendida em \" + str(tempoVoltaUsuario) + \" segundos\")\n",
        "        Requisicoes = adicionaEvento(Requisicoes, tempoAtual + tempoVoltaUsuario, conteudo, \"REQUISICAO_ATENDIDA_C2\", identfRequisicao)\n",
        "\n",
        "\n",
        "    # Evento: Solicitação do conteúdo sendo encaminhada da cache 1 para o servidor\n",
        "    elif (evento[2] == \"CACHE1_SERVIDOR\"):\n",
        "      \n",
        "      if (depurar): print(\" No tempo \" + str(tempoAtual) + \" cache 1 recebe conteúdo \" + str(conteudo) + \" para a requisição \" + \n",
        "                          str(identfRequisicao) + \" solicitado ao servidor\")\n",
        "      if (depurar): print(\"Estado anterior da cache 1:\" + str(cache1))\n",
        "\n",
        "      servidor_atende_cache3_4(caso, cache1, conteudo, depurar)\n",
        "      # Criação de novo evento da requisição sendo atendida pela cache 1      \n",
        "      \n",
        "      tempoVoltaUsuario = np.random.exponential(1)\n",
        "      Requisicoes = adicionaEvento(Requisicoes, tempoAtual + tempoVoltaUsuario, conteudo, \"REQUISICAO_ATENDIDA_C1\", identfRequisicao)\n",
        "\n",
        "   # Evento: Solicitação do conteúdo sendo encaminhada da cache 1 para o servidor\n",
        "    elif (evento[2] == \"CACHE2_SERVIDOR\"):\n",
        "      \n",
        "      if (depurar): print(\" No tempo \" + str(tempoAtual) + \" cache 2 recebe conteúdo \" + str(conteudo) + \" para a requisição \" + \n",
        "                          str(identfRequisicao) + \" solicitado ao servidor\")\n",
        "      if (depurar): print(\"Estado anterior da cache 2:\" + str(cache1))\n",
        "\n",
        "      servidor_atende_cache3_4(caso, cache2, conteudo, depurar)\n",
        "      # Criação de novo evento da requisição sendo atendida pela cache 1      \n",
        "      \n",
        "      tempoVoltaUsuario = np.random.exponential(1)\n",
        "      Requisicoes = adicionaEvento(Requisicoes, tempoAtual + tempoVoltaUsuario, conteudo, \"REQUISICAO_ATENDIDA_C2\", identfRequisicao)\n",
        "\n",
        "   \n",
        "    # Evento: cache 1 atende requisição\n",
        "    elif (evento[2] == \"REQUISICAO_ATENDIDA_C1\"):\n",
        "\n",
        "      if (depurar): print(\"No tempo \" + str(tempoAtual) + \" a requisição \" + str(identfRequisicao) + \" do conteúdo \" + \n",
        "                          str(conteudo) + \" foi atendida pela cache 1\")\n",
        "      \n",
        "      # Apagando evento de timeout da requisição \n",
        "      timeout = [x for x in Requisicoes if (\"TIMEOUT_\" + identfRequisicao == x[2])]\n",
        "\n",
        "      if timeout:\n",
        "        timeout = timeout[0]\n",
        "        Requisicoes.remove(timeout)\n",
        "      \n",
        "      Requisicoes, aberturaRequisicoes,tempoAtendimentoC1,requisicoes = atendeRequisicoesMesmoConteudo(Requisicoes,tempoAtual, conteudo,\n",
        "                                                                        aberturaRequisicoes, tempoAtendimentoC1,requisicoes, identfRequisicao, depurar)\n",
        "\n",
        "    # Evento: cache 2 atende requisição\n",
        "    elif (evento[2] == \"REQUISICAO_ATENDIDA_C2\"):\n",
        "\n",
        "      if (depurar): print(\"No tempo \" + str(tempoAtual) + \" a requisição \" + str(identfRequisicao) + \" do conteúdo \" + \n",
        "                          str(conteudo) + \" foi atendida pela cache 2\")      \n",
        "      \n",
        "      # Apagando evento de timeout da requisição\n",
        "      timeout = [x for x in Requisicoes if (\"TIMEOUT_\" + identfRequisicao in x)]\n",
        "      if timeout:\n",
        "        timeout = timeout[0]\n",
        "        Requisicoes.remove(timeout)      \n",
        "\n",
        "      Requisicoes, aberturaRequisicoes,tempoAtendimentoC1, requisicoes = atendeRequisicoesMesmoConteudo(Requisicoes,tempoAtual, conteudo,\n",
        "                                                                          aberturaRequisicoes, tempoAtendimentoC2,requisicoes,identfRequisicao, depurar)       \n",
        "     \n",
        "    # Evento timeout de uma requisição\n",
        "    elif (\"TIMEOUT\" in evento[2]):\n",
        "\n",
        "      if (depurar): print(\"No tempo \" + str(tempoAtual) + \" timeout para a requisição \" + \n",
        "                          str(identfRequisicao))  \n",
        "      \n",
        "      removerEventos = []\n",
        "      # Remove os eventos referentes a requisiçção que sofreu timeout\n",
        "      for evento in Requisicoes: \n",
        "        if identfRequisicao == evento[3]:\n",
        "            removerEventos.append(evento)\n",
        "\n",
        "      for i in range(len(removerEventos)):\n",
        "        Requisicoes.remove(removerEventos[i])\n",
        "\n",
        "      atendidasAgora = [x for x in aberturaRequisicoes if ((\"conteudo \" + str(conteudo))==x[1] and x[3]==0)]\n",
        "\n",
        "      tempoIdaVolta = np.random.exponential(1)\n",
        "      Requisicoes = adicionaEvento(Requisicoes, tempoAtual + tempoIdaVolta, conteudo, \"REQUISICAO_ATENDIDA_SERVIDOR_ALTER\", identfRequisicao) \n",
        "\n",
        "      if (depurar):print(\"Requisição seguirá para o Servidor Alternativo e voltará em \" + str(tempoIdaVolta) + \" segundos\")\n",
        "      \n",
        "      \n",
        "    elif (\"REQUISICAO_ATENDIDA_SERVIDOR_ALTER\" == evento[2]):\n",
        "\n",
        "      if (depurar):print(\"Requisição \" + str() + \" atendida pelo servidor alternativo\") \n",
        "\n",
        "      Requisicoes, aberturaRequisicoes,tempoAtendimentoTimeout,requisicoes = atendeRequisicoesMesmoConteudo(Requisicoes,tempoAtual, conteudo,\n",
        "                                                                             aberturaRequisicoes, tempoAtendimentoTimeout,requisicoes,identfRequisicao, depurar)       \n",
        "\n",
        "    #if (depurar):print(\"Requisições Atendidas: \" + str(menorTempoAtendimento))    \n",
        "    if (depurar):print(\"\\nPróximos eventos: \" + str(Requisicoes))\n",
        "    if (depurar): print(\"-------- \\n\") \n",
        "    if (depurar):print(\"\\n\") \n",
        "  \n",
        "  menorTempoAtendimento = {k: min(i for i in (tempoAtendimentoC1.get(k), tempoAtendimentoC2.get(k)) if i) for k in tempoAtendimentoC1.keys() | tempoAtendimentoC2}\n",
        "  if tempoAtendimentoTimeout:\n",
        "    menorTempoAtendimento.update(tempoAtendimentoTimeout)\n",
        "\n",
        "  mediaTempo = np.array(list(dict.values(menorTempoAtendimento))).mean()\n",
        "\n",
        "  if (depurar):print(menorTempoAtendimento) \n",
        "  if (depurar):print(\"\\n\") \n",
        "  return mediaTempo"
      ],
      "execution_count": null,
      "outputs": []
    },
    {
      "cell_type": "markdown",
      "metadata": {
        "id": "2s1kyeJcaU8J"
      },
      "source": [
        "## Simulação dos casos com depuração"
      ]
    },
    {
      "cell_type": "markdown",
      "metadata": {
        "id": "q9zBP-xHSEll"
      },
      "source": [
        "<h4> Abaixo são realizados testes onde são feitas 10 requisições apenas para fins de vizualizar a depuração do simulador para cado tipo de cache."
      ]
    },
    {
      "cell_type": "markdown",
      "metadata": {
        "id": "A1OfTeHDaU8K"
      },
      "source": [
        "### Simulação caso FIFO"
      ]
    },
    {
      "cell_type": "code",
      "metadata": {
        "colab": {
          "base_uri": "https://localhost:8080/"
        },
        "id": "ftdS-I2vfrks",
        "outputId": "e045ba2d-c164-40de-c6c5-9346ac18fc8b"
      },
      "source": [
        "simulacaoCenario3_4(10,\"FIFO\", 3, 2 , [1/3,1/3,1/3], math.inf, depurar = True)"
      ],
      "execution_count": null,
      "outputs": [
        {
          "output_type": "stream",
          "text": [
            "[['req2', 'conteudo 3', 0.5359183617259737, -1]]\n",
            "[['req1', 'conteudo 2', 2.3779881266208145, -1]]\n",
            "[['req3', 'conteudo 3', 2.8864042466985294, -1]]\n",
            "[['req4', 'conteudo 2', 2.9732680236319875, -1]]\n",
            "[['req6', 'conteudo 2', 3.463529057880284, -1]]\n",
            "[['req0', 'conteudo 1', 5.716283709289864, -1]]\n",
            "[['req7', 'conteudo 2', 5.778963741564656, -1]]\n",
            "[['req5', 'conteudo 3', 7.258073974526802, -1]]\n",
            "[['req8', 'conteudo 1', 8.437881491643477, -1]]\n",
            "[['req9', 'conteudo 2', 9.763374877035805, -1]]\n",
            "[['req10', 'conteudo 3', 9.882962551519256, -1]]\n"
          ],
          "name": "stdout"
        },
        {
          "output_type": "execute_result",
          "data": {
            "text/plain": [
              "0.6946545920235769"
            ]
          },
          "metadata": {
            "tags": []
          },
          "execution_count": 262
        }
      ]
    },
    {
      "cell_type": "markdown",
      "metadata": {
        "id": "MlhrTMvsaiGZ"
      },
      "source": [
        "### Simulação caso LRU"
      ]
    },
    {
      "cell_type": "code",
      "metadata": {
        "id": "NJNq6ARGaysO"
      },
      "source": [
        "simulacaoCenario3_4(10,\"LRU\", 3, 2 , [1/3,1/3,1/3], math.inf, depurar = False)"
      ],
      "execution_count": null,
      "outputs": []
    },
    {
      "cell_type": "markdown",
      "metadata": {
        "id": "E9UFH_Azanry"
      },
      "source": [
        "### Simulação caso Random"
      ]
    },
    {
      "cell_type": "code",
      "metadata": {
        "id": "lSIcUNR_a0GH"
      },
      "source": [
        "simulacaoCenario3_4(10,\"Random\", 3, 2 , [1/3,1/3,1/3], math.inf, depurar = False)"
      ],
      "execution_count": null,
      "outputs": []
    },
    {
      "cell_type": "markdown",
      "metadata": {
        "id": "R-Uz_kZgaqK_"
      },
      "source": [
        "### Simulações caso Estática "
      ]
    },
    {
      "cell_type": "markdown",
      "metadata": {
        "id": "RMrziOTAaqLA"
      },
      "source": [
        "#### 1º Caso - As caches possuem os mesmos conteúdos populares"
      ]
    },
    {
      "cell_type": "code",
      "metadata": {
        "id": "RP3r7Ah8a4f7"
      },
      "source": [
        "simulacaoCenario3_4(10,\"Estatica\", 3, 2 , [1/3,1/3,1/3], math.inf, depurar = False)"
      ],
      "execution_count": null,
      "outputs": []
    },
    {
      "cell_type": "markdown",
      "metadata": {
        "id": "i4aaFYSLauAb"
      },
      "source": [
        "#### 2º Caso - As caches possuem conteúdos populares diferentes"
      ]
    },
    {
      "cell_type": "code",
      "metadata": {
        "id": "GCl2FexybK-T"
      },
      "source": [
        "simulacaoCenario3_4(10,\"Estatica\", 3, 2 , [1/3,1/3,1/3], math.inf, depurar = False)"
      ],
      "execution_count": null,
      "outputs": []
    },
    {
      "cell_type": "markdown",
      "metadata": {
        "id": "Q2xjOCCXbXfA"
      },
      "source": [
        "## Intervalos de Confiança para cada Caso"
      ]
    },
    {
      "cell_type": "markdown",
      "metadata": {
        "id": "o2pgIhO1VHa_"
      },
      "source": [
        "<h4> Abaixo é calculado o intervalo de confiança para cada caso. O intervalo é calculado pela função auxiliar \"intervaloDeConfianca\" em que se realiza 10 simulações onde em cada simulação são feitas 100000 requisições. Os limites inferiores e superiorers do intervalo são obtidos da seguinte maneira:\n",
        "\n",
        "$limite\\ inferior = (media\\ dos\\ resultados\\ das\\ simulacoes\\ - 1.96*desvio\\ padrao\\ dos\\ resultados\\ das\\ simulacoes)/ \\ raiz\\ quadrada\\ do\\ numero\\ de\\ simulacoes$\n",
        "\n",
        "$limite\\ superior\\ = (media\\ dos\\ resultados\\ das\\ simulacoes\\ + 1.96*desvio\\ padrao\\ dos\\ resultados\\ das\\ simulações)/ \\ raiz\\ quadrada\\ do\\ numero\\ de\\ simulacoes$"
      ]
    },
    {
      "cell_type": "markdown",
      "metadata": {
        "id": "ipIA9f9sbglX"
      },
      "source": [
        "### Caso FIFO"
      ]
    },
    {
      "cell_type": "code",
      "metadata": {
        "colab": {
          "base_uri": "https://localhost:8080/"
        },
        "id": "7QQPd0Ccbx99",
        "outputId": "13e48cd6-c3d6-4b8d-a30b-8616824a0941"
      },
      "source": [
        "intervaloConfiancaFIFOC3 = intervaloDeConfianca(10,3 , \"FIFO\", 3 ,2, [1/3,1/3,1/3], teta = math.inf)"
      ],
      "execution_count": null,
      "outputs": [
        {
          "output_type": "stream",
          "text": [
            "Cenário: 3\n",
            "Caso: FIFO\n",
            "Tamanho de cada cache: 2\n",
            "Número de conteúdos: 3\n",
            "Intervalo de Confiança: [1.0068768292238135, 1.010238081509334]\n",
            "-------- \n",
            "\n"
          ],
          "name": "stdout"
        }
      ]
    },
    {
      "cell_type": "markdown",
      "metadata": {
        "id": "AUnsSGBzbi97"
      },
      "source": [
        "### Caso LRU"
      ]
    },
    {
      "cell_type": "code",
      "metadata": {
        "colab": {
          "base_uri": "https://localhost:8080/"
        },
        "id": "7Fq2_zRYgEgy",
        "outputId": "9f51b7ca-5fb1-4396-ce67-ed7cc445f90a"
      },
      "source": [
        "intervaloConfiancaLRUC3 = intervaloDeConfianca(10,3 , \"LRU\", 3 ,2, [1/3,1/3,1/3], teta = math.inf)"
      ],
      "execution_count": null,
      "outputs": [
        {
          "output_type": "stream",
          "text": [
            "Cenário: 3\n",
            "Caso: LRU\n",
            "Tamanho de cada cache: 2\n",
            "Número de conteúdos: 3\n",
            "Intervalo de Confiança: [1.0068889606716958, 1.0101028824772345]\n",
            "-------- \n",
            "\n"
          ],
          "name": "stdout"
        }
      ]
    },
    {
      "cell_type": "markdown",
      "metadata": {
        "id": "sszqo5GrblwZ"
      },
      "source": [
        "### Caso Random"
      ]
    },
    {
      "cell_type": "code",
      "metadata": {
        "colab": {
          "base_uri": "https://localhost:8080/"
        },
        "id": "wk4x0rMXgFlZ",
        "outputId": "cd5835e9-b62b-4caf-ae82-34f56163aa5c"
      },
      "source": [
        "intervaloConfiancaRandomC3 = intervaloDeConfianca(10,3 , \"Random\", 3 ,2, [1/3,1/3,1/3], teta = math.inf)"
      ],
      "execution_count": null,
      "outputs": [
        {
          "output_type": "stream",
          "text": [
            "Cenário: 3\n",
            "Caso: Random\n",
            "Tamanho de cada cache: 2\n",
            "Número de conteúdos: 3\n",
            "Intervalo de Confiança: [1.0083635417365384, 1.0107781537181788]\n",
            "-------- \n",
            "\n"
          ],
          "name": "stdout"
        }
      ]
    },
    {
      "cell_type": "markdown",
      "metadata": {
        "id": "XxkI_zW3boht"
      },
      "source": [
        "### Caso Estática"
      ]
    },
    {
      "cell_type": "markdown",
      "metadata": {
        "id": "-YXBtNp_bohu"
      },
      "source": [
        "#### Caches com mesmos conteúdos populares"
      ]
    },
    {
      "cell_type": "code",
      "metadata": {
        "colab": {
          "base_uri": "https://localhost:8080/"
        },
        "id": "94AzbvFpgGi5",
        "outputId": "b9aeaa59-50a0-4d76-d505-d8ee3cef632f"
      },
      "source": [
        "intervaloConfiancaEstaticaC3_1 = intervaloDeConfianca(10,3 , \"Estatica\", 3 ,2, [1/3,1/3,1/3], teta = math.inf, cachesDiferentes = False)"
      ],
      "execution_count": null,
      "outputs": [
        {
          "output_type": "stream",
          "text": [
            "Cenário: 3\n",
            "Caso: Estatica\n",
            "Tamanho de cada cache: 2\n",
            "Número de conteúdos: 3\n",
            "Intervalo de Confiança: [1.0098809977511634, 1.0129001010586336]\n",
            "-------- \n",
            "\n"
          ],
          "name": "stdout"
        }
      ]
    },
    {
      "cell_type": "markdown",
      "metadata": {
        "id": "FpRY9NYnbq0z"
      },
      "source": [
        "#### Caches com conteúdos populares diferentes"
      ]
    },
    {
      "cell_type": "code",
      "metadata": {
        "colab": {
          "base_uri": "https://localhost:8080/"
        },
        "id": "iriKNKJPgHXq",
        "outputId": "83e06cc9-bb8b-45b4-b2a5-8c11d6e2b185"
      },
      "source": [
        "intervaloConfiancaEstaticaC3_2 = intervaloDeConfianca(10,3 , \"Estatica\", 3 ,2, [1/3,1/3,1/3], teta = math.inf, cachesDiferentes = True)"
      ],
      "execution_count": null,
      "outputs": [
        {
          "output_type": "stream",
          "text": [
            "Cenário: 3\n",
            "Caso: Estatica\n",
            "Tamanho de cada cache: 2\n",
            "Número de conteúdos: 3\n",
            "Intervalo de Confiança: [1.0071308852838197, 1.0124026238996366]\n",
            "-------- \n",
            "\n"
          ],
          "name": "stdout"
        }
      ]
    },
    {
      "cell_type": "markdown",
      "metadata": {
        "id": "xZKkOaD0F5QP"
      },
      "source": [
        "# IV. Simulação Cenário IV"
      ]
    },
    {
      "cell_type": "markdown",
      "metadata": {
        "id": "xegODasCPVs8"
      },
      "source": [
        "<h3> Parâmetros de entrada para a função\n",
        "\n",
        "O cenário $IV$ utiliza o mesmo simulador que o cenário $III$ descrito acima, a única coisa que muda é que o parãmetro $theta$ recebe o número $1$ ao invés de $\\infty$.\n",
        "Dessa fora, a função utilizada para simular o cenário tem os seguintes parâmetros de entrada:\n",
        "\n",
        "*   $numRequisicoes$ - Número de requisões que serão realizadas no experimento. Deve ser um número inteiro maior que $0$.\n",
        "*   $caso$ - qual é o caso/tipo das caches. Os possíveis valores de entrada são: \"FIFO\", \"LRU\", \"Random\" ou \"Estatica\"\n",
        "*   $numConteudos$ - número de conteúdos que podem ser requisitados. Deve ser um número inteiro maior que $0$.\n",
        "*   $tamCache$ - tamanho das caches. Deve ser um número inteiro maior que $0$.\n",
        "*   $probabilidades$ - probabilidade de cada conteúdo ser requisitado. Deve ser passado uma lista de tamanho igual ao número de conteúdos. Por exemplo, se são três conteúdos e possuem probabilidade de requisição uniforme, a lista passada deverá ser $[1/3,1/3,1/3]$\n",
        "*   $p$ - probabildide de um canal falhar. Deve ser um float entre $0$ e $1$ e tem como default o valor $0.9$.\n",
        "*   $teta$ - taxa de serviço do servidor à cache. Deve ser um inteiro maior do que $0$  e tem como default o valor $math.inf =1$.\n",
        "*   $alpha$ - taxa de timeout para uma requisição. Deve ser um inteiro maior do que $0$  e tem como default o valor $1$.\n",
        "*   $depurar$ - Booleano para indicar se deseja imprimir a depuração do código ou não. O default é o valor \"False\", onde não se depura.\n",
        "*   $cachesDiferentes$ - Booleano para indicar se deseja que as caches comecem em estados diferentes ou iguais. O default é o valor \"True\", onde começam com em estados diferentes.\n"
      ]
    },
    {
      "cell_type": "markdown",
      "metadata": {
        "id": "UkJzoWDm1i41"
      },
      "source": [
        "## Simulação dos casos com depuração"
      ]
    },
    {
      "cell_type": "markdown",
      "metadata": {
        "id": "AhbI2EKoR-ut"
      },
      "source": [
        "<h4> Abaixo são realizados testes onde são feitas 10 requisições apenas para fins de vizualizar a depuração do simulador para cado tipo de cache."
      ]
    },
    {
      "cell_type": "markdown",
      "metadata": {
        "id": "LC0z26pa1i5I"
      },
      "source": [
        "### Simulação caso FIFO"
      ]
    },
    {
      "cell_type": "code",
      "metadata": {
        "colab": {
          "base_uri": "https://localhost:8080/"
        },
        "id": "IqRjPmzY6f2S",
        "outputId": "b9a424a9-4fa8-41f3-cc96-6f0b72c4e24d"
      },
      "source": [
        "simulacaoCenario3_4(100000,\"FIFO\", 3, 2 , [1/3,1/3,1/3], alpha = math.inf, teta = math.inf, depurar =   False)"
      ],
      "execution_count": null,
      "outputs": [
        {
          "output_type": "execute_result",
          "data": {
            "text/plain": [
              "0.7725162776818092"
            ]
          },
          "metadata": {
            "tags": []
          },
          "execution_count": 332
        }
      ]
    },
    {
      "cell_type": "code",
      "metadata": {
        "colab": {
          "base_uri": "https://localhost:8080/"
        },
        "id": "8qBYcpH41i5J",
        "outputId": "25137df9-ffa9-4150-d9a9-64d10b167c08"
      },
      "source": [
        "simulacaoCenario3_4(10,\"FIFO\", 3, 2 , [1/3,1/3,1/3], teta = 1, depurar = True)"
      ],
      "execution_count": null,
      "outputs": [
        {
          "output_type": "stream",
          "text": [
            "[[0.6020248116221734, 1, 'SISTEMA', 'req0'], [1.526868055967443, 3, 'SISTEMA', 'req2'], [4.202774516863052, 2, 'SISTEMA', 'req1']]\n",
            "\n",
            "\n",
            "Evento: [0.6020248116221734, 1, 'SISTEMA', 'req0']\n",
            "\n",
            "No tempo 0.6020248116221734 cliente faz requisição 'req0' do conteúdo 1\n",
            "\n",
            "Timer req0 = 0.6647302506236015\n",
            "Canal 1 funcionou! Requisição seguirá para a cache 1 e cherará em 2.631914683256721 segundos\n",
            "Canal 2 não funcionou!\n",
            "\n",
            "Próximos eventos: [[1.2667550622457748, 1, 'TIMEOUT_req0', 'req0'], [1.526868055967443, 3, 'SISTEMA', 'req2'], [1.6675382528431133, 1, 'SISTEMA', 'req3'], [3.2339394948788946, 1, 'CACHE1', 'req0'], [4.202774516863052, 2, 'SISTEMA', 'req1']]\n",
            "-------- \n",
            "\n",
            "\n",
            "\n",
            "Evento: [1.2667550622457748, 1, 'TIMEOUT_req0', 'req0']\n",
            "\n",
            "No tempo 1.2667550622457748 timeout para a requisição req0\n",
            "Requisição seguirá para o Servidor Alternativo e voltará em 0.84661541965266 segundos\n",
            "\n",
            "Próximos eventos: [[1.526868055967443, 3, 'SISTEMA', 'req2'], [1.6675382528431133, 1, 'SISTEMA', 'req3'], [2.1133704818984347, 1, 'REQUISICAO_ATENDIDA_SERVIDOR_ALTER', 'req0'], [4.202774516863052, 2, 'SISTEMA', 'req1']]\n",
            "-------- \n",
            "\n",
            "\n",
            "\n",
            "Evento: [1.526868055967443, 3, 'SISTEMA', 'req2']\n",
            "\n",
            "No tempo 1.526868055967443 cliente faz requisição 'req2' do conteúdo 3\n",
            "\n",
            "Timer req2 = 3.100169666374695\n",
            "Canal 1 funcionou! Requisição seguirá para a cache 1 e cherará em 1.1788895655262286 segundos\n",
            "Canal 2 funcionou! Requisição seguirá para a cache 2 e cherará em 1.0817709428595563 segundos\n",
            "\n",
            "Próximos eventos: [[1.6675382528431133, 1, 'SISTEMA', 'req3'], [1.8868748361909873, 3, 'SISTEMA', 'req4'], [2.1133704818984347, 1, 'REQUISICAO_ATENDIDA_SERVIDOR_ALTER', 'req0'], [2.6086389988269993, 3, 'CACHE2', 'req2'], [2.705757621493672, 3, 'CACHE1', 'req2'], [4.202774516863052, 2, 'SISTEMA', 'req1'], [4.627037722342138, 3, 'TIMEOUT_req2', 'req2']]\n",
            "-------- \n",
            "\n",
            "\n",
            "\n",
            "Evento: [1.6675382528431133, 1, 'SISTEMA', 'req3']\n",
            "\n",
            "No tempo 1.6675382528431133 cliente faz requisição 'req3' do conteúdo 1\n",
            "\n",
            "Timer req3 = 0.48975502786893615\n",
            "Canal 1 funcionou! Requisição seguirá para a cache 1 e cherará em 1.105770467343804 segundos\n",
            "Canal 2 funcionou! Requisição seguirá para a cache 2 e cherará em 0.13978750621619085 segundos\n",
            "\n",
            "Próximos eventos: [[1.8073257590593041, 1, 'CACHE2', 'req3'], [1.8868748361909873, 3, 'SISTEMA', 'req4'], [2.1133704818984347, 1, 'REQUISICAO_ATENDIDA_SERVIDOR_ALTER', 'req0'], [2.1572932807120493, 1, 'TIMEOUT_req3', 'req3'], [2.493231406039793, 1, 'SISTEMA', 'req5'], [2.6086389988269993, 3, 'CACHE2', 'req2'], [2.705757621493672, 3, 'CACHE1', 'req2'], [2.7733087201869173, 1, 'CACHE1', 'req3'], [4.202774516863052, 2, 'SISTEMA', 'req1'], [4.627037722342138, 3, 'TIMEOUT_req2', 'req2']]\n",
            "-------- \n",
            "\n",
            "\n",
            "\n",
            "Evento: [1.8073257590593041, 1, 'CACHE2', 'req3']\n",
            "\n",
            "No tempo 1.8073257590593041 a requisição do tipo 1 chega na cache 2\n",
            "Estado atual cache 2:[3, 1]\n",
            "Cache possui requisição!\n",
            "Cache permanece inalterada.\n",
            "Requisição req3 será atendida em 0.06434307966843116 segundos\n",
            "\n",
            "Próximos eventos: [[1.8716688387277354, 1, 'REQUISICAO_ATENDIDA_C2', 'req3'], [1.8868748361909873, 3, 'SISTEMA', 'req4'], [2.1133704818984347, 1, 'REQUISICAO_ATENDIDA_SERVIDOR_ALTER', 'req0'], [2.1572932807120493, 1, 'TIMEOUT_req3', 'req3'], [2.493231406039793, 1, 'SISTEMA', 'req5'], [2.6086389988269993, 3, 'CACHE2', 'req2'], [2.705757621493672, 3, 'CACHE1', 'req2'], [2.7733087201869173, 1, 'CACHE1', 'req3'], [4.202774516863052, 2, 'SISTEMA', 'req1'], [4.627037722342138, 3, 'TIMEOUT_req2', 'req2']]\n",
            "-------- \n",
            "\n",
            "\n",
            "\n",
            "Evento: [1.8716688387277354, 1, 'REQUISICAO_ATENDIDA_C2', 'req3']\n",
            "\n",
            "No tempo 1.8716688387277354 a requisição req3 do conteúdo 1 foi atendida pela cache 2\n",
            "Requisições ['req0'] atendidas pois também eram para o conteúdo 1\n",
            "\n",
            "Próximos eventos: [[1.8868748361909873, 3, 'SISTEMA', 'req4'], [2.493231406039793, 1, 'SISTEMA', 'req5'], [2.6086389988269993, 3, 'CACHE2', 'req2'], [2.705757621493672, 3, 'CACHE1', 'req2'], [4.202774516863052, 2, 'SISTEMA', 'req1'], [4.627037722342138, 3, 'TIMEOUT_req2', 'req2']]\n",
            "-------- \n",
            "\n",
            "\n",
            "\n",
            "Evento: [1.8868748361909873, 3, 'SISTEMA', 'req4']\n",
            "\n",
            "No tempo 1.8868748361909873 cliente faz requisição 'req4' do conteúdo 3\n",
            "\n",
            "Timer req4 = 0.43048290926369115\n",
            "Canal 1 funcionou! Requisição seguirá para a cache 1 e cherará em 0.6115365875892435 segundos\n",
            "Canal 2 funcionou! Requisição seguirá para a cache 2 e cherará em 0.5457102998885391 segundos\n",
            "\n",
            "Próximos eventos: [[2.3173577454546783, 3, 'TIMEOUT_req4', 'req4'], [2.4325851360795263, 3, 'CACHE2', 'req4'], [2.493231406039793, 1, 'SISTEMA', 'req5'], [2.498411423780231, 3, 'CACHE1', 'req4'], [2.6086389988269993, 3, 'CACHE2', 'req2'], [2.705757621493672, 3, 'CACHE1', 'req2'], [3.630654411252074, 3, 'SISTEMA', 'req6'], [4.202774516863052, 2, 'SISTEMA', 'req1'], [4.627037722342138, 3, 'TIMEOUT_req2', 'req2']]\n",
            "-------- \n",
            "\n",
            "\n",
            "\n",
            "Evento: [2.3173577454546783, 3, 'TIMEOUT_req4', 'req4']\n",
            "\n",
            "No tempo 2.3173577454546783 timeout para a requisição req4\n",
            "Requisição seguirá para o Servidor Alternativo e voltará em 0.16730344837572425 segundos\n",
            "\n",
            "Próximos eventos: [[2.4846611938304024, 3, 'REQUISICAO_ATENDIDA_SERVIDOR_ALTER', 'req4'], [2.493231406039793, 1, 'SISTEMA', 'req5'], [2.6086389988269993, 3, 'CACHE2', 'req2'], [2.705757621493672, 3, 'CACHE1', 'req2'], [3.630654411252074, 3, 'SISTEMA', 'req6'], [4.202774516863052, 2, 'SISTEMA', 'req1'], [4.627037722342138, 3, 'TIMEOUT_req2', 'req2']]\n",
            "-------- \n",
            "\n",
            "\n",
            "\n",
            "Evento: [2.4846611938304024, 3, 'REQUISICAO_ATENDIDA_SERVIDOR_ALTER', 'req4']\n",
            "\n",
            "Requisição  atendida pelo servidor alternativo\n",
            "Requisições ['req2'] atendidas pois também eram para o conteúdo 3\n",
            "\n",
            "Próximos eventos: [[2.493231406039793, 1, 'SISTEMA', 'req5'], [3.630654411252074, 3, 'SISTEMA', 'req6'], [4.202774516863052, 2, 'SISTEMA', 'req1']]\n",
            "-------- \n",
            "\n",
            "\n",
            "\n",
            "Evento: [2.493231406039793, 1, 'SISTEMA', 'req5']\n",
            "\n",
            "No tempo 2.493231406039793 cliente faz requisição 'req5' do conteúdo 1\n",
            "\n",
            "Timer req5 = 0.1563026277404386\n",
            "Canal 1 funcionou! Requisição seguirá para a cache 1 e cherará em 0.1553419138341049 segundos\n",
            "Canal 2 funcionou! Requisição seguirá para a cache 2 e cherará em 0.0400671921181119 segundos\n",
            "\n",
            "Próximos eventos: [[2.533298598157905, 1, 'CACHE2', 'req5'], [2.648573319873898, 1, 'CACHE1', 'req5'], [2.6495340337802316, 1, 'TIMEOUT_req5', 'req5'], [3.630654411252074, 3, 'SISTEMA', 'req6'], [4.169374557209378, 1, 'SISTEMA', 'req7'], [4.202774516863052, 2, 'SISTEMA', 'req1']]\n",
            "-------- \n",
            "\n",
            "\n",
            "\n",
            "Evento: [2.533298598157905, 1, 'CACHE2', 'req5']\n",
            "\n",
            "No tempo 2.533298598157905 a requisição do tipo 1 chega na cache 2\n",
            "Estado atual cache 2:[3, 1]\n",
            "Cache possui requisição!\n",
            "Cache permanece inalterada.\n",
            "Requisição req5 será atendida em 0.12393300207045371 segundos\n",
            "\n",
            "Próximos eventos: [[2.648573319873898, 1, 'CACHE1', 'req5'], [2.6495340337802316, 1, 'TIMEOUT_req5', 'req5'], [2.6572316002283585, 1, 'REQUISICAO_ATENDIDA_C2', 'req5'], [3.630654411252074, 3, 'SISTEMA', 'req6'], [4.169374557209378, 1, 'SISTEMA', 'req7'], [4.202774516863052, 2, 'SISTEMA', 'req1']]\n",
            "-------- \n",
            "\n",
            "\n",
            "\n",
            "Evento: [2.648573319873898, 1, 'CACHE1', 'req5']\n",
            "\n",
            " No tempo 2.648573319873898 a requisição 'req5 do conteúdo 1 chega na cache 1\n",
            "Estado atual cache 1:[2, 3]\n",
            "Cache não possui conteúdo da requisição )=\n",
            "\n",
            "Próximos eventos: [[2.6495340337802316, 1, 'TIMEOUT_req5', 'req5'], [2.6572316002283585, 1, 'REQUISICAO_ATENDIDA_C2', 'req5'], [3.0442958816159367, 1, 'CACHE1_SERVIDOR', 'req5'], [3.630654411252074, 3, 'SISTEMA', 'req6'], [4.169374557209378, 1, 'SISTEMA', 'req7'], [4.202774516863052, 2, 'SISTEMA', 'req1']]\n",
            "-------- \n",
            "\n",
            "\n",
            "\n",
            "Evento: [2.6495340337802316, 1, 'TIMEOUT_req5', 'req5']\n",
            "\n",
            "No tempo 2.6495340337802316 timeout para a requisição req5\n",
            "Requisição seguirá para o Servidor Alternativo e voltará em 0.1439938705453856 segundos\n",
            "\n",
            "Próximos eventos: [[2.793527904325617, 1, 'REQUISICAO_ATENDIDA_SERVIDOR_ALTER', 'req5'], [3.630654411252074, 3, 'SISTEMA', 'req6'], [4.169374557209378, 1, 'SISTEMA', 'req7'], [4.202774516863052, 2, 'SISTEMA', 'req1']]\n",
            "-------- \n",
            "\n",
            "\n",
            "\n",
            "Evento: [2.793527904325617, 1, 'REQUISICAO_ATENDIDA_SERVIDOR_ALTER', 'req5']\n",
            "\n",
            "Requisição  atendida pelo servidor alternativo\n",
            "\n",
            "Próximos eventos: [[3.630654411252074, 3, 'SISTEMA', 'req6'], [4.169374557209378, 1, 'SISTEMA', 'req7'], [4.202774516863052, 2, 'SISTEMA', 'req1']]\n",
            "-------- \n",
            "\n",
            "\n",
            "\n",
            "Evento: [3.630654411252074, 3, 'SISTEMA', 'req6']\n",
            "\n",
            "No tempo 3.630654411252074 cliente faz requisição 'req6' do conteúdo 3\n",
            "\n",
            "Timer req6 = 0.5908231096666084\n",
            "Canal 1 funcionou! Requisição seguirá para a cache 1 e cherará em 0.30358502804741694 segundos\n",
            "Canal 2 funcionou! Requisição seguirá para a cache 2 e cherará em 0.12316041606683722 segundos\n",
            "\n",
            "Próximos eventos: [[3.7538148273189114, 3, 'CACHE2', 'req6'], [3.934239439299491, 3, 'CACHE1', 'req6'], [4.169374557209378, 1, 'SISTEMA', 'req7'], [4.202774516863052, 2, 'SISTEMA', 'req1'], [4.221477520918683, 3, 'TIMEOUT_req6', 'req6'], [7.298457551796079, 3, 'SISTEMA', 'req8']]\n",
            "-------- \n",
            "\n",
            "\n",
            "\n",
            "Evento: [3.7538148273189114, 3, 'CACHE2', 'req6']\n",
            "\n",
            "No tempo 3.7538148273189114 a requisição do tipo 3 chega na cache 2\n",
            "Estado atual cache 2:[3, 1]\n",
            "Cache possui requisição!\n",
            "Cache permanece inalterada.\n",
            "Requisição req6 será atendida em 0.017194869375893686 segundos\n",
            "\n",
            "Próximos eventos: [[3.7710096966948052, 3, 'REQUISICAO_ATENDIDA_C2', 'req6'], [3.934239439299491, 3, 'CACHE1', 'req6'], [4.169374557209378, 1, 'SISTEMA', 'req7'], [4.202774516863052, 2, 'SISTEMA', 'req1'], [4.221477520918683, 3, 'TIMEOUT_req6', 'req6'], [7.298457551796079, 3, 'SISTEMA', 'req8']]\n",
            "-------- \n",
            "\n",
            "\n",
            "\n",
            "Evento: [3.7710096966948052, 3, 'REQUISICAO_ATENDIDA_C2', 'req6']\n",
            "\n",
            "No tempo 3.7710096966948052 a requisição req6 do conteúdo 3 foi atendida pela cache 2\n",
            "\n",
            "Próximos eventos: [[4.169374557209378, 1, 'SISTEMA', 'req7'], [4.202774516863052, 2, 'SISTEMA', 'req1'], [7.298457551796079, 3, 'SISTEMA', 'req8']]\n",
            "-------- \n",
            "\n",
            "\n",
            "\n",
            "Evento: [4.169374557209378, 1, 'SISTEMA', 'req7']\n",
            "\n",
            "No tempo 4.169374557209378 cliente faz requisição 'req7' do conteúdo 1\n",
            "\n",
            "Timer req7 = 0.8647535107974442\n",
            "Canal 1 funcionou! Requisição seguirá para a cache 1 e cherará em 0.7009552293238929 segundos\n",
            "Canal 2 funcionou! Requisição seguirá para a cache 2 e cherará em 0.1058207635677726 segundos\n",
            "\n",
            "Próximos eventos: [[4.202774516863052, 2, 'SISTEMA', 'req1'], [4.275195320777151, 1, 'CACHE2', 'req7'], [4.87032978653327, 1, 'CACHE1', 'req7'], [5.034128068006822, 1, 'TIMEOUT_req7', 'req7'], [6.411243057039393, 1, 'SISTEMA', 'req9'], [7.298457551796079, 3, 'SISTEMA', 'req8']]\n",
            "-------- \n",
            "\n",
            "\n",
            "\n",
            "Evento: [4.202774516863052, 2, 'SISTEMA', 'req1']\n",
            "\n",
            "No tempo 4.202774516863052 cliente faz requisição 'req1' do conteúdo 2\n",
            "\n",
            "Timer req1 = 1.13916243894584\n",
            "Canal 1 funcionou! Requisição seguirá para a cache 1 e cherará em 1.1411011986836666 segundos\n",
            "Canal 2 não funcionou!\n",
            "\n",
            "Próximos eventos: [[4.275195320777151, 1, 'CACHE2', 'req7'], [4.87032978653327, 1, 'CACHE1', 'req7'], [5.034128068006822, 1, 'TIMEOUT_req7', 'req7'], [5.341936955808892, 2, 'TIMEOUT_req1', 'req1'], [5.3438757155467185, 2, 'CACHE1', 'req1'], [6.411243057039393, 1, 'SISTEMA', 'req9'], [7.298457551796079, 3, 'SISTEMA', 'req8'], [10.42429356390709, 2, 'SISTEMA', 'req10']]\n",
            "-------- \n",
            "\n",
            "\n",
            "\n",
            "Evento: [4.275195320777151, 1, 'CACHE2', 'req7']\n",
            "\n",
            "No tempo 4.275195320777151 a requisição do tipo 1 chega na cache 2\n",
            "Estado atual cache 2:[3, 1]\n",
            "Cache possui requisição!\n",
            "Cache permanece inalterada.\n",
            "Requisição req7 será atendida em 1.8616436658710218 segundos\n",
            "\n",
            "Próximos eventos: [[4.87032978653327, 1, 'CACHE1', 'req7'], [5.034128068006822, 1, 'TIMEOUT_req7', 'req7'], [5.341936955808892, 2, 'TIMEOUT_req1', 'req1'], [5.3438757155467185, 2, 'CACHE1', 'req1'], [6.136838986648172, 1, 'REQUISICAO_ATENDIDA_C2', 'req7'], [6.411243057039393, 1, 'SISTEMA', 'req9'], [7.298457551796079, 3, 'SISTEMA', 'req8'], [10.42429356390709, 2, 'SISTEMA', 'req10']]\n",
            "-------- \n",
            "\n",
            "\n",
            "\n",
            "Evento: [4.87032978653327, 1, 'CACHE1', 'req7']\n",
            "\n",
            " No tempo 4.87032978653327 a requisição 'req7 do conteúdo 1 chega na cache 1\n",
            "Estado atual cache 1:[2, 3]\n",
            "Cache não possui conteúdo da requisição )=\n",
            "\n",
            "Próximos eventos: [[5.034128068006822, 1, 'TIMEOUT_req7', 'req7'], [5.341936955808892, 2, 'TIMEOUT_req1', 'req1'], [5.3438757155467185, 2, 'CACHE1', 'req1'], [6.136838986648172, 1, 'REQUISICAO_ATENDIDA_C2', 'req7'], [6.411243057039393, 1, 'SISTEMA', 'req9'], [6.740706291945055, 1, 'CACHE1_SERVIDOR', 'req7'], [7.298457551796079, 3, 'SISTEMA', 'req8'], [10.42429356390709, 2, 'SISTEMA', 'req10']]\n",
            "-------- \n",
            "\n",
            "\n",
            "\n",
            "Evento: [5.034128068006822, 1, 'TIMEOUT_req7', 'req7']\n",
            "\n",
            "No tempo 5.034128068006822 timeout para a requisição req7\n",
            "Requisição seguirá para o Servidor Alternativo e voltará em 2.1301401407960485 segundos\n",
            "\n",
            "Próximos eventos: [[5.341936955808892, 2, 'TIMEOUT_req1', 'req1'], [5.3438757155467185, 2, 'CACHE1', 'req1'], [6.411243057039393, 1, 'SISTEMA', 'req9'], [7.164268208802871, 1, 'REQUISICAO_ATENDIDA_SERVIDOR_ALTER', 'req7'], [7.298457551796079, 3, 'SISTEMA', 'req8'], [10.42429356390709, 2, 'SISTEMA', 'req10']]\n",
            "-------- \n",
            "\n",
            "\n",
            "\n",
            "Evento: [5.341936955808892, 2, 'TIMEOUT_req1', 'req1']\n",
            "\n",
            "No tempo 5.341936955808892 timeout para a requisição req1\n",
            "Requisição seguirá para o Servidor Alternativo e voltará em 0.08455680257942692 segundos\n",
            "\n",
            "Próximos eventos: [[5.426493758388319, 2, 'REQUISICAO_ATENDIDA_SERVIDOR_ALTER', 'req1'], [6.411243057039393, 1, 'SISTEMA', 'req9'], [7.164268208802871, 1, 'REQUISICAO_ATENDIDA_SERVIDOR_ALTER', 'req7'], [7.298457551796079, 3, 'SISTEMA', 'req8'], [10.42429356390709, 2, 'SISTEMA', 'req10']]\n",
            "-------- \n",
            "\n",
            "\n",
            "\n",
            "Evento: [5.426493758388319, 2, 'REQUISICAO_ATENDIDA_SERVIDOR_ALTER', 'req1']\n",
            "\n",
            "Requisição  atendida pelo servidor alternativo\n",
            "\n",
            "Próximos eventos: [[6.411243057039393, 1, 'SISTEMA', 'req9'], [7.164268208802871, 1, 'REQUISICAO_ATENDIDA_SERVIDOR_ALTER', 'req7'], [7.298457551796079, 3, 'SISTEMA', 'req8'], [10.42429356390709, 2, 'SISTEMA', 'req10']]\n",
            "-------- \n",
            "\n",
            "\n",
            "\n",
            "Evento: [6.411243057039393, 1, 'SISTEMA', 'req9']\n",
            "\n",
            "No tempo 6.411243057039393 cliente faz requisição 'req9' do conteúdo 1\n",
            "\n",
            "Timer req9 = 0.38239066032258395\n",
            "Canal 1 funcionou! Requisição seguirá para a cache 1 e cherará em 2.0006609363657843 segundos\n",
            "Canal 2 funcionou! Requisição seguirá para a cache 2 e cherará em 0.317785242694986 segundos\n",
            "\n",
            "Próximos eventos: [[6.729028299734378, 1, 'CACHE2', 'req9'], [6.793633717361977, 1, 'TIMEOUT_req9', 'req9'], [7.164268208802871, 1, 'REQUISICAO_ATENDIDA_SERVIDOR_ALTER', 'req7'], [7.298457551796079, 3, 'SISTEMA', 'req8'], [8.411903993405177, 1, 'CACHE1', 'req9'], [9.449559723018417, 1, 'SISTEMA', 'req11'], [10.42429356390709, 2, 'SISTEMA', 'req10']]\n",
            "-------- \n",
            "\n",
            "\n",
            "\n",
            "Evento: [6.729028299734378, 1, 'CACHE2', 'req9']\n",
            "\n",
            "No tempo 6.729028299734378 a requisição do tipo 1 chega na cache 2\n",
            "Estado atual cache 2:[3, 1]\n",
            "Cache possui requisição!\n",
            "Cache permanece inalterada.\n",
            "Requisição req9 será atendida em 1.5176525767435216 segundos\n",
            "\n",
            "Próximos eventos: [[6.793633717361977, 1, 'TIMEOUT_req9', 'req9'], [7.164268208802871, 1, 'REQUISICAO_ATENDIDA_SERVIDOR_ALTER', 'req7'], [7.298457551796079, 3, 'SISTEMA', 'req8'], [8.2466808764779, 1, 'REQUISICAO_ATENDIDA_C2', 'req9'], [8.411903993405177, 1, 'CACHE1', 'req9'], [9.449559723018417, 1, 'SISTEMA', 'req11'], [10.42429356390709, 2, 'SISTEMA', 'req10']]\n",
            "-------- \n",
            "\n",
            "\n",
            "\n",
            "Evento: [6.793633717361977, 1, 'TIMEOUT_req9', 'req9']\n",
            "\n",
            "No tempo 6.793633717361977 timeout para a requisição req9\n",
            "Requisição seguirá para o Servidor Alternativo e voltará em 2.437866689823735 segundos\n",
            "\n",
            "Próximos eventos: [[7.164268208802871, 1, 'REQUISICAO_ATENDIDA_SERVIDOR_ALTER', 'req7'], [7.298457551796079, 3, 'SISTEMA', 'req8'], [9.231500407185711, 1, 'REQUISICAO_ATENDIDA_SERVIDOR_ALTER', 'req9'], [9.449559723018417, 1, 'SISTEMA', 'req11'], [10.42429356390709, 2, 'SISTEMA', 'req10']]\n",
            "-------- \n",
            "\n",
            "\n",
            "\n",
            "Evento: [7.164268208802871, 1, 'REQUISICAO_ATENDIDA_SERVIDOR_ALTER', 'req7']\n",
            "\n",
            "Requisição  atendida pelo servidor alternativo\n",
            "Requisições ['req9'] atendidas pois também eram para o conteúdo 1\n",
            "\n",
            "Próximos eventos: [[7.298457551796079, 3, 'SISTEMA', 'req8'], [9.449559723018417, 1, 'SISTEMA', 'req11'], [10.42429356390709, 2, 'SISTEMA', 'req10']]\n",
            "-------- \n",
            "\n",
            "\n",
            "\n",
            "Evento: [7.298457551796079, 3, 'SISTEMA', 'req8']\n",
            "\n",
            "No tempo 7.298457551796079 cliente faz requisição 'req8' do conteúdo 3\n",
            "\n",
            "Timer req8 = 0.9785194549967555\n",
            "Canal 1 não funcionou!\n",
            "Canal 2 funcionou! Requisição seguirá para a cache 2 e cherará em 0.02586497875089767 segundos\n",
            "\n",
            "Próximos eventos: [[7.324322530546977, 3, 'CACHE2', 'req8'], [8.276977006792835, 3, 'TIMEOUT_req8', 'req8'], [9.207855731850785, 3, 'SISTEMA', 'req12'], [9.449559723018417, 1, 'SISTEMA', 'req11'], [10.42429356390709, 2, 'SISTEMA', 'req10']]\n",
            "-------- \n",
            "\n",
            "\n",
            "\n",
            "Evento: [7.324322530546977, 3, 'CACHE2', 'req8']\n",
            "\n",
            "No tempo 7.324322530546977 a requisição do tipo 3 chega na cache 2\n",
            "Estado atual cache 2:[3, 1]\n",
            "Cache possui requisição!\n",
            "Cache permanece inalterada.\n",
            "Requisição req8 será atendida em 1.5833566043061076 segundos\n",
            "\n",
            "Próximos eventos: [[8.276977006792835, 3, 'TIMEOUT_req8', 'req8'], [8.907679134853083, 3, 'REQUISICAO_ATENDIDA_C2', 'req8'], [9.207855731850785, 3, 'SISTEMA', 'req12'], [9.449559723018417, 1, 'SISTEMA', 'req11'], [10.42429356390709, 2, 'SISTEMA', 'req10']]\n",
            "-------- \n",
            "\n",
            "\n",
            "\n",
            "Evento: [8.276977006792835, 3, 'TIMEOUT_req8', 'req8']\n",
            "\n",
            "No tempo 8.276977006792835 timeout para a requisição req8\n",
            "Requisição seguirá para o Servidor Alternativo e voltará em 1.3674548381061635 segundos\n",
            "\n",
            "Próximos eventos: [[9.207855731850785, 3, 'SISTEMA', 'req12'], [9.449559723018417, 1, 'SISTEMA', 'req11'], [9.644431844899, 3, 'REQUISICAO_ATENDIDA_SERVIDOR_ALTER', 'req8'], [10.42429356390709, 2, 'SISTEMA', 'req10']]\n",
            "-------- \n",
            "\n",
            "\n",
            "\n",
            "Evento: [9.207855731850785, 3, 'SISTEMA', 'req12']\n",
            "\n",
            "No tempo 9.207855731850785 cliente faz requisição 'req12' do conteúdo 3\n",
            "\n",
            "Timer req12 = 0.6474795212911211\n",
            "Canal 1 funcionou! Requisição seguirá para a cache 1 e cherará em 0.016656771338954515 segundos\n",
            "Canal 2 funcionou! Requisição seguirá para a cache 2 e cherará em 0.4101787428676242 segundos\n",
            "\n",
            "Próximos eventos: [[9.22451250318974, 3, 'CACHE1', 'req12'], [9.449559723018417, 1, 'SISTEMA', 'req11'], [9.618034474718408, 3, 'CACHE2', 'req12'], [9.644431844899, 3, 'REQUISICAO_ATENDIDA_SERVIDOR_ALTER', 'req8'], [9.855335253141906, 3, 'TIMEOUT_req12', 'req12'], [10.23696464327015, 3, 'SISTEMA', 'req13'], [10.42429356390709, 2, 'SISTEMA', 'req10']]\n",
            "-------- \n",
            "\n",
            "\n",
            "\n",
            "Evento: [9.22451250318974, 3, 'CACHE1', 'req12']\n",
            "\n",
            " No tempo 9.22451250318974 a requisição 'req12 do conteúdo 3 chega na cache 1\n",
            "Estado atual cache 1:[2, 3]\n",
            "Cache possui requisição!\n",
            "Cache permanece inalterada.\n",
            "Requisição req12 será atendida em 0.8318086157412654 segundos\n",
            "\n",
            "Próximos eventos: [[9.449559723018417, 1, 'SISTEMA', 'req11'], [9.618034474718408, 3, 'CACHE2', 'req12'], [9.644431844899, 3, 'REQUISICAO_ATENDIDA_SERVIDOR_ALTER', 'req8'], [9.855335253141906, 3, 'TIMEOUT_req12', 'req12'], [10.056321118931004, 3, 'REQUISICAO_ATENDIDA_C1', 'req12'], [10.23696464327015, 3, 'SISTEMA', 'req13'], [10.42429356390709, 2, 'SISTEMA', 'req10']]\n",
            "-------- \n",
            "\n",
            "\n",
            "\n",
            "Evento: [9.449559723018417, 1, 'SISTEMA', 'req11']\n",
            "\n",
            "No tempo 9.449559723018417 cliente faz requisição 'req11' do conteúdo 1\n",
            "\n",
            "Timer req11 = 2.0006035231273978\n",
            "Canal 1 funcionou! Requisição seguirá para a cache 1 e cherará em 0.39798676590180393 segundos\n",
            "Canal 2 funcionou! Requisição seguirá para a cache 2 e cherará em 0.034106868082411784 segundos\n",
            "\n",
            "Próximos eventos: [[9.48366659110083, 1, 'CACHE2', 'req11'], [9.618034474718408, 3, 'CACHE2', 'req12'], [9.644431844899, 3, 'REQUISICAO_ATENDIDA_SERVIDOR_ALTER', 'req8'], [9.847546488920221, 1, 'CACHE1', 'req11'], [9.855335253141906, 3, 'TIMEOUT_req12', 'req12'], [10.056321118931004, 3, 'REQUISICAO_ATENDIDA_C1', 'req12'], [10.23696464327015, 3, 'SISTEMA', 'req13'], [10.42429356390709, 2, 'SISTEMA', 'req10'], [10.805033757660517, 1, 'SISTEMA', 'req14'], [11.450163246145815, 1, 'TIMEOUT_req11', 'req11']]\n",
            "-------- \n",
            "\n",
            "\n",
            "\n",
            "Evento: [9.48366659110083, 1, 'CACHE2', 'req11']\n",
            "\n",
            "No tempo 9.48366659110083 a requisição do tipo 1 chega na cache 2\n",
            "Estado atual cache 2:[3, 1]\n",
            "Cache possui requisição!\n",
            "Cache permanece inalterada.\n",
            "Requisição req11 será atendida em 1.0155853466953173 segundos\n",
            "\n",
            "Próximos eventos: [[9.618034474718408, 3, 'CACHE2', 'req12'], [9.644431844899, 3, 'REQUISICAO_ATENDIDA_SERVIDOR_ALTER', 'req8'], [9.847546488920221, 1, 'CACHE1', 'req11'], [9.855335253141906, 3, 'TIMEOUT_req12', 'req12'], [10.056321118931004, 3, 'REQUISICAO_ATENDIDA_C1', 'req12'], [10.23696464327015, 3, 'SISTEMA', 'req13'], [10.42429356390709, 2, 'SISTEMA', 'req10'], [10.499251937796148, 1, 'REQUISICAO_ATENDIDA_C2', 'req11'], [10.805033757660517, 1, 'SISTEMA', 'req14'], [11.450163246145815, 1, 'TIMEOUT_req11', 'req11']]\n",
            "-------- \n",
            "\n",
            "\n",
            "\n",
            "Evento: [9.618034474718408, 3, 'CACHE2', 'req12']\n",
            "\n",
            "No tempo 9.618034474718408 a requisição do tipo 3 chega na cache 2\n",
            "Estado atual cache 2:[3, 1]\n",
            "Cache possui requisição!\n",
            "Cache permanece inalterada.\n",
            "Requisição req12 será atendida em 3.518129593262587 segundos\n",
            "\n",
            "Próximos eventos: [[9.644431844899, 3, 'REQUISICAO_ATENDIDA_SERVIDOR_ALTER', 'req8'], [9.847546488920221, 1, 'CACHE1', 'req11'], [9.855335253141906, 3, 'TIMEOUT_req12', 'req12'], [10.056321118931004, 3, 'REQUISICAO_ATENDIDA_C1', 'req12'], [10.23696464327015, 3, 'SISTEMA', 'req13'], [10.42429356390709, 2, 'SISTEMA', 'req10'], [10.499251937796148, 1, 'REQUISICAO_ATENDIDA_C2', 'req11'], [10.805033757660517, 1, 'SISTEMA', 'req14'], [11.450163246145815, 1, 'TIMEOUT_req11', 'req11'], [13.136164067980996, 3, 'REQUISICAO_ATENDIDA_C2', 'req12']]\n",
            "-------- \n",
            "\n",
            "\n",
            "\n",
            "Evento: [9.644431844899, 3, 'REQUISICAO_ATENDIDA_SERVIDOR_ALTER', 'req8']\n",
            "\n",
            "Requisição  atendida pelo servidor alternativo\n",
            "Requisições ['req12'] atendidas pois também eram para o conteúdo 3\n",
            "\n",
            "Próximos eventos: [[9.847546488920221, 1, 'CACHE1', 'req11'], [10.23696464327015, 3, 'SISTEMA', 'req13'], [10.42429356390709, 2, 'SISTEMA', 'req10'], [10.499251937796148, 1, 'REQUISICAO_ATENDIDA_C2', 'req11'], [10.805033757660517, 1, 'SISTEMA', 'req14'], [11.450163246145815, 1, 'TIMEOUT_req11', 'req11']]\n",
            "-------- \n",
            "\n",
            "\n",
            "\n",
            "{'req0': [1.269644027105562], 'req3': [0.20413058588462207], 'req6': [0.14035528544273124], 'req2': [0.9577931378629594], 'req4': [0.5977863576394151], 'req5': [0.30029649828582405], 'req1': [1.2237192415252673], 'req7': [2.994893651593493], 'req9': [0.7530251517634783], 'req8': [2.3459742931029206], 'req12': [0.43657611304821486]}\n",
            "\n",
            "\n"
          ],
          "name": "stdout"
        },
        {
          "output_type": "execute_result",
          "data": {
            "text/plain": [
              "1.0203813039322263"
            ]
          },
          "metadata": {
            "tags": []
          },
          "execution_count": 314
        }
      ]
    },
    {
      "cell_type": "markdown",
      "metadata": {
        "id": "z0EPxnXI1i5L"
      },
      "source": [
        "### Simulação caso LRU"
      ]
    },
    {
      "cell_type": "code",
      "metadata": {
        "colab": {
          "base_uri": "https://localhost:8080/"
        },
        "id": "-9Ub4SO01i5L",
        "outputId": "f031228e-06f9-4000-ba5e-723f827bc88e"
      },
      "source": [
        "simulacaoCenario3_4(10,\"LRU\", 3, 2 , [1/3,1/3,1/3], teta = 1, depurar = True)"
      ],
      "execution_count": null,
      "outputs": [
        {
          "output_type": "stream",
          "text": [
            "[[0.48160085687187415, 2, 'SISTEMA', 'req1'], [0.7804954506249204, 3, 'SISTEMA', 'req2'], [4.898096834080155, 1, 'SISTEMA', 'req0']]\n",
            "\n",
            "\n",
            "Evento: [0.48160085687187415, 2, 'SISTEMA', 'req1']\n",
            "\n",
            "No tempo 0.48160085687187415 cliente faz requisição 'req1' do conteúdo 2\n",
            "\n",
            "Timer req1 = 0.10757822815731652\n",
            "Canal 1 funcionou! Requisição seguirá para a cache 1 e cherará em 2.7778447976780845 segundos\n",
            "Canal 2 funcionou! Requisição seguirá para a cache 2 e cherará em 3.003236663433431 segundos\n",
            "\n",
            "Próximos eventos: [[0.5891790850291907, 2, 'TIMEOUT_req1', 'req1'], [0.7804954506249204, 3, 'SISTEMA', 'req2'], [3.2594456545499586, 2, 'CACHE1', 'req1'], [3.4848375203053052, 2, 'CACHE2', 'req1'], [4.534667776794088, 2, 'SISTEMA', 'req3'], [4.898096834080155, 1, 'SISTEMA', 'req0']]\n",
            "-------- \n",
            "\n",
            "\n",
            "\n",
            "Evento: [0.5891790850291907, 2, 'TIMEOUT_req1', 'req1']\n",
            "\n",
            "No tempo 0.5891790850291907 timeout para a requisição req1\n",
            "Requisição seguirá para o Servidor Alternativo e voltará em 0.06033067813192369 segundos\n",
            "\n",
            "Próximos eventos: [[0.6495097631611144, 2, 'REQUISICAO_ATENDIDA_SERVIDOR_ALTER', 'req1'], [0.7804954506249204, 3, 'SISTEMA', 'req2'], [4.534667776794088, 2, 'SISTEMA', 'req3'], [4.898096834080155, 1, 'SISTEMA', 'req0']]\n",
            "-------- \n",
            "\n",
            "\n",
            "\n",
            "Evento: [0.6495097631611144, 2, 'REQUISICAO_ATENDIDA_SERVIDOR_ALTER', 'req1']\n",
            "\n",
            "Requisição  atendida pelo servidor alternativo\n",
            "\n",
            "Próximos eventos: [[0.7804954506249204, 3, 'SISTEMA', 'req2'], [4.534667776794088, 2, 'SISTEMA', 'req3'], [4.898096834080155, 1, 'SISTEMA', 'req0']]\n",
            "-------- \n",
            "\n",
            "\n",
            "\n",
            "Evento: [0.7804954506249204, 3, 'SISTEMA', 'req2']\n",
            "\n",
            "No tempo 0.7804954506249204 cliente faz requisição 'req2' do conteúdo 3\n",
            "\n",
            "Timer req2 = 0.3695156571535925\n",
            "Canal 1 funcionou! Requisição seguirá para a cache 1 e cherará em 0.36168317026334174 segundos\n",
            "Canal 2 funcionou! Requisição seguirá para a cache 2 e cherará em 0.3263419896486358 segundos\n",
            "\n",
            "Próximos eventos: [[0.9984171699331432, 3, 'SISTEMA', 'req4'], [1.1068374402735563, 3, 'CACHE2', 'req2'], [1.142178620888262, 3, 'CACHE1', 'req2'], [1.150011107778513, 3, 'TIMEOUT_req2', 'req2'], [4.534667776794088, 2, 'SISTEMA', 'req3'], [4.898096834080155, 1, 'SISTEMA', 'req0']]\n",
            "-------- \n",
            "\n",
            "\n",
            "\n",
            "Evento: [0.9984171699331432, 3, 'SISTEMA', 'req4']\n",
            "\n",
            "No tempo 0.9984171699331432 cliente faz requisição 'req4' do conteúdo 3\n",
            "\n",
            "Timer req4 = 0.3372140980667145\n",
            "Canal 1 funcionou! Requisição seguirá para a cache 1 e cherará em 1.2799938874405283 segundos\n",
            "Canal 2 funcionou! Requisição seguirá para a cache 2 e cherará em 0.3815240512672279 segundos\n",
            "\n",
            "Próximos eventos: [[1.1068374402735563, 3, 'CACHE2', 'req2'], [1.142178620888262, 3, 'CACHE1', 'req2'], [1.150011107778513, 3, 'TIMEOUT_req2', 'req2'], [1.3356312679998577, 3, 'TIMEOUT_req4', 'req4'], [1.379941221200371, 3, 'CACHE2', 'req4'], [2.002834932076638, 3, 'SISTEMA', 'req5'], [2.2784110573736713, 3, 'CACHE1', 'req4'], [4.534667776794088, 2, 'SISTEMA', 'req3'], [4.898096834080155, 1, 'SISTEMA', 'req0']]\n",
            "-------- \n",
            "\n",
            "\n",
            "\n",
            "Evento: [1.1068374402735563, 3, 'CACHE2', 'req2']\n",
            "\n",
            "No tempo 1.1068374402735563 a requisição do tipo 3 chega na cache 2\n",
            "Estado atual cache 2:[1, 2]\n",
            "Cache não possui conteúdo da requisição )=\n",
            "\n",
            "Próximos eventos: [[1.142178620888262, 3, 'CACHE1', 'req2'], [1.150011107778513, 3, 'TIMEOUT_req2', 'req2'], [1.3356312679998577, 3, 'TIMEOUT_req4', 'req4'], [1.379941221200371, 3, 'CACHE2', 'req4'], [2.002834932076638, 3, 'SISTEMA', 'req5'], [2.2784110573736713, 3, 'CACHE1', 'req4'], [4.5327054362458306, 3, 'CACHE2_SERVIDOR', 'req2'], [4.534667776794088, 2, 'SISTEMA', 'req3'], [4.898096834080155, 1, 'SISTEMA', 'req0']]\n",
            "-------- \n",
            "\n",
            "\n",
            "\n",
            "Evento: [1.142178620888262, 3, 'CACHE1', 'req2']\n",
            "\n",
            " No tempo 1.142178620888262 a requisição 'req2 do conteúdo 3 chega na cache 1\n",
            "Estado atual cache 1:[2, 1]\n",
            "Cache não possui conteúdo da requisição )=\n",
            "\n",
            "Próximos eventos: [[1.150011107778513, 3, 'TIMEOUT_req2', 'req2'], [1.3356312679998577, 3, 'TIMEOUT_req4', 'req4'], [1.379941221200371, 3, 'CACHE2', 'req4'], [2.002834932076638, 3, 'SISTEMA', 'req5'], [2.2697264585346115, 3, 'CACHE1_SERVIDOR', 'req2'], [2.2784110573736713, 3, 'CACHE1', 'req4'], [4.5327054362458306, 3, 'CACHE2_SERVIDOR', 'req2'], [4.534667776794088, 2, 'SISTEMA', 'req3'], [4.898096834080155, 1, 'SISTEMA', 'req0']]\n",
            "-------- \n",
            "\n",
            "\n",
            "\n",
            "Evento: [1.150011107778513, 3, 'TIMEOUT_req2', 'req2']\n",
            "\n",
            "No tempo 1.150011107778513 timeout para a requisição req2\n",
            "Requisição seguirá para o Servidor Alternativo e voltará em 1.8615005099479527 segundos\n",
            "\n",
            "Próximos eventos: [[1.3356312679998577, 3, 'TIMEOUT_req4', 'req4'], [1.379941221200371, 3, 'CACHE2', 'req4'], [2.002834932076638, 3, 'SISTEMA', 'req5'], [2.2784110573736713, 3, 'CACHE1', 'req4'], [3.0115116177264656, 3, 'REQUISICAO_ATENDIDA_SERVIDOR_ALTER', 'req2'], [4.534667776794088, 2, 'SISTEMA', 'req3'], [4.898096834080155, 1, 'SISTEMA', 'req0']]\n",
            "-------- \n",
            "\n",
            "\n",
            "\n",
            "Evento: [1.3356312679998577, 3, 'TIMEOUT_req4', 'req4']\n",
            "\n",
            "No tempo 1.3356312679998577 timeout para a requisição req4\n",
            "Requisição seguirá para o Servidor Alternativo e voltará em 0.8441374016137971 segundos\n",
            "\n",
            "Próximos eventos: [[2.002834932076638, 3, 'SISTEMA', 'req5'], [2.179768669613655, 3, 'REQUISICAO_ATENDIDA_SERVIDOR_ALTER', 'req4'], [3.0115116177264656, 3, 'REQUISICAO_ATENDIDA_SERVIDOR_ALTER', 'req2'], [4.534667776794088, 2, 'SISTEMA', 'req3'], [4.898096834080155, 1, 'SISTEMA', 'req0']]\n",
            "-------- \n",
            "\n",
            "\n",
            "\n",
            "Evento: [2.002834932076638, 3, 'SISTEMA', 'req5']\n",
            "\n",
            "No tempo 2.002834932076638 cliente faz requisição 'req5' do conteúdo 3\n",
            "\n",
            "Timer req5 = 0.8492676576331771\n",
            "Canal 1 funcionou! Requisição seguirá para a cache 1 e cherará em 0.23415071823232828 segundos\n",
            "Canal 2 funcionou! Requisição seguirá para a cache 2 e cherará em 1.6319053628978069 segundos\n",
            "\n",
            "Próximos eventos: [[2.179768669613655, 3, 'REQUISICAO_ATENDIDA_SERVIDOR_ALTER', 'req4'], [2.2369856503089665, 3, 'CACHE1', 'req5'], [2.852102589709815, 3, 'TIMEOUT_req5', 'req5'], [3.0115116177264656, 3, 'REQUISICAO_ATENDIDA_SERVIDOR_ALTER', 'req2'], [3.4653156774869673, 3, 'SISTEMA', 'req6'], [3.6347402949744447, 3, 'CACHE2', 'req5'], [4.534667776794088, 2, 'SISTEMA', 'req3'], [4.898096834080155, 1, 'SISTEMA', 'req0']]\n",
            "-------- \n",
            "\n",
            "\n",
            "\n",
            "Evento: [2.179768669613655, 3, 'REQUISICAO_ATENDIDA_SERVIDOR_ALTER', 'req4']\n",
            "\n",
            "Requisição  atendida pelo servidor alternativo\n",
            "Requisições ['req2', 'req5'] atendidas pois também eram para o conteúdo 3\n",
            "\n",
            "Próximos eventos: [[3.4653156774869673, 3, 'SISTEMA', 'req6'], [4.534667776794088, 2, 'SISTEMA', 'req3'], [4.898096834080155, 1, 'SISTEMA', 'req0']]\n",
            "-------- \n",
            "\n",
            "\n",
            "\n",
            "Evento: [3.4653156774869673, 3, 'SISTEMA', 'req6']\n",
            "\n",
            "No tempo 3.4653156774869673 cliente faz requisição 'req6' do conteúdo 3\n",
            "\n",
            "Timer req6 = 0.495901540027787\n",
            "Canal 1 funcionou! Requisição seguirá para a cache 1 e cherará em 1.2539573984425794 segundos\n",
            "Canal 2 funcionou! Requisição seguirá para a cache 2 e cherará em 0.7073215269443935 segundos\n",
            "\n",
            "Próximos eventos: [[3.961217217514754, 3, 'TIMEOUT_req6', 'req6'], [4.172637204431361, 3, 'CACHE2', 'req6'], [4.534667776794088, 2, 'SISTEMA', 'req3'], [4.7192730759295465, 3, 'CACHE1', 'req6'], [4.898096834080155, 1, 'SISTEMA', 'req0'], [6.751702826090441, 3, 'SISTEMA', 'req7']]\n",
            "-------- \n",
            "\n",
            "\n",
            "\n",
            "Evento: [3.961217217514754, 3, 'TIMEOUT_req6', 'req6']\n",
            "\n",
            "No tempo 3.961217217514754 timeout para a requisição req6\n",
            "Requisição seguirá para o Servidor Alternativo e voltará em 2.6583132233335256 segundos\n",
            "\n",
            "Próximos eventos: [[4.534667776794088, 2, 'SISTEMA', 'req3'], [4.898096834080155, 1, 'SISTEMA', 'req0'], [6.61953044084828, 3, 'REQUISICAO_ATENDIDA_SERVIDOR_ALTER', 'req6'], [6.751702826090441, 3, 'SISTEMA', 'req7']]\n",
            "-------- \n",
            "\n",
            "\n",
            "\n",
            "Evento: [4.534667776794088, 2, 'SISTEMA', 'req3']\n",
            "\n",
            "No tempo 4.534667776794088 cliente faz requisição 'req3' do conteúdo 2\n",
            "\n",
            "Timer req3 = 0.577895867666901\n",
            "Canal 1 funcionou! Requisição seguirá para a cache 1 e cherará em 3.564560762754091 segundos\n",
            "Canal 2 funcionou! Requisição seguirá para a cache 2 e cherará em 2.822473692074492 segundos\n",
            "\n",
            "Próximos eventos: [[4.898096834080155, 1, 'SISTEMA', 'req0'], [5.112563644460989, 2, 'TIMEOUT_req3', 'req3'], [6.211452826793859, 2, 'SISTEMA', 'req8'], [6.61953044084828, 3, 'REQUISICAO_ATENDIDA_SERVIDOR_ALTER', 'req6'], [6.751702826090441, 3, 'SISTEMA', 'req7'], [7.35714146886858, 2, 'CACHE2', 'req3'], [8.099228539548179, 2, 'CACHE1', 'req3']]\n",
            "-------- \n",
            "\n",
            "\n",
            "\n",
            "Evento: [4.898096834080155, 1, 'SISTEMA', 'req0']\n",
            "\n",
            "No tempo 4.898096834080155 cliente faz requisição 'req0' do conteúdo 1\n",
            "\n",
            "Timer req0 = 0.2459281272619786\n",
            "Canal 1 funcionou! Requisição seguirá para a cache 1 e cherará em 0.6215004284064419 segundos\n",
            "Canal 2 funcionou! Requisição seguirá para a cache 2 e cherará em 1.069068207762487 segundos\n",
            "\n",
            "Próximos eventos: [[5.112563644460989, 2, 'TIMEOUT_req3', 'req3'], [5.144024961342134, 1, 'TIMEOUT_req0', 'req0'], [5.519597262486597, 1, 'CACHE1', 'req0'], [5.967165041842642, 1, 'CACHE2', 'req0'], [6.211452826793859, 2, 'SISTEMA', 'req8'], [6.61953044084828, 3, 'REQUISICAO_ATENDIDA_SERVIDOR_ALTER', 'req6'], [6.751702826090441, 3, 'SISTEMA', 'req7'], [7.35714146886858, 2, 'CACHE2', 'req3'], [8.099228539548179, 2, 'CACHE1', 'req3'], [16.82840473374857, 1, 'SISTEMA', 'req9']]\n",
            "-------- \n",
            "\n",
            "\n",
            "\n",
            "Evento: [5.112563644460989, 2, 'TIMEOUT_req3', 'req3']\n",
            "\n",
            "No tempo 5.112563644460989 timeout para a requisição req3\n",
            "Requisição seguirá para o Servidor Alternativo e voltará em 0.8708251276931332 segundos\n",
            "\n",
            "Próximos eventos: [[5.144024961342134, 1, 'TIMEOUT_req0', 'req0'], [5.519597262486597, 1, 'CACHE1', 'req0'], [5.967165041842642, 1, 'CACHE2', 'req0'], [5.983388772154123, 2, 'REQUISICAO_ATENDIDA_SERVIDOR_ALTER', 'req3'], [6.211452826793859, 2, 'SISTEMA', 'req8'], [6.61953044084828, 3, 'REQUISICAO_ATENDIDA_SERVIDOR_ALTER', 'req6'], [6.751702826090441, 3, 'SISTEMA', 'req7'], [16.82840473374857, 1, 'SISTEMA', 'req9']]\n",
            "-------- \n",
            "\n",
            "\n",
            "\n",
            "Evento: [5.144024961342134, 1, 'TIMEOUT_req0', 'req0']\n",
            "\n",
            "No tempo 5.144024961342134 timeout para a requisição req0\n",
            "Requisição seguirá para o Servidor Alternativo e voltará em 1.4944266358280502 segundos\n",
            "\n",
            "Próximos eventos: [[5.983388772154123, 2, 'REQUISICAO_ATENDIDA_SERVIDOR_ALTER', 'req3'], [6.211452826793859, 2, 'SISTEMA', 'req8'], [6.61953044084828, 3, 'REQUISICAO_ATENDIDA_SERVIDOR_ALTER', 'req6'], [6.638451597170184, 1, 'REQUISICAO_ATENDIDA_SERVIDOR_ALTER', 'req0'], [6.751702826090441, 3, 'SISTEMA', 'req7'], [16.82840473374857, 1, 'SISTEMA', 'req9']]\n",
            "-------- \n",
            "\n",
            "\n",
            "\n",
            "Evento: [5.983388772154123, 2, 'REQUISICAO_ATENDIDA_SERVIDOR_ALTER', 'req3']\n",
            "\n",
            "Requisição  atendida pelo servidor alternativo\n",
            "\n",
            "Próximos eventos: [[6.211452826793859, 2, 'SISTEMA', 'req8'], [6.61953044084828, 3, 'REQUISICAO_ATENDIDA_SERVIDOR_ALTER', 'req6'], [6.638451597170184, 1, 'REQUISICAO_ATENDIDA_SERVIDOR_ALTER', 'req0'], [6.751702826090441, 3, 'SISTEMA', 'req7'], [16.82840473374857, 1, 'SISTEMA', 'req9']]\n",
            "-------- \n",
            "\n",
            "\n",
            "\n",
            "Evento: [6.211452826793859, 2, 'SISTEMA', 'req8']\n",
            "\n",
            "No tempo 6.211452826793859 cliente faz requisição 'req8' do conteúdo 2\n",
            "\n",
            "Timer req8 = 1.1349672880312587\n",
            "Canal 1 funcionou! Requisição seguirá para a cache 1 e cherará em 1.5968120759206237 segundos\n",
            "Canal 2 funcionou! Requisição seguirá para a cache 2 e cherará em 0.0598725282960821 segundos\n",
            "\n",
            "Próximos eventos: [[6.271325355089941, 2, 'CACHE2', 'req8'], [6.61953044084828, 3, 'REQUISICAO_ATENDIDA_SERVIDOR_ALTER', 'req6'], [6.638451597170184, 1, 'REQUISICAO_ATENDIDA_SERVIDOR_ALTER', 'req0'], [6.751702826090441, 3, 'SISTEMA', 'req7'], [7.346420114825118, 2, 'TIMEOUT_req8', 'req8'], [7.808264902714482, 2, 'CACHE1', 'req8'], [10.568075505999122, 2, 'SISTEMA', 'req10'], [16.82840473374857, 1, 'SISTEMA', 'req9']]\n",
            "-------- \n",
            "\n",
            "\n",
            "\n",
            "Evento: [6.271325355089941, 2, 'CACHE2', 'req8']\n",
            "\n",
            "No tempo 6.271325355089941 a requisição do tipo 2 chega na cache 2\n",
            "Estado atual cache 2:[1, 2]\n",
            "Cache possui requisição!\n",
            "Conteúdo requisitado ficará na primeira posição.\n",
            "Novo estado da cache: [2, 1]\n",
            "Requisição req8 será atendida em 1.1641300101670253 segundos\n",
            "\n",
            "Próximos eventos: [[6.61953044084828, 3, 'REQUISICAO_ATENDIDA_SERVIDOR_ALTER', 'req6'], [6.638451597170184, 1, 'REQUISICAO_ATENDIDA_SERVIDOR_ALTER', 'req0'], [6.751702826090441, 3, 'SISTEMA', 'req7'], [7.346420114825118, 2, 'TIMEOUT_req8', 'req8'], [7.435455365256966, 2, 'REQUISICAO_ATENDIDA_C2', 'req8'], [7.808264902714482, 2, 'CACHE1', 'req8'], [10.568075505999122, 2, 'SISTEMA', 'req10'], [16.82840473374857, 1, 'SISTEMA', 'req9']]\n",
            "-------- \n",
            "\n",
            "\n",
            "\n",
            "Evento: [6.61953044084828, 3, 'REQUISICAO_ATENDIDA_SERVIDOR_ALTER', 'req6']\n",
            "\n",
            "Requisição  atendida pelo servidor alternativo\n",
            "\n",
            "Próximos eventos: [[6.638451597170184, 1, 'REQUISICAO_ATENDIDA_SERVIDOR_ALTER', 'req0'], [6.751702826090441, 3, 'SISTEMA', 'req7'], [7.346420114825118, 2, 'TIMEOUT_req8', 'req8'], [7.435455365256966, 2, 'REQUISICAO_ATENDIDA_C2', 'req8'], [7.808264902714482, 2, 'CACHE1', 'req8'], [10.568075505999122, 2, 'SISTEMA', 'req10'], [16.82840473374857, 1, 'SISTEMA', 'req9']]\n",
            "-------- \n",
            "\n",
            "\n",
            "\n",
            "Evento: [6.638451597170184, 1, 'REQUISICAO_ATENDIDA_SERVIDOR_ALTER', 'req0']\n",
            "\n",
            "Requisição  atendida pelo servidor alternativo\n",
            "\n",
            "Próximos eventos: [[6.751702826090441, 3, 'SISTEMA', 'req7'], [7.346420114825118, 2, 'TIMEOUT_req8', 'req8'], [7.435455365256966, 2, 'REQUISICAO_ATENDIDA_C2', 'req8'], [7.808264902714482, 2, 'CACHE1', 'req8'], [10.568075505999122, 2, 'SISTEMA', 'req10'], [16.82840473374857, 1, 'SISTEMA', 'req9']]\n",
            "-------- \n",
            "\n",
            "\n",
            "\n",
            "Evento: [6.751702826090441, 3, 'SISTEMA', 'req7']\n",
            "\n",
            "No tempo 6.751702826090441 cliente faz requisição 'req7' do conteúdo 3\n",
            "\n",
            "Timer req7 = 0.4437545137635512\n",
            "Canal 1 funcionou! Requisição seguirá para a cache 1 e cherará em 0.4033525551846852 segundos\n",
            "Canal 2 funcionou! Requisição seguirá para a cache 2 e cherará em 0.6416165198633401 segundos\n",
            "\n",
            "Próximos eventos: [[7.155055381275126, 3, 'CACHE1', 'req7'], [7.195457339853992, 3, 'TIMEOUT_req7', 'req7'], [7.346420114825118, 2, 'TIMEOUT_req8', 'req8'], [7.393319345953781, 3, 'CACHE2', 'req7'], [7.435455365256966, 2, 'REQUISICAO_ATENDIDA_C2', 'req8'], [7.808264902714482, 2, 'CACHE1', 'req8'], [9.432169079852379, 3, 'SISTEMA', 'req11'], [10.568075505999122, 2, 'SISTEMA', 'req10'], [16.82840473374857, 1, 'SISTEMA', 'req9']]\n",
            "-------- \n",
            "\n",
            "\n",
            "\n",
            "Evento: [7.155055381275126, 3, 'CACHE1', 'req7']\n",
            "\n",
            " No tempo 7.155055381275126 a requisição 'req7 do conteúdo 3 chega na cache 1\n",
            "Estado atual cache 1:[2, 1]\n",
            "Cache não possui conteúdo da requisição )=\n",
            "\n",
            "Próximos eventos: [[7.195457339853992, 3, 'TIMEOUT_req7', 'req7'], [7.346420114825118, 2, 'TIMEOUT_req8', 'req8'], [7.393319345953781, 3, 'CACHE2', 'req7'], [7.435455365256966, 2, 'REQUISICAO_ATENDIDA_C2', 'req8'], [7.808264902714482, 2, 'CACHE1', 'req8'], [9.432169079852379, 3, 'SISTEMA', 'req11'], [10.411256648328772, 3, 'CACHE1_SERVIDOR', 'req7'], [10.568075505999122, 2, 'SISTEMA', 'req10'], [16.82840473374857, 1, 'SISTEMA', 'req9']]\n",
            "-------- \n",
            "\n",
            "\n",
            "\n",
            "Evento: [7.195457339853992, 3, 'TIMEOUT_req7', 'req7']\n",
            "\n",
            "No tempo 7.195457339853992 timeout para a requisição req7\n",
            "Requisição seguirá para o Servidor Alternativo e voltará em 2.4845518593669436 segundos\n",
            "\n",
            "Próximos eventos: [[7.346420114825118, 2, 'TIMEOUT_req8', 'req8'], [7.435455365256966, 2, 'REQUISICAO_ATENDIDA_C2', 'req8'], [7.808264902714482, 2, 'CACHE1', 'req8'], [9.432169079852379, 3, 'SISTEMA', 'req11'], [9.680009199220937, 3, 'REQUISICAO_ATENDIDA_SERVIDOR_ALTER', 'req7'], [10.568075505999122, 2, 'SISTEMA', 'req10'], [16.82840473374857, 1, 'SISTEMA', 'req9']]\n",
            "-------- \n",
            "\n",
            "\n",
            "\n",
            "Evento: [7.346420114825118, 2, 'TIMEOUT_req8', 'req8']\n",
            "\n",
            "No tempo 7.346420114825118 timeout para a requisição req8\n",
            "Requisição seguirá para o Servidor Alternativo e voltará em 0.27646718076560073 segundos\n",
            "\n",
            "Próximos eventos: [[7.6228872955907185, 2, 'REQUISICAO_ATENDIDA_SERVIDOR_ALTER', 'req8'], [9.432169079852379, 3, 'SISTEMA', 'req11'], [9.680009199220937, 3, 'REQUISICAO_ATENDIDA_SERVIDOR_ALTER', 'req7'], [10.568075505999122, 2, 'SISTEMA', 'req10'], [16.82840473374857, 1, 'SISTEMA', 'req9']]\n",
            "-------- \n",
            "\n",
            "\n",
            "\n",
            "Evento: [7.6228872955907185, 2, 'REQUISICAO_ATENDIDA_SERVIDOR_ALTER', 'req8']\n",
            "\n",
            "Requisição  atendida pelo servidor alternativo\n",
            "\n",
            "Próximos eventos: [[9.432169079852379, 3, 'SISTEMA', 'req11'], [9.680009199220937, 3, 'REQUISICAO_ATENDIDA_SERVIDOR_ALTER', 'req7'], [10.568075505999122, 2, 'SISTEMA', 'req10'], [16.82840473374857, 1, 'SISTEMA', 'req9']]\n",
            "-------- \n",
            "\n",
            "\n",
            "\n",
            "Evento: [9.432169079852379, 3, 'SISTEMA', 'req11']\n",
            "\n",
            "No tempo 9.432169079852379 cliente faz requisição 'req11' do conteúdo 3\n",
            "\n",
            "Timer req11 = 1.4890099621919906\n",
            "Canal 1 funcionou! Requisição seguirá para a cache 1 e cherará em 0.12083556183003054 segundos\n",
            "Canal 2 funcionou! Requisição seguirá para a cache 2 e cherará em 0.6192865103670875 segundos\n",
            "\n",
            "Próximos eventos: [[9.55300464168241, 3, 'CACHE1', 'req11'], [9.680009199220937, 3, 'REQUISICAO_ATENDIDA_SERVIDOR_ALTER', 'req7'], [10.051455590219467, 3, 'CACHE2', 'req11'], [10.568075505999122, 2, 'SISTEMA', 'req10'], [10.92117904204437, 3, 'TIMEOUT_req11', 'req11'], [11.10940024860245, 3, 'SISTEMA', 'req12'], [16.82840473374857, 1, 'SISTEMA', 'req9']]\n",
            "-------- \n",
            "\n",
            "\n",
            "\n",
            "Evento: [9.55300464168241, 3, 'CACHE1', 'req11']\n",
            "\n",
            " No tempo 9.55300464168241 a requisição 'req11 do conteúdo 3 chega na cache 1\n",
            "Estado atual cache 1:[2, 1]\n",
            "Cache não possui conteúdo da requisição )=\n",
            "\n",
            "Próximos eventos: [[9.680009199220937, 3, 'REQUISICAO_ATENDIDA_SERVIDOR_ALTER', 'req7'], [9.747150574109725, 3, 'CACHE1_SERVIDOR', 'req11'], [10.051455590219467, 3, 'CACHE2', 'req11'], [10.568075505999122, 2, 'SISTEMA', 'req10'], [10.92117904204437, 3, 'TIMEOUT_req11', 'req11'], [11.10940024860245, 3, 'SISTEMA', 'req12'], [16.82840473374857, 1, 'SISTEMA', 'req9']]\n",
            "-------- \n",
            "\n",
            "\n",
            "\n",
            "Evento: [9.680009199220937, 3, 'REQUISICAO_ATENDIDA_SERVIDOR_ALTER', 'req7']\n",
            "\n",
            "Requisição  atendida pelo servidor alternativo\n",
            "Requisições ['req11'] atendidas pois também eram para o conteúdo 3\n",
            "\n",
            "Próximos eventos: [[10.568075505999122, 2, 'SISTEMA', 'req10'], [11.10940024860245, 3, 'SISTEMA', 'req12'], [16.82840473374857, 1, 'SISTEMA', 'req9']]\n",
            "-------- \n",
            "\n",
            "\n",
            "\n",
            "{'req1': [0.16790890628924027], 'req2': [1.3992732189887345], 'req4': [1.1813514996805117], 'req5': [0.1769337375370168], 'req3': [1.4487209953600342], 'req6': [3.1542147633613125], 'req0': [1.7403547630900293], 'req8': [1.4114344687968599], 'req7': [2.9283063731304955], 'req11': [0.24784011936855777]}\n",
            "\n",
            "\n"
          ],
          "name": "stdout"
        },
        {
          "output_type": "execute_result",
          "data": {
            "text/plain": [
              "1.3856338845602791"
            ]
          },
          "metadata": {
            "tags": []
          },
          "execution_count": 334
        }
      ]
    },
    {
      "cell_type": "markdown",
      "metadata": {
        "id": "YHNKlmQL1i5M"
      },
      "source": [
        "### Simulação caso Random"
      ]
    },
    {
      "cell_type": "code",
      "metadata": {
        "colab": {
          "base_uri": "https://localhost:8080/"
        },
        "id": "fh3xk-jF1i5M",
        "outputId": "1ea52a1b-017b-47c8-fec3-bce9cf0a6e3d"
      },
      "source": [
        "simulacaoCenario3_4(10,\"Random\", 3, 2 , [1/3,1/3,1/3], teta = 1, depurar = True)"
      ],
      "execution_count": null,
      "outputs": [
        {
          "output_type": "stream",
          "text": [
            "[[1.4258719086175544, 3, 'SISTEMA', 'req2'], [2.378233828679642, 1, 'SISTEMA', 'req0'], [2.6373427433092536, 2, 'SISTEMA', 'req1']]\n",
            "\n",
            "\n",
            "Evento: [1.4258719086175544, 3, 'SISTEMA', 'req2']\n",
            "\n",
            "No tempo 1.4258719086175544 cliente faz requisição 'req2' do conteúdo 3\n",
            "\n",
            "Timer req2 = 0.08390676673871911\n",
            "Canal 1 funcionou! Requisição seguirá para a cache 1 e cherará em 1.2163038292287183 segundos\n",
            "Canal 2 funcionou! Requisição seguirá para a cache 2 e cherará em 0.4071722663828834 segundos\n",
            "\n",
            "Próximos eventos: [[1.5097786753562734, 3, 'TIMEOUT_req2', 'req2'], [1.8330441750004378, 3, 'CACHE2', 'req2'], [2.378233828679642, 1, 'SISTEMA', 'req0'], [2.6373427433092536, 2, 'SISTEMA', 'req1'], [2.642175737846273, 3, 'CACHE1', 'req2'], [5.124819167404265, 3, 'SISTEMA', 'req3']]\n",
            "-------- \n",
            "\n",
            "\n",
            "\n",
            "Evento: [1.5097786753562734, 3, 'TIMEOUT_req2', 'req2']\n",
            "\n",
            "No tempo 1.5097786753562734 timeout para a requisição req2\n",
            "Requisição seguirá para o Servidor Alternativo e voltará em 3.742269749505333 segundos\n",
            "\n",
            "Próximos eventos: [[2.378233828679642, 1, 'SISTEMA', 'req0'], [2.6373427433092536, 2, 'SISTEMA', 'req1'], [5.124819167404265, 3, 'SISTEMA', 'req3'], [5.252048424861607, 3, 'REQUISICAO_ATENDIDA_SERVIDOR_ALTER', 'req2']]\n",
            "-------- \n",
            "\n",
            "\n",
            "\n",
            "Evento: [2.378233828679642, 1, 'SISTEMA', 'req0']\n",
            "\n",
            "No tempo 2.378233828679642 cliente faz requisição 'req0' do conteúdo 1\n",
            "\n",
            "Timer req0 = 0.9674736415311675\n",
            "Canal 1 funcionou! Requisição seguirá para a cache 1 e cherará em 0.05106993475868722 segundos\n",
            "Canal 2 funcionou! Requisição seguirá para a cache 2 e cherará em 0.795674189174354 segundos\n",
            "\n",
            "Próximos eventos: [[2.4293037634383294, 1, 'CACHE1', 'req0'], [2.6373427433092536, 2, 'SISTEMA', 'req1'], [3.173908017853996, 1, 'CACHE2', 'req0'], [3.34570747021081, 1, 'TIMEOUT_req0', 'req0'], [5.043345781275682, 1, 'SISTEMA', 'req4'], [5.124819167404265, 3, 'SISTEMA', 'req3'], [5.252048424861607, 3, 'REQUISICAO_ATENDIDA_SERVIDOR_ALTER', 'req2']]\n",
            "-------- \n",
            "\n",
            "\n",
            "\n",
            "Evento: [2.4293037634383294, 1, 'CACHE1', 'req0']\n",
            "\n",
            " No tempo 2.4293037634383294 a requisição 'req0 do conteúdo 1 chega na cache 1\n",
            "Estado atual cache 1:[2, 3]\n",
            "Cache não possui conteúdo da requisição )=\n",
            "\n",
            "Próximos eventos: [[2.6373427433092536, 2, 'SISTEMA', 'req1'], [2.668707372976461, 1, 'CACHE1_SERVIDOR', 'req0'], [3.173908017853996, 1, 'CACHE2', 'req0'], [3.34570747021081, 1, 'TIMEOUT_req0', 'req0'], [5.043345781275682, 1, 'SISTEMA', 'req4'], [5.124819167404265, 3, 'SISTEMA', 'req3'], [5.252048424861607, 3, 'REQUISICAO_ATENDIDA_SERVIDOR_ALTER', 'req2']]\n",
            "-------- \n",
            "\n",
            "\n",
            "\n",
            "Evento: [2.6373427433092536, 2, 'SISTEMA', 'req1']\n",
            "\n",
            "No tempo 2.6373427433092536 cliente faz requisição 'req1' do conteúdo 2\n",
            "\n",
            "Timer req1 = 2.558947366544205\n",
            "Canal 1 funcionou! Requisição seguirá para a cache 1 e cherará em 0.639602462987765 segundos\n",
            "Canal 2 funcionou! Requisição seguirá para a cache 2 e cherará em 0.293843381988202 segundos\n",
            "\n",
            "Próximos eventos: [[2.668707372976461, 1, 'CACHE1_SERVIDOR', 'req0'], [2.8716199901746036, 2, 'SISTEMA', 'req5'], [2.9311861252974554, 2, 'CACHE2', 'req1'], [3.173908017853996, 1, 'CACHE2', 'req0'], [3.2769452062970186, 2, 'CACHE1', 'req1'], [3.34570747021081, 1, 'TIMEOUT_req0', 'req0'], [5.043345781275682, 1, 'SISTEMA', 'req4'], [5.124819167404265, 3, 'SISTEMA', 'req3'], [5.196290109853459, 2, 'TIMEOUT_req1', 'req1'], [5.252048424861607, 3, 'REQUISICAO_ATENDIDA_SERVIDOR_ALTER', 'req2']]\n",
            "-------- \n",
            "\n",
            "\n",
            "\n",
            "Evento: [2.668707372976461, 1, 'CACHE1_SERVIDOR', 'req0']\n",
            "\n",
            " No tempo 2.668707372976461 cache 1 recebe conteúdo 1 para a requisição req0 solicitado ao servidor\n",
            "Estado anterior da cache 1:[2, 3]\n",
            "Conteúdo requisitado entrará numa posição aleatória da cache.\n",
            "Novo estado da cache: [2, 1]\n",
            "\n",
            "Próximos eventos: [[2.8716199901746036, 2, 'SISTEMA', 'req5'], [2.9311861252974554, 2, 'CACHE2', 'req1'], [3.173908017853996, 1, 'CACHE2', 'req0'], [3.2769452062970186, 2, 'CACHE1', 'req1'], [3.34570747021081, 1, 'TIMEOUT_req0', 'req0'], [3.804691058730242, 1, 'REQUISICAO_ATENDIDA_C1', 'req0'], [5.043345781275682, 1, 'SISTEMA', 'req4'], [5.124819167404265, 3, 'SISTEMA', 'req3'], [5.196290109853459, 2, 'TIMEOUT_req1', 'req1'], [5.252048424861607, 3, 'REQUISICAO_ATENDIDA_SERVIDOR_ALTER', 'req2']]\n",
            "-------- \n",
            "\n",
            "\n",
            "\n",
            "Evento: [2.8716199901746036, 2, 'SISTEMA', 'req5']\n",
            "\n",
            "No tempo 2.8716199901746036 cliente faz requisição 'req5' do conteúdo 2\n",
            "\n",
            "Timer req5 = 0.5310289323298925\n",
            "Canal 1 funcionou! Requisição seguirá para a cache 1 e cherará em 0.9625842558708578 segundos\n",
            "Canal 2 funcionou! Requisição seguirá para a cache 2 e cherará em 0.3848369299537375 segundos\n",
            "\n",
            "Próximos eventos: [[2.9311861252974554, 2, 'CACHE2', 'req1'], [3.173908017853996, 1, 'CACHE2', 'req0'], [3.256456920128341, 2, 'CACHE2', 'req5'], [3.2769452062970186, 2, 'CACHE1', 'req1'], [3.34570747021081, 1, 'TIMEOUT_req0', 'req0'], [3.402648922504496, 2, 'TIMEOUT_req5', 'req5'], [3.804691058730242, 1, 'REQUISICAO_ATENDIDA_C1', 'req0'], [3.8342042460454615, 2, 'CACHE1', 'req5'], [5.043345781275682, 1, 'SISTEMA', 'req4'], [5.124819167404265, 3, 'SISTEMA', 'req3'], [5.196290109853459, 2, 'TIMEOUT_req1', 'req1'], [5.252048424861607, 3, 'REQUISICAO_ATENDIDA_SERVIDOR_ALTER', 'req2'], [15.55726630549788, 2, 'SISTEMA', 'req6']]\n",
            "-------- \n",
            "\n",
            "\n",
            "\n",
            "Evento: [2.9311861252974554, 2, 'CACHE2', 'req1']\n",
            "\n",
            "No tempo 2.9311861252974554 a requisição do tipo 2 chega na cache 2\n",
            "Estado atual cache 2:[2, 1]\n",
            "Cache possui requisição!\n",
            "Cache permanece inalterada.\n",
            "Requisição req1 será atendida em 0.5111164401222421 segundos\n",
            "\n",
            "Próximos eventos: [[3.173908017853996, 1, 'CACHE2', 'req0'], [3.256456920128341, 2, 'CACHE2', 'req5'], [3.2769452062970186, 2, 'CACHE1', 'req1'], [3.34570747021081, 1, 'TIMEOUT_req0', 'req0'], [3.402648922504496, 2, 'TIMEOUT_req5', 'req5'], [3.4423025654196975, 2, 'REQUISICAO_ATENDIDA_C2', 'req1'], [3.804691058730242, 1, 'REQUISICAO_ATENDIDA_C1', 'req0'], [3.8342042460454615, 2, 'CACHE1', 'req5'], [5.043345781275682, 1, 'SISTEMA', 'req4'], [5.124819167404265, 3, 'SISTEMA', 'req3'], [5.196290109853459, 2, 'TIMEOUT_req1', 'req1'], [5.252048424861607, 3, 'REQUISICAO_ATENDIDA_SERVIDOR_ALTER', 'req2'], [15.55726630549788, 2, 'SISTEMA', 'req6']]\n",
            "-------- \n",
            "\n",
            "\n",
            "\n",
            "Evento: [3.173908017853996, 1, 'CACHE2', 'req0']\n",
            "\n",
            "No tempo 3.173908017853996 a requisição do tipo 1 chega na cache 2\n",
            "Estado atual cache 2:[2, 1]\n",
            "Cache possui requisição!\n",
            "Cache permanece inalterada.\n",
            "Requisição req0 será atendida em 3.259800005101648 segundos\n",
            "\n",
            "Próximos eventos: [[3.256456920128341, 2, 'CACHE2', 'req5'], [3.2769452062970186, 2, 'CACHE1', 'req1'], [3.34570747021081, 1, 'TIMEOUT_req0', 'req0'], [3.402648922504496, 2, 'TIMEOUT_req5', 'req5'], [3.4423025654196975, 2, 'REQUISICAO_ATENDIDA_C2', 'req1'], [3.804691058730242, 1, 'REQUISICAO_ATENDIDA_C1', 'req0'], [3.8342042460454615, 2, 'CACHE1', 'req5'], [5.043345781275682, 1, 'SISTEMA', 'req4'], [5.124819167404265, 3, 'SISTEMA', 'req3'], [5.196290109853459, 2, 'TIMEOUT_req1', 'req1'], [5.252048424861607, 3, 'REQUISICAO_ATENDIDA_SERVIDOR_ALTER', 'req2'], [6.433708022955644, 1, 'REQUISICAO_ATENDIDA_C2', 'req0'], [15.55726630549788, 2, 'SISTEMA', 'req6']]\n",
            "-------- \n",
            "\n",
            "\n",
            "\n",
            "Evento: [3.256456920128341, 2, 'CACHE2', 'req5']\n",
            "\n",
            "No tempo 3.256456920128341 a requisição do tipo 2 chega na cache 2\n",
            "Estado atual cache 2:[2, 1]\n",
            "Cache possui requisição!\n",
            "Cache permanece inalterada.\n",
            "Requisição req5 será atendida em 0.08634534010946507 segundos\n",
            "\n",
            "Próximos eventos: [[3.2769452062970186, 2, 'CACHE1', 'req1'], [3.3428022602378062, 2, 'REQUISICAO_ATENDIDA_C2', 'req5'], [3.34570747021081, 1, 'TIMEOUT_req0', 'req0'], [3.402648922504496, 2, 'TIMEOUT_req5', 'req5'], [3.4423025654196975, 2, 'REQUISICAO_ATENDIDA_C2', 'req1'], [3.804691058730242, 1, 'REQUISICAO_ATENDIDA_C1', 'req0'], [3.8342042460454615, 2, 'CACHE1', 'req5'], [5.043345781275682, 1, 'SISTEMA', 'req4'], [5.124819167404265, 3, 'SISTEMA', 'req3'], [5.196290109853459, 2, 'TIMEOUT_req1', 'req1'], [5.252048424861607, 3, 'REQUISICAO_ATENDIDA_SERVIDOR_ALTER', 'req2'], [6.433708022955644, 1, 'REQUISICAO_ATENDIDA_C2', 'req0'], [15.55726630549788, 2, 'SISTEMA', 'req6']]\n",
            "-------- \n",
            "\n",
            "\n",
            "\n",
            "Evento: [3.2769452062970186, 2, 'CACHE1', 'req1']\n",
            "\n",
            " No tempo 3.2769452062970186 a requisição 'req1 do conteúdo 2 chega na cache 1\n",
            "Estado atual cache 1:[2, 3]\n",
            "Cache possui requisição!\n",
            "Cache permanece inalterada.\n",
            "Requisição req1 será atendida em 5.090071415636945 segundos\n",
            "\n",
            "Próximos eventos: [[3.3428022602378062, 2, 'REQUISICAO_ATENDIDA_C2', 'req5'], [3.34570747021081, 1, 'TIMEOUT_req0', 'req0'], [3.402648922504496, 2, 'TIMEOUT_req5', 'req5'], [3.4423025654196975, 2, 'REQUISICAO_ATENDIDA_C2', 'req1'], [3.804691058730242, 1, 'REQUISICAO_ATENDIDA_C1', 'req0'], [3.8342042460454615, 2, 'CACHE1', 'req5'], [5.043345781275682, 1, 'SISTEMA', 'req4'], [5.124819167404265, 3, 'SISTEMA', 'req3'], [5.196290109853459, 2, 'TIMEOUT_req1', 'req1'], [5.252048424861607, 3, 'REQUISICAO_ATENDIDA_SERVIDOR_ALTER', 'req2'], [6.433708022955644, 1, 'REQUISICAO_ATENDIDA_C2', 'req0'], [8.367016621933963, 2, 'REQUISICAO_ATENDIDA_C1', 'req1'], [15.55726630549788, 2, 'SISTEMA', 'req6']]\n",
            "-------- \n",
            "\n",
            "\n",
            "\n",
            "Evento: [3.3428022602378062, 2, 'REQUISICAO_ATENDIDA_C2', 'req5']\n",
            "\n",
            "No tempo 3.3428022602378062 a requisição req5 do conteúdo 2 foi atendida pela cache 2\n",
            "Requisições ['req1'] atendidas pois também eram para o conteúdo 2\n",
            "\n",
            "Próximos eventos: [[3.34570747021081, 1, 'TIMEOUT_req0', 'req0'], [3.804691058730242, 1, 'REQUISICAO_ATENDIDA_C1', 'req0'], [5.043345781275682, 1, 'SISTEMA', 'req4'], [5.124819167404265, 3, 'SISTEMA', 'req3'], [5.252048424861607, 3, 'REQUISICAO_ATENDIDA_SERVIDOR_ALTER', 'req2'], [6.433708022955644, 1, 'REQUISICAO_ATENDIDA_C2', 'req0'], [15.55726630549788, 2, 'SISTEMA', 'req6']]\n",
            "-------- \n",
            "\n",
            "\n",
            "\n",
            "Evento: [3.34570747021081, 1, 'TIMEOUT_req0', 'req0']\n",
            "\n",
            "No tempo 3.34570747021081 timeout para a requisição req0\n",
            "Requisição seguirá para o Servidor Alternativo e voltará em 1.6632920976443124 segundos\n",
            "\n",
            "Próximos eventos: [[5.008999567855122, 1, 'REQUISICAO_ATENDIDA_SERVIDOR_ALTER', 'req0'], [5.043345781275682, 1, 'SISTEMA', 'req4'], [5.124819167404265, 3, 'SISTEMA', 'req3'], [5.252048424861607, 3, 'REQUISICAO_ATENDIDA_SERVIDOR_ALTER', 'req2'], [15.55726630549788, 2, 'SISTEMA', 'req6']]\n",
            "-------- \n",
            "\n",
            "\n",
            "\n",
            "Evento: [5.008999567855122, 1, 'REQUISICAO_ATENDIDA_SERVIDOR_ALTER', 'req0']\n",
            "\n",
            "Requisição  atendida pelo servidor alternativo\n",
            "\n",
            "Próximos eventos: [[5.043345781275682, 1, 'SISTEMA', 'req4'], [5.124819167404265, 3, 'SISTEMA', 'req3'], [5.252048424861607, 3, 'REQUISICAO_ATENDIDA_SERVIDOR_ALTER', 'req2'], [15.55726630549788, 2, 'SISTEMA', 'req6']]\n",
            "-------- \n",
            "\n",
            "\n",
            "\n",
            "Evento: [5.043345781275682, 1, 'SISTEMA', 'req4']\n",
            "\n",
            "No tempo 5.043345781275682 cliente faz requisição 'req4' do conteúdo 1\n",
            "\n",
            "Timer req4 = 0.5970167629175779\n",
            "Canal 1 funcionou! Requisição seguirá para a cache 1 e cherará em 0.5767721136911221 segundos\n",
            "Canal 2 funcionou! Requisição seguirá para a cache 2 e cherará em 1.0540695903617499 segundos\n",
            "\n",
            "Próximos eventos: [[5.124819167404265, 3, 'SISTEMA', 'req3'], [5.252048424861607, 3, 'REQUISICAO_ATENDIDA_SERVIDOR_ALTER', 'req2'], [5.620117894966804, 1, 'CACHE1', 'req4'], [5.64036254419326, 1, 'TIMEOUT_req4', 'req4'], [6.097415371637432, 1, 'CACHE2', 'req4'], [10.539087211241796, 1, 'SISTEMA', 'req7'], [15.55726630549788, 2, 'SISTEMA', 'req6']]\n",
            "-------- \n",
            "\n",
            "\n",
            "\n",
            "Evento: [5.124819167404265, 3, 'SISTEMA', 'req3']\n",
            "\n",
            "No tempo 5.124819167404265 cliente faz requisição 'req3' do conteúdo 3\n",
            "\n",
            "Timer req3 = 1.055328066834012\n",
            "Canal 1 funcionou! Requisição seguirá para a cache 1 e cherará em 0.16389115541410645 segundos\n",
            "Canal 2 funcionou! Requisição seguirá para a cache 2 e cherará em 0.8524411693214089 segundos\n",
            "\n",
            "Próximos eventos: [[5.252048424861607, 3, 'REQUISICAO_ATENDIDA_SERVIDOR_ALTER', 'req2'], [5.288710322818371, 3, 'CACHE1', 'req3'], [5.620117894966804, 1, 'CACHE1', 'req4'], [5.64036254419326, 1, 'TIMEOUT_req4', 'req4'], [5.977260336725674, 3, 'CACHE2', 'req3'], [6.097415371637432, 1, 'CACHE2', 'req4'], [6.180147234238277, 3, 'TIMEOUT_req3', 'req3'], [7.971074185793942, 3, 'SISTEMA', 'req8'], [10.539087211241796, 1, 'SISTEMA', 'req7'], [15.55726630549788, 2, 'SISTEMA', 'req6']]\n",
            "-------- \n",
            "\n",
            "\n",
            "\n",
            "Evento: [5.252048424861607, 3, 'REQUISICAO_ATENDIDA_SERVIDOR_ALTER', 'req2']\n",
            "\n",
            "Requisição  atendida pelo servidor alternativo\n",
            "Requisições ['req3'] atendidas pois também eram para o conteúdo 3\n",
            "\n",
            "Próximos eventos: [[5.620117894966804, 1, 'CACHE1', 'req4'], [5.64036254419326, 1, 'TIMEOUT_req4', 'req4'], [6.097415371637432, 1, 'CACHE2', 'req4'], [7.971074185793942, 3, 'SISTEMA', 'req8'], [10.539087211241796, 1, 'SISTEMA', 'req7'], [15.55726630549788, 2, 'SISTEMA', 'req6']]\n",
            "-------- \n",
            "\n",
            "\n",
            "\n",
            "Evento: [5.620117894966804, 1, 'CACHE1', 'req4']\n",
            "\n",
            " No tempo 5.620117894966804 a requisição 'req4 do conteúdo 1 chega na cache 1\n",
            "Estado atual cache 1:[2, 3]\n",
            "Cache não possui conteúdo da requisição )=\n",
            "\n",
            "Próximos eventos: [[5.64036254419326, 1, 'TIMEOUT_req4', 'req4'], [6.097415371637432, 1, 'CACHE2', 'req4'], [6.880179504832904, 1, 'CACHE1_SERVIDOR', 'req4'], [7.971074185793942, 3, 'SISTEMA', 'req8'], [10.539087211241796, 1, 'SISTEMA', 'req7'], [15.55726630549788, 2, 'SISTEMA', 'req6']]\n",
            "-------- \n",
            "\n",
            "\n",
            "\n",
            "Evento: [5.64036254419326, 1, 'TIMEOUT_req4', 'req4']\n",
            "\n",
            "No tempo 5.64036254419326 timeout para a requisição req4\n",
            "Requisição seguirá para o Servidor Alternativo e voltará em 0.6706966457750099 segundos\n",
            "\n",
            "Próximos eventos: [[6.31105918996827, 1, 'REQUISICAO_ATENDIDA_SERVIDOR_ALTER', 'req4'], [7.971074185793942, 3, 'SISTEMA', 'req8'], [10.539087211241796, 1, 'SISTEMA', 'req7'], [15.55726630549788, 2, 'SISTEMA', 'req6']]\n",
            "-------- \n",
            "\n",
            "\n",
            "\n",
            "Evento: [6.31105918996827, 1, 'REQUISICAO_ATENDIDA_SERVIDOR_ALTER', 'req4']\n",
            "\n",
            "Requisição  atendida pelo servidor alternativo\n",
            "\n",
            "Próximos eventos: [[7.971074185793942, 3, 'SISTEMA', 'req8'], [10.539087211241796, 1, 'SISTEMA', 'req7'], [15.55726630549788, 2, 'SISTEMA', 'req6']]\n",
            "-------- \n",
            "\n",
            "\n",
            "\n",
            "Evento: [7.971074185793942, 3, 'SISTEMA', 'req8']\n",
            "\n",
            "No tempo 7.971074185793942 cliente faz requisição 'req8' do conteúdo 3\n",
            "\n",
            "Timer req8 = 0.8144716972704745\n",
            "Canal 1 funcionou! Requisição seguirá para a cache 1 e cherará em 0.05195541406350179 segundos\n",
            "Canal 2 funcionou! Requisição seguirá para a cache 2 e cherará em 1.0485419324286518 segundos\n",
            "\n",
            "Próximos eventos: [[8.023029599857443, 3, 'CACHE1', 'req8'], [8.785545883064417, 3, 'TIMEOUT_req8', 'req8'], [9.019616118222594, 3, 'CACHE2', 'req8'], [9.479281287315827, 3, 'SISTEMA', 'req9'], [10.539087211241796, 1, 'SISTEMA', 'req7'], [15.55726630549788, 2, 'SISTEMA', 'req6']]\n",
            "-------- \n",
            "\n",
            "\n",
            "\n",
            "Evento: [8.023029599857443, 3, 'CACHE1', 'req8']\n",
            "\n",
            " No tempo 8.023029599857443 a requisição 'req8 do conteúdo 3 chega na cache 1\n",
            "Estado atual cache 1:[2, 3]\n",
            "Cache possui requisição!\n",
            "Cache permanece inalterada.\n",
            "Requisição req8 será atendida em 0.17796367841651975 segundos\n",
            "\n",
            "Próximos eventos: [[8.200993278273963, 3, 'REQUISICAO_ATENDIDA_C1', 'req8'], [8.785545883064417, 3, 'TIMEOUT_req8', 'req8'], [9.019616118222594, 3, 'CACHE2', 'req8'], [9.479281287315827, 3, 'SISTEMA', 'req9'], [10.539087211241796, 1, 'SISTEMA', 'req7'], [15.55726630549788, 2, 'SISTEMA', 'req6']]\n",
            "-------- \n",
            "\n",
            "\n",
            "\n",
            "Evento: [8.200993278273963, 3, 'REQUISICAO_ATENDIDA_C1', 'req8']\n",
            "\n",
            "No tempo 8.200993278273963 a requisição req8 do conteúdo 3 foi atendida pela cache 1\n",
            "\n",
            "Próximos eventos: [[9.479281287315827, 3, 'SISTEMA', 'req9'], [10.539087211241796, 1, 'SISTEMA', 'req7'], [15.55726630549788, 2, 'SISTEMA', 'req6']]\n",
            "-------- \n",
            "\n",
            "\n",
            "\n",
            "Evento: [9.479281287315827, 3, 'SISTEMA', 'req9']\n",
            "\n",
            "No tempo 9.479281287315827 cliente faz requisição 'req9' do conteúdo 3\n",
            "\n",
            "Timer req9 = 1.0390731513619822\n",
            "Canal 1 funcionou! Requisição seguirá para a cache 1 e cherará em 0.7346549735946015 segundos\n",
            "Canal 2 funcionou! Requisição seguirá para a cache 2 e cherará em 0.16309562201119968 segundos\n",
            "\n",
            "Próximos eventos: [[9.642376909327027, 3, 'CACHE2', 'req9'], [10.213936260910428, 3, 'CACHE1', 'req9'], [10.51835443867781, 3, 'TIMEOUT_req9', 'req9'], [10.539087211241796, 1, 'SISTEMA', 'req7'], [11.258246595680463, 3, 'SISTEMA', 'req10'], [15.55726630549788, 2, 'SISTEMA', 'req6']]\n",
            "-------- \n",
            "\n",
            "\n",
            "\n",
            "Evento: [9.642376909327027, 3, 'CACHE2', 'req9']\n",
            "\n",
            "No tempo 9.642376909327027 a requisição do tipo 3 chega na cache 2\n",
            "Estado atual cache 2:[2, 1]\n",
            "Cache não possui conteúdo da requisição )=\n",
            "\n",
            "Próximos eventos: [[10.213936260910428, 3, 'CACHE1', 'req9'], [10.51835443867781, 3, 'TIMEOUT_req9', 'req9'], [10.539087211241796, 1, 'SISTEMA', 'req7'], [11.258246595680463, 3, 'SISTEMA', 'req10'], [11.45607908409454, 3, 'CACHE2_SERVIDOR', 'req9'], [15.55726630549788, 2, 'SISTEMA', 'req6']]\n",
            "-------- \n",
            "\n",
            "\n",
            "\n",
            "Evento: [10.213936260910428, 3, 'CACHE1', 'req9']\n",
            "\n",
            " No tempo 10.213936260910428 a requisição 'req9 do conteúdo 3 chega na cache 1\n",
            "Estado atual cache 1:[2, 3]\n",
            "Cache possui requisição!\n",
            "Cache permanece inalterada.\n",
            "Requisição req9 será atendida em 1.281130486903291 segundos\n",
            "\n",
            "Próximos eventos: [[10.51835443867781, 3, 'TIMEOUT_req9', 'req9'], [10.539087211241796, 1, 'SISTEMA', 'req7'], [11.258246595680463, 3, 'SISTEMA', 'req10'], [11.45607908409454, 3, 'CACHE2_SERVIDOR', 'req9'], [11.495066747813718, 3, 'REQUISICAO_ATENDIDA_C1', 'req9'], [15.55726630549788, 2, 'SISTEMA', 'req6']]\n",
            "-------- \n",
            "\n",
            "\n",
            "\n",
            "Evento: [10.51835443867781, 3, 'TIMEOUT_req9', 'req9']\n",
            "\n",
            "No tempo 10.51835443867781 timeout para a requisição req9\n",
            "Requisição seguirá para o Servidor Alternativo e voltará em 0.07518821293585039 segundos\n",
            "\n",
            "Próximos eventos: [[10.539087211241796, 1, 'SISTEMA', 'req7'], [10.59354265161366, 3, 'REQUISICAO_ATENDIDA_SERVIDOR_ALTER', 'req9'], [11.258246595680463, 3, 'SISTEMA', 'req10'], [15.55726630549788, 2, 'SISTEMA', 'req6']]\n",
            "-------- \n",
            "\n",
            "\n",
            "\n",
            "Evento: [10.539087211241796, 1, 'SISTEMA', 'req7']\n",
            "\n",
            "No tempo 10.539087211241796 cliente faz requisição 'req7' do conteúdo 1\n",
            "\n",
            "Timer req7 = 1.3201932485570835\n",
            "Canal 1 funcionou! Requisição seguirá para a cache 1 e cherará em 1.071795775955545 segundos\n",
            "Canal 2 funcionou! Requisição seguirá para a cache 2 e cherará em 0.4614190892832612 segundos\n",
            "\n",
            "Próximos eventos: [[10.59354265161366, 3, 'REQUISICAO_ATENDIDA_SERVIDOR_ALTER', 'req9'], [11.000506300525057, 1, 'CACHE2', 'req7'], [11.008170838318904, 1, 'SISTEMA', 'req11'], [11.258246595680463, 3, 'SISTEMA', 'req10'], [11.610882987197341, 1, 'CACHE1', 'req7'], [11.85928045979888, 1, 'TIMEOUT_req7', 'req7'], [15.55726630549788, 2, 'SISTEMA', 'req6']]\n",
            "-------- \n",
            "\n",
            "\n",
            "\n",
            "Evento: [10.59354265161366, 3, 'REQUISICAO_ATENDIDA_SERVIDOR_ALTER', 'req9']\n",
            "\n",
            "Requisição  atendida pelo servidor alternativo\n",
            "\n",
            "Próximos eventos: [[11.000506300525057, 1, 'CACHE2', 'req7'], [11.008170838318904, 1, 'SISTEMA', 'req11'], [11.258246595680463, 3, 'SISTEMA', 'req10'], [11.610882987197341, 1, 'CACHE1', 'req7'], [11.85928045979888, 1, 'TIMEOUT_req7', 'req7'], [15.55726630549788, 2, 'SISTEMA', 'req6']]\n",
            "-------- \n",
            "\n",
            "\n",
            "\n",
            "Evento: [11.000506300525057, 1, 'CACHE2', 'req7']\n",
            "\n",
            "No tempo 11.000506300525057 a requisição do tipo 1 chega na cache 2\n",
            "Estado atual cache 2:[2, 1]\n",
            "Cache possui requisição!\n",
            "Cache permanece inalterada.\n",
            "Requisição req7 será atendida em 2.746146413485321 segundos\n",
            "\n",
            "Próximos eventos: [[11.008170838318904, 1, 'SISTEMA', 'req11'], [11.258246595680463, 3, 'SISTEMA', 'req10'], [11.610882987197341, 1, 'CACHE1', 'req7'], [11.85928045979888, 1, 'TIMEOUT_req7', 'req7'], [13.746652714010377, 1, 'REQUISICAO_ATENDIDA_C2', 'req7'], [15.55726630549788, 2, 'SISTEMA', 'req6']]\n",
            "-------- \n",
            "\n",
            "\n",
            "\n",
            "Evento: [11.008170838318904, 1, 'SISTEMA', 'req11']\n",
            "\n",
            "No tempo 11.008170838318904 cliente faz requisição 'req11' do conteúdo 1\n",
            "\n",
            "Timer req11 = 1.4682891478578648\n",
            "Canal 1 funcionou! Requisição seguirá para a cache 1 e cherará em 0.4538286194896636 segundos\n",
            "Canal 2 funcionou! Requisição seguirá para a cache 2 e cherará em 1.387970773396231 segundos\n",
            "\n",
            "Próximos eventos: [[11.258246595680463, 3, 'SISTEMA', 'req10'], [11.461999457808567, 1, 'CACHE1', 'req11'], [11.610882987197341, 1, 'CACHE1', 'req7'], [11.85928045979888, 1, 'TIMEOUT_req7', 'req7'], [12.396141611715136, 1, 'CACHE2', 'req11'], [12.476459986176769, 1, 'TIMEOUT_req11', 'req11'], [13.746652714010377, 1, 'REQUISICAO_ATENDIDA_C2', 'req7'], [15.55726630549788, 2, 'SISTEMA', 'req6'], [19.074607527449082, 1, 'SISTEMA', 'req12']]\n",
            "-------- \n",
            "\n",
            "\n",
            "\n",
            "Evento: [11.258246595680463, 3, 'SISTEMA', 'req10']\n",
            "\n",
            "No tempo 11.258246595680463 cliente faz requisição 'req10' do conteúdo 3\n",
            "\n",
            "Timer req10 = 6.17854491795272\n",
            "Canal 1 funcionou! Requisição seguirá para a cache 1 e cherará em 1.1081555481997112 segundos\n",
            "Canal 2 funcionou! Requisição seguirá para a cache 2 e cherará em 0.6722090273688844 segundos\n",
            "\n",
            "Próximos eventos: [[11.461999457808567, 1, 'CACHE1', 'req11'], [11.610882987197341, 1, 'CACHE1', 'req7'], [11.85928045979888, 1, 'TIMEOUT_req7', 'req7'], [11.930455623049347, 3, 'CACHE2', 'req10'], [12.080705373746126, 3, 'SISTEMA', 'req13'], [12.366402143880174, 3, 'CACHE1', 'req10'], [12.396141611715136, 1, 'CACHE2', 'req11'], [12.476459986176769, 1, 'TIMEOUT_req11', 'req11'], [13.746652714010377, 1, 'REQUISICAO_ATENDIDA_C2', 'req7'], [15.55726630549788, 2, 'SISTEMA', 'req6'], [17.43679151363318, 3, 'TIMEOUT_req10', 'req10'], [19.074607527449082, 1, 'SISTEMA', 'req12']]\n",
            "-------- \n",
            "\n",
            "\n",
            "\n",
            "Evento: [11.461999457808567, 1, 'CACHE1', 'req11']\n",
            "\n",
            " No tempo 11.461999457808567 a requisição 'req11 do conteúdo 1 chega na cache 1\n",
            "Estado atual cache 1:[2, 3]\n",
            "Cache não possui conteúdo da requisição )=\n",
            "\n",
            "Próximos eventos: [[11.508483578526146, 1, 'CACHE1_SERVIDOR', 'req11'], [11.610882987197341, 1, 'CACHE1', 'req7'], [11.85928045979888, 1, 'TIMEOUT_req7', 'req7'], [11.930455623049347, 3, 'CACHE2', 'req10'], [12.080705373746126, 3, 'SISTEMA', 'req13'], [12.366402143880174, 3, 'CACHE1', 'req10'], [12.396141611715136, 1, 'CACHE2', 'req11'], [12.476459986176769, 1, 'TIMEOUT_req11', 'req11'], [13.746652714010377, 1, 'REQUISICAO_ATENDIDA_C2', 'req7'], [15.55726630549788, 2, 'SISTEMA', 'req6'], [17.43679151363318, 3, 'TIMEOUT_req10', 'req10'], [19.074607527449082, 1, 'SISTEMA', 'req12']]\n",
            "-------- \n",
            "\n",
            "\n",
            "\n",
            "Evento: [11.508483578526146, 1, 'CACHE1_SERVIDOR', 'req11']\n",
            "\n",
            " No tempo 11.508483578526146 cache 1 recebe conteúdo 1 para a requisição req11 solicitado ao servidor\n",
            "Estado anterior da cache 1:[2, 3]\n",
            "Conteúdo requisitado entrará numa posição aleatória da cache.\n",
            "Novo estado da cache: [2, 1]\n",
            "\n",
            "Próximos eventos: [[11.610882987197341, 1, 'CACHE1', 'req7'], [11.85928045979888, 1, 'TIMEOUT_req7', 'req7'], [11.930455623049347, 3, 'CACHE2', 'req10'], [12.080705373746126, 3, 'SISTEMA', 'req13'], [12.366402143880174, 3, 'CACHE1', 'req10'], [12.396141611715136, 1, 'CACHE2', 'req11'], [12.476459986176769, 1, 'TIMEOUT_req11', 'req11'], [13.613590203727874, 1, 'REQUISICAO_ATENDIDA_C1', 'req11'], [13.746652714010377, 1, 'REQUISICAO_ATENDIDA_C2', 'req7'], [15.55726630549788, 2, 'SISTEMA', 'req6'], [17.43679151363318, 3, 'TIMEOUT_req10', 'req10'], [19.074607527449082, 1, 'SISTEMA', 'req12']]\n",
            "-------- \n",
            "\n",
            "\n",
            "\n",
            "Evento: [11.610882987197341, 1, 'CACHE1', 'req7']\n",
            "\n",
            " No tempo 11.610882987197341 a requisição 'req7 do conteúdo 1 chega na cache 1\n",
            "Estado atual cache 1:[2, 3]\n",
            "Cache não possui conteúdo da requisição )=\n",
            "\n",
            "Próximos eventos: [[11.85928045979888, 1, 'TIMEOUT_req7', 'req7'], [11.930455623049347, 3, 'CACHE2', 'req10'], [12.080705373746126, 3, 'SISTEMA', 'req13'], [12.366402143880174, 3, 'CACHE1', 'req10'], [12.396141611715136, 1, 'CACHE2', 'req11'], [12.476459986176769, 1, 'TIMEOUT_req11', 'req11'], [13.48533838572536, 1, 'CACHE1_SERVIDOR', 'req7'], [13.613590203727874, 1, 'REQUISICAO_ATENDIDA_C1', 'req11'], [13.746652714010377, 1, 'REQUISICAO_ATENDIDA_C2', 'req7'], [15.55726630549788, 2, 'SISTEMA', 'req6'], [17.43679151363318, 3, 'TIMEOUT_req10', 'req10'], [19.074607527449082, 1, 'SISTEMA', 'req12']]\n",
            "-------- \n",
            "\n",
            "\n",
            "\n",
            "Evento: [11.85928045979888, 1, 'TIMEOUT_req7', 'req7']\n",
            "\n",
            "No tempo 11.85928045979888 timeout para a requisição req7\n",
            "Requisição seguirá para o Servidor Alternativo e voltará em 0.7222560802255471 segundos\n",
            "\n",
            "Próximos eventos: [[11.930455623049347, 3, 'CACHE2', 'req10'], [12.080705373746126, 3, 'SISTEMA', 'req13'], [12.366402143880174, 3, 'CACHE1', 'req10'], [12.396141611715136, 1, 'CACHE2', 'req11'], [12.476459986176769, 1, 'TIMEOUT_req11', 'req11'], [12.581536540024427, 1, 'REQUISICAO_ATENDIDA_SERVIDOR_ALTER', 'req7'], [13.613590203727874, 1, 'REQUISICAO_ATENDIDA_C1', 'req11'], [15.55726630549788, 2, 'SISTEMA', 'req6'], [17.43679151363318, 3, 'TIMEOUT_req10', 'req10'], [19.074607527449082, 1, 'SISTEMA', 'req12']]\n",
            "-------- \n",
            "\n",
            "\n",
            "\n",
            "Evento: [11.930455623049347, 3, 'CACHE2', 'req10']\n",
            "\n",
            "No tempo 11.930455623049347 a requisição do tipo 3 chega na cache 2\n",
            "Estado atual cache 2:[2, 1]\n",
            "Cache não possui conteúdo da requisição )=\n",
            "\n",
            "Próximos eventos: [[12.080705373746126, 3, 'SISTEMA', 'req13'], [12.366402143880174, 3, 'CACHE1', 'req10'], [12.396141611715136, 1, 'CACHE2', 'req11'], [12.476459986176769, 1, 'TIMEOUT_req11', 'req11'], [12.581536540024427, 1, 'REQUISICAO_ATENDIDA_SERVIDOR_ALTER', 'req7'], [13.01189448479676, 3, 'CACHE2_SERVIDOR', 'req10'], [13.613590203727874, 1, 'REQUISICAO_ATENDIDA_C1', 'req11'], [15.55726630549788, 2, 'SISTEMA', 'req6'], [17.43679151363318, 3, 'TIMEOUT_req10', 'req10'], [19.074607527449082, 1, 'SISTEMA', 'req12']]\n",
            "-------- \n",
            "\n",
            "\n",
            "\n",
            "Evento: [12.080705373746126, 3, 'SISTEMA', 'req13']\n",
            "\n",
            "No tempo 12.080705373746126 cliente faz requisição 'req13' do conteúdo 3\n",
            "\n",
            "Timer req13 = 1.0120162236542594\n",
            "Canal 1 funcionou! Requisição seguirá para a cache 1 e cherará em 0.5669817165992573 segundos\n",
            "Canal 2 funcionou! Requisição seguirá para a cache 2 e cherará em 0.9590840132972316 segundos\n",
            "\n",
            "Próximos eventos: [[12.366402143880174, 3, 'CACHE1', 'req10'], [12.396141611715136, 1, 'CACHE2', 'req11'], [12.476459986176769, 1, 'TIMEOUT_req11', 'req11'], [12.581536540024427, 1, 'REQUISICAO_ATENDIDA_SERVIDOR_ALTER', 'req7'], [12.647687090345382, 3, 'CACHE1', 'req13'], [13.01189448479676, 3, 'CACHE2_SERVIDOR', 'req10'], [13.039789387043356, 3, 'CACHE2', 'req13'], [13.092721597400384, 3, 'TIMEOUT_req13', 'req13'], [13.613590203727874, 1, 'REQUISICAO_ATENDIDA_C1', 'req11'], [15.55726630549788, 2, 'SISTEMA', 'req6'], [16.44508309715419, 3, 'SISTEMA', 'req14'], [17.43679151363318, 3, 'TIMEOUT_req10', 'req10'], [19.074607527449082, 1, 'SISTEMA', 'req12']]\n",
            "-------- \n",
            "\n",
            "\n",
            "\n",
            "Evento: [12.366402143880174, 3, 'CACHE1', 'req10']\n",
            "\n",
            " No tempo 12.366402143880174 a requisição 'req10 do conteúdo 3 chega na cache 1\n",
            "Estado atual cache 1:[2, 3]\n",
            "Cache possui requisição!\n",
            "Cache permanece inalterada.\n",
            "Requisição req10 será atendida em 1.0234017872180163 segundos\n",
            "\n",
            "Próximos eventos: [[12.396141611715136, 1, 'CACHE2', 'req11'], [12.476459986176769, 1, 'TIMEOUT_req11', 'req11'], [12.581536540024427, 1, 'REQUISICAO_ATENDIDA_SERVIDOR_ALTER', 'req7'], [12.647687090345382, 3, 'CACHE1', 'req13'], [13.01189448479676, 3, 'CACHE2_SERVIDOR', 'req10'], [13.039789387043356, 3, 'CACHE2', 'req13'], [13.092721597400384, 3, 'TIMEOUT_req13', 'req13'], [13.389803931098191, 3, 'REQUISICAO_ATENDIDA_C1', 'req10'], [13.613590203727874, 1, 'REQUISICAO_ATENDIDA_C1', 'req11'], [15.55726630549788, 2, 'SISTEMA', 'req6'], [16.44508309715419, 3, 'SISTEMA', 'req14'], [17.43679151363318, 3, 'TIMEOUT_req10', 'req10'], [19.074607527449082, 1, 'SISTEMA', 'req12']]\n",
            "-------- \n",
            "\n",
            "\n",
            "\n",
            "Evento: [12.396141611715136, 1, 'CACHE2', 'req11']\n",
            "\n",
            "No tempo 12.396141611715136 a requisição do tipo 1 chega na cache 2\n",
            "Estado atual cache 2:[2, 1]\n",
            "Cache possui requisição!\n",
            "Cache permanece inalterada.\n",
            "Requisição req11 será atendida em 0.5730766433069561 segundos\n",
            "\n",
            "Próximos eventos: [[12.476459986176769, 1, 'TIMEOUT_req11', 'req11'], [12.581536540024427, 1, 'REQUISICAO_ATENDIDA_SERVIDOR_ALTER', 'req7'], [12.647687090345382, 3, 'CACHE1', 'req13'], [12.969218255022092, 1, 'REQUISICAO_ATENDIDA_C2', 'req11'], [13.01189448479676, 3, 'CACHE2_SERVIDOR', 'req10'], [13.039789387043356, 3, 'CACHE2', 'req13'], [13.092721597400384, 3, 'TIMEOUT_req13', 'req13'], [13.389803931098191, 3, 'REQUISICAO_ATENDIDA_C1', 'req10'], [13.613590203727874, 1, 'REQUISICAO_ATENDIDA_C1', 'req11'], [15.55726630549788, 2, 'SISTEMA', 'req6'], [16.44508309715419, 3, 'SISTEMA', 'req14'], [17.43679151363318, 3, 'TIMEOUT_req10', 'req10'], [19.074607527449082, 1, 'SISTEMA', 'req12']]\n",
            "-------- \n",
            "\n",
            "\n",
            "\n",
            "Evento: [12.476459986176769, 1, 'TIMEOUT_req11', 'req11']\n",
            "\n",
            "No tempo 12.476459986176769 timeout para a requisição req11\n",
            "Requisição seguirá para o Servidor Alternativo e voltará em 0.4908250914679708 segundos\n",
            "\n",
            "Próximos eventos: [[12.581536540024427, 1, 'REQUISICAO_ATENDIDA_SERVIDOR_ALTER', 'req7'], [12.647687090345382, 3, 'CACHE1', 'req13'], [12.967285077644739, 1, 'REQUISICAO_ATENDIDA_SERVIDOR_ALTER', 'req11'], [13.01189448479676, 3, 'CACHE2_SERVIDOR', 'req10'], [13.039789387043356, 3, 'CACHE2', 'req13'], [13.092721597400384, 3, 'TIMEOUT_req13', 'req13'], [13.389803931098191, 3, 'REQUISICAO_ATENDIDA_C1', 'req10'], [15.55726630549788, 2, 'SISTEMA', 'req6'], [16.44508309715419, 3, 'SISTEMA', 'req14'], [17.43679151363318, 3, 'TIMEOUT_req10', 'req10'], [19.074607527449082, 1, 'SISTEMA', 'req12']]\n",
            "-------- \n",
            "\n",
            "\n",
            "\n",
            "Evento: [12.581536540024427, 1, 'REQUISICAO_ATENDIDA_SERVIDOR_ALTER', 'req7']\n",
            "\n",
            "Requisição  atendida pelo servidor alternativo\n",
            "Requisições ['req11'] atendidas pois também eram para o conteúdo 1\n",
            "\n",
            "Próximos eventos: [[12.647687090345382, 3, 'CACHE1', 'req13'], [13.01189448479676, 3, 'CACHE2_SERVIDOR', 'req10'], [13.039789387043356, 3, 'CACHE2', 'req13'], [13.092721597400384, 3, 'TIMEOUT_req13', 'req13'], [13.389803931098191, 3, 'REQUISICAO_ATENDIDA_C1', 'req10'], [15.55726630549788, 2, 'SISTEMA', 'req6'], [16.44508309715419, 3, 'SISTEMA', 'req14'], [17.43679151363318, 3, 'TIMEOUT_req10', 'req10'], [19.074607527449082, 1, 'SISTEMA', 'req12']]\n",
            "-------- \n",
            "\n",
            "\n",
            "\n",
            "{'req5': [0.4711822700632027], 'req8': [0.22991909248002074], 'req1': [0.7054595169285527], 'req0': [2.63076573917548], 'req2': [3.826176516244052], 'req3': [0.12722925745734148], 'req4': [1.2677134086925879], 'req9': [1.1142613642978336], 'req7': [2.042449328782631], 'req11': [1.573365701705523]}\n",
            "\n",
            "\n"
          ],
          "name": "stdout"
        },
        {
          "output_type": "execute_result",
          "data": {
            "text/plain": [
              "1.3988522195827227"
            ]
          },
          "metadata": {
            "tags": []
          },
          "execution_count": 336
        }
      ]
    },
    {
      "cell_type": "markdown",
      "metadata": {
        "id": "a7nycr1t1i5P"
      },
      "source": [
        "### Simulações caso Estática "
      ]
    },
    {
      "cell_type": "markdown",
      "metadata": {
        "id": "8xnhJoXb1i5P"
      },
      "source": [
        "#### 1º Caso - As caches possuem os mesmos conteúdos populares"
      ]
    },
    {
      "cell_type": "code",
      "metadata": {
        "colab": {
          "base_uri": "https://localhost:8080/"
        },
        "id": "NuL7-G_-1i5Q",
        "outputId": "db6110c5-4251-4894-d481-3fc9018dc842"
      },
      "source": [
        "simulacaoCenario3_4(10,\"Estatica\", 3, 2 , [1/3,1/3,1/3], teta = 1, depurar = True)"
      ],
      "execution_count": null,
      "outputs": [
        {
          "output_type": "stream",
          "text": [
            "[[0.5351100265588847, 3, 'SISTEMA', 'req2'], [1.597851235372802, 2, 'SISTEMA', 'req1'], [1.8145513894987668, 1, 'SISTEMA', 'req0']]\n",
            "\n",
            "\n",
            "Evento: [0.5351100265588847, 3, 'SISTEMA', 'req2']\n",
            "\n",
            "No tempo 0.5351100265588847 cliente faz requisição 'req2' do conteúdo 3\n",
            "\n",
            "Timer req2 = 0.2396000591746996\n",
            "Canal 1 não funcionou!\n",
            "Canal 2 funcionou! Requisição seguirá para a cache 2 e cherará em 0.5604119687700426 segundos\n",
            "\n",
            "Próximos eventos: [[0.7747100857335844, 3, 'TIMEOUT_req2', 'req2'], [1.0955219953289275, 3, 'CACHE2', 'req2'], [1.2661221014208048, 3, 'SISTEMA', 'req3'], [1.597851235372802, 2, 'SISTEMA', 'req1'], [1.8145513894987668, 1, 'SISTEMA', 'req0']]\n",
            "-------- \n",
            "\n",
            "\n",
            "\n",
            "Evento: [0.7747100857335844, 3, 'TIMEOUT_req2', 'req2']\n",
            "\n",
            "No tempo 0.7747100857335844 timeout para a requisição req2\n",
            "Requisição seguirá para o Servidor Alternativo e voltará em 0.34863751632787193 segundos\n",
            "\n",
            "Próximos eventos: [[1.1233476020614563, 3, 'REQUISICAO_ATENDIDA_SERVIDOR_ALTER', 'req2'], [1.2661221014208048, 3, 'SISTEMA', 'req3'], [1.597851235372802, 2, 'SISTEMA', 'req1'], [1.8145513894987668, 1, 'SISTEMA', 'req0']]\n",
            "-------- \n",
            "\n",
            "\n",
            "\n",
            "Evento: [1.1233476020614563, 3, 'REQUISICAO_ATENDIDA_SERVIDOR_ALTER', 'req2']\n",
            "\n",
            "Requisição  atendida pelo servidor alternativo\n",
            "\n",
            "Próximos eventos: [[1.2661221014208048, 3, 'SISTEMA', 'req3'], [1.597851235372802, 2, 'SISTEMA', 'req1'], [1.8145513894987668, 1, 'SISTEMA', 'req0']]\n",
            "-------- \n",
            "\n",
            "\n",
            "\n",
            "Evento: [1.2661221014208048, 3, 'SISTEMA', 'req3']\n",
            "\n",
            "No tempo 1.2661221014208048 cliente faz requisição 'req3' do conteúdo 3\n",
            "\n",
            "Timer req3 = 1.5232352805091203\n",
            "Canal 1 funcionou! Requisição seguirá para a cache 1 e cherará em 0.9956312124239193 segundos\n",
            "Canal 2 funcionou! Requisição seguirá para a cache 2 e cherará em 1.0313712796340824 segundos\n",
            "\n",
            "Próximos eventos: [[1.597851235372802, 2, 'SISTEMA', 'req1'], [1.8145513894987668, 1, 'SISTEMA', 'req0'], [2.261753313844724, 3, 'CACHE1', 'req3'], [2.2974933810548874, 3, 'CACHE2', 'req3'], [2.789357381929925, 3, 'TIMEOUT_req3', 'req3'], [5.778672424880865, 3, 'SISTEMA', 'req4']]\n",
            "-------- \n",
            "\n",
            "\n",
            "\n",
            "Evento: [1.597851235372802, 2, 'SISTEMA', 'req1']\n",
            "\n",
            "No tempo 1.597851235372802 cliente faz requisição 'req1' do conteúdo 2\n",
            "\n",
            "Timer req1 = 0.8639703427362142\n",
            "Canal 1 funcionou! Requisição seguirá para a cache 1 e cherará em 0.011001469388248319 segundos\n",
            "Canal 2 não funcionou!\n",
            "\n",
            "Próximos eventos: [[1.6088527047610504, 2, 'CACHE1', 'req1'], [1.8145513894987668, 1, 'SISTEMA', 'req0'], [2.0339293979406565, 2, 'SISTEMA', 'req5'], [2.261753313844724, 3, 'CACHE1', 'req3'], [2.2974933810548874, 3, 'CACHE2', 'req3'], [2.4618215781090163, 2, 'TIMEOUT_req1', 'req1'], [2.789357381929925, 3, 'TIMEOUT_req3', 'req3'], [5.778672424880865, 3, 'SISTEMA', 'req4']]\n",
            "-------- \n",
            "\n",
            "\n",
            "\n",
            "Evento: [1.6088527047610504, 2, 'CACHE1', 'req1']\n",
            "\n",
            " No tempo 1.6088527047610504 a requisição 'req1 do conteúdo 2 chega na cache 1\n",
            "Estado atual cache 1:[3, 2]\n",
            "Cache possui requisição!\n",
            "Cache permanece inalterada.\n",
            "Requisição req1 será atendida em 0.5102932739643872 segundos\n",
            "\n",
            "Próximos eventos: [[1.8145513894987668, 1, 'SISTEMA', 'req0'], [2.0339293979406565, 2, 'SISTEMA', 'req5'], [2.1191459787254376, 2, 'REQUISICAO_ATENDIDA_C1', 'req1'], [2.261753313844724, 3, 'CACHE1', 'req3'], [2.2974933810548874, 3, 'CACHE2', 'req3'], [2.4618215781090163, 2, 'TIMEOUT_req1', 'req1'], [2.789357381929925, 3, 'TIMEOUT_req3', 'req3'], [5.778672424880865, 3, 'SISTEMA', 'req4']]\n",
            "-------- \n",
            "\n",
            "\n",
            "\n",
            "Evento: [1.8145513894987668, 1, 'SISTEMA', 'req0']\n",
            "\n",
            "No tempo 1.8145513894987668 cliente faz requisição 'req0' do conteúdo 1\n",
            "\n",
            "Timer req0 = 0.21013405211453845\n",
            "Canal 1 funcionou! Requisição seguirá para a cache 1 e cherará em 1.5939782005190397 segundos\n",
            "Canal 2 funcionou! Requisição seguirá para a cache 2 e cherará em 0.4885333366959716 segundos\n",
            "\n",
            "Próximos eventos: [[2.0246854416133053, 1, 'TIMEOUT_req0', 'req0'], [2.0339293979406565, 2, 'SISTEMA', 'req5'], [2.1191459787254376, 2, 'REQUISICAO_ATENDIDA_C1', 'req1'], [2.261753313844724, 3, 'CACHE1', 'req3'], [2.2974933810548874, 3, 'CACHE2', 'req3'], [2.3030847261947383, 1, 'CACHE2', 'req0'], [2.4618215781090163, 2, 'TIMEOUT_req1', 'req1'], [2.789357381929925, 3, 'TIMEOUT_req3', 'req3'], [3.4085295900178068, 1, 'CACHE1', 'req0'], [5.778672424880865, 3, 'SISTEMA', 'req4'], [10.511419745672717, 1, 'SISTEMA', 'req6']]\n",
            "-------- \n",
            "\n",
            "\n",
            "\n",
            "Evento: [2.0246854416133053, 1, 'TIMEOUT_req0', 'req0']\n",
            "\n",
            "No tempo 2.0246854416133053 timeout para a requisição req0\n",
            "Requisição seguirá para o Servidor Alternativo e voltará em 2.4921633401854004 segundos\n",
            "\n",
            "Próximos eventos: [[2.0339293979406565, 2, 'SISTEMA', 'req5'], [2.1191459787254376, 2, 'REQUISICAO_ATENDIDA_C1', 'req1'], [2.261753313844724, 3, 'CACHE1', 'req3'], [2.2974933810548874, 3, 'CACHE2', 'req3'], [2.4618215781090163, 2, 'TIMEOUT_req1', 'req1'], [2.789357381929925, 3, 'TIMEOUT_req3', 'req3'], [4.516848781798705, 1, 'REQUISICAO_ATENDIDA_SERVIDOR_ALTER', 'req0'], [5.778672424880865, 3, 'SISTEMA', 'req4'], [10.511419745672717, 1, 'SISTEMA', 'req6']]\n",
            "-------- \n",
            "\n",
            "\n",
            "\n",
            "Evento: [2.0339293979406565, 2, 'SISTEMA', 'req5']\n",
            "\n",
            "No tempo 2.0339293979406565 cliente faz requisição 'req5' do conteúdo 2\n",
            "\n",
            "Timer req5 = 0.9719958951164506\n",
            "Canal 1 funcionou! Requisição seguirá para a cache 1 e cherará em 0.38668477397711326 segundos\n",
            "Canal 2 funcionou! Requisição seguirá para a cache 2 e cherará em 0.2623871510045106 segundos\n",
            "\n",
            "Próximos eventos: [[2.1191459787254376, 2, 'REQUISICAO_ATENDIDA_C1', 'req1'], [2.261753313844724, 3, 'CACHE1', 'req3'], [2.296316548945167, 2, 'CACHE2', 'req5'], [2.2974933810548874, 3, 'CACHE2', 'req3'], [2.42061417191777, 2, 'CACHE1', 'req5'], [2.4618215781090163, 2, 'TIMEOUT_req1', 'req1'], [2.789357381929925, 3, 'TIMEOUT_req3', 'req3'], [3.005925293057107, 2, 'TIMEOUT_req5', 'req5'], [4.516848781798705, 1, 'REQUISICAO_ATENDIDA_SERVIDOR_ALTER', 'req0'], [5.283956399131426, 2, 'SISTEMA', 'req7'], [5.778672424880865, 3, 'SISTEMA', 'req4'], [10.511419745672717, 1, 'SISTEMA', 'req6']]\n",
            "-------- \n",
            "\n",
            "\n",
            "\n",
            "Evento: [2.1191459787254376, 2, 'REQUISICAO_ATENDIDA_C1', 'req1']\n",
            "\n",
            "No tempo 2.1191459787254376 a requisição req1 do conteúdo 2 foi atendida pela cache 1\n",
            "Requisições ['req5'] atendidas pois também eram para o conteúdo 2\n",
            "\n",
            "Próximos eventos: [[2.261753313844724, 3, 'CACHE1', 'req3'], [2.2974933810548874, 3, 'CACHE2', 'req3'], [2.789357381929925, 3, 'TIMEOUT_req3', 'req3'], [4.516848781798705, 1, 'REQUISICAO_ATENDIDA_SERVIDOR_ALTER', 'req0'], [5.283956399131426, 2, 'SISTEMA', 'req7'], [5.778672424880865, 3, 'SISTEMA', 'req4'], [10.511419745672717, 1, 'SISTEMA', 'req6']]\n",
            "-------- \n",
            "\n",
            "\n",
            "\n",
            "Evento: [2.261753313844724, 3, 'CACHE1', 'req3']\n",
            "\n",
            " No tempo 2.261753313844724 a requisição 'req3 do conteúdo 3 chega na cache 1\n",
            "Estado atual cache 1:[3, 2]\n",
            "Cache possui requisição!\n",
            "Cache permanece inalterada.\n",
            "Requisição req3 será atendida em 0.831003257265299 segundos\n",
            "\n",
            "Próximos eventos: [[2.2974933810548874, 3, 'CACHE2', 'req3'], [2.789357381929925, 3, 'TIMEOUT_req3', 'req3'], [3.092756571110023, 3, 'REQUISICAO_ATENDIDA_C1', 'req3'], [4.516848781798705, 1, 'REQUISICAO_ATENDIDA_SERVIDOR_ALTER', 'req0'], [5.283956399131426, 2, 'SISTEMA', 'req7'], [5.778672424880865, 3, 'SISTEMA', 'req4'], [10.511419745672717, 1, 'SISTEMA', 'req6']]\n",
            "-------- \n",
            "\n",
            "\n",
            "\n",
            "Evento: [2.2974933810548874, 3, 'CACHE2', 'req3']\n",
            "\n",
            "No tempo 2.2974933810548874 a requisição do tipo 3 chega na cache 2\n",
            "Estado atual cache 2:[1, 2]\n",
            "Cache não possui conteúdo da requisição )=\n",
            "\n",
            "Próximos eventos: [[2.789357381929925, 3, 'TIMEOUT_req3', 'req3'], [3.092756571110023, 3, 'REQUISICAO_ATENDIDA_C1', 'req3'], [3.2500486968973483, 3, 'CACHE2_SERVIDOR', 'req3'], [4.516848781798705, 1, 'REQUISICAO_ATENDIDA_SERVIDOR_ALTER', 'req0'], [5.283956399131426, 2, 'SISTEMA', 'req7'], [5.778672424880865, 3, 'SISTEMA', 'req4'], [10.511419745672717, 1, 'SISTEMA', 'req6']]\n",
            "-------- \n",
            "\n",
            "\n",
            "\n",
            "Evento: [2.789357381929925, 3, 'TIMEOUT_req3', 'req3']\n",
            "\n",
            "No tempo 2.789357381929925 timeout para a requisição req3\n",
            "Requisição seguirá para o Servidor Alternativo e voltará em 0.8845380159506131 segundos\n",
            "\n",
            "Próximos eventos: [[3.673895397880538, 3, 'REQUISICAO_ATENDIDA_SERVIDOR_ALTER', 'req3'], [4.516848781798705, 1, 'REQUISICAO_ATENDIDA_SERVIDOR_ALTER', 'req0'], [5.283956399131426, 2, 'SISTEMA', 'req7'], [5.778672424880865, 3, 'SISTEMA', 'req4'], [10.511419745672717, 1, 'SISTEMA', 'req6']]\n",
            "-------- \n",
            "\n",
            "\n",
            "\n",
            "Evento: [3.673895397880538, 3, 'REQUISICAO_ATENDIDA_SERVIDOR_ALTER', 'req3']\n",
            "\n",
            "Requisição  atendida pelo servidor alternativo\n",
            "\n",
            "Próximos eventos: [[4.516848781798705, 1, 'REQUISICAO_ATENDIDA_SERVIDOR_ALTER', 'req0'], [5.283956399131426, 2, 'SISTEMA', 'req7'], [5.778672424880865, 3, 'SISTEMA', 'req4'], [10.511419745672717, 1, 'SISTEMA', 'req6']]\n",
            "-------- \n",
            "\n",
            "\n",
            "\n",
            "Evento: [4.516848781798705, 1, 'REQUISICAO_ATENDIDA_SERVIDOR_ALTER', 'req0']\n",
            "\n",
            "Requisição  atendida pelo servidor alternativo\n",
            "\n",
            "Próximos eventos: [[5.283956399131426, 2, 'SISTEMA', 'req7'], [5.778672424880865, 3, 'SISTEMA', 'req4'], [10.511419745672717, 1, 'SISTEMA', 'req6']]\n",
            "-------- \n",
            "\n",
            "\n",
            "\n",
            "Evento: [5.283956399131426, 2, 'SISTEMA', 'req7']\n",
            "\n",
            "No tempo 5.283956399131426 cliente faz requisição 'req7' do conteúdo 2\n",
            "\n",
            "Timer req7 = 1.5520677911712857\n",
            "Canal 1 funcionou! Requisição seguirá para a cache 1 e cherará em 0.8844829344583818 segundos\n",
            "Canal 2 funcionou! Requisição seguirá para a cache 2 e cherará em 1.652954927184658 segundos\n",
            "\n",
            "Próximos eventos: [[5.778672424880865, 3, 'SISTEMA', 'req4'], [6.168439333589808, 2, 'CACHE1', 'req7'], [6.8221717248373555, 2, 'SISTEMA', 'req8'], [6.8360241903027115, 2, 'TIMEOUT_req7', 'req7'], [6.936911326316084, 2, 'CACHE2', 'req7'], [10.511419745672717, 1, 'SISTEMA', 'req6']]\n",
            "-------- \n",
            "\n",
            "\n",
            "\n",
            "Evento: [5.778672424880865, 3, 'SISTEMA', 'req4']\n",
            "\n",
            "No tempo 5.778672424880865 cliente faz requisição 'req4' do conteúdo 3\n",
            "\n",
            "Timer req4 = 1.0034698978878824\n",
            "Canal 1 funcionou! Requisição seguirá para a cache 1 e cherará em 1.1635678740094597 segundos\n",
            "Canal 2 funcionou! Requisição seguirá para a cache 2 e cherará em 0.3466394533839705 segundos\n",
            "\n",
            "Próximos eventos: [[6.125311878264835, 3, 'CACHE2', 'req4'], [6.168439333589808, 2, 'CACHE1', 'req7'], [6.782142322768747, 3, 'TIMEOUT_req4', 'req4'], [6.8221717248373555, 2, 'SISTEMA', 'req8'], [6.8360241903027115, 2, 'TIMEOUT_req7', 'req7'], [6.936911326316084, 2, 'CACHE2', 'req7'], [6.942240298890325, 3, 'CACHE1', 'req4'], [8.689063894995385, 3, 'SISTEMA', 'req9'], [10.511419745672717, 1, 'SISTEMA', 'req6']]\n",
            "-------- \n",
            "\n",
            "\n",
            "\n",
            "Evento: [6.125311878264835, 3, 'CACHE2', 'req4']\n",
            "\n",
            "No tempo 6.125311878264835 a requisição do tipo 3 chega na cache 2\n",
            "Estado atual cache 2:[1, 2]\n",
            "Cache não possui conteúdo da requisição )=\n",
            "\n",
            "Próximos eventos: [[6.168439333589808, 2, 'CACHE1', 'req7'], [6.782142322768747, 3, 'TIMEOUT_req4', 'req4'], [6.8221717248373555, 2, 'SISTEMA', 'req8'], [6.8360241903027115, 2, 'TIMEOUT_req7', 'req7'], [6.915285096440405, 3, 'CACHE2_SERVIDOR', 'req4'], [6.936911326316084, 2, 'CACHE2', 'req7'], [6.942240298890325, 3, 'CACHE1', 'req4'], [8.689063894995385, 3, 'SISTEMA', 'req9'], [10.511419745672717, 1, 'SISTEMA', 'req6']]\n",
            "-------- \n",
            "\n",
            "\n",
            "\n",
            "Evento: [6.168439333589808, 2, 'CACHE1', 'req7']\n",
            "\n",
            " No tempo 6.168439333589808 a requisição 'req7 do conteúdo 2 chega na cache 1\n",
            "Estado atual cache 1:[3, 2]\n",
            "Cache possui requisição!\n",
            "Cache permanece inalterada.\n",
            "Requisição req7 será atendida em 1.2763419635878044 segundos\n",
            "\n",
            "Próximos eventos: [[6.782142322768747, 3, 'TIMEOUT_req4', 'req4'], [6.8221717248373555, 2, 'SISTEMA', 'req8'], [6.8360241903027115, 2, 'TIMEOUT_req7', 'req7'], [6.915285096440405, 3, 'CACHE2_SERVIDOR', 'req4'], [6.936911326316084, 2, 'CACHE2', 'req7'], [6.942240298890325, 3, 'CACHE1', 'req4'], [7.444781297177612, 2, 'REQUISICAO_ATENDIDA_C1', 'req7'], [8.689063894995385, 3, 'SISTEMA', 'req9'], [10.511419745672717, 1, 'SISTEMA', 'req6']]\n",
            "-------- \n",
            "\n",
            "\n",
            "\n",
            "Evento: [6.782142322768747, 3, 'TIMEOUT_req4', 'req4']\n",
            "\n",
            "No tempo 6.782142322768747 timeout para a requisição req4\n",
            "Requisição seguirá para o Servidor Alternativo e voltará em 0.42225566042847157 segundos\n",
            "\n",
            "Próximos eventos: [[6.8221717248373555, 2, 'SISTEMA', 'req8'], [6.8360241903027115, 2, 'TIMEOUT_req7', 'req7'], [6.936911326316084, 2, 'CACHE2', 'req7'], [7.204397983197219, 3, 'REQUISICAO_ATENDIDA_SERVIDOR_ALTER', 'req4'], [7.444781297177612, 2, 'REQUISICAO_ATENDIDA_C1', 'req7'], [8.689063894995385, 3, 'SISTEMA', 'req9'], [10.511419745672717, 1, 'SISTEMA', 'req6']]\n",
            "-------- \n",
            "\n",
            "\n",
            "\n",
            "Evento: [6.8221717248373555, 2, 'SISTEMA', 'req8']\n",
            "\n",
            "No tempo 6.8221717248373555 cliente faz requisição 'req8' do conteúdo 2\n",
            "\n",
            "Timer req8 = 0.12615982396773365\n",
            "Canal 1 funcionou! Requisição seguirá para a cache 1 e cherará em 0.16496872584458386 segundos\n",
            "Canal 2 funcionou! Requisição seguirá para a cache 2 e cherará em 0.3172527688007984 segundos\n",
            "\n",
            "Próximos eventos: [[6.8360241903027115, 2, 'TIMEOUT_req7', 'req7'], [6.936911326316084, 2, 'CACHE2', 'req7'], [6.948331548805089, 2, 'TIMEOUT_req8', 'req8'], [6.987140450681939, 2, 'CACHE1', 'req8'], [7.1394244936381535, 2, 'CACHE2', 'req8'], [7.204397983197219, 3, 'REQUISICAO_ATENDIDA_SERVIDOR_ALTER', 'req4'], [7.444781297177612, 2, 'REQUISICAO_ATENDIDA_C1', 'req7'], [8.689063894995385, 3, 'SISTEMA', 'req9'], [10.232290003173866, 2, 'SISTEMA', 'req10'], [10.511419745672717, 1, 'SISTEMA', 'req6']]\n",
            "-------- \n",
            "\n",
            "\n",
            "\n",
            "Evento: [6.8360241903027115, 2, 'TIMEOUT_req7', 'req7']\n",
            "\n",
            "No tempo 6.8360241903027115 timeout para a requisição req7\n",
            "Requisição seguirá para o Servidor Alternativo e voltará em 2.4190719967267573 segundos\n",
            "\n",
            "Próximos eventos: [[6.948331548805089, 2, 'TIMEOUT_req8', 'req8'], [6.987140450681939, 2, 'CACHE1', 'req8'], [7.1394244936381535, 2, 'CACHE2', 'req8'], [7.204397983197219, 3, 'REQUISICAO_ATENDIDA_SERVIDOR_ALTER', 'req4'], [8.689063894995385, 3, 'SISTEMA', 'req9'], [9.25509618702947, 2, 'REQUISICAO_ATENDIDA_SERVIDOR_ALTER', 'req7'], [10.232290003173866, 2, 'SISTEMA', 'req10'], [10.511419745672717, 1, 'SISTEMA', 'req6']]\n",
            "-------- \n",
            "\n",
            "\n",
            "\n",
            "Evento: [6.948331548805089, 2, 'TIMEOUT_req8', 'req8']\n",
            "\n",
            "No tempo 6.948331548805089 timeout para a requisição req8\n",
            "Requisição seguirá para o Servidor Alternativo e voltará em 0.6585607649429456 segundos\n",
            "\n",
            "Próximos eventos: [[7.204397983197219, 3, 'REQUISICAO_ATENDIDA_SERVIDOR_ALTER', 'req4'], [7.606892313748035, 2, 'REQUISICAO_ATENDIDA_SERVIDOR_ALTER', 'req8'], [8.689063894995385, 3, 'SISTEMA', 'req9'], [9.25509618702947, 2, 'REQUISICAO_ATENDIDA_SERVIDOR_ALTER', 'req7'], [10.232290003173866, 2, 'SISTEMA', 'req10'], [10.511419745672717, 1, 'SISTEMA', 'req6']]\n",
            "-------- \n",
            "\n",
            "\n",
            "\n",
            "Evento: [7.204397983197219, 3, 'REQUISICAO_ATENDIDA_SERVIDOR_ALTER', 'req4']\n",
            "\n",
            "Requisição  atendida pelo servidor alternativo\n",
            "\n",
            "Próximos eventos: [[7.606892313748035, 2, 'REQUISICAO_ATENDIDA_SERVIDOR_ALTER', 'req8'], [8.689063894995385, 3, 'SISTEMA', 'req9'], [9.25509618702947, 2, 'REQUISICAO_ATENDIDA_SERVIDOR_ALTER', 'req7'], [10.232290003173866, 2, 'SISTEMA', 'req10'], [10.511419745672717, 1, 'SISTEMA', 'req6']]\n",
            "-------- \n",
            "\n",
            "\n",
            "\n",
            "Evento: [7.606892313748035, 2, 'REQUISICAO_ATENDIDA_SERVIDOR_ALTER', 'req8']\n",
            "\n",
            "Requisição  atendida pelo servidor alternativo\n",
            "Requisições ['req7'] atendidas pois também eram para o conteúdo 2\n",
            "\n",
            "Próximos eventos: [[8.689063894995385, 3, 'SISTEMA', 'req9'], [10.232290003173866, 2, 'SISTEMA', 'req10'], [10.511419745672717, 1, 'SISTEMA', 'req6']]\n",
            "-------- \n",
            "\n",
            "\n",
            "\n",
            "Evento: [8.689063894995385, 3, 'SISTEMA', 'req9']\n",
            "\n",
            "No tempo 8.689063894995385 cliente faz requisição 'req9' do conteúdo 3\n",
            "\n",
            "Timer req9 = 1.8935041654275675\n",
            "Canal 1 funcionou! Requisição seguirá para a cache 1 e cherará em 0.3997326377989536 segundos\n",
            "Canal 2 funcionou! Requisição seguirá para a cache 2 e cherará em 0.5213504534054093 segundos\n",
            "\n",
            "Próximos eventos: [[9.088796532794339, 3, 'CACHE1', 'req9'], [9.210414348400795, 3, 'CACHE2', 'req9'], [10.232290003173866, 2, 'SISTEMA', 'req10'], [10.511419745672717, 1, 'SISTEMA', 'req6'], [10.582568060422952, 3, 'TIMEOUT_req9', 'req9'], [13.895231236844019, 3, 'SISTEMA', 'req11']]\n",
            "-------- \n",
            "\n",
            "\n",
            "\n",
            "Evento: [9.088796532794339, 3, 'CACHE1', 'req9']\n",
            "\n",
            " No tempo 9.088796532794339 a requisição 'req9 do conteúdo 3 chega na cache 1\n",
            "Estado atual cache 1:[3, 2]\n",
            "Cache possui requisição!\n",
            "Cache permanece inalterada.\n",
            "Requisição req9 será atendida em 0.786600458338748 segundos\n",
            "\n",
            "Próximos eventos: [[9.210414348400795, 3, 'CACHE2', 'req9'], [9.875396991133087, 3, 'REQUISICAO_ATENDIDA_C1', 'req9'], [10.232290003173866, 2, 'SISTEMA', 'req10'], [10.511419745672717, 1, 'SISTEMA', 'req6'], [10.582568060422952, 3, 'TIMEOUT_req9', 'req9'], [13.895231236844019, 3, 'SISTEMA', 'req11']]\n",
            "-------- \n",
            "\n",
            "\n",
            "\n",
            "Evento: [9.210414348400795, 3, 'CACHE2', 'req9']\n",
            "\n",
            "No tempo 9.210414348400795 a requisição do tipo 3 chega na cache 2\n",
            "Estado atual cache 2:[1, 2]\n",
            "Cache não possui conteúdo da requisição )=\n",
            "\n",
            "Próximos eventos: [[9.406919398654974, 3, 'CACHE2_SERVIDOR', 'req9'], [9.875396991133087, 3, 'REQUISICAO_ATENDIDA_C1', 'req9'], [10.232290003173866, 2, 'SISTEMA', 'req10'], [10.511419745672717, 1, 'SISTEMA', 'req6'], [10.582568060422952, 3, 'TIMEOUT_req9', 'req9'], [13.895231236844019, 3, 'SISTEMA', 'req11']]\n",
            "-------- \n",
            "\n",
            "\n",
            "\n",
            "Evento: [9.406919398654974, 3, 'CACHE2_SERVIDOR', 'req9']\n",
            "\n",
            " No tempo 9.406919398654974 cache 2 recebe conteúdo 3 para a requisição req9 solicitado ao servidor\n",
            "Estado anterior da cache 2:[3, 2]\n",
            "Cache permanece inalterada.\n",
            "\n",
            "Próximos eventos: [[9.875396991133087, 3, 'REQUISICAO_ATENDIDA_C1', 'req9'], [9.992382200500481, 3, 'REQUISICAO_ATENDIDA_C2', 'req9'], [10.232290003173866, 2, 'SISTEMA', 'req10'], [10.511419745672717, 1, 'SISTEMA', 'req6'], [10.582568060422952, 3, 'TIMEOUT_req9', 'req9'], [13.895231236844019, 3, 'SISTEMA', 'req11']]\n",
            "-------- \n",
            "\n",
            "\n",
            "\n",
            "Evento: [9.875396991133087, 3, 'REQUISICAO_ATENDIDA_C1', 'req9']\n",
            "\n",
            "No tempo 9.875396991133087 a requisição req9 do conteúdo 3 foi atendida pela cache 1\n",
            "\n",
            "Próximos eventos: [[10.232290003173866, 2, 'SISTEMA', 'req10'], [10.511419745672717, 1, 'SISTEMA', 'req6'], [13.895231236844019, 3, 'SISTEMA', 'req11']]\n",
            "-------- \n",
            "\n",
            "\n",
            "\n",
            "Evento: [10.232290003173866, 2, 'SISTEMA', 'req10']\n",
            "\n",
            "No tempo 10.232290003173866 cliente faz requisição 'req10' do conteúdo 2\n",
            "\n",
            "Timer req10 = 0.880962286171532\n",
            "Canal 1 funcionou! Requisição seguirá para a cache 1 e cherará em 3.880106365379348 segundos\n",
            "Canal 2 funcionou! Requisição seguirá para a cache 2 e cherará em 1.991165071195027 segundos\n",
            "\n",
            "Próximos eventos: [[10.511419745672717, 1, 'SISTEMA', 'req6'], [10.96128101643301, 2, 'SISTEMA', 'req12'], [11.113252289345397, 2, 'TIMEOUT_req10', 'req10'], [12.223455074368893, 2, 'CACHE2', 'req10'], [13.895231236844019, 3, 'SISTEMA', 'req11'], [14.112396368553213, 2, 'CACHE1', 'req10']]\n",
            "-------- \n",
            "\n",
            "\n",
            "\n",
            "Evento: [10.511419745672717, 1, 'SISTEMA', 'req6']\n",
            "\n",
            "No tempo 10.511419745672717 cliente faz requisição 'req6' do conteúdo 1\n",
            "\n",
            "Timer req6 = 0.14020966453970876\n",
            "Canal 1 funcionou! Requisição seguirá para a cache 1 e cherará em 0.5720951132351576 segundos\n",
            "Canal 2 funcionou! Requisição seguirá para a cache 2 e cherará em 0.36681749248708645 segundos\n",
            "\n",
            "Próximos eventos: [[10.651629410212426, 1, 'TIMEOUT_req6', 'req6'], [10.878237238159803, 1, 'CACHE2', 'req6'], [10.96128101643301, 2, 'SISTEMA', 'req12'], [11.083514858907874, 1, 'CACHE1', 'req6'], [11.113252289345397, 2, 'TIMEOUT_req10', 'req10'], [12.223455074368893, 2, 'CACHE2', 'req10'], [12.458770904257367, 1, 'SISTEMA', 'req13'], [13.895231236844019, 3, 'SISTEMA', 'req11'], [14.112396368553213, 2, 'CACHE1', 'req10']]\n",
            "-------- \n",
            "\n",
            "\n",
            "\n",
            "Evento: [10.651629410212426, 1, 'TIMEOUT_req6', 'req6']\n",
            "\n",
            "No tempo 10.651629410212426 timeout para a requisição req6\n",
            "Requisição seguirá para o Servidor Alternativo e voltará em 0.49408615506585674 segundos\n",
            "\n",
            "Próximos eventos: [[10.96128101643301, 2, 'SISTEMA', 'req12'], [11.113252289345397, 2, 'TIMEOUT_req10', 'req10'], [11.145715565278282, 1, 'REQUISICAO_ATENDIDA_SERVIDOR_ALTER', 'req6'], [12.223455074368893, 2, 'CACHE2', 'req10'], [12.458770904257367, 1, 'SISTEMA', 'req13'], [13.895231236844019, 3, 'SISTEMA', 'req11'], [14.112396368553213, 2, 'CACHE1', 'req10']]\n",
            "-------- \n",
            "\n",
            "\n",
            "\n",
            "Evento: [10.96128101643301, 2, 'SISTEMA', 'req12']\n",
            "\n",
            "No tempo 10.96128101643301 cliente faz requisição 'req12' do conteúdo 2\n",
            "\n",
            "Timer req12 = 2.0006731504456066\n",
            "Canal 1 funcionou! Requisição seguirá para a cache 1 e cherará em 0.6068222244862518 segundos\n",
            "Canal 2 não funcionou!\n",
            "\n",
            "Próximos eventos: [[11.113252289345397, 2, 'TIMEOUT_req10', 'req10'], [11.145715565278282, 1, 'REQUISICAO_ATENDIDA_SERVIDOR_ALTER', 'req6'], [11.56810324091926, 2, 'CACHE1', 'req12'], [11.688013490823616, 2, 'SISTEMA', 'req14'], [12.223455074368893, 2, 'CACHE2', 'req10'], [12.458770904257367, 1, 'SISTEMA', 'req13'], [12.961954166878616, 2, 'TIMEOUT_req12', 'req12'], [13.895231236844019, 3, 'SISTEMA', 'req11'], [14.112396368553213, 2, 'CACHE1', 'req10']]\n",
            "-------- \n",
            "\n",
            "\n",
            "\n",
            "Evento: [11.113252289345397, 2, 'TIMEOUT_req10', 'req10']\n",
            "\n",
            "No tempo 11.113252289345397 timeout para a requisição req10\n",
            "Requisição seguirá para o Servidor Alternativo e voltará em 2.490114995364815 segundos\n",
            "\n",
            "Próximos eventos: [[11.145715565278282, 1, 'REQUISICAO_ATENDIDA_SERVIDOR_ALTER', 'req6'], [11.56810324091926, 2, 'CACHE1', 'req12'], [11.688013490823616, 2, 'SISTEMA', 'req14'], [12.458770904257367, 1, 'SISTEMA', 'req13'], [12.961954166878616, 2, 'TIMEOUT_req12', 'req12'], [13.603367284710211, 2, 'REQUISICAO_ATENDIDA_SERVIDOR_ALTER', 'req10'], [13.895231236844019, 3, 'SISTEMA', 'req11']]\n",
            "-------- \n",
            "\n",
            "\n",
            "\n",
            "Evento: [11.145715565278282, 1, 'REQUISICAO_ATENDIDA_SERVIDOR_ALTER', 'req6']\n",
            "\n",
            "Requisição  atendida pelo servidor alternativo\n",
            "\n",
            "Próximos eventos: [[11.56810324091926, 2, 'CACHE1', 'req12'], [11.688013490823616, 2, 'SISTEMA', 'req14'], [12.458770904257367, 1, 'SISTEMA', 'req13'], [12.961954166878616, 2, 'TIMEOUT_req12', 'req12'], [13.603367284710211, 2, 'REQUISICAO_ATENDIDA_SERVIDOR_ALTER', 'req10'], [13.895231236844019, 3, 'SISTEMA', 'req11']]\n",
            "-------- \n",
            "\n",
            "\n",
            "\n",
            "{'req5': [0.08521658078478112], 'req9': [1.1863330961377017], 'req1': [0.5212947433526356], 'req2': [0.5882375755025716], 'req3': [2.4077732964597334], 'req0': [2.7022973922999385], 'req4': [1.425725558316354], 'req7': [2.3229359146166093], 'req8': [0.7847205889106794], 'req6': [0.6342958196055655]}\n",
            "\n",
            "\n"
          ],
          "name": "stdout"
        },
        {
          "output_type": "execute_result",
          "data": {
            "text/plain": [
              "1.265883056598657"
            ]
          },
          "metadata": {
            "tags": []
          },
          "execution_count": 337
        }
      ]
    },
    {
      "cell_type": "markdown",
      "metadata": {
        "id": "cre3tICI1i5Q"
      },
      "source": [
        "#### 2º Caso - As caches possuem conteúdos populares diferentes"
      ]
    },
    {
      "cell_type": "code",
      "metadata": {
        "colab": {
          "base_uri": "https://localhost:8080/"
        },
        "id": "pLMV1-9_1i5R",
        "outputId": "8c45afa7-45d7-4cc9-fd4a-2d756dea02dc"
      },
      "source": [
        "simulacaoCenario3_4(10,\"Estatica\", 3, 2 , [1/3,1/3,1/3], teta = 1, depurar = True)"
      ],
      "execution_count": null,
      "outputs": [
        {
          "output_type": "stream",
          "text": [
            "[[0.5925709814032752, 3, 'SISTEMA', 'req2'], [0.9309623655463608, 1, 'SISTEMA', 'req0'], [1.3862163950038622, 2, 'SISTEMA', 'req1']]\n",
            "\n",
            "\n",
            "Evento: [0.5925709814032752, 3, 'SISTEMA', 'req2']\n",
            "\n",
            "No tempo 0.5925709814032752 cliente faz requisição 'req2' do conteúdo 3\n",
            "\n",
            "Timer req2 = 1.9169643526541686\n",
            "Canal 1 funcionou! Requisição seguirá para a cache 1 e cherará em 0.14901097332594662 segundos\n",
            "Canal 2 funcionou! Requisição seguirá para a cache 2 e cherará em 1.6159845637705725 segundos\n",
            "\n",
            "Próximos eventos: [[0.7415819547292218, 3, 'CACHE1', 'req2'], [0.895217054969618, 3, 'SISTEMA', 'req3'], [0.9309623655463608, 1, 'SISTEMA', 'req0'], [1.3862163950038622, 2, 'SISTEMA', 'req1'], [2.208555545173848, 3, 'CACHE2', 'req2'], [2.509535334057444, 3, 'TIMEOUT_req2', 'req2']]\n",
            "-------- \n",
            "\n",
            "\n",
            "\n",
            "Evento: [0.7415819547292218, 3, 'CACHE1', 'req2']\n",
            "\n",
            " No tempo 0.7415819547292218 a requisição 'req2 do conteúdo 3 chega na cache 1\n",
            "Estado atual cache 1:[2, 1]\n",
            "Cache não possui conteúdo da requisição )=\n",
            "\n",
            "Próximos eventos: [[0.895217054969618, 3, 'SISTEMA', 'req3'], [0.9309623655463608, 1, 'SISTEMA', 'req0'], [1.3862163950038622, 2, 'SISTEMA', 'req1'], [1.7668588078502907, 3, 'CACHE1_SERVIDOR', 'req2'], [2.208555545173848, 3, 'CACHE2', 'req2'], [2.509535334057444, 3, 'TIMEOUT_req2', 'req2']]\n",
            "-------- \n",
            "\n",
            "\n",
            "\n",
            "Evento: [0.895217054969618, 3, 'SISTEMA', 'req3']\n",
            "\n",
            "No tempo 0.895217054969618 cliente faz requisição 'req3' do conteúdo 3\n",
            "\n",
            "Timer req3 = 0.7046794967499938\n",
            "Canal 1 funcionou! Requisição seguirá para a cache 1 e cherará em 0.8268461250183358 segundos\n",
            "Canal 2 funcionou! Requisição seguirá para a cache 2 e cherará em 0.1276788883723967 segundos\n",
            "\n",
            "Próximos eventos: [[0.9309623655463608, 1, 'SISTEMA', 'req0'], [1.0228959433420146, 3, 'CACHE2', 'req3'], [1.3862163950038622, 2, 'SISTEMA', 'req1'], [1.5998965517196118, 3, 'TIMEOUT_req3', 'req3'], [1.7220631799879538, 3, 'CACHE1', 'req3'], [1.7668588078502907, 3, 'CACHE1_SERVIDOR', 'req2'], [2.208555545173848, 3, 'CACHE2', 'req2'], [2.509535334057444, 3, 'TIMEOUT_req2', 'req2'], [5.347115365255676, 3, 'SISTEMA', 'req4']]\n",
            "-------- \n",
            "\n",
            "\n",
            "\n",
            "Evento: [0.9309623655463608, 1, 'SISTEMA', 'req0']\n",
            "\n",
            "No tempo 0.9309623655463608 cliente faz requisição 'req0' do conteúdo 1\n",
            "\n",
            "Timer req0 = 0.4281609836461579\n",
            "Canal 1 funcionou! Requisição seguirá para a cache 1 e cherará em 0.21119701479532363 segundos\n",
            "Canal 2 funcionou! Requisição seguirá para a cache 2 e cherará em 2.0477141752016035 segundos\n",
            "\n",
            "Próximos eventos: [[1.0228959433420146, 3, 'CACHE2', 'req3'], [1.1421593803416845, 1, 'CACHE1', 'req0'], [1.3591233491925188, 1, 'TIMEOUT_req0', 'req0'], [1.3862163950038622, 2, 'SISTEMA', 'req1'], [1.5998965517196118, 3, 'TIMEOUT_req3', 'req3'], [1.7220631799879538, 3, 'CACHE1', 'req3'], [1.7668588078502907, 3, 'CACHE1_SERVIDOR', 'req2'], [2.208555545173848, 3, 'CACHE2', 'req2'], [2.244693989679591, 1, 'SISTEMA', 'req5'], [2.509535334057444, 3, 'TIMEOUT_req2', 'req2'], [2.9786765407479643, 1, 'CACHE2', 'req0'], [5.347115365255676, 3, 'SISTEMA', 'req4']]\n",
            "-------- \n",
            "\n",
            "\n",
            "\n",
            "Evento: [1.0228959433420146, 3, 'CACHE2', 'req3']\n",
            "\n",
            "No tempo 1.0228959433420146 a requisição do tipo 3 chega na cache 2\n",
            "Estado atual cache 2:[3, 2]\n",
            "Cache possui requisição!\n",
            "Cache permanece inalterada.\n",
            "Requisição req3 será atendida em 1.1930231536912679 segundos\n",
            "\n",
            "Próximos eventos: [[1.1421593803416845, 1, 'CACHE1', 'req0'], [1.3591233491925188, 1, 'TIMEOUT_req0', 'req0'], [1.3862163950038622, 2, 'SISTEMA', 'req1'], [1.5998965517196118, 3, 'TIMEOUT_req3', 'req3'], [1.7220631799879538, 3, 'CACHE1', 'req3'], [1.7668588078502907, 3, 'CACHE1_SERVIDOR', 'req2'], [2.208555545173848, 3, 'CACHE2', 'req2'], [2.2159190970332823, 3, 'REQUISICAO_ATENDIDA_C2', 'req3'], [2.244693989679591, 1, 'SISTEMA', 'req5'], [2.509535334057444, 3, 'TIMEOUT_req2', 'req2'], [2.9786765407479643, 1, 'CACHE2', 'req0'], [5.347115365255676, 3, 'SISTEMA', 'req4']]\n",
            "-------- \n",
            "\n",
            "\n",
            "\n",
            "Evento: [1.1421593803416845, 1, 'CACHE1', 'req0']\n",
            "\n",
            " No tempo 1.1421593803416845 a requisição 'req0 do conteúdo 1 chega na cache 1\n",
            "Estado atual cache 1:[2, 1]\n",
            "Cache possui requisição!\n",
            "Cache permanece inalterada.\n",
            "Requisição req0 será atendida em 0.026514922476623303 segundos\n",
            "\n",
            "Próximos eventos: [[1.1686743028183078, 1, 'REQUISICAO_ATENDIDA_C1', 'req0'], [1.3591233491925188, 1, 'TIMEOUT_req0', 'req0'], [1.3862163950038622, 2, 'SISTEMA', 'req1'], [1.5998965517196118, 3, 'TIMEOUT_req3', 'req3'], [1.7220631799879538, 3, 'CACHE1', 'req3'], [1.7668588078502907, 3, 'CACHE1_SERVIDOR', 'req2'], [2.208555545173848, 3, 'CACHE2', 'req2'], [2.2159190970332823, 3, 'REQUISICAO_ATENDIDA_C2', 'req3'], [2.244693989679591, 1, 'SISTEMA', 'req5'], [2.509535334057444, 3, 'TIMEOUT_req2', 'req2'], [2.9786765407479643, 1, 'CACHE2', 'req0'], [5.347115365255676, 3, 'SISTEMA', 'req4']]\n",
            "-------- \n",
            "\n",
            "\n",
            "\n",
            "Evento: [1.1686743028183078, 1, 'REQUISICAO_ATENDIDA_C1', 'req0']\n",
            "\n",
            "No tempo 1.1686743028183078 a requisição req0 do conteúdo 1 foi atendida pela cache 1\n",
            "\n",
            "Próximos eventos: [[1.3862163950038622, 2, 'SISTEMA', 'req1'], [1.5998965517196118, 3, 'TIMEOUT_req3', 'req3'], [1.7220631799879538, 3, 'CACHE1', 'req3'], [1.7668588078502907, 3, 'CACHE1_SERVIDOR', 'req2'], [2.208555545173848, 3, 'CACHE2', 'req2'], [2.2159190970332823, 3, 'REQUISICAO_ATENDIDA_C2', 'req3'], [2.244693989679591, 1, 'SISTEMA', 'req5'], [2.509535334057444, 3, 'TIMEOUT_req2', 'req2'], [5.347115365255676, 3, 'SISTEMA', 'req4']]\n",
            "-------- \n",
            "\n",
            "\n",
            "\n",
            "Evento: [1.3862163950038622, 2, 'SISTEMA', 'req1']\n",
            "\n",
            "No tempo 1.3862163950038622 cliente faz requisição 'req1' do conteúdo 2\n",
            "\n",
            "Timer req1 = 0.47952820781870725\n",
            "Canal 1 funcionou! Requisição seguirá para a cache 1 e cherará em 1.385937574480451 segundos\n",
            "Canal 2 funcionou! Requisição seguirá para a cache 2 e cherará em 2.4194968302907074 segundos\n",
            "\n",
            "Próximos eventos: [[1.5998965517196118, 3, 'TIMEOUT_req3', 'req3'], [1.7220631799879538, 3, 'CACHE1', 'req3'], [1.7668588078502907, 3, 'CACHE1_SERVIDOR', 'req2'], [1.8657446028225695, 2, 'TIMEOUT_req1', 'req1'], [2.208555545173848, 3, 'CACHE2', 'req2'], [2.2159190970332823, 3, 'REQUISICAO_ATENDIDA_C2', 'req3'], [2.244693989679591, 1, 'SISTEMA', 'req5'], [2.509535334057444, 3, 'TIMEOUT_req2', 'req2'], [2.772153969484313, 2, 'CACHE1', 'req1'], [3.053728439387167, 2, 'SISTEMA', 'req6'], [3.8057132252945696, 2, 'CACHE2', 'req1'], [5.347115365255676, 3, 'SISTEMA', 'req4']]\n",
            "-------- \n",
            "\n",
            "\n",
            "\n",
            "Evento: [1.5998965517196118, 3, 'TIMEOUT_req3', 'req3']\n",
            "\n",
            "No tempo 1.5998965517196118 timeout para a requisição req3\n",
            "Requisição seguirá para o Servidor Alternativo e voltará em 0.16642807328344375 segundos\n",
            "\n",
            "Próximos eventos: [[1.7663246250030555, 3, 'REQUISICAO_ATENDIDA_SERVIDOR_ALTER', 'req3'], [1.7668588078502907, 3, 'CACHE1_SERVIDOR', 'req2'], [1.8657446028225695, 2, 'TIMEOUT_req1', 'req1'], [2.208555545173848, 3, 'CACHE2', 'req2'], [2.244693989679591, 1, 'SISTEMA', 'req5'], [2.509535334057444, 3, 'TIMEOUT_req2', 'req2'], [2.772153969484313, 2, 'CACHE1', 'req1'], [3.053728439387167, 2, 'SISTEMA', 'req6'], [3.8057132252945696, 2, 'CACHE2', 'req1'], [5.347115365255676, 3, 'SISTEMA', 'req4']]\n",
            "-------- \n",
            "\n",
            "\n",
            "\n",
            "Evento: [1.7663246250030555, 3, 'REQUISICAO_ATENDIDA_SERVIDOR_ALTER', 'req3']\n",
            "\n",
            "Requisição  atendida pelo servidor alternativo\n",
            "Requisições ['req2'] atendidas pois também eram para o conteúdo 3\n",
            "\n",
            "Próximos eventos: [[1.8657446028225695, 2, 'TIMEOUT_req1', 'req1'], [2.244693989679591, 1, 'SISTEMA', 'req5'], [2.772153969484313, 2, 'CACHE1', 'req1'], [3.053728439387167, 2, 'SISTEMA', 'req6'], [3.8057132252945696, 2, 'CACHE2', 'req1'], [5.347115365255676, 3, 'SISTEMA', 'req4']]\n",
            "-------- \n",
            "\n",
            "\n",
            "\n",
            "Evento: [1.8657446028225695, 2, 'TIMEOUT_req1', 'req1']\n",
            "\n",
            "No tempo 1.8657446028225695 timeout para a requisição req1\n",
            "Requisição seguirá para o Servidor Alternativo e voltará em 2.601393635960647 segundos\n",
            "\n",
            "Próximos eventos: [[2.244693989679591, 1, 'SISTEMA', 'req5'], [3.053728439387167, 2, 'SISTEMA', 'req6'], [4.467138238783217, 2, 'REQUISICAO_ATENDIDA_SERVIDOR_ALTER', 'req1'], [5.347115365255676, 3, 'SISTEMA', 'req4']]\n",
            "-------- \n",
            "\n",
            "\n",
            "\n",
            "Evento: [2.244693989679591, 1, 'SISTEMA', 'req5']\n",
            "\n",
            "No tempo 2.244693989679591 cliente faz requisição 'req5' do conteúdo 1\n",
            "\n",
            "Timer req5 = 0.2365431569680538\n",
            "Canal 1 não funcionou!\n",
            "Canal 2 funcionou! Requisição seguirá para a cache 2 e cherará em 2.048057433824315 segundos\n",
            "\n",
            "Próximos eventos: [[2.481237146647645, 1, 'TIMEOUT_req5', 'req5'], [3.053728439387167, 2, 'SISTEMA', 'req6'], [4.292751423503907, 1, 'CACHE2', 'req5'], [4.467138238783217, 2, 'REQUISICAO_ATENDIDA_SERVIDOR_ALTER', 'req1'], [4.555196598586687, 1, 'SISTEMA', 'req7'], [5.347115365255676, 3, 'SISTEMA', 'req4']]\n",
            "-------- \n",
            "\n",
            "\n",
            "\n",
            "Evento: [2.481237146647645, 1, 'TIMEOUT_req5', 'req5']\n",
            "\n",
            "No tempo 2.481237146647645 timeout para a requisição req5\n",
            "Requisição seguirá para o Servidor Alternativo e voltará em 1.7193716394539542 segundos\n",
            "\n",
            "Próximos eventos: [[3.053728439387167, 2, 'SISTEMA', 'req6'], [4.200608786101599, 1, 'REQUISICAO_ATENDIDA_SERVIDOR_ALTER', 'req5'], [4.467138238783217, 2, 'REQUISICAO_ATENDIDA_SERVIDOR_ALTER', 'req1'], [4.555196598586687, 1, 'SISTEMA', 'req7'], [5.347115365255676, 3, 'SISTEMA', 'req4']]\n",
            "-------- \n",
            "\n",
            "\n",
            "\n",
            "Evento: [3.053728439387167, 2, 'SISTEMA', 'req6']\n",
            "\n",
            "No tempo 3.053728439387167 cliente faz requisição 'req6' do conteúdo 2\n",
            "\n",
            "Timer req6 = 5.734120257595389\n",
            "Canal 1 funcionou! Requisição seguirá para a cache 1 e cherará em 1.4404059217939624 segundos\n",
            "Canal 2 funcionou! Requisição seguirá para a cache 2 e cherará em 0.069114567846048 segundos\n",
            "\n",
            "Próximos eventos: [[3.122843007233215, 2, 'CACHE2', 'req6'], [4.200608786101599, 1, 'REQUISICAO_ATENDIDA_SERVIDOR_ALTER', 'req5'], [4.467138238783217, 2, 'REQUISICAO_ATENDIDA_SERVIDOR_ALTER', 'req1'], [4.494134361181129, 2, 'CACHE1', 'req6'], [4.555196598586687, 1, 'SISTEMA', 'req7'], [5.347115365255676, 3, 'SISTEMA', 'req4'], [6.185819272550519, 2, 'SISTEMA', 'req8'], [8.787848696982557, 2, 'TIMEOUT_req6', 'req6']]\n",
            "-------- \n",
            "\n",
            "\n",
            "\n",
            "Evento: [3.122843007233215, 2, 'CACHE2', 'req6']\n",
            "\n",
            "No tempo 3.122843007233215 a requisição do tipo 2 chega na cache 2\n",
            "Estado atual cache 2:[3, 2]\n",
            "Cache possui requisição!\n",
            "Cache permanece inalterada.\n",
            "Requisição req6 será atendida em 0.19196703449675523 segundos\n",
            "\n",
            "Próximos eventos: [[3.31481004172997, 2, 'REQUISICAO_ATENDIDA_C2', 'req6'], [4.200608786101599, 1, 'REQUISICAO_ATENDIDA_SERVIDOR_ALTER', 'req5'], [4.467138238783217, 2, 'REQUISICAO_ATENDIDA_SERVIDOR_ALTER', 'req1'], [4.494134361181129, 2, 'CACHE1', 'req6'], [4.555196598586687, 1, 'SISTEMA', 'req7'], [5.347115365255676, 3, 'SISTEMA', 'req4'], [6.185819272550519, 2, 'SISTEMA', 'req8'], [8.787848696982557, 2, 'TIMEOUT_req6', 'req6']]\n",
            "-------- \n",
            "\n",
            "\n",
            "\n",
            "Evento: [3.31481004172997, 2, 'REQUISICAO_ATENDIDA_C2', 'req6']\n",
            "\n",
            "No tempo 3.31481004172997 a requisição req6 do conteúdo 2 foi atendida pela cache 2\n",
            "Requisições ['req1'] atendidas pois também eram para o conteúdo 2\n",
            "\n",
            "Próximos eventos: [[4.200608786101599, 1, 'REQUISICAO_ATENDIDA_SERVIDOR_ALTER', 'req5'], [4.555196598586687, 1, 'SISTEMA', 'req7'], [5.347115365255676, 3, 'SISTEMA', 'req4'], [6.185819272550519, 2, 'SISTEMA', 'req8']]\n",
            "-------- \n",
            "\n",
            "\n",
            "\n",
            "Evento: [4.200608786101599, 1, 'REQUISICAO_ATENDIDA_SERVIDOR_ALTER', 'req5']\n",
            "\n",
            "Requisição  atendida pelo servidor alternativo\n",
            "\n",
            "Próximos eventos: [[4.555196598586687, 1, 'SISTEMA', 'req7'], [5.347115365255676, 3, 'SISTEMA', 'req4'], [6.185819272550519, 2, 'SISTEMA', 'req8']]\n",
            "-------- \n",
            "\n",
            "\n",
            "\n",
            "Evento: [4.555196598586687, 1, 'SISTEMA', 'req7']\n",
            "\n",
            "No tempo 4.555196598586687 cliente faz requisição 'req7' do conteúdo 1\n",
            "\n",
            "Timer req7 = 0.25041992722583456\n",
            "Canal 1 funcionou! Requisição seguirá para a cache 1 e cherará em 0.03703967614402396 segundos\n",
            "Canal 2 funcionou! Requisição seguirá para a cache 2 e cherará em 0.04823614921707416 segundos\n",
            "\n",
            "Próximos eventos: [[4.592236274730712, 1, 'CACHE1', 'req7'], [4.603432747803762, 1, 'CACHE2', 'req7'], [4.805616525812522, 1, 'TIMEOUT_req7', 'req7'], [5.347115365255676, 3, 'SISTEMA', 'req4'], [6.185819272550519, 2, 'SISTEMA', 'req8'], [18.213698093248684, 1, 'SISTEMA', 'req9']]\n",
            "-------- \n",
            "\n",
            "\n",
            "\n",
            "Evento: [4.592236274730712, 1, 'CACHE1', 'req7']\n",
            "\n",
            " No tempo 4.592236274730712 a requisição 'req7 do conteúdo 1 chega na cache 1\n",
            "Estado atual cache 1:[2, 1]\n",
            "Cache possui requisição!\n",
            "Cache permanece inalterada.\n",
            "Requisição req7 será atendida em 1.0793684195298794 segundos\n",
            "\n",
            "Próximos eventos: [[4.603432747803762, 1, 'CACHE2', 'req7'], [4.805616525812522, 1, 'TIMEOUT_req7', 'req7'], [5.347115365255676, 3, 'SISTEMA', 'req4'], [5.671604694260591, 1, 'REQUISICAO_ATENDIDA_C1', 'req7'], [6.185819272550519, 2, 'SISTEMA', 'req8'], [18.213698093248684, 1, 'SISTEMA', 'req9']]\n",
            "-------- \n",
            "\n",
            "\n",
            "\n",
            "Evento: [4.603432747803762, 1, 'CACHE2', 'req7']\n",
            "\n",
            "No tempo 4.603432747803762 a requisição do tipo 1 chega na cache 2\n",
            "Estado atual cache 2:[3, 2]\n",
            "Cache não possui conteúdo da requisição )=\n",
            "\n",
            "Próximos eventos: [[4.805616525812522, 1, 'TIMEOUT_req7', 'req7'], [5.347115365255676, 3, 'SISTEMA', 'req4'], [5.671604694260591, 1, 'REQUISICAO_ATENDIDA_C1', 'req7'], [5.844799769030153, 1, 'CACHE2_SERVIDOR', 'req7'], [6.185819272550519, 2, 'SISTEMA', 'req8'], [18.213698093248684, 1, 'SISTEMA', 'req9']]\n",
            "-------- \n",
            "\n",
            "\n",
            "\n",
            "Evento: [4.805616525812522, 1, 'TIMEOUT_req7', 'req7']\n",
            "\n",
            "No tempo 4.805616525812522 timeout para a requisição req7\n",
            "Requisição seguirá para o Servidor Alternativo e voltará em 2.436827908317353 segundos\n",
            "\n",
            "Próximos eventos: [[5.347115365255676, 3, 'SISTEMA', 'req4'], [6.185819272550519, 2, 'SISTEMA', 'req8'], [7.242444434129875, 1, 'REQUISICAO_ATENDIDA_SERVIDOR_ALTER', 'req7'], [18.213698093248684, 1, 'SISTEMA', 'req9']]\n",
            "-------- \n",
            "\n",
            "\n",
            "\n",
            "Evento: [5.347115365255676, 3, 'SISTEMA', 'req4']\n",
            "\n",
            "No tempo 5.347115365255676 cliente faz requisição 'req4' do conteúdo 3\n",
            "\n",
            "Timer req4 = 1.9445271136789937\n",
            "Canal 1 funcionou! Requisição seguirá para a cache 1 e cherará em 0.5443753608310352 segundos\n",
            "Canal 2 funcionou! Requisição seguirá para a cache 2 e cherará em 0.19592872005842998 segundos\n",
            "\n",
            "Próximos eventos: [[5.38641100297822, 3, 'SISTEMA', 'req10'], [5.543044085314106, 3, 'CACHE2', 'req4'], [5.891490726086711, 3, 'CACHE1', 'req4'], [6.185819272550519, 2, 'SISTEMA', 'req8'], [7.242444434129875, 1, 'REQUISICAO_ATENDIDA_SERVIDOR_ALTER', 'req7'], [7.291642478934669, 3, 'TIMEOUT_req4', 'req4'], [18.213698093248684, 1, 'SISTEMA', 'req9']]\n",
            "-------- \n",
            "\n",
            "\n",
            "\n",
            "Evento: [5.38641100297822, 3, 'SISTEMA', 'req10']\n",
            "\n",
            "No tempo 5.38641100297822 cliente faz requisição 'req10' do conteúdo 3\n",
            "\n",
            "Timer req10 = 3.5495291463599883\n",
            "Canal 1 funcionou! Requisição seguirá para a cache 1 e cherará em 0.2922640559374202 segundos\n",
            "Canal 2 funcionou! Requisição seguirá para a cache 2 e cherará em 0.11237034652434447 segundos\n",
            "\n",
            "Próximos eventos: [[5.498781349502565, 3, 'CACHE2', 'req10'], [5.543044085314106, 3, 'CACHE2', 'req4'], [5.6786750589156405, 3, 'CACHE1', 'req10'], [5.739096450964868, 3, 'SISTEMA', 'req11'], [5.891490726086711, 3, 'CACHE1', 'req4'], [6.185819272550519, 2, 'SISTEMA', 'req8'], [7.242444434129875, 1, 'REQUISICAO_ATENDIDA_SERVIDOR_ALTER', 'req7'], [7.291642478934669, 3, 'TIMEOUT_req4', 'req4'], [8.935940149338208, 3, 'TIMEOUT_req10', 'req10'], [18.213698093248684, 1, 'SISTEMA', 'req9']]\n",
            "-------- \n",
            "\n",
            "\n",
            "\n",
            "Evento: [5.498781349502565, 3, 'CACHE2', 'req10']\n",
            "\n",
            "No tempo 5.498781349502565 a requisição do tipo 3 chega na cache 2\n",
            "Estado atual cache 2:[3, 2]\n",
            "Cache possui requisição!\n",
            "Cache permanece inalterada.\n",
            "Requisição req10 será atendida em 3.574438175069167 segundos\n",
            "\n",
            "Próximos eventos: [[5.543044085314106, 3, 'CACHE2', 'req4'], [5.6786750589156405, 3, 'CACHE1', 'req10'], [5.739096450964868, 3, 'SISTEMA', 'req11'], [5.891490726086711, 3, 'CACHE1', 'req4'], [6.185819272550519, 2, 'SISTEMA', 'req8'], [7.242444434129875, 1, 'REQUISICAO_ATENDIDA_SERVIDOR_ALTER', 'req7'], [7.291642478934669, 3, 'TIMEOUT_req4', 'req4'], [8.935940149338208, 3, 'TIMEOUT_req10', 'req10'], [9.073219524571732, 3, 'REQUISICAO_ATENDIDA_C2', 'req10'], [18.213698093248684, 1, 'SISTEMA', 'req9']]\n",
            "-------- \n",
            "\n",
            "\n",
            "\n",
            "Evento: [5.543044085314106, 3, 'CACHE2', 'req4']\n",
            "\n",
            "No tempo 5.543044085314106 a requisição do tipo 3 chega na cache 2\n",
            "Estado atual cache 2:[3, 2]\n",
            "Cache possui requisição!\n",
            "Cache permanece inalterada.\n",
            "Requisição req4 será atendida em 1.6827751880428434 segundos\n",
            "\n",
            "Próximos eventos: [[5.6786750589156405, 3, 'CACHE1', 'req10'], [5.739096450964868, 3, 'SISTEMA', 'req11'], [5.891490726086711, 3, 'CACHE1', 'req4'], [6.185819272550519, 2, 'SISTEMA', 'req8'], [7.225819273356949, 3, 'REQUISICAO_ATENDIDA_C2', 'req4'], [7.242444434129875, 1, 'REQUISICAO_ATENDIDA_SERVIDOR_ALTER', 'req7'], [7.291642478934669, 3, 'TIMEOUT_req4', 'req4'], [8.935940149338208, 3, 'TIMEOUT_req10', 'req10'], [9.073219524571732, 3, 'REQUISICAO_ATENDIDA_C2', 'req10'], [18.213698093248684, 1, 'SISTEMA', 'req9']]\n",
            "-------- \n",
            "\n",
            "\n",
            "\n",
            "Evento: [5.6786750589156405, 3, 'CACHE1', 'req10']\n",
            "\n",
            " No tempo 5.6786750589156405 a requisição 'req10 do conteúdo 3 chega na cache 1\n",
            "Estado atual cache 1:[2, 1]\n",
            "Cache não possui conteúdo da requisição )=\n",
            "\n",
            "Próximos eventos: [[5.739096450964868, 3, 'SISTEMA', 'req11'], [5.798406588807674, 3, 'CACHE1_SERVIDOR', 'req10'], [5.891490726086711, 3, 'CACHE1', 'req4'], [6.185819272550519, 2, 'SISTEMA', 'req8'], [7.225819273356949, 3, 'REQUISICAO_ATENDIDA_C2', 'req4'], [7.242444434129875, 1, 'REQUISICAO_ATENDIDA_SERVIDOR_ALTER', 'req7'], [7.291642478934669, 3, 'TIMEOUT_req4', 'req4'], [8.935940149338208, 3, 'TIMEOUT_req10', 'req10'], [9.073219524571732, 3, 'REQUISICAO_ATENDIDA_C2', 'req10'], [18.213698093248684, 1, 'SISTEMA', 'req9']]\n",
            "-------- \n",
            "\n",
            "\n",
            "\n",
            "Evento: [5.739096450964868, 3, 'SISTEMA', 'req11']\n",
            "\n",
            "No tempo 5.739096450964868 cliente faz requisição 'req11' do conteúdo 3\n",
            "\n",
            "Timer req11 = 0.20375078348054826\n",
            "Canal 1 não funcionou!\n",
            "Canal 2 funcionou! Requisição seguirá para a cache 2 e cherará em 0.9182577293154256 segundos\n",
            "\n",
            "Próximos eventos: [[5.798406588807674, 3, 'CACHE1_SERVIDOR', 'req10'], [5.891490726086711, 3, 'CACHE1', 'req4'], [5.942847234445416, 3, 'TIMEOUT_req11', 'req11'], [6.185819272550519, 2, 'SISTEMA', 'req8'], [6.657354180280294, 3, 'CACHE2', 'req11'], [7.225819273356949, 3, 'REQUISICAO_ATENDIDA_C2', 'req4'], [7.242444434129875, 1, 'REQUISICAO_ATENDIDA_SERVIDOR_ALTER', 'req7'], [7.291642478934669, 3, 'TIMEOUT_req4', 'req4'], [7.800220626190187, 3, 'SISTEMA', 'req12'], [8.935940149338208, 3, 'TIMEOUT_req10', 'req10'], [9.073219524571732, 3, 'REQUISICAO_ATENDIDA_C2', 'req10'], [18.213698093248684, 1, 'SISTEMA', 'req9']]\n",
            "-------- \n",
            "\n",
            "\n",
            "\n",
            "Evento: [5.798406588807674, 3, 'CACHE1_SERVIDOR', 'req10']\n",
            "\n",
            " No tempo 5.798406588807674 cache 1 recebe conteúdo 3 para a requisição req10 solicitado ao servidor\n",
            "Estado anterior da cache 1:[2, 1]\n",
            "Cache permanece inalterada.\n",
            "\n",
            "Próximos eventos: [[5.891490726086711, 3, 'CACHE1', 'req4'], [5.942847234445416, 3, 'TIMEOUT_req11', 'req11'], [6.185819272550519, 2, 'SISTEMA', 'req8'], [6.657354180280294, 3, 'CACHE2', 'req11'], [7.225819273356949, 3, 'REQUISICAO_ATENDIDA_C2', 'req4'], [7.242444434129875, 1, 'REQUISICAO_ATENDIDA_SERVIDOR_ALTER', 'req7'], [7.291642478934669, 3, 'TIMEOUT_req4', 'req4'], [7.800220626190187, 3, 'SISTEMA', 'req12'], [7.963997595610216, 3, 'REQUISICAO_ATENDIDA_C1', 'req10'], [8.935940149338208, 3, 'TIMEOUT_req10', 'req10'], [9.073219524571732, 3, 'REQUISICAO_ATENDIDA_C2', 'req10'], [18.213698093248684, 1, 'SISTEMA', 'req9']]\n",
            "-------- \n",
            "\n",
            "\n",
            "\n",
            "Evento: [5.891490726086711, 3, 'CACHE1', 'req4']\n",
            "\n",
            " No tempo 5.891490726086711 a requisição 'req4 do conteúdo 3 chega na cache 1\n",
            "Estado atual cache 1:[2, 1]\n",
            "Cache não possui conteúdo da requisição )=\n",
            "\n",
            "Próximos eventos: [[5.942847234445416, 3, 'TIMEOUT_req11', 'req11'], [6.185819272550519, 2, 'SISTEMA', 'req8'], [6.657354180280294, 3, 'CACHE2', 'req11'], [7.007740990851588, 3, 'CACHE1_SERVIDOR', 'req4'], [7.225819273356949, 3, 'REQUISICAO_ATENDIDA_C2', 'req4'], [7.242444434129875, 1, 'REQUISICAO_ATENDIDA_SERVIDOR_ALTER', 'req7'], [7.291642478934669, 3, 'TIMEOUT_req4', 'req4'], [7.800220626190187, 3, 'SISTEMA', 'req12'], [7.963997595610216, 3, 'REQUISICAO_ATENDIDA_C1', 'req10'], [8.935940149338208, 3, 'TIMEOUT_req10', 'req10'], [9.073219524571732, 3, 'REQUISICAO_ATENDIDA_C2', 'req10'], [18.213698093248684, 1, 'SISTEMA', 'req9']]\n",
            "-------- \n",
            "\n",
            "\n",
            "\n",
            "Evento: [5.942847234445416, 3, 'TIMEOUT_req11', 'req11']\n",
            "\n",
            "No tempo 5.942847234445416 timeout para a requisição req11\n",
            "Requisição seguirá para o Servidor Alternativo e voltará em 0.06880230730873127 segundos\n",
            "\n",
            "Próximos eventos: [[6.011649541754148, 3, 'REQUISICAO_ATENDIDA_SERVIDOR_ALTER', 'req11'], [6.185819272550519, 2, 'SISTEMA', 'req8'], [7.007740990851588, 3, 'CACHE1_SERVIDOR', 'req4'], [7.225819273356949, 3, 'REQUISICAO_ATENDIDA_C2', 'req4'], [7.242444434129875, 1, 'REQUISICAO_ATENDIDA_SERVIDOR_ALTER', 'req7'], [7.291642478934669, 3, 'TIMEOUT_req4', 'req4'], [7.800220626190187, 3, 'SISTEMA', 'req12'], [7.963997595610216, 3, 'REQUISICAO_ATENDIDA_C1', 'req10'], [8.935940149338208, 3, 'TIMEOUT_req10', 'req10'], [9.073219524571732, 3, 'REQUISICAO_ATENDIDA_C2', 'req10'], [18.213698093248684, 1, 'SISTEMA', 'req9']]\n",
            "-------- \n",
            "\n",
            "\n",
            "\n",
            "Evento: [6.011649541754148, 3, 'REQUISICAO_ATENDIDA_SERVIDOR_ALTER', 'req11']\n",
            "\n",
            "Requisição  atendida pelo servidor alternativo\n",
            "Requisições ['req4', 'req10'] atendidas pois também eram para o conteúdo 3\n",
            "\n",
            "Próximos eventos: [[6.185819272550519, 2, 'SISTEMA', 'req8'], [7.242444434129875, 1, 'REQUISICAO_ATENDIDA_SERVIDOR_ALTER', 'req7'], [7.800220626190187, 3, 'SISTEMA', 'req12'], [18.213698093248684, 1, 'SISTEMA', 'req9']]\n",
            "-------- \n",
            "\n",
            "\n",
            "\n",
            "Evento: [6.185819272550519, 2, 'SISTEMA', 'req8']\n",
            "\n",
            "No tempo 6.185819272550519 cliente faz requisição 'req8' do conteúdo 2\n",
            "\n",
            "Timer req8 = 0.2091109986625367\n",
            "Canal 1 funcionou! Requisição seguirá para a cache 1 e cherará em 0.5093830445386954 segundos\n",
            "Canal 2 funcionou! Requisição seguirá para a cache 2 e cherará em 0.4573944127598584 segundos\n",
            "\n",
            "Próximos eventos: [[6.394930271213056, 2, 'TIMEOUT_req8', 'req8'], [6.643213685310378, 2, 'CACHE2', 'req8'], [6.6952023170892145, 2, 'CACHE1', 'req8'], [7.242444434129875, 1, 'REQUISICAO_ATENDIDA_SERVIDOR_ALTER', 'req7'], [7.800220626190187, 3, 'SISTEMA', 'req12'], [8.32429867292565, 2, 'SISTEMA', 'req13'], [18.213698093248684, 1, 'SISTEMA', 'req9']]\n",
            "-------- \n",
            "\n",
            "\n",
            "\n",
            "Evento: [6.394930271213056, 2, 'TIMEOUT_req8', 'req8']\n",
            "\n",
            "No tempo 6.394930271213056 timeout para a requisição req8\n",
            "Requisição seguirá para o Servidor Alternativo e voltará em 2.631191499751009 segundos\n",
            "\n",
            "Próximos eventos: [[7.242444434129875, 1, 'REQUISICAO_ATENDIDA_SERVIDOR_ALTER', 'req7'], [7.800220626190187, 3, 'SISTEMA', 'req12'], [8.32429867292565, 2, 'SISTEMA', 'req13'], [9.026121770964064, 2, 'REQUISICAO_ATENDIDA_SERVIDOR_ALTER', 'req8'], [18.213698093248684, 1, 'SISTEMA', 'req9']]\n",
            "-------- \n",
            "\n",
            "\n",
            "\n",
            "Evento: [7.242444434129875, 1, 'REQUISICAO_ATENDIDA_SERVIDOR_ALTER', 'req7']\n",
            "\n",
            "Requisição  atendida pelo servidor alternativo\n",
            "\n",
            "Próximos eventos: [[7.800220626190187, 3, 'SISTEMA', 'req12'], [8.32429867292565, 2, 'SISTEMA', 'req13'], [9.026121770964064, 2, 'REQUISICAO_ATENDIDA_SERVIDOR_ALTER', 'req8'], [18.213698093248684, 1, 'SISTEMA', 'req9']]\n",
            "-------- \n",
            "\n",
            "\n",
            "\n",
            "{'req1': [1.928593646726108], 'req6': [0.2610816023428031], 'req2': [1.1737536435997802], 'req3': [0.8711075700334375], 'req5': [1.9559147964220078], 'req4': [0.6645341764984716], 'req10': [0.6252385387759274], 'req11': [0.2725530907892795], 'req7': [2.6872478355431877]}\n",
            "\n",
            "\n"
          ],
          "name": "stdout"
        },
        {
          "output_type": "execute_result",
          "data": {
            "text/plain": [
              "1.1600027667478894"
            ]
          },
          "metadata": {
            "tags": []
          },
          "execution_count": 338
        }
      ]
    },
    {
      "cell_type": "markdown",
      "metadata": {
        "id": "IKB09PHf1i5R"
      },
      "source": [
        "## Intervalos de Confiança para cada Caso"
      ]
    },
    {
      "cell_type": "markdown",
      "metadata": {
        "id": "BFbMb-QiVJuo"
      },
      "source": [
        "<h4> Abaixo é calculado o intervalo de confiança para cada caso. O intervalo é calculado pela função auxiliar \"intervaloDeConfianca\" em que se realiza 10 simulações onde em cada simulação são feitas 100000 requisições. Os limites inferiores e superiorers do intervalo são obtidos da seguinte maneira:\n",
        "\n",
        "$limite\\ inferior = (media\\ dos\\ resultados\\ das\\ simulacoes\\ - 1.96*desvio\\ padrao\\ dos\\ resultados\\ das\\ simulacoes)/ \\ raiz\\ quadrada\\ do\\ numero\\ de\\ simulacoes$\n",
        "\n",
        "$limite\\ superior\\ = (media\\ dos\\ resultados\\ das\\ simulacoes\\ + 1.96*desvio\\ padrao\\ dos\\ resultados\\ das\\ simulações)/ \\ raiz\\ quadrada\\ do\\ numero\\ de\\ simulacoes$"
      ]
    },
    {
      "cell_type": "markdown",
      "metadata": {
        "id": "5DrkqOmh1i5R"
      },
      "source": [
        "### Caso FIFO"
      ]
    },
    {
      "cell_type": "code",
      "metadata": {
        "colab": {
          "base_uri": "https://localhost:8080/"
        },
        "id": "z-NpxCsP1i5S",
        "outputId": "b9f5978c-dcc6-4350-ee00-f6df9a826458"
      },
      "source": [
        "intervaloConfiancaFIFOC4 = intervaloDeConfianca(10,4, \"FIFO\", 3 ,2, [1/3,1/3,1/3], teta = 1)"
      ],
      "execution_count": null,
      "outputs": [
        {
          "output_type": "stream",
          "text": [
            "Cenário: 4\n",
            "Caso: FIFO\n",
            "Tamanho de cada cache: 2\n",
            "Número de conteúdos: 3\n",
            "Intervalo de Confiança: [1.0727173943653592, 1.0788642051590867]\n",
            "-------- \n",
            "\n"
          ],
          "name": "stdout"
        }
      ]
    },
    {
      "cell_type": "markdown",
      "metadata": {
        "id": "VKyp1QQa1i5S"
      },
      "source": [
        "### Caso LRU"
      ]
    },
    {
      "cell_type": "code",
      "metadata": {
        "colab": {
          "base_uri": "https://localhost:8080/"
        },
        "id": "wIg-rR-P1i5S",
        "outputId": "0c2f2475-498b-44b3-e0dc-aa046e32cfe3"
      },
      "source": [
        "intervaloConfiancaLRUC3 = intervaloDeConfianca(10,3 , \"LRU\", 3 ,2, [1/3,1/3,1/3], teta = 1)"
      ],
      "execution_count": null,
      "outputs": [
        {
          "output_type": "stream",
          "text": [
            "Cenário: 3\n",
            "Caso: LRU\n",
            "Tamanho de cada cache: 2\n",
            "Número de conteúdos: 3\n",
            "Intervalo de Confiança: [1.0731988932199568, 1.0785435093502551]\n",
            "-------- \n",
            "\n"
          ],
          "name": "stdout"
        }
      ]
    },
    {
      "cell_type": "markdown",
      "metadata": {
        "id": "miZiRFgQ1i5T"
      },
      "source": [
        "### Caso Random"
      ]
    },
    {
      "cell_type": "code",
      "metadata": {
        "colab": {
          "base_uri": "https://localhost:8080/"
        },
        "id": "iNyQG8X81i5T",
        "outputId": "ca7dd175-9386-4385-94c7-6dbbe0246e44"
      },
      "source": [
        "intervaloConfiancaRandomC3 = intervaloDeConfianca(10,3 , \"Random\", 3 ,2, [1/3,1/3,1/3], teta = 1)"
      ],
      "execution_count": null,
      "outputs": [
        {
          "output_type": "stream",
          "text": [
            "Cenário: 3\n",
            "Caso: Random\n",
            "Tamanho de cada cache: 2\n",
            "Número de conteúdos: 3\n",
            "Intervalo de Confiança: [1.0735749261354124, 1.078455900411672]\n",
            "-------- \n",
            "\n"
          ],
          "name": "stdout"
        }
      ]
    },
    {
      "cell_type": "markdown",
      "metadata": {
        "id": "82-4uBAk1i5T"
      },
      "source": [
        "### Caso Estática"
      ]
    },
    {
      "cell_type": "markdown",
      "metadata": {
        "id": "9j_docLV1i5U"
      },
      "source": [
        "#### Caches com mesmos conteúdos populares"
      ]
    },
    {
      "cell_type": "code",
      "metadata": {
        "colab": {
          "base_uri": "https://localhost:8080/"
        },
        "id": "psWV5GVD1i5U",
        "outputId": "9dffbaff-212e-4c75-fc21-452d7131cd7f"
      },
      "source": [
        "intervaloConfiancaEstaticaC3_1 = intervaloDeConfianca(10,4 , \"Estatica\", 3 ,2, [1/3,1/3,1/3], teta = 1, cachesDiferentes = False)"
      ],
      "execution_count": null,
      "outputs": [
        {
          "output_type": "stream",
          "text": [
            "Cenário: 4\n",
            "Caso: Estatica\n",
            "Tamanho de cada cache: 2\n",
            "Número de conteúdos: 3\n",
            "Intervalo de Confiança: [1.0730940580730879, 1.0786390940826482]\n",
            "-------- \n",
            "\n"
          ],
          "name": "stdout"
        }
      ]
    },
    {
      "cell_type": "markdown",
      "metadata": {
        "id": "vuuq5GYE1i5U"
      },
      "source": [
        "#### Caches com conteúdos populares diferentes"
      ]
    },
    {
      "cell_type": "code",
      "metadata": {
        "colab": {
          "base_uri": "https://localhost:8080/"
        },
        "id": "z3Sh95QH1i5U",
        "outputId": "f49ebad4-4472-482b-8e9b-178cbf9d5555"
      },
      "source": [
        "intervaloConfiancaEstaticaC3_2 = intervaloDeConfianca(10,4 , \"Estatica\", 3 ,2, [1/3,1/3,1/3], teta = 1, cachesDiferentes = True)"
      ],
      "execution_count": null,
      "outputs": [
        {
          "output_type": "stream",
          "text": [
            "Cenário: 4\n",
            "Caso: Estatica\n",
            "Tamanho de cada cache: 2\n",
            "Número de conteúdos: 3\n",
            "Intervalo de Confiança: [1.0759727056935522, 1.0803650785409094]\n",
            "-------- \n",
            "\n"
          ],
          "name": "stdout"
        }
      ]
    },
    {
      "cell_type": "markdown",
      "metadata": {
        "id": "BJVKHwXVt2V6"
      },
      "source": [
        "# Parte Analítica"
      ]
    },
    {
      "cell_type": "markdown",
      "metadata": {
        "id": "L94gjOxJigqZ"
      },
      "source": [
        "# Cenário 1\n",
        "\n"
      ]
    },
    {
      "cell_type": "markdown",
      "metadata": {
        "id": "oBXzvgMIvJd2"
      },
      "source": [
        "Determinamos matrizes de transição dos tipos FIFO, LRU e Random para realizar as nossas análises por cadeias de Markov.<br>\n",
        "Não ocorre de haver dois conteúdos iguais em uma mesma cache, então nunca teremos os estados AA, BB ou CC. Com isso, a matriz FIFO e a matriz LRU possuem os estados AB, AC, BA, BC, CA e CB. Já a matriz Random e a matriz Estática possuem os estados AB, AC e BC. No caso da Random, como o conteúdo é removido aleatoriamente, não importa a ordem, por exemplo se é AB ou BA, e por isso temos apenas esses 3 estados. E no caso da estática, por ela sempre armazenar os conteúdos mais populares e nunca mudar, a ordem também não importa."
      ]
    },
    {
      "cell_type": "markdown",
      "metadata": {
        "id": "zz5oYxmEsL2x"
      },
      "source": [
        "Aqui calcularemos a probabilidade de sucesso utilizando cadeias de Markov para comprovar analíticamente o que fizemos na simulação."
      ]
    },
    {
      "cell_type": "markdown",
      "metadata": {
        "id": "F3vgL7m44jUM"
      },
      "source": [
        "## Funções"
      ]
    },
    {
      "cell_type": "code",
      "metadata": {
        "id": "-vk0wyhtdkjP"
      },
      "source": [
        "def GeraMatrizTransicao(conteudos, tipo, depurar = False):\n",
        "\n",
        "  estadosCache = list(permutations(conteudos, 2))\n",
        "  estadosCache\n",
        "  estadosCacheS = list(combinations_with_replacement(estadosCache, 2))\n",
        "  numconteudos = (len(conteudos))\n",
        "\n",
        "  pares = []\n",
        "\n",
        "  for i in range (len(estadosCacheS)):\n",
        "    estado = [''.join(ele) for ele in estadosCacheS[i]]\n",
        "    indice = estado[0] + estado[1]\n",
        "    pares.append(indice)  \n",
        "\n",
        "  matriz = {}\n",
        "  numColunas = len(pares)\n",
        "  linha = np.zeros((1, numColunas), dtype=int)\n",
        "  linha = list(linha[0])\n",
        "  matrizArray = []\n",
        "\n",
        "  for i in range(len(pares)):\n",
        "\n",
        "    cache1 = []\n",
        "    cache2 = []\n",
        "\n",
        "    indice = pares[i]\n",
        "\n",
        "    cache1.append(indice[0])\n",
        "    cache1.append(indice[1])\n",
        "    cache2.append(indice[2])\n",
        "    cache2.append(indice[3])\n",
        "\n",
        "    matriz[indice] = linha.copy()\n",
        "\n",
        "\n",
        "    for conteudo in conteudos:\n",
        "\n",
        "      c1_transicaopraEstado, tinhaConteudo = cacheReceivesReq(tipo, cache1,conteudo, depurar = False)\n",
        "      c2_transicaopraEstado, tinhaConteudo = cacheReceivesReq(tipo, cache2,conteudo, depurar = False)\n",
        "\n",
        "      novoEstadoOp1 = c1_transicaopraEstado[0]+c1_transicaopraEstado[1] + c2_transicaopraEstado[0] + c2_transicaopraEstado[1]\n",
        "      novoEstadoOp2 = c2_transicaopraEstado[0] + c2_transicaopraEstado[1] + c1_transicaopraEstado[0] + c1_transicaopraEstado[1] \n",
        "   \n",
        "\n",
        "\n",
        "      try:        \n",
        "        index = pares.index(novoEstadoOp1)\n",
        "\n",
        "      except:\n",
        "        index = pares.index(novoEstadoOp2)    \n",
        "\n",
        "      matriz[indice][index] = matriz[indice][index] +  Fraction(1,numconteudos)\n",
        "\n",
        "    matrizArray.append(matriz[indice])\n",
        "\n",
        "  matrizTransicao = Matrix(matrizArray)\n",
        "  estados = [[el] for el in pares]\n",
        "  if (depurar): \n",
        "    print(\"A matriz de transição do caso \" + str(tipo) + \" é:\")\n",
        "    print(matrizTransicao)\n",
        "    print(\"E seus estados são:\")\n",
        "    print(estados)\n",
        "    print()\n",
        "  return matrizTransicao, estados"
      ],
      "execution_count": 260,
      "outputs": []
    },
    {
      "cell_type": "code",
      "metadata": {
        "id": "EPVt8yZVATok"
      },
      "source": [
        "# Função para calcular a distribuição estacionária de uma cadeia de Markov por meio de uma matriz de transição P\n",
        "def dist_estacionaria(P):\n",
        "  evals, evecs = np.linalg.eig(P.T) #We have to transpose so that Markov transitions correspond to right multiplying by a column vector.  np.linalg.eig finds right eigenvectors.\n",
        "  evec1 = evecs[:,np.isclose(evals, 1)]\n",
        "  evec1 = evec1[:,0]\n",
        "  stationary = evec1 / evec1.sum()\n",
        "  stationary = stationary.real # parte real (acha autovalores e autovetores complexos)\n",
        "\n",
        "  #print(stationary)\n",
        "  return stationary"
      ],
      "execution_count": 261,
      "outputs": []
    },
    {
      "cell_type": "code",
      "metadata": {
        "id": "4X3QBwO1uXCa"
      },
      "source": [
        "# Função para transformar a distribuição estacionária em uma tupla\n",
        "def forma_tupla(P, depurar = False):\n",
        "  estacionaria_nomes = copy.deepcopy(estados)\n",
        "  if (depurar): print(\"Os estados são: \" + str(estacionaria_nomes))\n",
        "  estacionaria_valores = dist_estacionaria(P)\n",
        "  if (depurar): print(\"Os valores são: \" + str(estacionaria_valores))\n",
        "\n",
        "  for i in range (len(estacionaria_valores)):\n",
        "    estacionaria_nomes[i].append(estacionaria_valores[i])\n",
        "    if (depurar): print(estacionaria_nomes)\n",
        "\n",
        "  print(\"A distribuição estacionária é dada por: \" + str(estacionaria_nomes))\n",
        "  return estacionaria_nomes"
      ],
      "execution_count": 262,
      "outputs": []
    },
    {
      "cell_type": "code",
      "metadata": {
        "id": "6267-b-EiSDY"
      },
      "source": [
        "# Função para calcular a probabilidade de sucesso em uma matriz de transição\n",
        "# ATENÇÃO: Pode representar tanto uma cache quanto duas, depende de qual matriz\n",
        "# for passada. No caso de uma matriz relativa a apenas 1 cache, é necessário \n",
        "# executar a função sucesso_unindo_matrizes() para calcular o total.\n",
        "\n",
        "def sucesso_uma_matriz(P, depurar = False):\n",
        "  estacionaria = forma_tupla(P, depurar)\n",
        "  sucesso = 0\n",
        "  for i in range(len(prob)):\n",
        "    for j in range(len(estacionaria)):\n",
        "      \n",
        "      if (prob[i][0] in estacionaria[j][0]):\n",
        "        #if (depurar): print(\"\\nPi_\" + str(estacionaria[j][0])+\" * P(\" + str(prob[i][0]) + \")\")\n",
        "        #if (depurar): print(str(estacionaria[j][1])+\" * \" + str(prob[i][1]))\n",
        "        sucesso = sucesso + (prob[i][1]*estacionaria[j][1])\n",
        "        #if (depurar): print(\"Sucesso: \" + str(sucesso))\n",
        "  \n",
        "  print(sucesso)\n",
        "  return sucesso"
      ],
      "execution_count": 263,
      "outputs": []
    },
    {
      "cell_type": "code",
      "metadata": {
        "id": "HYS57W7OzoDf"
      },
      "source": [
        "# Função para calcular sucesso em ambas as caches, quando a matriz for relativa\n",
        "# a uma única cache\n",
        "\n",
        "def sucesso_unindo_matrizes(P, depurar = False):\n",
        "  sucesso = 0\n",
        "  falha_uma = 0\n",
        "  sucesso_uma = sucesso_uma_matriz(P, depurar)\n",
        "  falha_uma = 1 - sucesso_uma\n",
        "\n",
        "  # Stot = S*S + S*F (OU A ORDEM IMPORTA??? 2*S*F???)\n",
        "  sucesso = sucesso_uma * sucesso_uma + sucesso_uma * falha_uma\n",
        "  falha = 1 - sucesso\n",
        "  print(\"A probabilidade de sucesso unindo as duas matrizes é de \" + str(sucesso))\n",
        "  return sucesso"
      ],
      "execution_count": 264,
      "outputs": []
    },
    {
      "cell_type": "markdown",
      "metadata": {
        "id": "SIa_whUE4oy5"
      },
      "source": [
        "## Casos com 3 conteúdos"
      ]
    },
    {
      "cell_type": "code",
      "metadata": {
        "id": "dbpS_QE_gz0d"
      },
      "source": [
        "# declaração das probabilidades de sair cada tipo de requisção\n",
        "prob = [[\"A\", 1/3], [\"B\", 1/3], [\"C\", 1/3]]"
      ],
      "execution_count": 265,
      "outputs": []
    },
    {
      "cell_type": "markdown",
      "metadata": {
        "id": "Q6YYKUl-LiEs"
      },
      "source": [
        "##Matrizes de transição representando apenas uma cache"
      ]
    },
    {
      "cell_type": "code",
      "metadata": {
        "colab": {
          "base_uri": "https://localhost:8080/"
        },
        "id": "-oZKmyja3cRx",
        "outputId": "cc5f30c7-50ea-484e-fc47-13b47ece17c4"
      },
      "source": [
        "# Caso FIFO\n",
        "estados = [[\"AB\"], [\"AC\"], [\"BA\"], [\"BC\"], [\"CA\"], [\"CB\"]] \n",
        "markovCasoFIFO = np.array([[2/3, 0, 0, 0, 1/3, 0], \n",
        "                           [0, 2/3, 1/3, 0, 0, 0],\n",
        "                           [0, 0, 2/3, 0, 0, 1/3],\n",
        "                           [1/3, 0, 0, 2/3, 0, 0],\n",
        "                           [0, 0, 0, 1/3, 2/3, 0],\n",
        "                           [0, 1/3, 0, 0, 0, 2/3]])\n",
        "\n",
        "sucesso_unindo_matrizes(markovCasoFIFO)"
      ],
      "execution_count": 266,
      "outputs": [
        {
          "output_type": "stream",
          "text": [
            "A distribuição estacionária é dada por: [['AB', 0.3333333333333337], ['AC', 0.0], ['BA', 0.0], ['BC', 0.33333333333333337], ['CA', 0.3333333333333329], ['CB', 0.0]]\n",
            "0.6666666666666666\n",
            "A probabilidade de sucesso unindo as duas matrizes é de 0.6666666666666666\n"
          ],
          "name": "stdout"
        },
        {
          "output_type": "execute_result",
          "data": {
            "text/plain": [
              "0.6666666666666666"
            ]
          },
          "metadata": {
            "tags": []
          },
          "execution_count": 266
        }
      ]
    },
    {
      "cell_type": "code",
      "metadata": {
        "colab": {
          "base_uri": "https://localhost:8080/"
        },
        "id": "oTJlwpbS3mhl",
        "outputId": "b3690b31-3554-48f2-ef07-51d7e206413f"
      },
      "source": [
        "# Caso LRU\n",
        "estados = [[\"AB\"], [\"AC\"], [\"BA\"], [\"BC\"], [\"CA\"], [\"CB\"]]\n",
        "markovCasoLRU  = np.array([[1/3, 0, 1/3, 0, 1/3, 0], \n",
        "                           [0, 1/3, 1/3, 0, 1/3, 0],\n",
        "                           [1/3, 0, 1/3, 0, 0, 1/3],\n",
        "                           [1/3, 0, 0, 1/3, 0, 1/3],\n",
        "                           [0, 1/3, 0, 1/3, 1/3, 0],\n",
        "                           [0, 1/3, 0, 1/3, 0, 1/3]])\n",
        "\n",
        "sucesso_unindo_matrizes(markovCasoLRU)"
      ],
      "execution_count": 267,
      "outputs": [
        {
          "output_type": "stream",
          "text": [
            "A distribuição estacionária é dada por: [['AB', 0.16666666666666674], ['AC', 0.1666666666666666], ['BA', 0.16666666666666674], ['BC', 0.1666666666666666], ['CA', 0.16666666666666674], ['CB', 0.1666666666666666]]\n",
            "0.6666666666666667\n",
            "A probabilidade de sucesso unindo as duas matrizes é de 0.6666666666666667\n"
          ],
          "name": "stdout"
        },
        {
          "output_type": "execute_result",
          "data": {
            "text/plain": [
              "0.6666666666666667"
            ]
          },
          "metadata": {
            "tags": []
          },
          "execution_count": 267
        }
      ]
    },
    {
      "cell_type": "code",
      "metadata": {
        "id": "Hjx9te1O3qx-",
        "colab": {
          "base_uri": "https://localhost:8080/"
        },
        "outputId": "8f4539e6-f5c1-408b-a067-68a81c1d4f4e"
      },
      "source": [
        "# Caso RANDOM\n",
        "estados = [[\"AB\"], [\"AC\"], [\"BC\"]]\n",
        "markovCasoRandom = np.array([[2/3, 1/6, 1/6], \n",
        "                             [1/6, 2/3, 1/6],\n",
        "                             [1/6, 1/6, 2/3]])\n",
        "sucesso_unindo_matrizes(markovCasoRandom)\n",
        "\n",
        "#TÁ ERRADO??"
      ],
      "execution_count": 268,
      "outputs": [
        {
          "output_type": "stream",
          "text": [
            "A distribuição estacionária é dada por: [['AB', 0.3333333333333333], ['AC', 0.33333333333333337], ['BC', 0.3333333333333333]]\n",
            "0.6666666666666667\n",
            "A probabilidade de sucesso unindo as duas matrizes é de 0.6666666666666667\n"
          ],
          "name": "stdout"
        },
        {
          "output_type": "execute_result",
          "data": {
            "text/plain": [
              "0.6666666666666667"
            ]
          },
          "metadata": {
            "tags": []
          },
          "execution_count": 268
        }
      ]
    },
    {
      "cell_type": "code",
      "metadata": {
        "colab": {
          "base_uri": "https://localhost:8080/"
        },
        "id": "PERQI2APKYRc",
        "outputId": "68ba91b2-23e0-4ddd-96c5-dfe4280b09b7"
      },
      "source": [
        "# Caso Estático\n",
        "estados = [[\"AB\"], [\"AC\"], [\"BC\"]]\n",
        "markovCasoEstatico  = np.array([[1, 0, 0], \n",
        "                                [0, 1, 0],\n",
        "                                [0, 0, 1]])\n",
        "\n",
        "sucesso_uma_matriz(markovCasoEstatico)\n",
        "# o motivo de calcularmos o sucesso de apenas uma é que como as caches começam\n",
        "# iguais, e não há mudanças no meio do caminho. Por esse motivo, utilizamos a \n",
        "# função sucesso_uma_matriz()"
      ],
      "execution_count": 269,
      "outputs": [
        {
          "output_type": "stream",
          "text": [
            "A distribuição estacionária é dada por: [['AB', 1.0], ['AC', 0.0], ['BC', 0.0]]\n",
            "0.6666666666666666\n"
          ],
          "name": "stdout"
        },
        {
          "output_type": "execute_result",
          "data": {
            "text/plain": [
              "0.6666666666666666"
            ]
          },
          "metadata": {
            "tags": []
          },
          "execution_count": 269
        }
      ]
    },
    {
      "cell_type": "markdown",
      "metadata": {
        "id": "F-myokldMeB1"
      },
      "source": [
        "###Matrizes de transição representando duas caches"
      ]
    },
    {
      "cell_type": "code",
      "metadata": {
        "id": "yrf9ENbcCsYC",
        "colab": {
          "base_uri": "https://localhost:8080/"
        },
        "outputId": "5cf8b774-fc48-4889-bab4-c236157e8e51"
      },
      "source": [
        "# Caso FIFO\n",
        "matrizFIFO_3, estados = GeraMatrizTransicao([\"A\",\"B\",\"C\"],\"FIFO\")\n",
        "matrizFIFO_3 = np.array(matrizFIFO_3, dtype='float')\n",
        "\n",
        "fifo1_3 = sucesso_uma_matriz(matrizFIFO_3)"
      ],
      "execution_count": 270,
      "outputs": [
        {
          "output_type": "stream",
          "text": [
            "A distribuição estacionária é dada por: [['ABAB', 0.3333333333333337], ['ABAC', 0.0], ['ABBA', 0.0], ['ABBC', 0.0], ['ABCA', 0.0], ['ABCB', 0.0], ['ACAC', 0.0], ['ACBA', 0.0], ['ACBC', 0.0], ['ACCA', 0.0], ['ACCB', 0.0], ['BABA', 0.0], ['BABC', 0.0], ['BACA', 0.0], ['BACB', 0.0], ['BCBC', 0.33333333333333337], ['BCCA', 0.0], ['BCCB', 0.0], ['CACA', 0.3333333333333329], ['CACB', 0.0], ['CBCB', 0.0]]\n",
            "0.6666666666666666\n"
          ],
          "name": "stdout"
        }
      ]
    },
    {
      "cell_type": "code",
      "metadata": {
        "colab": {
          "base_uri": "https://localhost:8080/"
        },
        "id": "OBmjPP7YM1Zq",
        "outputId": "16c64cb7-7335-40f2-cbb9-faa772f8ce82"
      },
      "source": [
        "# Caso LRU\n",
        "matrizLRU_3, estados = GeraMatrizTransicao([\"A\",\"B\",\"C\"],\"LRU\")\n",
        "matrizLRU_3 = np.array(matrizLRU_3, dtype='float')\n",
        "\n",
        "lru1_3 = sucesso_uma_matriz(matrizLRU_3)"
      ],
      "execution_count": 271,
      "outputs": [
        {
          "output_type": "stream",
          "text": [
            "A distribuição estacionária é dada por: [['ABAB', 0.16666666666666674], ['ABAC', 0.0], ['ABBA', 0.0], ['ABBC', 0.0], ['ABCA', 0.0], ['ABCB', 0.0], ['ACAC', 0.1666666666666666], ['ACBA', 0.0], ['ACBC', 0.0], ['ACCA', 0.0], ['ACCB', 0.0], ['BABA', 0.16666666666666674], ['BABC', 0.0], ['BACA', 0.0], ['BACB', 0.0], ['BCBC', 0.1666666666666666], ['BCCA', 0.0], ['BCCB', 0.0], ['CACA', 0.16666666666666674], ['CACB', 0.0], ['CBCB', 0.1666666666666666]]\n",
            "0.6666666666666667\n"
          ],
          "name": "stdout"
        }
      ]
    },
    {
      "cell_type": "code",
      "metadata": {
        "colab": {
          "base_uri": "https://localhost:8080/"
        },
        "id": "aT5-B9-hNJNP",
        "outputId": "1d2dffbc-53a0-455b-8b8e-5fb000637c9c"
      },
      "source": [
        "# Caso Random: nossa função de gerar matrizes não funciona para\n",
        "# este caso, então a escrevemos manualmente\n",
        "\n",
        "estados = [[\"ABAB\"], [\"ABBC\"], [\"ABCA\"], [\"BCBC\"], [\"BCCA\"], [\"CACA\"]]\n",
        "matrizRandom_3 = np.array([[2/3, 0, 0, 1/12, 1/6, 1/12],\n",
        "                           [1/6, 1/3, 1/6, 1/6, 1/6, 0],\n",
        "                           [1/6, 1/6, 1/3, 0, 1/6, 1/6],\n",
        "                           [1/12, 0, 1/6, 2/3, 0, 1/12],\n",
        "                           [0, 1/6, 1/6, 1/6, 1/3, 1/6],\n",
        "                           [1/12, 0, 1/6, 1/12, 0, 2/3]])\n",
        "\n",
        "random1_3 = sucesso_uma_matriz(matrizRandom_3)"
      ],
      "execution_count": 272,
      "outputs": [
        {
          "output_type": "stream",
          "text": [
            "A distribuição estacionária é dada por: [['ABAB', 0.22222222222222224], ['ABBC', 0.0666666666666666], ['ABCA', 0.1555555555555556], ['BCBC', 0.2044444444444445], ['BCCA', 0.11111111111111102], ['CACA', 0.2400000000000001]]\n",
            "0.7777777777777778\n"
          ],
          "name": "stdout"
        }
      ]
    },
    {
      "cell_type": "code",
      "metadata": {
        "colab": {
          "base_uri": "https://localhost:8080/"
        },
        "id": "YeqCuL2vNRsm",
        "outputId": "0ad48b2e-4024-4c18-d857-30cfa1fc9f8c"
      },
      "source": [
        "# Caso Estático\n",
        "matrizEstatico_3, estados = GeraMatrizTransicao([\"A\",\"B\",\"C\"],\"Estatico\")\n",
        "matrizEstatico_3 = np.array(matrizEstatico_3, dtype='float')\n",
        "\n",
        "estatico1_3 = sucesso_uma_matriz(matrizEstatico_3)"
      ],
      "execution_count": 273,
      "outputs": [
        {
          "output_type": "stream",
          "text": [
            "A distribuição estacionária é dada por: [['ABAB', 1.0], ['ABAC', 0.0], ['ABBA', 0.0], ['ABBC', 0.0], ['ABCA', 0.0], ['ABCB', 0.0], ['ACAC', 0.0], ['ACBA', 0.0], ['ACBC', 0.0], ['ACCA', 0.0], ['ACCB', 0.0], ['BABA', 0.0], ['BABC', 0.0], ['BACA', 0.0], ['BACB', 0.0], ['BCBC', 0.0], ['BCCA', 0.0], ['BCCB', 0.0], ['CACA', 0.0], ['CACB', 0.0], ['CBCB', 0.0]]\n",
            "0.6666666666666666\n"
          ],
          "name": "stdout"
        }
      ]
    },
    {
      "cell_type": "markdown",
      "metadata": {
        "id": "ID3wiy4TAcsL"
      },
      "source": [
        "##Casos com 4 Conteúdos"
      ]
    },
    {
      "cell_type": "code",
      "metadata": {
        "id": "btrzFXRyAcsU"
      },
      "source": [
        "# declaração das probabilidades de sair cada tipo de requisção\n",
        "prob = [[\"A\", 1/4], [\"B\", 1/4], [\"C\", 1/4], [\"D\", 1/4]]"
      ],
      "execution_count": 274,
      "outputs": []
    },
    {
      "cell_type": "markdown",
      "metadata": {
        "id": "0dOn-9bfUu5Z"
      },
      "source": [
        "###Matrizes de transição representando apenas uma cache"
      ]
    },
    {
      "cell_type": "code",
      "metadata": {
        "id": "u2VUI-9FAcsV",
        "colab": {
          "base_uri": "https://localhost:8080/"
        },
        "outputId": "d1f88c2a-1f8b-4b17-ca09-6569f1671652"
      },
      "source": [
        "#Caso FIFO\n",
        "estados = [[\"AB\"], [\"AC\"], [\"AD\"], [\"BA\"], [\"BC\"], [\"BD\"], [\"CA\"], [\"CB\"], [\"CD\"], [\"DA\"], [\"DB\"], [\"DC\"]] \n",
        "markovCasoFIFO = np.array([[2/4, 0, 0, 0, 0, 0, 1/4, 0, 0, 1/4, 0, 0],\n",
        "                           [0, 2/4, 0, 1/4, 0, 0, 0, 0, 0, 1/4, 0, 0],\n",
        "                           [0, 0, 2/4, 1/4, 0, 0, 1/4, 0, 0, 0, 0, 0],\n",
        "                           [0, 0, 0, 2/4, 0, 0, 0, 1/4, 0, 0, 1/4, 0],\n",
        "                           [1/4, 0, 0, 0, 2/4, 0, 0, 0, 0, 0, 1/4, 0],\n",
        "                           [1/4, 0, 0, 0, 0, 2/4, 0, 1/4, 0, 0, 0, 0],\n",
        "                           [0, 0, 0, 0, 1/4, 0, 2/4, 0, 0, 0, 0, 1/4],\n",
        "                           [0, 1/4, 0, 0, 2/4, 0, 0, 0, 1/4, 0, 0, 0],\n",
        "                           [0, 1/4, 0, 0, 1/4, 0, 0, 0, 2/4, 0, 0, 0],\n",
        "                           [0, 0, 0, 0, 0, 1/4, 0, 0, 1/4, 2/4, 0, 0],\n",
        "                           [0, 0, 1/4, 0, 0, 0, 0, 0, 1/4, 0, 2/4, 0],\n",
        "                           [0, 0, 1/4, 0, 0, 1/4, 0, 0, 0, 0, 0, 2/4]])\n",
        "\n",
        "sucesso_unindo_matrizes(markovCasoFIFO)"
      ],
      "execution_count": 275,
      "outputs": [
        {
          "output_type": "stream",
          "text": [
            "A distribuição estacionária é dada por: [['AB', 0.10087719298245611], ['AC', 0.07456140350877184], ['AD', 0.0745614035087719], ['BA', 0.07456140350877193], ['BC', 0.1359649122807018], ['BD', 0.06578947368421058], ['CA', 0.08771929824561402], ['CB', 0.0350877192982456], ['CD', 0.11403508771929839], ['DA', 0.08771929824561393], ['DB', 0.10526315789473685], ['DC', 0.04385964912280704]]\n",
            "0.5\n",
            "A probabilidade de sucesso unindo as duas matrizes é de 0.5\n"
          ],
          "name": "stdout"
        },
        {
          "output_type": "execute_result",
          "data": {
            "text/plain": [
              "0.5"
            ]
          },
          "metadata": {
            "tags": []
          },
          "execution_count": 275
        }
      ]
    },
    {
      "cell_type": "code",
      "metadata": {
        "id": "yhXaMLHlAcsV",
        "colab": {
          "base_uri": "https://localhost:8080/"
        },
        "outputId": "27632655-231e-4168-8d4b-2ef84bee18c4"
      },
      "source": [
        "#Caso LRU\n",
        "estados = [[\"AB\"], [\"AC\"], [\"AD\"] , [\"BA\"], [\"BC\"], [\"BD\"] , [\"CA\"], [\"CB\"], [\"CD\"], [\"DA\"], [\"DB\"], [\"DC\"]] \n",
        "markovCasoLRU  = np.array([[1/4, 0, 0, 1/4, 0, 0, 1/4, 0, 0, 1/4, 0, 0],\n",
        "                           [0, 1/4, 0, 1/4, 0, 0, 1/4, 0, 0, 1/4, 0, 0],\n",
        "                           [0, 0, 1/4, 1/4, 0, 0, 1/4, 0, 0, 1/4, 0, 0],\n",
        "                           [1/4, 0, 0, 1/4, 0, 0, 0, 1/4, 0, 0, 1/4, 0],\n",
        "                           [1/4, 0, 0, 0, 1/4, 0, 0, 1/4, 0, 0, 1/4, 0],\n",
        "                           [1/4, 0, 0, 0, 0, 1/4, 0, 1/4, 0, 0, 1/4, 0],\n",
        "                           [0, 1/4, 0, 0, 1/4, 0, 1/4, 0, 0, 0, 0, 1/4],\n",
        "                           [0, 1/4, 0, 0, 1/4, 0, 0, 1/4, 0, 0, 0, 1/4],\n",
        "                           [0, 1/4, 0, 0, 1/4, 0, 0, 0, 1/4, 0, 0, 1/4],\n",
        "                           [0, 0, 1/4, 0, 0, 1/4, 0, 0, 1/4, 1/4, 0, 0],\n",
        "                           [0, 0, 1/4, 0, 0, 1/4, 0, 0, 1/4, 0, 1/4, 0],\n",
        "                           [0, 0, 1/4, 0, 0, 1/4, 0, 0, 1/4, 0, 0, 1/4]])\n",
        "\n",
        "sucesso_unindo_matrizes(markovCasoLRU)"
      ],
      "execution_count": 276,
      "outputs": [
        {
          "output_type": "stream",
          "text": [
            "A distribuição estacionária é dada por: [['AB', 0.08333333333333326], ['AC', 0.08333333333333333], ['AD', 0.08333333333333331], ['BA', 0.08333333333333333], ['BC', 0.08333333333333331], ['BD', 0.08333333333333331], ['CA', 0.08333333333333333], ['CB', 0.08333333333333331], ['CD', 0.08333333333333331], ['DA', 0.08333333333333333], ['DB', 0.08333333333333331], ['DC', 0.08333333333333331]]\n",
            "0.49999999999999967\n",
            "A probabilidade de sucesso unindo as duas matrizes é de 0.49999999999999967\n"
          ],
          "name": "stdout"
        },
        {
          "output_type": "execute_result",
          "data": {
            "text/plain": [
              "0.49999999999999967"
            ]
          },
          "metadata": {
            "tags": []
          },
          "execution_count": 276
        }
      ]
    },
    {
      "cell_type": "code",
      "metadata": {
        "id": "yBD9dMuKAcsV",
        "colab": {
          "base_uri": "https://localhost:8080/"
        },
        "outputId": "9d32cef0-3e40-4ea9-aaa7-ada6c2c3e125"
      },
      "source": [
        "#Caso RANDOM\n",
        "estados = [[\"AB\"], [\"AC\"], [\"AD\"] , [\"BC\"], [\"BD\"], [\"CD\"]]\n",
        "markovCasoRandom = np.array([[2/4, 1/8, 1/8, 1/8, 1/8, 0],\n",
        "                             [1/8, 2/4, 1/8, 1/8, 0, 1/8],\n",
        "                             [1/8, 1/8, 2/4, 0, 1/8, 1/8],\n",
        "                             [1/8, 1/8, 0, 2/4, 1/8, 1/8],\n",
        "                             [1/8, 0, 1/8, 1/8, 2/4, 1/8],\n",
        "                             [0, 1/8, 1/8, 1/8, 1/8, 2/4]])\n",
        "\n",
        "random1_4 = sucesso_unindo_matrizes(markovCasoRandom)"
      ],
      "execution_count": 277,
      "outputs": [
        {
          "output_type": "stream",
          "text": [
            "A distribuição estacionária é dada por: [['AB', 0.16666666666666669], ['AC', 0.16666666666666655], ['AD', 0.16666666666666666], ['BC', 0.16666666666666666], ['BD', 0.16666666666666666], ['CD', 0.16666666666666669]]\n",
            "0.5\n",
            "A probabilidade de sucesso unindo as duas matrizes é de 0.5\n"
          ],
          "name": "stdout"
        }
      ]
    },
    {
      "cell_type": "code",
      "metadata": {
        "id": "6lH2WRBzOYeE",
        "colab": {
          "base_uri": "https://localhost:8080/"
        },
        "outputId": "dc5b5da1-a93c-4dd8-f148-a88b63d0d791"
      },
      "source": [
        "#Caso Estático\n",
        "estados = [[\"AB\"], [\"AC\"], [\"AD\"], [\"BC\"], [\"BD\"], [\"CD\"]]\n",
        "markovCasoEstatico  = np.array([[1, 0, 0, 0, 0, 0], \n",
        "                                [0, 1, 0, 0, 0, 0],\n",
        "                                [0, 0, 1, 0, 0, 0],\n",
        "                                [0, 0, 0, 1, 0, 0],\n",
        "                                [0, 0, 0, 0, 1, 0],\n",
        "                                [0, 0, 0, 0, 0, 1]])\n",
        "\n",
        "sucesso_uma_matriz(markovCasoEstatico)"
      ],
      "execution_count": 278,
      "outputs": [
        {
          "output_type": "stream",
          "text": [
            "A distribuição estacionária é dada por: [['AB', 1.0], ['AC', 0.0], ['AD', 0.0], ['BC', 0.0], ['BD', 0.0], ['CD', 0.0]]\n",
            "0.5\n"
          ],
          "name": "stdout"
        },
        {
          "output_type": "execute_result",
          "data": {
            "text/plain": [
              "0.5"
            ]
          },
          "metadata": {
            "tags": []
          },
          "execution_count": 278
        }
      ]
    },
    {
      "cell_type": "markdown",
      "metadata": {
        "id": "qEaystErUxXh"
      },
      "source": [
        "###Matrizes de transição representando duas caches"
      ]
    },
    {
      "cell_type": "code",
      "metadata": {
        "colab": {
          "base_uri": "https://localhost:8080/"
        },
        "id": "qMrS_jjGU561",
        "outputId": "a3f3aac9-48d4-4326-e972-c6ef45557f96"
      },
      "source": [
        "# Caso FIFO\n",
        "matrizFIFO_4, estados = GeraMatrizTransicao([\"A\",\"B\",\"C\",\"D\"],\"FIFO\")\n",
        "matrizFIFO_4 = np.array(matrizFIFO_4, dtype='float')\n",
        "\n",
        "fifo1_4 = sucesso_uma_matriz(matrizFIFO_4)"
      ],
      "execution_count": 279,
      "outputs": [
        {
          "output_type": "stream",
          "text": [
            "A distribuição estacionária é dada por: [['ABAB', 0.0833333333333334], ['ABAC', -3.103731976261765e-17], ['ABAD', 3.9076586603155214e-19], ['ABBA', -1.583954198241908e-17], ['ABBC', -1.229745720382705e-17], ['ABBD', 2.1589536086789073e-33], ['ABCA', -1.3663841337585618e-18], ['ABCB', 0.0], ['ABCD', 0.0], ['ABDA', 1.2596093359025874e-33], ['ABDB', 0.0], ['ABDC', 0.0], ['ACAC', 0.08333333333333333], ['ACAD', -4.137788994124517e-18], ['ACBA', -1.114682010865406e-35], ['ACBC', 0.0], ['ACBD', 0.0], ['ACCA', -2.2789366681675217e-17], ['ACCB', -4.372561049417602e-36], ['ACCD', 2.0650027547761653e-51], ['ACDA', 4.966306623310955e-53], ['ACDB', 0.0], ['ACDC', 0.0], ['ADAD', 0.08333333333333334], ['ADBA', -3.4463955693793494e-55], ['ADBC', 0.0], ['ADBD', 0.0], ['ADCA', 6.368282364733507e-69], ['ADCB', 0.0], ['ADCD', 0.0], ['ADDA', -1.712464062744473e-17], ['ADDB', -1.049120044851719e-55], ['ADDC', 1.8656821198015816e-69], ['BABA', 0.08333333333333334], ['BABC', -7.59260500522694e-18], ['BABD', -5.7043629891707615e-18], ['BACA', 0.0], ['BACB', -1.4417596394521503e-36], ['BACD', 0.0], ['BADA', 0.0], ['BADB', -3.129787255996064e-56], ['BADC', 0.0], ['BCBC', 0.08333333333333325], ['BCBD', -4.137788994124517e-18], ['BCCA', -4.099152401275691e-18], ['BCCB', -1.1226051487318786e-17], ['BCCD', 0.0], ['BCDA', 0.0], ['BCDB', 0.0], ['BCDC', 0.0], ['BDBD', 0.08333333333333325], ['BDCA', 0.0], ['BDCB', -1.433327209606861e-34], ['BDCD', 0.0], ['BDDA', -1.4864728045733069e-33], ['BDDB', -1.8078893755566114e-17], ['BDDC', -1.1146426642725618e-33], ['CACA', 0.08333333333333337], ['CACB', -4.7288518167455986e-18], ['CACD', -5.7043629891707615e-18], ['CADA', 0.0], ['CADB', 0.0], ['CADC', 1.6142006146084003e-68], ['CBCB', 0.08333333333333337], ['CBCD', -6.022447363190568e-18], ['CBDA', 0.0], ['CBDB', 0.0], ['CBDC', -4.3209363091856305e-34], ['CDCD', 0.08333333333333337], ['CDDA', 7.075644012394734e-52], ['CDDB', 0.0], ['CDDC', -1.2424918646962121e-17], ['DADA', 0.08333333333333337], ['DADB', -2.124067498425768e-17], ['DADC', -8.048066383146451e-18], ['DBDB', 0.08333333333333334], ['DBDC', -5.104550742887346e-18], ['DCDC', 0.0833333333333334]]\n",
            "0.5000000000000001\n"
          ],
          "name": "stdout"
        }
      ]
    },
    {
      "cell_type": "code",
      "metadata": {
        "colab": {
          "base_uri": "https://localhost:8080/"
        },
        "id": "gl3I7CIhU562",
        "outputId": "6d9655be-1c9b-43ae-d033-6a0fdfbf2ef0"
      },
      "source": [
        "# Caso LRU\n",
        "matrizLRU_4, estados = GeraMatrizTransicao([\"A\",\"B\",\"C\",\"D\"],\"LRU\")\n",
        "matrizLRU_4 = np.array(matrizLRU_4, dtype='float')\n",
        "\n",
        "lru1_4 = sucesso_uma_matriz(matrizLRU_4)"
      ],
      "execution_count": 280,
      "outputs": [
        {
          "output_type": "stream",
          "text": [
            "A distribuição estacionária é dada por: [['ABAB', 0.08333333333333336], ['ABAC', 0.0], ['ABAD', 0.0], ['ABBA', 0.0], ['ABBC', 0.0], ['ABBD', 0.0], ['ABCA', 0.0], ['ABCB', 0.0], ['ABCD', 0.0], ['ABDA', 0.0], ['ABDB', 0.0], ['ABDC', 0.0], ['ACAC', 0.08333333333333336], ['ACAD', 0.0], ['ACBA', 0.0], ['ACBC', 0.0], ['ACBD', 0.0], ['ACCA', 0.0], ['ACCB', 0.0], ['ACCD', 0.0], ['ACDA', 0.0], ['ACDB', 0.0], ['ACDC', 0.0], ['ADAD', 0.08333333333333333], ['ADBA', 0.0], ['ADBC', 0.0], ['ADBD', 0.0], ['ADCA', 0.0], ['ADCB', 0.0], ['ADCD', 0.0], ['ADDA', 0.0], ['ADDB', 0.0], ['ADDC', 0.0], ['BABA', 0.08333333333333336], ['BABC', 0.0], ['BABD', 0.0], ['BACA', 0.0], ['BACB', 0.0], ['BACD', 0.0], ['BADA', 0.0], ['BADB', 0.0], ['BADC', 0.0], ['BCBC', 0.08333333333333333], ['BCBD', 0.0], ['BCCA', 0.0], ['BCCB', 0.0], ['BCCD', 0.0], ['BCDA', 0.0], ['BCDB', 0.0], ['BCDC', 0.0], ['BDBD', 0.08333333333333333], ['BDCA', 0.0], ['BDCB', 0.0], ['BDCD', 0.0], ['BDDA', 0.0], ['BDDB', 0.0], ['BDDC', 0.0], ['CACA', 0.08333333333333337], ['CACB', 0.0], ['CACD', 0.0], ['CADA', 0.0], ['CADB', 0.0], ['CADC', 0.0], ['CBCB', 0.08333333333333333], ['CBCD', 0.0], ['CBDA', 0.0], ['CBDB', 0.0], ['CBDC', 0.0], ['CDCD', 0.08333333333333333], ['CDDA', 0.0], ['CDDB', 0.0], ['CDDC', 0.0], ['DADA', 0.08333333333333336], ['DADB', 0.0], ['DADC', 0.0], ['DBDB', 0.08333333333333333], ['DBDC', 0.0], ['DCDC', 0.08333333333333333]]\n",
            "0.49999999999999983\n"
          ],
          "name": "stdout"
        }
      ]
    },
    {
      "cell_type": "code",
      "metadata": {
        "id": "Gy729FtsU562"
      },
      "source": [
        "# Caso Random: nossa função de gerar matrizes não funciona para\n",
        "# este caso, então a escrevemos manualmente\n",
        "\n",
        "estados = [[]]\n",
        "matrizRandom_4 = np.array([[]])\n",
        "\n",
        "#sucesso_uma_matriz(matrizRandom_4)"
      ],
      "execution_count": 281,
      "outputs": []
    },
    {
      "cell_type": "code",
      "metadata": {
        "colab": {
          "base_uri": "https://localhost:8080/"
        },
        "id": "YNVnwgvkU563",
        "outputId": "9d2ecd2c-834f-4b25-affc-5e128aba3386"
      },
      "source": [
        "# Caso Estático\n",
        "matrizEstatico_4, estados = GeraMatrizTransicao([\"A\",\"B\",\"C\",\"D\"],\"Estatico\")\n",
        "matrizEstatico_4 = np.array(matrizEstatico_4, dtype='float')\n",
        "\n",
        "estatico1_4 = sucesso_uma_matriz(matrizEstatico_4)"
      ],
      "execution_count": 282,
      "outputs": [
        {
          "output_type": "stream",
          "text": [
            "A distribuição estacionária é dada por: [['ABAB', 1.0], ['ABAC', 0.0], ['ABAD', 0.0], ['ABBA', 0.0], ['ABBC', 0.0], ['ABBD', 0.0], ['ABCA', 0.0], ['ABCB', 0.0], ['ABCD', 0.0], ['ABDA', 0.0], ['ABDB', 0.0], ['ABDC', 0.0], ['ACAC', 0.0], ['ACAD', 0.0], ['ACBA', 0.0], ['ACBC', 0.0], ['ACBD', 0.0], ['ACCA', 0.0], ['ACCB', 0.0], ['ACCD', 0.0], ['ACDA', 0.0], ['ACDB', 0.0], ['ACDC', 0.0], ['ADAD', 0.0], ['ADBA', 0.0], ['ADBC', 0.0], ['ADBD', 0.0], ['ADCA', 0.0], ['ADCB', 0.0], ['ADCD', 0.0], ['ADDA', 0.0], ['ADDB', 0.0], ['ADDC', 0.0], ['BABA', 0.0], ['BABC', 0.0], ['BABD', 0.0], ['BACA', 0.0], ['BACB', 0.0], ['BACD', 0.0], ['BADA', 0.0], ['BADB', 0.0], ['BADC', 0.0], ['BCBC', 0.0], ['BCBD', 0.0], ['BCCA', 0.0], ['BCCB', 0.0], ['BCCD', 0.0], ['BCDA', 0.0], ['BCDB', 0.0], ['BCDC', 0.0], ['BDBD', 0.0], ['BDCA', 0.0], ['BDCB', 0.0], ['BDCD', 0.0], ['BDDA', 0.0], ['BDDB', 0.0], ['BDDC', 0.0], ['CACA', 0.0], ['CACB', 0.0], ['CACD', 0.0], ['CADA', 0.0], ['CADB', 0.0], ['CADC', 0.0], ['CBCB', 0.0], ['CBCD', 0.0], ['CBDA', 0.0], ['CBDB', 0.0], ['CBDC', 0.0], ['CDCD', 0.0], ['CDDA', 0.0], ['CDDB', 0.0], ['CDDC', 0.0], ['DADA', 0.0], ['DADB', 0.0], ['DADC', 0.0], ['DBDB', 0.0], ['DBDC', 0.0], ['DCDC', 0.0]]\n",
            "0.5\n"
          ],
          "name": "stdout"
        }
      ]
    },
    {
      "cell_type": "markdown",
      "metadata": {
        "id": "Pjqqm7orYegP"
      },
      "source": [
        "##Respostas às perguntas"
      ]
    },
    {
      "cell_type": "markdown",
      "metadata": {
        "id": "qCT3ZiqVYhgs"
      },
      "source": [
        "<h3> Qual tipo de cache é melhor?<br>\n",
        "\n",
        "Sempre preferiremos caches cujos conteúdos sejam diferentes. Exemplo: o par de caches [A,B] e [A,C].<br>\n",
        "Dessa forma, uma requisição de qualquer tipo (A, B ou C) sempre será atendida. Temos todas as possibilidades de conteúdos requisitados guardados nelas.\n",
        "Percebemos que nos casos FIFO e LRU, ainda que elas comecem diferentes, a partir do momento que ficarem iguais, nunca mais ficarão diferentes. No caso estático, só teremos caches com conteúdos diferentes se elas começarem diferentes, já que nunca mudarão ao longo das requisições (há a chance de começarem diferentes pois a popularidade de conteúdo neste cenário é determinada pela distribuição da probabilidade, que neste caso é uniforme).<br>\n",
        "Assim, concluímos que a Random é melhor para a nossa busca do sucesso. Em qualquer momento a cache pode ficar diferente, ainda que em algum momento elas fiquem iguais, pois o novo conteúdo entrará em uma posição aleatória de cada cache. Também preferiremos a FIFO em casos que elas nunca fiquem iguais. Há estados iniciais diferentes que nunca conseguem chegar em estados iguais (vemos isso pois a cadeia FIFO é redutível e tem 3 classes).\n",
        "<br><br>\n",
        "<h3> Irredutíveis ou redutíveis?\n",
        "\n",
        "<h4> Caso N = 3.<br>\n",
        "Nomearemos aqui os estados de 1 a 21 para facilitar a escrita e a explicação.<br>\n",
        "\n",
        "<h5> As cadeias FIFO são todas redutíveis: <br>\n",
        "\n",
        "* FIFO (uma cache): caminhos:\n",
        "** 1->5->4->1;\n",
        "** 2->3->6->2.\n",
        "\n",
        "* Não há comunicação entre 1 e 2, por exemplo\n",
        "<br>\n",
        "\n",
        "* FIFO (duas caches): caminhos: \n",
        "** 1->19->16->1;\n",
        "** 2->3->20->10->13->18->2;\n",
        "** etc. \n",
        "* Não há comunicação entre 1 e 2, por exemplo\n",
        "<br>\n",
        "\n",
        "<h5>  As cadeias LRU: <br>\n",
        "\n",
        "* LRU (uma cache) é irredutível: caminhos: \n",
        "** 1->3->6->2->5->4->1. \n",
        "* Completa! Dá para chegar em todos os estados começando de todos os estados.\n",
        "<br>\n",
        "\n",
        "* LRU (duas caches) é redutível: caminhos:\n",
        "** 1->12->21->7->19->16->1;\n",
        "** 2->12->1->19->7->19->16->21->12->1;\n",
        "** etc. \n",
        "* Não é possível chegar no 2 pelo 1 (o oposto é possível).\n",
        "<br>\n",
        "\n",
        "<h5> As cadeias Random são todas irredutíveis:<br>\n",
        "\n",
        "* Random (uma cache): caminho: \n",
        "** 1->2->3->1.\n",
        "* Completa! Dá para chegar em todos os estados começando de todos os estados.\n",
        "<br>\n",
        "\n",
        "* Random (duas caches): caminho:\n",
        "** 1->4->3->2->5->6->1.\n",
        "* Completa! Dá para chegar em todos os estados começando de todos os estados.\n",
        "<br>\n",
        "\n",
        "<h5> Todas as cadeias Estáticas são redutíveis. Não há nenhuma comunicação entre os estados. Independente de qual se começar, não é possível mudar de estado.<br>\n",
        "<br>\n",
        "<h3> O desempenho depende do estado inicial?<br>\n",
        "\n",
        "Sim, depende. Conforme discutimos na primeira pergunta, se as caches começarem iguais, só haverá casos de caches com conteúdos diferentes, sendo 100% de chance de sucesso, no caso das caches Random.<br>\n",
        "Se elas começarem diferentes, antes da convergência da FIFO e LRU, também haverá essa chance de 100% de ter qualquer conteúdo requisitado salvo na cache.<br>\n",
        "E as Estáticas permanecerão diferentes até o fim, já que nunca mudam, configurando 100% de chance de ter qualquer conteúdo requisitado salvo na cache sempre.\n",
        "<br><br>\n",
        "\n",
        "<h3> Analisando no caso N = 4, nossas respostas mudam?<br>\n",
        "\n",
        "Sim, algumas mudam.<br>\n",
        "\n",
        "No caso de determinarmos qual tipo de cache ainda é melhor, a resposta permanece a mesma. No entanto, vale ressaltar que um par de cache do tipo [A,B] e [A,C] não representa 100% de chance ter qualquer conteúdo requisitado salvo na cache. Apenas um par que contivesse todos os conteúdos (A, B, C e D) representariam. Se aumentassemos o número de N para números maiores do que o espaço total para armazenar os conteúdos (levando em conta as duas caches, que nessa modelagem representa 4), nunca teríamos a possibilidade de ter todos conteúdos requisitados salvos em alguma posição do nosso par de caches.\n",
        "\n",
        "<br>\n",
        "\n",
        "Nossa resposta sobre cadeias irredutíveis também muda. Um exemplo disso é a matriz de transição do caso FIFO de uma cache só, que agora é irredutível.\n",
        "Antes, a opção de ir para um estado além dele mesmo era para um único outro estado (2/3 e 1/3 de chance respectivamente). No caso de 4 conteúdos, teremos agora duas possíbilidades de transição além do estado atual (2/4, 1/4 e 1/4).<br>\n",
        "Veja o caminho: 1->7->5->11->3->4->8->2->10->6->1->7->12->6->1. Completa! Dá para chegar em todos os estados começando de todos os estados.<br>\n",
        "Conseguimos enxergar a relação entre um estado ter mais estados possíveis de transição e a cadeia se tornar irredutível ao conferir que voltar para o estado 1, e seguir para o estado 7, pudemos utilizar mais um caminho para chegar aos estados que ainda não haviam sido visitados, e chegar no começo de volta.\n",
        "\n",
        "<br>\n",
        "\n",
        "E, por fim, a nossa resposta sobre o desempenho não muda. Conforme alertamos nessa resposta no caso N = 3 e na resposta inicial do caso N = 4, preferiremos que elas fiquem diferentes em algum momento para que possamos abranger mais possibilidades de conteúdo salvos, e se, no caso da FIFO, LRU e Estáticas começarmos com estados iniciais de cada cache diferentes, teremos mais momentos onde elas permaneçam diferentes do que se começarmos com elas iguais.\n",
        "<br><br>\n",
        "Vale ressaltar que se o estado for [A,B] e [C,D], teremos sucesso em requisição de qualquer conteúdo, se for [A,B] e [C,D], teremos sucesso em 3 de 4, e se o estado for [A,B] e [A,B], apenas teremos sucesso em 2 de 4.\n"
      ]
    },
    {
      "cell_type": "markdown",
      "metadata": {
        "id": "ToFXNIAv8eNI"
      },
      "source": [
        "# Cenário 2\n",
        "\n"
      ]
    },
    {
      "cell_type": "markdown",
      "metadata": {
        "id": "V3Ylp3ue8eNQ"
      },
      "source": [
        "Temos as mesmas matrizes e os mesmos estados do cenário 1."
      ]
    },
    {
      "cell_type": "markdown",
      "metadata": {
        "id": "VSrhF4M18eNQ"
      },
      "source": [
        "Aqui calcularemos a probabilidade de user miss utilizando cadeias de Markov para comprovar analíticamente o que fizemos na simulação."
      ]
    },
    {
      "cell_type": "markdown",
      "metadata": {
        "id": "MXCb5PwF8eNQ"
      },
      "source": [
        "## Funções"
      ]
    },
    {
      "cell_type": "markdown",
      "metadata": {
        "id": "frVoo4ygkF-p"
      },
      "source": [
        "As funções GeraMatrizTransicao(), dist_estacionária(P), forma_tupla(P) e sucesso_uma_matriz(P) se mantêm inalteradas."
      ]
    },
    {
      "cell_type": "code",
      "metadata": {
        "id": "0w04Px8AkTSr"
      },
      "source": [
        "# Função para calcular o user miss\n",
        "# Como precisamos que (falhe * falhe + falhe *  (não falhe * não tenha) + (não falhe * não tenha) * (não falhe * não tenha)),\n",
        "# podemos também calcular 1 - ((não falhe * tenha) * (não falhe * tenha) + (não falhe * tenha) * (não falhe * não tenha) + falhe * (não falhe * tenha))\n",
        "# 1 - os dois canais funcionarem e os dois terem, os dois canais funcionarem mas só um ter e um canal falhar e o outro ter\n",
        "def user_miss(P, p):\n",
        "  miss = 0\n",
        "  sucesso_uma = sucesso_uma_matriz(P)\n",
        "  nao_tem_uma = 1 - sucesso_uma\n",
        "\n",
        "  sucesso = p * sucesso_uma * p * sucesso_uma + p * sucesso_uma * p * nao_tem_uma + (1-p) * p * sucesso_uma\n",
        "  miss = 1 - sucesso\n",
        "  print(\"A probabilidade de User Miss é de \" + str(miss))\n",
        "  return miss"
      ],
      "execution_count": 283,
      "outputs": []
    },
    {
      "cell_type": "code",
      "metadata": {
        "id": "5eTxd6CZsOFq"
      },
      "source": [
        "def user_miss_estatica(P, p):\n",
        "  miss = 0\n",
        "  sucesso_uma = sucesso_uma_matriz(P)\n",
        "  nao_tem_uma = 1 - sucesso_uma\n",
        "\n",
        "  miss = (1-p) * (1-p) + (1-p) * p * nao_tem_uma + p * p * nao_tem_uma\n",
        "  print(\"A probabilidade de User Miss é de \" + str(miss))\n",
        "  return miss"
      ],
      "execution_count": 284,
      "outputs": []
    },
    {
      "cell_type": "code",
      "metadata": {
        "id": "QkZKHC3W38KZ"
      },
      "source": [
        "def user_miss_duas(P, p, depurar = False):\n",
        "  estacionaria = forma_tupla(P, depurar)\n",
        "  miss = 0\n",
        "  sucesso = 0\n",
        "\n",
        "  for i in range(len(prob)):\n",
        "    for j in range(len(estacionaria)):\n",
        "      \n",
        "      if (prob[i][0] in estacionaria[j][0]):\n",
        "        #if (depurar): print(\"\\nPi_\" + str(estacionaria[j][0])+\" * P(\" + str(prob[i][0]) + \")\")\n",
        "        #if (depurar): print(str(estacionaria[j][1])+\" * \" + str(prob[i][1]))\n",
        "        #sucesso = sucesso + (prob[i][1]*estacionaria[j][1])\n",
        "        sucesso = sucesso + estacionaria[j][1] * (prob[i][1] * p * p + prob[i][1] * p * (1 - p))\n",
        "        #if (depurar): print(\"Sucesso: \" + str(sucesso))\n",
        "\n",
        "  miss = 1 - sucesso  \n",
        "\n",
        "  #print(estacionaria)\n",
        "\n",
        "  # user miss para o caso LRU de duas caches com apenas um espaço, e dois conteúdos, temos:\n",
        "  # Pmiss(LRU) = πAA((1 − q) + q(1 − p)^2) + πAB(1 − p) + πBB(q + (1 − q)(1 − p)^2)\n",
        "\n",
        "  print(miss)\n",
        "  return miss  "
      ],
      "execution_count": 285,
      "outputs": []
    },
    {
      "cell_type": "markdown",
      "metadata": {
        "id": "4GRyo7Qu8eNR"
      },
      "source": [
        "##Casos com 3 Conteúdos"
      ]
    },
    {
      "cell_type": "code",
      "metadata": {
        "id": "sbwjZ_Tk8eNQ"
      },
      "source": [
        "# declaração das probabilidades de sair cada tipo de requisção\n",
        "prob = [[\"A\", 1/3], [\"B\", 1/3], [\"C\", 1/3]]\n",
        "p = 0.9"
      ],
      "execution_count": 286,
      "outputs": []
    },
    {
      "cell_type": "markdown",
      "metadata": {
        "id": "M0CvatNgfHZJ"
      },
      "source": [
        "###Matrizes de transição representando apenas uma cache"
      ]
    },
    {
      "cell_type": "code",
      "metadata": {
        "id": "sFc687E68eNS",
        "colab": {
          "base_uri": "https://localhost:8080/"
        },
        "outputId": "8a59687b-2dc4-4f40-a37c-f2bdf037fbfc"
      },
      "source": [
        "#Caso FIFO\n",
        "estados = [[\"AB\"], [\"AC\"], [\"BA\"], [\"BC\"], [\"CA\"], [\"CB\"]] \n",
        "markovCasoFIFO = np.array([[2/3, 0, 0, 0, 1/3, 0], \n",
        "                           [0, 2/3, 1/3, 0, 0, 0],\n",
        "                           [0, 0, 2/3, 0, 0, 1/3],\n",
        "                           [1/3, 0, 0, 2/3, 0, 0],\n",
        "                           [0, 0, 0, 1/3, 2/3, 0],\n",
        "                           [0, 1/3, 0, 0, 0, 2/3]])\n",
        "\n",
        "user_miss(markovCasoFIFO, p)"
      ],
      "execution_count": 287,
      "outputs": [
        {
          "output_type": "stream",
          "text": [
            "A distribuição estacionária é dada por: [['AB', 0.3333333333333337], ['AC', 0.0], ['BA', 0.0], ['BC', 0.33333333333333337], ['CA', 0.3333333333333329], ['CB', 0.0]]\n",
            "0.6666666666666666\n",
            "A probabilidade de User Miss é de 0.4\n"
          ],
          "name": "stdout"
        },
        {
          "output_type": "execute_result",
          "data": {
            "text/plain": [
              "0.4"
            ]
          },
          "metadata": {
            "tags": []
          },
          "execution_count": 287
        }
      ]
    },
    {
      "cell_type": "code",
      "metadata": {
        "id": "Tn9Lz1jY8eNS",
        "colab": {
          "base_uri": "https://localhost:8080/"
        },
        "outputId": "61462e36-4a36-450e-d057-bb3f338548dd"
      },
      "source": [
        "#Caso LRU\n",
        "estados = [[\"AB\"], [\"AC\"], [\"BA\"], [\"BC\"], [\"CA\"], [\"CB\"]]\n",
        "markovCasoLRU  = np.array([[1/3, 0, 1/3, 0, 1/3, 0], \n",
        "                           [0, 1/3, 1/3, 0, 1/3, 0],\n",
        "                           [1/3, 0, 1/3, 0, 0, 1/3],\n",
        "                           [1/3, 0, 0, 1/3, 0, 1/3],\n",
        "                           [0, 1/3, 0, 1/3, 1/3, 0],\n",
        "                           [0, 1/3, 0, 1/3, 0, 1/3]])\n",
        "\n",
        "user_miss(markovCasoLRU, p)"
      ],
      "execution_count": 288,
      "outputs": [
        {
          "output_type": "stream",
          "text": [
            "A distribuição estacionária é dada por: [['AB', 0.16666666666666674], ['AC', 0.1666666666666666], ['BA', 0.16666666666666674], ['BC', 0.1666666666666666], ['CA', 0.16666666666666674], ['CB', 0.1666666666666666]]\n",
            "0.6666666666666667\n",
            "A probabilidade de User Miss é de 0.3999999999999999\n"
          ],
          "name": "stdout"
        },
        {
          "output_type": "execute_result",
          "data": {
            "text/plain": [
              "0.3999999999999999"
            ]
          },
          "metadata": {
            "tags": []
          },
          "execution_count": 288
        }
      ]
    },
    {
      "cell_type": "code",
      "metadata": {
        "id": "wDn5RVJA8eNT",
        "colab": {
          "base_uri": "https://localhost:8080/"
        },
        "outputId": "d1ef6cb8-964d-42d1-f4ad-41c23e88a8d1"
      },
      "source": [
        "#Caso RANDOM\n",
        "estados = [[\"AB\"], [\"AC\"], [\"BC\"]]\n",
        "markovCasoRandom = np.array([[2/3, 1/6, 1/6], \n",
        "                             [1/6, 2/3, 1/6],\n",
        "                             [1/6, 1/6, 2/3]])\n",
        "\n",
        "user_miss(markovCasoRandom, p)"
      ],
      "execution_count": 289,
      "outputs": [
        {
          "output_type": "stream",
          "text": [
            "A distribuição estacionária é dada por: [['AB', 0.3333333333333333], ['AC', 0.33333333333333337], ['BC', 0.3333333333333333]]\n",
            "0.6666666666666667\n",
            "A probabilidade de User Miss é de 0.3999999999999999\n"
          ],
          "name": "stdout"
        },
        {
          "output_type": "execute_result",
          "data": {
            "text/plain": [
              "0.3999999999999999"
            ]
          },
          "metadata": {
            "tags": []
          },
          "execution_count": 289
        }
      ]
    },
    {
      "cell_type": "code",
      "metadata": {
        "id": "6cufzgslQHun",
        "colab": {
          "base_uri": "https://localhost:8080/"
        },
        "outputId": "4a7f18bd-ed0c-4fa5-bfb7-0e67396dfcab"
      },
      "source": [
        "#Caso Estático\n",
        "estados = [[\"AB\"], [\"AC\"], [\"BA\"]]\n",
        "markovCasoEstatico  = np.array([[1, 0, 0], \n",
        "                                [0, 1, 0],\n",
        "                                [0, 0, 1]])\n",
        "\n",
        "user_miss_estatica(markovCasoEstatico, p)\n",
        "# o motivo de calcularmos o sucesso de apenas uma é que como as caches começam\n",
        "# iguais, e não há mudanças no meio do caminho. Por esse motivo, utilizamos a \n",
        "# função sucesso_uma_matriz()"
      ],
      "execution_count": 290,
      "outputs": [
        {
          "output_type": "stream",
          "text": [
            "A distribuição estacionária é dada por: [['AB', 1.0], ['AC', 0.0], ['BA', 0.0]]\n",
            "0.6666666666666666\n",
            "A probabilidade de User Miss é de 0.31000000000000005\n"
          ],
          "name": "stdout"
        },
        {
          "output_type": "execute_result",
          "data": {
            "text/plain": [
              "0.31000000000000005"
            ]
          },
          "metadata": {
            "tags": []
          },
          "execution_count": 290
        }
      ]
    },
    {
      "cell_type": "markdown",
      "metadata": {
        "id": "eJBxJgBCfO_S"
      },
      "source": [
        "###Matrizes de transição representando duas caches"
      ]
    },
    {
      "cell_type": "code",
      "metadata": {
        "colab": {
          "base_uri": "https://localhost:8080/"
        },
        "id": "a_R8eu9nZhla",
        "outputId": "faff890e-45e0-4df1-8df4-8f0e0fb9c661"
      },
      "source": [
        "# Caso FIFO\n",
        "matrizFIFO_3, estados = GeraMatrizTransicao([\"A\",\"B\",\"C\"],\"FIFO\")\n",
        "matrizFIFO_3 = np.array(matrizFIFO_3, dtype='float')\n",
        "\n",
        "fifo2_3 = user_miss_duas(matrizFIFO_3, p)"
      ],
      "execution_count": 291,
      "outputs": [
        {
          "output_type": "stream",
          "text": [
            "A distribuição estacionária é dada por: [['ABAB', 0.3333333333333337], ['ABAC', 0.0], ['ABBA', 0.0], ['ABBC', 0.0], ['ABCA', 0.0], ['ABCB', 0.0], ['ACAC', 0.0], ['ACBA', 0.0], ['ACBC', 0.0], ['ACCA', 0.0], ['ACCB', 0.0], ['BABA', 0.0], ['BABC', 0.0], ['BACA', 0.0], ['BACB', 0.0], ['BCBC', 0.33333333333333337], ['BCCA', 0.0], ['BCCB', 0.0], ['CACA', 0.3333333333333329], ['CACB', 0.0], ['CBCB', 0.0]]\n",
            "0.4\n"
          ],
          "name": "stdout"
        }
      ]
    },
    {
      "cell_type": "code",
      "metadata": {
        "colab": {
          "base_uri": "https://localhost:8080/"
        },
        "id": "ySgvWUzWdBqw",
        "outputId": "4e98df94-b350-41a6-eef8-cdf5b93217cf"
      },
      "source": [
        "# Caso LRU\n",
        "matrizLRU_3, estados = GeraMatrizTransicao([\"A\",\"B\",\"C\"],\"LRU\")\n",
        "matrizLRU_3 = np.array(matrizLRU_3, dtype='float')\n",
        "\n",
        "lru2_3 = user_miss_duas(matrizLRU_3, p)"
      ],
      "execution_count": 292,
      "outputs": [
        {
          "output_type": "stream",
          "text": [
            "A distribuição estacionária é dada por: [['ABAB', 0.16666666666666674], ['ABAC', 0.0], ['ABBA', 0.0], ['ABBC', 0.0], ['ABCA', 0.0], ['ABCB', 0.0], ['ACAC', 0.1666666666666666], ['ACBA', 0.0], ['ACBC', 0.0], ['ACCA', 0.0], ['ACCB', 0.0], ['BABA', 0.16666666666666674], ['BABC', 0.0], ['BACA', 0.0], ['BACB', 0.0], ['BCBC', 0.1666666666666666], ['BCCA', 0.0], ['BCCB', 0.0], ['CACA', 0.16666666666666674], ['CACB', 0.0], ['CBCB', 0.1666666666666666]]\n",
            "0.4\n"
          ],
          "name": "stdout"
        }
      ]
    },
    {
      "cell_type": "code",
      "metadata": {
        "colab": {
          "base_uri": "https://localhost:8080/"
        },
        "id": "e1des5bGDPS5",
        "outputId": "875da7be-59d4-4b8e-db94-4b392cb3bd81"
      },
      "source": [
        "# Caso Random: nossa função de gerar matrizes não funciona para\n",
        "# este caso, então a escrevemos manualmente\n",
        "\n",
        "estados = [[\"ABAB\"], [\"ABBC\"], [\"ABCA\"], [\"BCBC\"], [\"BCCA\"], [\"CACA\"]]\n",
        "matrizRandom_3 = np.array([[2/3, 0, 0, 1/12, 1/6, 1/12],\n",
        "                           [1/6, 1/3, 1/6, 1/6, 1/6, 0],\n",
        "                           [1/6, 1/6, 1/3, 0, 1/6, 1/6],\n",
        "                           [1/12, 0, 1/6, 2/3, 0, 1/12],\n",
        "                           [0, 1/6, 1/6, 1/6, 1/3, 1/6],\n",
        "                           [1/12, 0, 1/6, 1/12, 0, 2/3]])\n",
        "\n",
        "random2_3 = user_miss(matrizRandom_3, p)"
      ],
      "execution_count": 293,
      "outputs": [
        {
          "output_type": "stream",
          "text": [
            "A distribuição estacionária é dada por: [['ABAB', 0.22222222222222224], ['ABBC', 0.0666666666666666], ['ABCA', 0.1555555555555556], ['BCBC', 0.2044444444444445], ['BCCA', 0.11111111111111102], ['CACA', 0.2400000000000001]]\n",
            "0.7777777777777778\n",
            "A probabilidade de User Miss é de 0.29999999999999993\n"
          ],
          "name": "stdout"
        }
      ]
    },
    {
      "cell_type": "code",
      "metadata": {
        "colab": {
          "base_uri": "https://localhost:8080/"
        },
        "id": "aBC6NckudP2O",
        "outputId": "039acf26-cf6c-474e-8bc6-19b49e8ce50e"
      },
      "source": [
        "# Caso Estático\n",
        "matrizEstatico_3, estados = GeraMatrizTransicao([\"A\",\"B\",\"C\"],\"Estatico\")\n",
        "matrizEstatico_3 = np.array(matrizEstatico_3, dtype='float')\n",
        "\n",
        "estatico2_3 = user_miss_duas(matrizEstatico_3, p)"
      ],
      "execution_count": 294,
      "outputs": [
        {
          "output_type": "stream",
          "text": [
            "A distribuição estacionária é dada por: [['ABAB', 1.0], ['ABAC', 0.0], ['ABBA', 0.0], ['ABBC', 0.0], ['ABCA', 0.0], ['ABCB', 0.0], ['ACAC', 0.0], ['ACBA', 0.0], ['ACBC', 0.0], ['ACCA', 0.0], ['ACCB', 0.0], ['BABA', 0.0], ['BABC', 0.0], ['BACA', 0.0], ['BACB', 0.0], ['BCBC', 0.0], ['BCCA', 0.0], ['BCCB', 0.0], ['CACA', 0.0], ['CACB', 0.0], ['CBCB', 0.0]]\n",
            "0.4\n"
          ],
          "name": "stdout"
        }
      ]
    },
    {
      "cell_type": "markdown",
      "metadata": {
        "id": "SG4tshBM-cPg"
      },
      "source": [
        "##Casos com 4 Conteúdos"
      ]
    },
    {
      "cell_type": "code",
      "metadata": {
        "id": "zvKcG_g6_SvA"
      },
      "source": [
        "# declaração das probabilidades de sair cada tipo de requisção\n",
        "prob = [[\"A\", 1/4], [\"B\", 1/4], [\"C\", 1/4], [\"D\", 1/4]]\n",
        "p = 0.9"
      ],
      "execution_count": 295,
      "outputs": []
    },
    {
      "cell_type": "code",
      "metadata": {
        "id": "gxrO4dXx-cPg",
        "colab": {
          "base_uri": "https://localhost:8080/"
        },
        "outputId": "e6a5a29b-020e-4635-8d7a-cbe15ec23e8a"
      },
      "source": [
        "#Caso FIFO\n",
        "estados = [[\"AB\"], [\"AC\"], [\"AD\"], [\"BA\"], [\"BC\"], [\"BD\"], [\"CA\"], [\"CB\"], [\"CD\"], [\"DA\"], [\"DB\"], [\"DC\"]] \n",
        "markovCasoFIFO = np.array([[2/4, 0, 0, 0, 0, 0, 1/4, 0, 0, 1/4, 0, 0],\n",
        "                           [0, 2/4, 0, 1/4, 0, 0, 0, 0, 0, 1/4, 0, 0],\n",
        "                           [0, 0, 2/4, 1/4, 0, 0, 1/4, 0, 0, 0, 0, 0],\n",
        "                           [0, 0, 0, 2/4, 0, 0, 0, 1/4, 0, 0, 1/4, 0],\n",
        "                           [1/4, 0, 0, 0, 2/4, 0, 0, 0, 0, 0, 1/4, 0],\n",
        "                           [1/4, 0, 0, 0, 0, 2/4, 0, 1/4, 0, 0, 0, 0],\n",
        "                           [0, 0, 0, 0, 1/4, 0, 2/4, 0, 0, 0, 0, 1/4],\n",
        "                           [0, 1/4, 0, 0, 2/4, 0, 0, 0, 1/4, 0, 0, 0],\n",
        "                           [0, 1/4, 0, 0, 1/4, 0, 0, 0, 2/4, 0, 0, 0],\n",
        "                           [0, 0, 0, 0, 0, 1/4, 0, 0, 1/4, 2/4, 0, 0],\n",
        "                           [0, 0, 1/4, 0, 0, 0, 0, 0, 1/4, 0, 2/4, 0],\n",
        "                           [0, 0, 1/4, 0, 0, 1/4, 0, 0, 0, 0, 0, 2/4]])\n",
        "\n",
        "fifo2_4 = user_miss(markovCasoFIFO, p)"
      ],
      "execution_count": 296,
      "outputs": [
        {
          "output_type": "stream",
          "text": [
            "A distribuição estacionária é dada por: [['AB', 0.10087719298245611], ['AC', 0.07456140350877184], ['AD', 0.0745614035087719], ['BA', 0.07456140350877193], ['BC', 0.1359649122807018], ['BD', 0.06578947368421058], ['CA', 0.08771929824561402], ['CB', 0.0350877192982456], ['CD', 0.11403508771929839], ['DA', 0.08771929824561393], ['DB', 0.10526315789473685], ['DC', 0.04385964912280704]]\n",
            "0.5\n",
            "A probabilidade de User Miss é de 0.55\n"
          ],
          "name": "stdout"
        }
      ]
    },
    {
      "cell_type": "code",
      "metadata": {
        "id": "xEFqq0P_-cPh",
        "colab": {
          "base_uri": "https://localhost:8080/"
        },
        "outputId": "5fc7d1ee-0162-4217-fdbd-398f6bbfe547"
      },
      "source": [
        "#Caso LRU\n",
        "estados = [[\"AB\"], [\"AC\"], [\"AD\"] , [\"BA\"], [\"BC\"], [\"BD\"] , [\"CA\"], [\"CB\"], [\"CD\"], [\"DA\"], [\"DB\"], [\"DC\"]] \n",
        "markovCasoLRU  = np.array([[1/4, 0, 0, 1/4, 0, 0, 1/4, 0, 0, 1/4, 0, 0],\n",
        "                           [0, 1/4, 0, 1/4, 0, 0, 1/4, 0, 0, 1/4, 0, 0],\n",
        "                           [0, 0, 1/4, 1/4, 0, 0, 1/4, 0, 0, 1/4, 0, 0],\n",
        "                           [1/4, 0, 0, 1/4, 0, 0, 0, 1/4, 0, 0, 1/4, 0],\n",
        "                           [1/4, 0, 0, 0, 1/4, 0, 0, 1/4, 0, 0, 1/4, 0],\n",
        "                           [1/4, 0, 0, 0, 0, 1/4, 0, 1/4, 0, 0, 1/4, 0],\n",
        "                           [0, 1/4, 0, 0, 1/4, 0, 1/4, 0, 0, 0, 0, 1/4],\n",
        "                           [0, 1/4, 0, 0, 1/4, 0, 0, 1/4, 0, 0, 0, 1/4],\n",
        "                           [0, 1/4, 0, 0, 1/4, 0, 0, 0, 1/4, 0, 0, 1/4],\n",
        "                           [0, 0, 1/4, 0, 0, 1/4, 0, 0, 1/4, 1/4, 0, 0],\n",
        "                           [0, 0, 1/4, 0, 0, 1/4, 0, 0, 1/4, 0, 1/4, 0],\n",
        "                           [0, 0, 1/4, 0, 0, 1/4, 0, 0, 1/4, 0, 0, 1/4]])\n",
        "\n",
        "lru2_4 = user_miss(markovCasoLRU, p)"
      ],
      "execution_count": 297,
      "outputs": [
        {
          "output_type": "stream",
          "text": [
            "A distribuição estacionária é dada por: [['AB', 0.08333333333333326], ['AC', 0.08333333333333333], ['AD', 0.08333333333333331], ['BA', 0.08333333333333333], ['BC', 0.08333333333333331], ['BD', 0.08333333333333331], ['CA', 0.08333333333333333], ['CB', 0.08333333333333331], ['CD', 0.08333333333333331], ['DA', 0.08333333333333333], ['DB', 0.08333333333333331], ['DC', 0.08333333333333331]]\n",
            "0.49999999999999967\n",
            "A probabilidade de User Miss é de 0.5500000000000003\n"
          ],
          "name": "stdout"
        }
      ]
    },
    {
      "cell_type": "code",
      "metadata": {
        "id": "FEZOnAIn-cPh",
        "colab": {
          "base_uri": "https://localhost:8080/"
        },
        "outputId": "1486cd2c-a62a-42c4-eeb7-b5fb88424534"
      },
      "source": [
        "#Caso RANDOM\n",
        "estados = [[\"AB\"], [\"AC\"], [\"AD\"] , [\"BC\"], [\"BD\"], [\"CD\"]]\n",
        "markovCasoRandom = np.array([[2/4, 1/8, 1/8, 1/8, 1/8, 0],\n",
        "                             [1/8, 2/4, 1/8, 1/8, 0, 1/8],\n",
        "                             [1/8, 1/8, 2/4, 0, 1/8, 1/8],\n",
        "                             [1/8, 1/8, 0, 2/4, 1/8, 1/8],\n",
        "                             [1/8, 0, 1/8, 1/8, 2/4, 1/8],\n",
        "                             [0, 1/8, 1/8, 1/8, 1/8, 2/4]])\n",
        "\n",
        "random2_4 = user_miss(markovCasoRandom, p)"
      ],
      "execution_count": 298,
      "outputs": [
        {
          "output_type": "stream",
          "text": [
            "A distribuição estacionária é dada por: [['AB', 0.16666666666666669], ['AC', 0.16666666666666655], ['AD', 0.16666666666666666], ['BC', 0.16666666666666666], ['BD', 0.16666666666666666], ['CD', 0.16666666666666669]]\n",
            "0.5\n",
            "A probabilidade de User Miss é de 0.55\n"
          ],
          "name": "stdout"
        }
      ]
    },
    {
      "cell_type": "code",
      "metadata": {
        "id": "qEvg-7I7qMOu",
        "colab": {
          "base_uri": "https://localhost:8080/"
        },
        "outputId": "543f9ba9-0626-46fa-d7fd-5c6c95b663b3"
      },
      "source": [
        "#Caso Estático\n",
        "estados = [[\"AB\"], [\"AC\"], [\"AD\"], [\"BC\"], [\"BD\"], [\"CD\"]]\n",
        "markovCasoEstatico  = np.array([[1, 0, 0, 0, 0, 0], \n",
        "                                [0, 1, 0, 0, 0, 0],\n",
        "                                [0, 0, 1, 0, 0, 0],\n",
        "                                [0, 0, 0, 1, 0, 0],\n",
        "                                [0, 0, 0, 0, 1, 0],\n",
        "                                [0, 0, 0, 0, 0, 1]])\n",
        "\n",
        "estatico2_4 = user_miss_estatica(markovCasoEstatico, p)"
      ],
      "execution_count": 299,
      "outputs": [
        {
          "output_type": "stream",
          "text": [
            "A distribuição estacionária é dada por: [['AB', 1.0], ['AC', 0.0], ['AD', 0.0], ['BC', 0.0], ['BD', 0.0], ['CD', 0.0]]\n",
            "0.5\n",
            "A probabilidade de User Miss é de 0.46\n"
          ],
          "name": "stdout"
        }
      ]
    },
    {
      "cell_type": "markdown",
      "metadata": {
        "id": "itQmSYB0bZho"
      },
      "source": [
        "##Respostas às perguntas (FALTA MUDAR)"
      ]
    },
    {
      "cell_type": "markdown",
      "metadata": {
        "id": "WoI_eNCVbZhs"
      },
      "source": [
        "<h3> Qual tipo de cache é melhor?<br>\n",
        "\n",
        "Sempre preferiremos caches cujos conteúdos sejam diferentes. Exemplo: o par de caches [A,B] e [A,C].<br>\n",
        "Dessa forma, uma requisição de qualquer tipo (A, B ou C) sempre será atendida. Temos todas as possibilidades de conteúdos requisitados guardados nelas.\n",
        "Percebemos que nos casos FIFO e LRU, ainda que elas comecem diferentes, a partir do momento que ficarem iguais, nunca mais ficarão diferentes. No caso estático, só teremos caches com conteúdos diferentes se elas começarem diferentes, já que nunca mudarão ao longo das requisições (há a chance de começarem diferentes pois a popularidade de conteúdo neste cenário é determinada pela distribuição da probabilidade, que neste caso é uniforme).<br>\n",
        "Assim, concluímos que a Random é melhor para a nossa busca do sucesso. Em qualquer momento a cache pode ficar diferente, ainda que em algum momento elas fiquem iguais, pois o novo conteúdo entrará em uma posição aleatória de cada cache. Também preferiremos a FIFO em casos que elas nunca fiquem iguais. Há estados iniciais diferentes que nunca conseguem chegar em estados iguais (vemos isso pois a cadeia FIFO é redutível e tem 3 classes).\n",
        "<br><br>\n",
        "<h3> Irredutíveis ou redutíveis?\n",
        "\n",
        "<h4> Caso N = 3.<br>\n",
        "Nomearemos aqui os estados de 1 a 21 para facilitar a escrita e a explicação.<br>\n",
        "\n",
        "<h5> As cadeias FIFO são todas redutíveis: <br>\n",
        "\n",
        "* FIFO (uma cache): caminhos:\n",
        "** 1->5->4->1;\n",
        "** 2->3->6->2.\n",
        "\n",
        "* Não há comunicação entre 1 e 2, por exemplo\n",
        "<br>\n",
        "\n",
        "* FIFO (duas caches): caminhos: \n",
        "** 1->19->16->1;\n",
        "** 2->3->20->10->13->18->2;\n",
        "** etc. \n",
        "* Não há comunicação entre 1 e 2, por exemplo\n",
        "<br>\n",
        "\n",
        "<h5>  As cadeias LRU: <br>\n",
        "\n",
        "* LRU (uma cache) é irredutível: caminhos: \n",
        "** 1->3->6->2->5->4->1. \n",
        "* Completa! Dá para chegar em todos os estados começando de todos os estados.\n",
        "<br>\n",
        "\n",
        "* LRU (duas caches) é redutível: caminhos:\n",
        "** 1->12->21->7->19->16->1;\n",
        "** 2->12->1->19->7->19->16->21->12->1;\n",
        "** etc. \n",
        "* Não é possível chegar no 2 pelo 1 (o oposto é possível).\n",
        "<br>\n",
        "\n",
        "<h5> As cadeias Random são todas irredutíveis:<br>\n",
        "\n",
        "* Random (uma cache): caminho: \n",
        "** 1->2->3->1.\n",
        "* Completa! Dá para chegar em todos os estados começando de todos os estados.\n",
        "<br>\n",
        "\n",
        "* Random (duas caches): caminho:\n",
        "** 1->4->3->2->5->6->1.\n",
        "* Completa! Dá para chegar em todos os estados começando de todos os estados.\n",
        "<br>\n",
        "\n",
        "<h5> Todas as cadeias Estáticas são redutíveis. Não há nenhuma comunicação entre os estados. Independente de qual se começar, não é possível mudar de estado.<br>\n",
        "<br>\n",
        "<h3> O desempenho depende do estado inicial?<br>\n",
        "\n",
        "Sim, depende. Conforme discutimos na primeira pergunta, se as caches começarem iguais, só haverá casos de caches com conteúdos diferentes, sendo 100% de chance de sucesso, no caso das caches Random.<br>\n",
        "Se elas começarem diferentes, antes da convergência da FIFO e LRU, também haverá essa chance de 100% de ter qualquer conteúdo requisitado salvo na cache.<br>\n",
        "E as Estáticas permanecerão diferentes até o fim, já que nunca mudam, configurando 100% de chance de ter qualquer conteúdo requisitado salvo na cache sempre.\n",
        "<br><br>\n",
        "\n",
        "<h3> Analisando no caso N = 4, nossas respostas mudam?<br>\n",
        "\n",
        "Sim, algumas mudam.<br>\n",
        "\n",
        "No caso de determinarmos qual tipo de cache ainda é melhor, a resposta permanece a mesma. No entanto, vale ressaltar que um par de cache do tipo [A,B] e [A,C] não representa 100% de chance ter qualquer conteúdo requisitado salvo na cache. Apenas um par que contivesse todos os conteúdos (A, B, C e D) representariam. Se aumentassemos o número de N para números maiores do que o espaço total para armazenar os conteúdos (levando em conta as duas caches, que nessa modelagem representa 4), nunca teríamos a possibilidade de ter todos conteúdos requisitados salvos em alguma posição do nosso par de caches.\n",
        "\n",
        "<br>\n",
        "\n",
        "Nossa resposta sobre cadeias irredutíveis também muda. Um exemplo disso é a matriz de transição do caso FIFO de uma cache só, que agora é irredutível.\n",
        "Antes, a opção de ir para um estado além dele mesmo era para um único outro estado (2/3 e 1/3 de chance respectivamente). No caso de 4 conteúdos, teremos agora duas possíbilidades de transição além do estado atual (2/4, 1/4 e 1/4).<br>\n",
        "Veja o caminho: 1->7->5->11->3->4->8->2->10->6->1->7->12->6->1. Completa! Dá para chegar em todos os estados começando de todos os estados.<br>\n",
        "Conseguimos enxergar a relação entre um estado ter mais estados possíveis de transição e a cadeia se tornar irredutível ao conferir que voltar para o estado 1, e seguir para o estado 7, pudemos utilizar mais um caminho para chegar aos estados que ainda não haviam sido visitados, e chegar no começo de volta.\n",
        "\n",
        "<br>\n",
        "\n",
        "E, por fim, a nossa resposta sobre o desempenho não muda. Conforme alertamos nessa resposta no caso N = 3 e na resposta inicial do caso N = 4, preferiremos que elas fiquem diferentes em algum momento para que possamos abranger mais possibilidades de conteúdo salvos, e se, no caso da FIFO, LRU e Estáticas começarmos com estados iniciais de cada cache diferentes, teremos mais momentos onde elas permaneçam diferentes do que se começarmos com elas iguais.\n",
        "<br><br>\n",
        "Vale ressaltar que se o estado for [A,B] e [C,D], teremos sucesso em requisição de qualquer conteúdo, se for [A,B] e [C,D], teremos sucesso em 3 de 4, e se o estado for [A,B] e [A,B], apenas teremos sucesso em 2 de 4.\n"
      ]
    },
    {
      "cell_type": "markdown",
      "metadata": {
        "id": "stA87GcTAxYy"
      },
      "source": [
        "#Gráficos"
      ]
    },
    {
      "cell_type": "markdown",
      "metadata": {
        "id": "IDG9ZBiLVZ0R"
      },
      "source": [
        "Compararemos os tipos de cache por simulação e por solução analítica, nos cenários 1 e 2, e os resultados das simulações de todos os cenários com o intervalo de confiança."
      ]
    },
    {
      "cell_type": "markdown",
      "metadata": {
        "id": "Cd7jlD_PVGc8"
      },
      "source": [
        "## Funções para plotar os gráficos"
      ]
    },
    {
      "cell_type": "code",
      "metadata": {
        "id": "6SFigRku6ZrH"
      },
      "source": [
        "def plotar_barras(markov, fifo):\n",
        "  barWidth = 0.25\n",
        "  fig = plt.subplots(figsize =(12, 8))\n",
        "  \n",
        "  # Set position of bar on X axis\n",
        "  br1 = np.arange(len(markov))\n",
        "  br2 = [x + barWidth for x in br1]\n",
        "  br3 = [x + barWidth for x in br2]\n",
        "\n",
        "  plt.bar(br1, markov, color ='#eb34a8', width = barWidth, edgecolor ='black', label ='Markov')\n",
        "  plt.bar(br2, simulacao, color ='black', width = barWidth, edgecolor ='black', label ='Simulação')\n",
        "  \n",
        "  # Adding Xticks\n",
        "  plt.xlabel('Branch', fontweight ='bold', fontsize = 15)\n",
        "  plt.ylabel('Students passed', fontweight ='bold', fontsize = 15)\n",
        "  plt.xticks([r + barWidth for r in range(len(markov))],\n",
        "          ['FIFO', 'LRU', 'Random', 'Estática'])\n",
        "  \n",
        "\n",
        "  plt.title('Cenário 1 - 3 conteúdos')\n",
        "  plt.xlabel(\"Caches\")\n",
        "  plt.ylabel(\"Sucesso\")\n",
        "\n",
        "  plt.legend()\n",
        "  plt.show()\n",
        "  return"
      ],
      "execution_count": null,
      "outputs": []
    },
    {
      "cell_type": "code",
      "metadata": {
        "id": "XLeyr1GFGe4m"
      },
      "source": [
        "sucessos = [0.65,0.68,0.7,0.71,0.72,0.73,0.76,0.75,0.74,0.69]\n",
        "\n",
        "def plotar_intervalo(tipo, str_tipo, sucessos, lim_sup, lim_inf, num_elem, cenario):\n",
        "  barWidth = 0.25\n",
        "  fig = plt.subplots(figsize =(12, 8))\n",
        "  \n",
        "  y = sucessos\n",
        "  x = []\n",
        "  for i in range(10):\n",
        "    x.append(i)\n",
        "\n",
        "  plt.plot(x, y, color='black', linewidth=5,\n",
        "          marker='h', markerfacecolor='#eb34a8', markeredgewidth=2,\n",
        "          markersize=12, markevery=1, label = \"Amostras\")\n",
        "\n",
        "  if (cenario == 1 or cenario == 2): plt.axhline(y=tipo, color='#84dbd8', linewidth=5, linestyle='-', label=\"Markov\")\n",
        "  plt.axhline(y=lim_sup, color='#eb34a8', linewidth=5, linestyle='-', label=\"Limite superior\")\n",
        "  plt.axhline(y=lim_inf, color='#eb34a8', linewidth=5, linestyle='-', label=\"Limite inferior\")\n",
        "      \n",
        "  # naming the x axis\n",
        "  plt.xlabel('Quantidade de experimentos')\n",
        "  # naming the y axis\n",
        "  plt.ylabel('Probabilidade de Sucesso')\n",
        "  # giving a title to my graph\n",
        "  plt.title(\"Intervalo de confiança do caso \" + str(str_tipo) + \" com \" + str(num_elem) + \" conteúdos.\")\n",
        "    \n",
        "  # show a legend on the plot\n",
        "  plt.legend()\n",
        "\n",
        "  # function to show the plot\n",
        "  plt.show()\n",
        "  return"
      ],
      "execution_count": null,
      "outputs": []
    },
    {
      "cell_type": "code",
      "metadata": {
        "colab": {
          "base_uri": "https://localhost:8080/",
          "height": 513
        },
        "id": "2-8A5kocUOEK",
        "outputId": "40d85f65-69e4-4ea9-9eb1-608ca8165462"
      },
      "source": [
        "str_tipo = 'FIFO'\n",
        "lim_sup = 0.777\n",
        "lim_inf = 0.65\n",
        "num_elem = 3\n",
        "tipo = fifo1_3\n",
        "cenario = 1\n",
        "\n",
        "plotar_intervalo(tipo, str_tipo, sucessos, lim_sup, lim_inf, num_elem, cenario)"
      ],
      "execution_count": null,
      "outputs": [
        {
          "output_type": "display_data",
          "data": {
            "image/png": "[encoded data removed]",
            "text/plain": [
              "<Figure size 864x576 with 1 Axes>"
            ]
          },
          "metadata": {
            "tags": [],
            "needs_background": "light"
          }
        }
      ]
    },
    {
      "cell_type": "markdown",
      "metadata": {
        "id": "Kn5QcqjvApYQ"
      },
      "source": [
        " ## Cenário 1: 3 Conteúdos"
      ]
    },
    {
      "cell_type": "code",
      "metadata": {
        "colab": {
          "base_uri": "https://localhost:8080/",
          "height": 518
        },
        "id": "LwxWN-QU_5VQ",
        "outputId": "b0c89c25-2903-4a09-834e-ac118b3bb7bc"
      },
      "source": [
        "markov = [fifo1_3, lru1_3, random1_3, estatico1_3]\n",
        "simulacao = [0.4, 0.23, 0.51, 0.17]\n",
        "\n",
        "plotar_barras(markov, simulacao)"
      ],
      "execution_count": null,
      "outputs": [
        {
          "output_type": "display_data",
          "data": {
            "image/png": "[encoded data removed]",
            "text/plain": [
              "<Figure size 864x576 with 1 Axes>"
            ]
          },
          "metadata": {
            "tags": [],
            "needs_background": "light"
          }
        }
      ]
    },
    {
      "cell_type": "markdown",
      "metadata": {
        "id": "11L3Fp9KA-Yk"
      },
      "source": [
        " ## Cenário 1: 4 Conteúdos"
      ]
    },
    {
      "cell_type": "code",
      "metadata": {
        "colab": {
          "base_uri": "https://localhost:8080/"
        },
        "id": "uK568X7SA6bW",
        "outputId": "3ad392c2-c776-4b4a-984d-1671ef42bcd2"
      },
      "source": [
        "markov = [fifo1_4, lru1_4, random1_4, estatico1_4]\n",
        "simulacao = [0.4, 0.23, 0.51, 0.17]\n",
        "\n",
        "plotar_barras(markov, simulacao)"
      ],
      "execution_count": null,
      "outputs": [
        {
          "output_type": "display_data",
          "data": {
            "image/png": "[encoded data removed]",
            "text/plain": [
              "<Figure size 864x576 with 1 Axes>"
            ]
          },
          "metadata": {
            "tags": [],
            "needs_background": "light"
          }
        }
      ]
    },
    {
      "cell_type": "markdown",
      "metadata": {
        "id": "pGTDBTUjBfF2"
      },
      "source": [
        " ## Cenário 2: 3 Conteúdos"
      ]
    },
    {
      "cell_type": "code",
      "metadata": {
        "colab": {
          "base_uri": "https://localhost:8080/"
        },
        "id": "bAf_biXkBfF3",
        "outputId": "89ceb64d-eb81-4cb5-d6fc-a2be360c4788"
      },
      "source": [
        "markov = [fifo2_3, lru2_3, random2_3, estatico2_3]\n",
        "simulacao = [0.4, 0.23, 0.51, 0.17]\n",
        "\n",
        "plotar_barras(markov, simulacao)"
      ],
      "execution_count": null,
      "outputs": [
        {
          "output_type": "display_data",
          "data": {
            "image/png": "[encoded data removed]",
            "text/plain": [
              "<Figure size 864x576 with 1 Axes>"
            ]
          },
          "metadata": {
            "tags": [],
            "needs_background": "light"
          }
        }
      ]
    },
    {
      "cell_type": "markdown",
      "metadata": {
        "id": "f4uXGIs6BfF3"
      },
      "source": [
        " ## Cenário 2: 4 Conteúdos"
      ]
    },
    {
      "cell_type": "code",
      "metadata": {
        "colab": {
          "base_uri": "https://localhost:8080/"
        },
        "id": "DODvcLTJBfF3",
        "outputId": "c75f38b1-765d-426c-c77f-08e92df92bd8"
      },
      "source": [
        "markov = [fifo2_4, lru2_4, random2_4, estatico2_4]\n",
        "simulacao = [0.4, 0.23, 0.51, 0.17]\n",
        "\n",
        "plotar_barras(markov, simulacao)"
      ],
      "execution_count": null,
      "outputs": [
        {
          "output_type": "display_data",
          "data": {
            "image/png": "[encoded data removed]",
            "text/plain": [
              "<Figure size 864x576 with 1 Axes>"
            ]
          },
          "metadata": {
            "tags": [],
            "needs_background": "light"
          }
        }
      ]
    }
  ]
}