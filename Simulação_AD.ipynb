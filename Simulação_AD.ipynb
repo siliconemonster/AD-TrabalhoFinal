{
  "nbformat": 4,
  "nbformat_minor": 0,
  "metadata": {
    "colab": {
      "name": "Simulação AD.ipynb",
      "provenance": [],
      "collapsed_sections": [],
      "include_colab_link": true
    },
    "kernelspec": {
      "name": "python3",
      "display_name": "Python 3"
    },
    "language_info": {
      "name": "python"
    }
  },
  "cells": [
    {
      "cell_type": "markdown",
      "metadata": {
        "id": "view-in-github",
        "colab_type": "text"
      },
      "source": [
        "<a href=\"https://colab.research.google.com/github/siliconemonster/AD-TrabalhoFinal/blob/main/Simula%C3%A7%C3%A3o_AD.ipynb\" target=\"_parent\"><img src=\"https://colab.research.google.com/assets/colab-badge.svg\" alt=\"Open In Colab\"/></a>"
      ]
    },
    {
      "cell_type": "markdown",
      "metadata": {
        "id": "5aTNjkgw6BQE"
      },
      "source": [
        "### Importando bibliotecas"
      ]
    },
    {
      "cell_type": "code",
      "metadata": {
        "id": "9qMnzYxPsbKS"
      },
      "source": [
        "import random\n",
        "from random import sample\n",
        "from random import random\n",
        "from matplotlib import pyplot as plt\n",
        "from matplotlib.legend_handler import HandlerLine2D\n",
        "from collections import Counter\n",
        "import sympy as sy\n",
        "from numpy.linalg import matrix_power\n",
        "from fractions import Fraction\n",
        "import math\n",
        "from math import *\n",
        "import numpy as np\n",
        "from numpy import random\n",
        "import pandas as pd\n",
        "import queue "
      ],
      "execution_count": null,
      "outputs": []
    },
    {
      "cell_type": "code",
      "metadata": {
        "id": "fzeFkanRyZr4"
      },
      "source": [
        "def initializeCache():  \n",
        "  cache = sample([1,2,3], k= 2)\n",
        "  return cache"
      ],
      "execution_count": null,
      "outputs": []
    },
    {
      "cell_type": "code",
      "metadata": {
        "id": "YnH1LxuqvDb2"
      },
      "source": [
        "def cacheReceivesReq(caso, cache, requisicao):\n",
        "  RequicaoAtendida = 0\n",
        "\n",
        "  if (requisicao in cache):\n",
        "    if(caso == \"FIFO\" or caso == \"Random\" or caso == \"Estatica\"):\n",
        "      cache = cache\n",
        "      RequicaoAtendida = 1    \n",
        "      #print(\"Cache possui requisção!\") \n",
        "\n",
        "    elif(caso == \"LRU\"):\n",
        "      RequicaoAtendida = 1    \n",
        "      #print(\"Cache possui requisição!\")\n",
        "\n",
        "      cache.remove(requisicao)\n",
        "      cache.insert(0, requisicao)\n",
        "      #print(\"Novo estado da cache: \" + str(cache)) \n",
        "   \n",
        "  else:\n",
        "    if(caso == \"FIFO\" or caso == \"LRU\"):\n",
        "      cache.insert(0, requisicao)\n",
        "      del cache[-1]\n",
        "      #print(\"Novo estado da cache: \" + str(cache)) \n",
        "\n",
        "    elif(caso == \"Random\"):\n",
        "      cache.insert(0, requisicao)\n",
        "      del cache[random.randint(-2,0)]\n",
        "      #print(\"Novo estado da cache: \" + str(cache)) \n",
        "\n",
        "  return cache, RequicaoAtendida"
      ],
      "execution_count": null,
      "outputs": []
    },
    {
      "cell_type": "code",
      "metadata": {
        "id": "Mo4sZoaDxF40"
      },
      "source": [
        "def simulacaoCenario1(tipo, trials):\n",
        "  queueCache1 = []\n",
        "  queueCache2 = []\n",
        "  sucesso = 0\n",
        "  mediaSucesso = 0  \n",
        "  cache1 = initializeCache()\n",
        "  cache2 = initializeCache()\n",
        "  cache3 = initializeCache()\n",
        "  print(\"Cache 1: \" + str(cache1))\n",
        "  print(\"Cache 2: \" + str(cache2))\n",
        "  print(\"Cache 3: \" + str(cache3))\n",
        "\n",
        "  \n",
        "  for i in range (trials):\n",
        "    RequicaoAtendida = 0\n",
        "    requisicao = random.randint(1,4)\n",
        "    #print(\"Requisição: \" + str(requisicao))\n",
        "    #print(\"Cache 1: \" + str(cache1))\n",
        "    #print(\"Cache 2: \" + str(cache2))\n",
        "\n",
        "    cache1, RequicaoAtendida = cacheReceivesReq(tipo, cache1, requisicao)\n",
        "    cache2, RequicaoAtendida = cacheReceivesReq(tipo, cache2, requisicao)\n",
        "    cache3, RequicaoAtendida = cacheReceivesReq(tipo, cache3, requisicao)\n",
        "\n",
        "    if(RequicaoAtendida):\n",
        "      sucesso = sucesso + 1\n",
        "      #print(\"Sucesso\")\n",
        "\n",
        "  mediaSucesso = sucesso/trials \n",
        "  print(\"Media Sucessos = \" + str(mediaSucesso))\n",
        "  return mediaSucesso"
      ],
      "execution_count": null,
      "outputs": []
    },
    {
      "cell_type": "code",
      "metadata": {
        "id": "SCHbJ8UVpCpy"
      },
      "source": [
        "def simulacaoCenario2(tipo, trials):\n",
        "  queueCache1 = []\n",
        "  queueCache2 = []\n",
        "  sucesso = 0\n",
        "  mediaSucesso = 0  \n",
        "  cache1 = initializeCache()\n",
        "  cache2 = initializeCache()\n",
        "  usermiss = 0\n",
        "\n",
        "  \n",
        "  for i in range (trials):\n",
        "    RequicaoAtendida = 0\n",
        "\n",
        "    canal1 = random.rand()\n",
        "    canal1falhou = 1\n",
        "    sucessoc1 = 0\n",
        "    requisicao = random.randint(1,4) \n",
        "\n",
        "    #print(\"\\n Requisição: \" + str(requisicao))\n",
        "    #print(\"Cache 1: \" + str(cache1))\n",
        "    #print(\"Cache 2: \" + str(cache2))\n",
        "\n",
        "    if(canal1 <= 0.9):\n",
        "      cache1, RequicaoAtendida = cacheReceivesReq(tipo, cache1, requisicao)\n",
        "    #else:\n",
        "     # print(\"Canal Falhou\")\n",
        "\n",
        "    canal2 = random.rand()\n",
        "    if(canal2 <= 0.9):        \n",
        "      cache2, RequicaoAtendida = cacheReceivesReq(tipo, cache2, requisicao)\n",
        "    #else:\n",
        "     # print(\"Canal Falhou\")\n",
        "\n",
        "    if(RequicaoAtendida):\n",
        "      sucesso = sucesso + 1\n",
        "\n",
        "    else:\n",
        "      usermiss = usermiss + 1\n",
        "  print(\"Media Sucessos = \" + str(sucesso/trials)) \n",
        "  print(\"Usermiss = \" + str(usermiss))\n",
        "  print(\"Media Usermiss = \" + str(usermiss/trials))"
      ],
      "execution_count": null,
      "outputs": []
    },
    {
      "cell_type": "code",
      "metadata": {
        "colab": {
          "base_uri": "https://localhost:8080/"
        },
        "id": "tRDNIWj52M0F",
        "outputId": "0f0a1ec6-3a28-439d-bc18-556bdf4105bc"
      },
      "source": [
        "simulacaoCenario1(\"FIFO\", 100000)"
      ],
      "execution_count": null,
      "outputs": [
        {
          "output_type": "stream",
          "text": [
            "Cache 1: [2, 1]\n",
            "Cache 2: [3, 2]\n",
            "Cache 3: [3, 1]\n",
            "Media Sucessos = 0.66566\n"
          ],
          "name": "stdout"
        },
        {
          "output_type": "execute_result",
          "data": {
            "text/plain": [
              "0.66566"
            ]
          },
          "metadata": {
            "tags": []
          },
          "execution_count": 38
        }
      ]
    },
    {
      "cell_type": "code",
      "metadata": {
        "colab": {
          "base_uri": "https://localhost:8080/"
        },
        "id": "Gv0eFTYyCEuy",
        "outputId": "568e124b-5777-432c-8a55-b88784540a1a"
      },
      "source": [
        "simulacaoCenario1(\"LRU\", 100000)"
      ],
      "execution_count": null,
      "outputs": [
        {
          "output_type": "stream",
          "text": [
            "Media Sucessos = 0.66668\n"
          ],
          "name": "stdout"
        },
        {
          "output_type": "execute_result",
          "data": {
            "text/plain": [
              "0.66668"
            ]
          },
          "metadata": {
            "tags": []
          },
          "execution_count": 18
        }
      ]
    },
    {
      "cell_type": "code",
      "metadata": {
        "colab": {
          "base_uri": "https://localhost:8080/"
        },
        "id": "wGdrCsefCUc8",
        "outputId": "4d4d39de-0199-4419-813b-d7ddc2c47108"
      },
      "source": [
        "simulacaoCenario1(\"Random\", 100000)"
      ],
      "execution_count": null,
      "outputs": [
        {
          "output_type": "stream",
          "text": [
            "Media Sucessos = 0.66685\n"
          ],
          "name": "stdout"
        },
        {
          "output_type": "execute_result",
          "data": {
            "text/plain": [
              "0.66685"
            ]
          },
          "metadata": {
            "tags": []
          },
          "execution_count": 19
        }
      ]
    },
    {
      "cell_type": "code",
      "metadata": {
        "colab": {
          "base_uri": "https://localhost:8080/"
        },
        "id": "4HMg7hOnr438",
        "outputId": "ad88be40-e1bd-4ed2-bdcc-627530974126"
      },
      "source": [
        "simulacaoCenario2(\"FIFO\", 100000)"
      ],
      "execution_count": null,
      "outputs": [
        {
          "output_type": "stream",
          "text": [
            "Media Sucessos = 0.66128\n",
            "Usermiss = 33872\n",
            "Media Usermiss = 0.33872\n"
          ],
          "name": "stdout"
        }
      ]
    },
    {
      "cell_type": "code",
      "metadata": {
        "colab": {
          "base_uri": "https://localhost:8080/",
          "height": 69
        },
        "id": "US7B0iRV8dCF",
        "outputId": "6868589a-de0d-47e9-c875-c82bd66400c9"
      },
      "source": [
        "'''\n",
        "casoFifoMarkov  = [[sy.Rational('2/3'), 0, 0, 0,sy.Rational('1/3'),0], \n",
        "    [0, sy.Rational('2/3'), sy.Rational('1/3'), 0,0,0],\n",
        "    [0, 0, sy.Rational('2/3'), 0,0,sy.Rational('1/3')],\n",
        "    [sy.Rational('1/3'), 0, sy.Rational('2/3'), 0,0,0],\n",
        "    [0, 0, 0, sy.Rational('1/3'),sy.Rational('2/3'),0],\n",
        "    [0, sy.Rational('1/3'), 0, 0,0,sy.Rational('2/3')]] '''"
      ],
      "execution_count": null,
      "outputs": [
        {
          "output_type": "execute_result",
          "data": {
            "application/vnd.google.colaboratory.intrinsic+json": {
              "type": "string"
            },
            "text/plain": [
              "\"\\ncasoFifoMarkov  = [[sy.Rational('2/3'), 0, 0, 0,sy.Rational('1/3'),0], \\n    [0, sy.Rational('2/3'), sy.Rational('1/3'), 0,0,0],\\n    [0, 0, sy.Rational('2/3'), 0,0,sy.Rational('1/3')],\\n    [sy.Rational('1/3'), 0, sy.Rational('2/3'), 0,0,0],\\n    [0, 0, 0, sy.Rational('1/3'),sy.Rational('2/3'),0],\\n    [0, sy.Rational('1/3'), 0, 0,0,sy.Rational('2/3')]] \""
            ]
          },
          "metadata": {
            "tags": []
          },
          "execution_count": 10
        }
      ]
    },
    {
      "cell_type": "code",
      "metadata": {
        "id": "EPVt8yZVATok"
      },
      "source": [
        "markovCasoFIFO  = [[2/3, 0, 0, 0,1/3,0], \n",
        "    [0, 2/3, 1/3, 0,0,0],\n",
        "    [0, 0, 2/3, 0,0,1/3],\n",
        "    [1/3, 0,0,2/3,0,0],\n",
        "    [0, 0, 0, 1/3,2/3,0],\n",
        "    [0, 1/3, 0, 0,0,2/3]]\n",
        "\n",
        "markovCasoLRU  = [[1/3, 0, 1/3, 0,1/3,0], \n",
        "    [0, 1/3, 1/3, 0,1/3,0],\n",
        "    [1/3, 0, 1/3, 0,0,1/3],\n",
        "    [1/3, 0,0,1/3,0,1/3],\n",
        "    [0, 1/3, 0, 1/3,1/3,0],\n",
        "    [0, 1/3, 0, 1/3,0,1/3]]\n",
        "\n",
        "markovCasoRandom = [[2/3, 1/6, 1/6], \n",
        "    [1/6, 2/3, 1/6],\n",
        "    [1/6, 1/6, 2/3]]"
      ],
      "execution_count": null,
      "outputs": []
    },
    {
      "cell_type": "code",
      "metadata": {
        "colab": {
          "base_uri": "https://localhost:8080/"
        },
        "id": "rMWbSFqi_GAh",
        "outputId": "c8aa1201-a7a1-44ef-8268-f0d530ba422b"
      },
      "source": [
        "matrix_power(markovCasoFIFO, 10000).round(decimals=2)"
      ],
      "execution_count": null,
      "outputs": [
        {
          "output_type": "execute_result",
          "data": {
            "text/plain": [
              "array([[0.33, 0.  , 0.  , 0.33, 0.33, 0.  ],\n",
              "       [0.  , 0.33, 0.33, 0.  , 0.  , 0.33],\n",
              "       [0.  , 0.33, 0.33, 0.  , 0.  , 0.33],\n",
              "       [0.33, 0.  , 0.  , 0.33, 0.33, 0.  ],\n",
              "       [0.33, 0.  , 0.  , 0.33, 0.33, 0.  ],\n",
              "       [0.  , 0.33, 0.33, 0.  , 0.  , 0.33]])"
            ]
          },
          "metadata": {
            "tags": []
          },
          "execution_count": 72
        }
      ]
    },
    {
      "cell_type": "code",
      "metadata": {
        "colab": {
          "base_uri": "https://localhost:8080/"
        },
        "id": "74uEeQ-TC7pV",
        "outputId": "50eec250-b668-4aff-8ebf-927254b99591"
      },
      "source": [
        "matrix_power(markovCasoLRU, 10000).round(decimals=2)"
      ],
      "execution_count": null,
      "outputs": [
        {
          "output_type": "execute_result",
          "data": {
            "text/plain": [
              "array([[0.17, 0.17, 0.17, 0.17, 0.17, 0.17],\n",
              "       [0.17, 0.17, 0.17, 0.17, 0.17, 0.17],\n",
              "       [0.17, 0.17, 0.17, 0.17, 0.17, 0.17],\n",
              "       [0.17, 0.17, 0.17, 0.17, 0.17, 0.17],\n",
              "       [0.17, 0.17, 0.17, 0.17, 0.17, 0.17],\n",
              "       [0.17, 0.17, 0.17, 0.17, 0.17, 0.17]])"
            ]
          },
          "metadata": {
            "tags": []
          },
          "execution_count": 13
        }
      ]
    },
    {
      "cell_type": "code",
      "metadata": {
        "colab": {
          "base_uri": "https://localhost:8080/"
        },
        "id": "Aq_Lqrh9Djxe",
        "outputId": "a27b5490-5f7f-46bb-e3a7-76eaffab4984"
      },
      "source": [
        "matrix_power(markovCasoRandom, 10000).round(decimals=2)"
      ],
      "execution_count": null,
      "outputs": [
        {
          "output_type": "execute_result",
          "data": {
            "text/plain": [
              "array([[0.33, 0.33, 0.33],\n",
              "       [0.33, 0.33, 0.33],\n",
              "       [0.33, 0.33, 0.33]])"
            ]
          },
          "metadata": {
            "tags": []
          },
          "execution_count": 14
        }
      ]
    }
  ]
}