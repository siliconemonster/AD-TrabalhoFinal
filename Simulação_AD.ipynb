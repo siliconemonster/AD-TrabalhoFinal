{
  "nbformat": 4,
  "nbformat_minor": 0,
  "metadata": {
    "colab": {
      "name": "Simulação AD.ipynb",
      "provenance": [],
      "collapsed_sections": [
        "5aTNjkgw6BQE",
        "xZlCfWkcrxwt",
        "KdkPXO0Ct0Mx",
        "H5x6amW7r72u",
        "F3vgL7m44jUM",
        "SIa_whUE4oy5",
        "ID3wiy4TAcsL",
        "0dOn-9bfUu5Z",
        "qEaystErUxXh",
        "ToFXNIAv8eNI",
        "SG4tshBM-cPg",
        "VEI9N73Wrj2_"
      ],
      "include_colab_link": true
    },
    "kernelspec": {
      "display_name": "Python 3",
      "name": "python3"
    },
    "language_info": {
      "name": "python"
    }
  },
  "cells": [
    {
      "cell_type": "markdown",
      "metadata": {
        "id": "view-in-github",
        "colab_type": "text"
      },
      "source": [
        "<a href=\"https://colab.research.google.com/github/siliconemonster/AD-TrabalhoFinal/blob/main/Simula%C3%A7%C3%A3o_AD.ipynb\" target=\"_parent\"><img src=\"https://colab.research.google.com/assets/colab-badge.svg\" alt=\"Open In Colab\"/></a>"
      ]
    },
    {
      "cell_type": "markdown",
      "metadata": {
        "id": "5aTNjkgw6BQE"
      },
      "source": [
        "## Importando bibliotecas"
      ]
    },
    {
      "cell_type": "code",
      "metadata": {
        "id": "9qMnzYxPsbKS"
      },
      "source": [
        "import random\n",
        "from random import sample\n",
        "from random import random\n",
        "from matplotlib import pyplot as plt\n",
        "from matplotlib.legend_handler import HandlerLine2D\n",
        "from collections import Counter\n",
        "import sympy as sy\n",
        "from numpy.linalg import matrix_power\n",
        "from fractions import Fraction\n",
        "import math\n",
        "from math import *\n",
        "import numpy as np\n",
        "from numpy import random\n",
        "import pandas as pd\n",
        "import queue \n",
        "from scipy.stats import poisson\n",
        "import copy\n",
        "import fractions\n",
        "from itertools import permutations\n",
        "from itertools import combinations\n",
        "from itertools import combinations_with_replacement\n",
        "from sympy import Matrix"
      ],
      "execution_count": 22,
      "outputs": []
    },
    {
      "cell_type": "markdown",
      "metadata": {
        "id": "xZlCfWkcrxwt"
      },
      "source": [
        "## Funções Auxiliares"
      ]
    },
    {
      "cell_type": "code",
      "metadata": {
        "id": "X2yM60ijtmPG"
      },
      "source": [
        "def initializeCache():  \n",
        "  cache = sample([1,2,3], k= 2)\n",
        "  return cache"
      ],
      "execution_count": 23,
      "outputs": []
    },
    {
      "cell_type": "code",
      "metadata": {
        "id": "YKYi5IdttmPH"
      },
      "source": [
        "def cacheReceivesReq(caso, cacheEnt, conteudo, depurar = False):\n",
        "  cache = cacheEnt.copy()\n",
        "  RequisicaoAtendida = 0\n",
        "  #print(\"Conteudo Requisitado: \" + str(requisicao))\n",
        "  #print(\"Cache:\" + str(cache))\n",
        "\n",
        "  if (conteudo in cache):\n",
        "    if (caso == \"FIFO\" or caso == \"Random\" or caso == \"Estatica\"):\n",
        "      cache = cache\n",
        "      RequisicaoAtendida = 1    \n",
        "      if (depurar): print(\"Cache possui requisição!\")\n",
        "      if (depurar): print(\"Cache permanece inalterada.\")\n",
        "\n",
        "    elif (caso == \"LRU\"):\n",
        "      RequisicaoAtendida = 1    \n",
        "      if (depurar): print(\"Cache possui requisição!\")\n",
        "\n",
        "      if (depurar): print(\"Conteúdo requisitado ficará na primeira posição.\")\n",
        "      cache.remove(conteudo)\n",
        "      cache.insert(0, conteudo)\n",
        "      if (depurar): print(\"Novo estado da cache: \" + str(cache)) \n",
        "   \n",
        "  else:\n",
        "    if (depurar): print(\"Cache não possui conteúdo da requisição )=\")\n",
        "    if (depurar): print(\"Conteúdo requisitado entrará na primeira posição, e o conteúdo da última sairá.\") \n",
        "    if (caso == \"FIFO\" or caso == \"LRU\"):\n",
        "      cache.insert(0, conteudo)\n",
        "      del cache[-1]\n",
        "      if (depurar): print(\"Novo estado da cache: \" + str(cache)) \n",
        "\n",
        "    elif (caso == \"Random\"):\n",
        "      if (depurar): print(\"Conteúdo requisitado entrará numa posição aleatória.\")\n",
        "      pos = random.randint(0,2)\n",
        "      cache[pos] = conteudo\n",
        "      if (depurar): print(\"Novo estado da cache: \" + str(cache))\n",
        "\n",
        "    elif (caso == \"Estatica\"):\n",
        "      if (depurar): print(\"Cache permanece inalterada.\")\n",
        "      cache = cache\n",
        "\n",
        "  return cache, RequisicaoAtendida"
      ],
      "execution_count": 24,
      "outputs": []
    },
    {
      "cell_type": "markdown",
      "metadata": {
        "id": "KdkPXO0Ct0Mx"
      },
      "source": [
        "## I. Simulação Cenário I"
      ]
    },
    {
      "cell_type": "code",
      "metadata": {
        "id": "suVu9BaPsR72"
      },
      "source": [
        "\n",
        "def simulacaoCenario1(numRequisicoes, caso):\n",
        "\n",
        "  Requisicoes = [[1,3],[2,2],[3,1]]\n",
        "  cache1 = initializeCache()\n",
        "  cache2 = initializeCache()\n",
        "  sucessos = 0 # contador de sucessos\n",
        "  requisicoes = 0 # contador de requisições\n",
        "\n",
        "  taxa = [1/3,1/3,1/3]\n",
        "\n",
        "  while (requisicoes <= numRequisicoes):\n",
        "\n",
        "    RequicaoAtendida = 0\n",
        "\n",
        "    evento = Requisicoes[0]\n",
        "    tempoAtual = evento[0]\n",
        "    conteudo = evento[1]\n",
        "\n",
        "    print(\"Tempo \" + str(tempoAtual) + \" ocorreu requesição do tipo \" + str(conteudo))\n",
        "    print(\"Cache 1:\" + str(cache1))\n",
        "    print(\"Cache 2:\" + str(cache2))\n",
        "\n",
        "    cache1, RequicaoAtendida = cacheReceivesReq(caso, cache1, conteudo)\n",
        "    cache2, RequicaoAtendida = cacheReceivesReq(caso, cache2, conteudo)  \n",
        "\n",
        "\n",
        "    if (RequicaoAtendida):\n",
        "      sucessos = sucessos + 1\n",
        "      print(\"Requisição foi atendida yay! \\n\")\n",
        "    \n",
        "    else:\n",
        "      print(\"Requisição não foi atendida :/ ! \\n\")\n",
        "\n",
        "    del Requisicoes[0]\n",
        "\n",
        "    tempoAgendado = tempoAtual + np.random.exponential(1/taxa[conteudo-1])\n",
        "    Requisicoes.append([tempoAgendado,conteudo])  \n",
        "    Requisicoes = sorted(Requisicoes, key=lambda tup: tup[0])\n",
        "\n",
        "    requisicoes = requisicoes + 1\n",
        "    print(\"Sucessos: \" + str(sucessos))\n"
      ],
      "execution_count": 25,
      "outputs": []
    },
    {
      "cell_type": "markdown",
      "metadata": {
        "id": "H5x6amW7r72u"
      },
      "source": [
        "## Implementações Antigas"
      ]
    },
    {
      "cell_type": "code",
      "metadata": {
        "id": "Mo4sZoaDxF40"
      },
      "source": [
        "def simulacaoCenario1(tipo, trials): \n",
        "    \n",
        "  mediaSucessos = []\n",
        "\n",
        "  for i in range(trials):\n",
        "\n",
        "    queueCache1 = {}\n",
        "    queueCache2 = {}\n",
        "\n",
        "    sucesso = 0\n",
        "    mediaSucesso = 0  \n",
        "\n",
        "    cache1 = initializeCache()\n",
        "    cache2 = initializeCache()\n",
        "\n",
        "    reqAtendidasC1 = []\n",
        "    reqAtendidasC2 = []\n",
        "\n",
        "\n",
        "    t = 0\n",
        "    max = 1000\n",
        "    while (t < max):\n",
        "\n",
        "      RequicaoAtendida = 0\n",
        "      requisicao = random.randint(1,4)\n",
        "\n",
        "      #print(\"Conteudo Requisitado: \" + str(requisicao))\n",
        "      #print(\"Cache 1: \" + str(cache1))\n",
        "      #print(\"Cache 2: \" + str(cache2))\n",
        "\n",
        "\n",
        "      TempoC1 = np.random.poisson(1/3,1)\n",
        "      requisicaoTempoC1 = t + TempoC1[0]\n",
        "      TempoC2 = np.random.poisson(1/3,1)\n",
        "      requisicaoTempoC2 = t + TempoC2[0]      \n",
        "\n",
        "\n",
        "      # Inserindo a requisição na fila\n",
        "      queueCache1[\"req\" + str(t)] = [requisicaoTempoC1,requisicao]\n",
        "      queueCache2[\"req\" + str(t)] = [requisicaoTempoC2,requisicao]\n",
        "      \n",
        "      # OrdenandO a Fila\n",
        "      queueCache1 = {k: v for k, v in sorted(queueCache1.items(), key=lambda item: item[1])}\n",
        "      queueCache2 = {k: v for k, v in sorted(queueCache2.items(), key=lambda item: item[1])}\n",
        "\n",
        "      #print(\"Fila cache 1:\" + str(queueCache1))\n",
        "      #print(\"Fila cache 2:\" + str(queueCache2))\n",
        "\n",
        "      while (1):\n",
        "\n",
        "        if (len(queueCache1)>0):\n",
        "          primRequisicao = list(queueCache1.keys())[0]\n",
        "          requisicao = queueCache1[primRequisicao]\n",
        "          conteudoReq = requisicao[1]          \n",
        "          tempoReeq = requisicao[0]\n",
        "\n",
        "          if (tempoReeq == t):\n",
        "            del queueCache1[primRequisicao]\n",
        "            #print(str(primRequisicao) + \" vai para a cache 1\")\n",
        "            cache1, RequicaoAtendida = cacheReceivesReq(tipo, cache1, conteudoReq)\n",
        "            if (RequicaoAtendida):\n",
        "              reqAtendidasC1.append(primRequisicao)\n",
        "              #print(\"Requisição atendida\")\n",
        "            #else:\n",
        "              #print(\"Requisição não atendida\")\n",
        "\n",
        "\n",
        "          else: break\n",
        "\n",
        "        else: break\n",
        "\n",
        "      while (1):\n",
        "\n",
        "        if(len(queueCache2)>0):\n",
        "\n",
        "          primRequisicao = list(queueCache2.keys())[0]\n",
        "          requisicao = queueCache2[primRequisicao]\n",
        "          conteudoReq = requisicao[1]\n",
        "          tempoReeq = requisicao[0]\n",
        "\n",
        "          if (tempoReeq == t):\n",
        "            del queueCache2[primRequisicao]\n",
        "            #print(str(primRequisicao) + \" vai para a cache 2\")\n",
        "            cache2, RequicaoAtendida = cacheReceivesReq(tipo, cache2, conteudoReq)\n",
        "            if (RequicaoAtendida):\n",
        "              reqAtendidasC2.append(primRequisicao)\n",
        "              #print(\"Requisição atendida\")\n",
        "            #else:\n",
        "              #print(\"Requisição não atendida\")\n",
        "\n",
        "          else: break\n",
        "        \n",
        "        else: break\n",
        "\n",
        "      #if(RequicaoAtendida):\n",
        "          #print(\"Sucesso!\")\n",
        "\n",
        "      t = t + 1\n",
        "\n",
        "      \n",
        "    #print(reqAtendidasC1)\n",
        "    #print(reqAtendidasC2)\n",
        "    reqAtendidas = list(set(reqAtendidasC1).union(set(reqAtendidasC2)))\n",
        "    #print(reqAtendidas)\n",
        "    sucessos = len(reqAtendidas)\n",
        "    #print(\"Sucessos = \" + str(sucessos))\n",
        "    mediaSucessos.append(sucessos/t)\n",
        "    \n",
        "  \n",
        "  print(\"Media Sucessos = \" + str(mediaSucessos))\n",
        "\n",
        "    \n",
        "  return mediaSucessos\n"
      ],
      "execution_count": null,
      "outputs": []
    },
    {
      "cell_type": "code",
      "metadata": {
        "colab": {
          "base_uri": "https://localhost:8080/"
        },
        "id": "YmwpbinAS2TB",
        "outputId": "8c0f012a-9003-4bb1-8a92-c2cb5d5d12bd"
      },
      "source": [
        "simulacaoCenario1(\"LRU\", 3)"
      ],
      "execution_count": null,
      "outputs": [
        {
          "output_type": "stream",
          "text": [
            "Media Sucessos = [0.715, 0.71, 0.708]\n"
          ],
          "name": "stdout"
        },
        {
          "output_type": "execute_result",
          "data": {
            "text/plain": [
              "[0.715, 0.71, 0.708]"
            ]
          },
          "metadata": {
            "tags": []
          },
          "execution_count": 7
        }
      ]
    },
    {
      "cell_type": "code",
      "metadata": {
        "colab": {
          "base_uri": "https://localhost:8080/"
        },
        "id": "SdcO_0Cg_9LI",
        "outputId": "d11c3c81-ae27-4c3b-d92e-6701ab21b99e"
      },
      "source": [
        "random.seed(8)\n",
        "tipo = \"FIFO\"\n",
        "\n",
        "queueCache1 = {}\n",
        "queueCache2 = {}\n",
        "\n",
        "sucesso = 0\n",
        "mediaSucesso = 0  \n",
        "\n",
        "cache1 = initializeCache()\n",
        "cache2 = initializeCache()\n",
        "t = 0\n",
        "max = 10\n",
        "while (t < max):\n",
        "\n",
        "  RequicaoAtendida = 0\n",
        "  requisicao = random.randint(1,4)\n",
        "\n",
        "  print(\"Conteudo Requisitado: \" + str(requisicao))\n",
        "  print(\"Cache 1: \" + str(cache1))\n",
        "  print(\"Cache 2: \" + str(cache2))\n",
        "\n",
        "\n",
        "  TempoC1 = np.random.poisson(1/3,1)\n",
        "  requisicaoTempoC1 = t + TempoC1[0]\n",
        "  TempoC2 = np.random.poisson(1/3,1)\n",
        "  requisicaoTempoC2 = t + TempoC2[0]      \n",
        "\n",
        "\n",
        "  # Inserindo a requisição na fila\n",
        "  queueCache1[\"req\" + str(t)] = [requisicaoTempoC1,requisicao]\n",
        "  queueCache2[\"req\" + str(t)] = [requisicaoTempoC2,requisicao]\n",
        "  \n",
        "  # OrdenandO a Fila\n",
        "  queueCache1 = {k: v for k, v in sorted(queueCache1.items(), key=lambda item: item[1])}\n",
        "  queueCache2 = {k: v for k, v in sorted(queueCache2.items(), key=lambda item: item[1])}\n",
        "\n",
        "  print(\"Fila cache 1:\" + str(queueCache1))\n",
        "  print(\"Fila cache 2:\" + str(queueCache2))\n",
        "\n",
        "  while (1):\n",
        "\n",
        "    if (len(queueCache1)>0):\n",
        "      primRequisicao = list(queueCache1.keys())[0]\n",
        "      requisicao = queueCache1[primRequisicao]\n",
        "      conteudoReq = requisicao[1]\n",
        "      tempoReeq = requisicao[0]\n",
        "\n",
        "      if (tempoReeq == t):\n",
        "        del queueCache1[primRequisicao]\n",
        "        print(str(primRequisicao) + \" vai para a cache 1\")\n",
        "        cache1, RequicaoAtendida = cacheReceivesReq(tipo, cache1, conteudoReq)\n",
        "        if (RequicaoAtendida):\n",
        "          print(\"Requisição atendida\")\n",
        "        else:\n",
        "          print(\"Requisição não atendida\")\n",
        "\n",
        "\n",
        "      else: break\n",
        "\n",
        "    else: break\n",
        "\n",
        "  while (1):\n",
        "\n",
        "    if(len(queueCache2)>0):\n",
        "\n",
        "      primRequisicao = list(queueCache2.keys())[0]\n",
        "      requisicao = queueCache2[primRequisicao]\n",
        "      conteudoReq = requisicao[1]\n",
        "      tempoReeq = requisicao[0]\n",
        "\n",
        "      if (tempoReeq == t):\n",
        "        del queueCache2[primRequisicao]\n",
        "        print(str(primRequisicao) + \" vai para a cache 2\")\n",
        "        cache2, RequicaoAtendida = cacheReceivesReq(tipo, cache2, conteudoReq)\n",
        "        if (RequicaoAtendida):\n",
        "          print(\"Requisição atendida\")\n",
        "        else:\n",
        "          print(\"Requisição não atendida\")\n",
        "\n",
        "      else: break\n",
        "    \n",
        "    else: break\n",
        "\n",
        "  if(RequicaoAtendida):\n",
        "      print(\"Sucesso!\")\n",
        "      sucesso = sucesso + 1  \n",
        "\n",
        "  t = t + 1\n",
        "  print(\"\")"
      ],
      "execution_count": null,
      "outputs": [
        {
          "output_type": "stream",
          "text": [
            "Conteudo Requisitado: 1\n",
            "Cache 1: [2, 3]\n",
            "Cache 2: [2, 1]\n",
            "Fila cache 1:{'req0': [2, 1]}\n",
            "Fila cache 2:{'req0': [0, 1]}\n",
            "req0 vai para a cache 2\n",
            "Requisição atendida\n",
            "Sucesso!\n",
            "\n",
            "Conteudo Requisitado: 1\n",
            "Cache 1: [2, 3]\n",
            "Cache 2: [2, 1]\n",
            "Fila cache 1:{'req1': [1, 1], 'req0': [2, 1]}\n",
            "Fila cache 2:{'req1': [2, 1]}\n",
            "req1 vai para a cache 1\n",
            "Requisição não atendida\n",
            "\n",
            "Conteudo Requisitado: 1\n",
            "Cache 1: [1, 2]\n",
            "Cache 2: [2, 1]\n",
            "Fila cache 1:{'req0': [2, 1], 'req2': [3, 1]}\n",
            "Fila cache 2:{'req1': [2, 1], 'req2': [2, 1]}\n",
            "req0 vai para a cache 1\n",
            "Requisição atendida\n",
            "req1 vai para a cache 2\n",
            "Requisição atendida\n",
            "req2 vai para a cache 2\n",
            "Requisição atendida\n",
            "Sucesso!\n",
            "\n",
            "Conteudo Requisitado: 3\n",
            "Cache 1: [1, 2]\n",
            "Cache 2: [2, 1]\n",
            "Fila cache 1:{'req2': [3, 1], 'req3': [4, 3]}\n",
            "Fila cache 2:{'req3': [3, 3]}\n",
            "req2 vai para a cache 1\n",
            "Requisição atendida\n",
            "req3 vai para a cache 2\n",
            "Requisição não atendida\n",
            "\n",
            "Conteudo Requisitado: 1\n",
            "Cache 1: [1, 2]\n",
            "Cache 2: [3, 2]\n",
            "Fila cache 1:{'req3': [4, 3], 'req4': [5, 1]}\n",
            "Fila cache 2:{'req4': [4, 1]}\n",
            "req3 vai para a cache 1\n",
            "Requisição não atendida\n",
            "req4 vai para a cache 2\n",
            "Requisição não atendida\n",
            "\n",
            "Conteudo Requisitado: 3\n",
            "Cache 1: [3, 1]\n",
            "Cache 2: [1, 3]\n",
            "Fila cache 1:{'req4': [5, 1], 'req5': [5, 3]}\n",
            "Fila cache 2:{'req5': [5, 3]}\n",
            "req4 vai para a cache 1\n",
            "Requisição atendida\n",
            "req5 vai para a cache 1\n",
            "Requisição atendida\n",
            "req5 vai para a cache 2\n",
            "Requisição atendida\n",
            "Sucesso!\n",
            "\n",
            "Conteudo Requisitado: 2\n",
            "Cache 1: [3, 1]\n",
            "Cache 2: [1, 3]\n",
            "Fila cache 1:{'req6': [6, 2]}\n",
            "Fila cache 2:{'req6': [6, 2]}\n",
            "req6 vai para a cache 1\n",
            "Requisição não atendida\n",
            "req6 vai para a cache 2\n",
            "Requisição não atendida\n",
            "\n",
            "Conteudo Requisitado: 1\n",
            "Cache 1: [2, 3]\n",
            "Cache 2: [2, 1]\n",
            "Fila cache 1:{'req7': [7, 1]}\n",
            "Fila cache 2:{'req7': [8, 1]}\n",
            "req7 vai para a cache 1\n",
            "Requisição não atendida\n",
            "\n",
            "Conteudo Requisitado: 2\n",
            "Cache 1: [1, 2]\n",
            "Cache 2: [2, 1]\n",
            "Fila cache 1:{'req8': [9, 2]}\n",
            "Fila cache 2:{'req7': [8, 1], 'req8': [8, 2]}\n",
            "req7 vai para a cache 2\n",
            "Requisição atendida\n",
            "req8 vai para a cache 2\n",
            "Requisição atendida\n",
            "Sucesso!\n",
            "\n",
            "Conteudo Requisitado: 3\n",
            "Cache 1: [1, 2]\n",
            "Cache 2: [2, 1]\n",
            "Fila cache 1:{'req8': [9, 2], 'req9': [9, 3]}\n",
            "Fila cache 2:{'req9': [9, 3]}\n",
            "req8 vai para a cache 1\n",
            "Requisição atendida\n",
            "req9 vai para a cache 1\n",
            "Requisição não atendida\n",
            "req9 vai para a cache 2\n",
            "Requisição não atendida\n",
            "\n"
          ],
          "name": "stdout"
        }
      ]
    },
    {
      "cell_type": "code",
      "metadata": {
        "id": "SCHbJ8UVpCpy"
      },
      "source": [
        "def simulacaoCenario2(tipo, trials):\n",
        "  queueCache1 = {}\n",
        "  queueCache2 = {}\n",
        "  sucesso = 0\n",
        "  mediaSucesso = 0  \n",
        "  cache1 = initializeCache()\n",
        "  cache2 = initializeCache()\n",
        "  usermiss = 0\n",
        "\n",
        "  \n",
        "  for i in range (trials):\n",
        "    RequicaoAtendida = 0\n",
        "\n",
        "    canal1 = random.rand()\n",
        "    canal1falhou = 1\n",
        "    sucessoc1 = 0\n",
        "    requisicao = random.randint(1,4) \n",
        "\n",
        "    #print(\"\\n Requisição: \" + str(requisicao))\n",
        "    #print(\"Cache 1: \" + str(cache1))\n",
        "    #print(\"Cache 2: \" + str(cache2))\n",
        "\n",
        "    if(canal1 <= 0.9):\n",
        "      cache1, RequicaoAtendida = cacheReceivesReq(tipo, cache1, requisicao)\n",
        "    #else:\n",
        "     # print(\"Canal Falhou\")\n",
        "\n",
        "    canal2 = random.rand()\n",
        "    if(canal2 <= 0.9):        \n",
        "      cache2, RequicaoAtendida = cacheReceivesReq(tipo, cache2, requisicao)\n",
        "    #else:\n",
        "     # print(\"Canal Falhou\")\n",
        "\n",
        "    if(RequicaoAtendida):\n",
        "      sucesso = sucesso + 1\n",
        "\n",
        "    else:\n",
        "      usermiss = usermiss + 1\n",
        "  print(\"Media Sucessos = \" + str(sucesso/trials)) \n",
        "  print(\"Usermiss = \" + str(usermiss))\n",
        "  print(\"Media Usermiss = \" + str(usermiss/trials))"
      ],
      "execution_count": null,
      "outputs": []
    },
    {
      "cell_type": "code",
      "metadata": {
        "colab": {
          "base_uri": "https://localhost:8080/",
          "height": 278
        },
        "id": "tRDNIWj52M0F",
        "outputId": "33c99f99-4fe9-4478-915a-6f08733159ae"
      },
      "source": [
        "simulacaoCenario1(\"FIFO\", 100000)"
      ],
      "execution_count": null,
      "outputs": [
        {
          "output_type": "error",
          "ename": "KeyboardInterrupt",
          "evalue": "ignored",
          "traceback": [
            "\u001b[0;31m---------------------------------------------------------------------------\u001b[0m",
            "\u001b[0;31mKeyboardInterrupt\u001b[0m                         Traceback (most recent call last)",
            "\u001b[0;32m<ipython-input-10-ecfc0f21dd9e>\u001b[0m in \u001b[0;36m<module>\u001b[0;34m()\u001b[0m\n\u001b[0;32m----> 1\u001b[0;31m \u001b[0msimulacaoCenario1\u001b[0m\u001b[0;34m(\u001b[0m\u001b[0;34m\"FIFO\"\u001b[0m\u001b[0;34m,\u001b[0m \u001b[0;36m100000\u001b[0m\u001b[0;34m)\u001b[0m\u001b[0;34m\u001b[0m\u001b[0;34m\u001b[0m\u001b[0m\n\u001b[0m",
            "\u001b[0;32m<ipython-input-6-892e0300ee03>\u001b[0m in \u001b[0;36msimulacaoCenario1\u001b[0;34m(tipo, trials)\u001b[0m\n\u001b[1;32m     32\u001b[0m       \u001b[0mTempoC1\u001b[0m \u001b[0;34m=\u001b[0m \u001b[0mnp\u001b[0m\u001b[0;34m.\u001b[0m\u001b[0mrandom\u001b[0m\u001b[0;34m.\u001b[0m\u001b[0mpoisson\u001b[0m\u001b[0;34m(\u001b[0m\u001b[0;36m1\u001b[0m\u001b[0;34m/\u001b[0m\u001b[0;36m3\u001b[0m\u001b[0;34m,\u001b[0m\u001b[0;36m1\u001b[0m\u001b[0;34m)\u001b[0m\u001b[0;34m\u001b[0m\u001b[0;34m\u001b[0m\u001b[0m\n\u001b[1;32m     33\u001b[0m       \u001b[0mrequisicaoTempoC1\u001b[0m \u001b[0;34m=\u001b[0m \u001b[0mt\u001b[0m \u001b[0;34m+\u001b[0m \u001b[0mTempoC1\u001b[0m\u001b[0;34m[\u001b[0m\u001b[0;36m0\u001b[0m\u001b[0;34m]\u001b[0m\u001b[0;34m\u001b[0m\u001b[0;34m\u001b[0m\u001b[0m\n\u001b[0;32m---> 34\u001b[0;31m       \u001b[0mTempoC2\u001b[0m \u001b[0;34m=\u001b[0m \u001b[0mnp\u001b[0m\u001b[0;34m.\u001b[0m\u001b[0mrandom\u001b[0m\u001b[0;34m.\u001b[0m\u001b[0mpoisson\u001b[0m\u001b[0;34m(\u001b[0m\u001b[0;36m1\u001b[0m\u001b[0;34m/\u001b[0m\u001b[0;36m3\u001b[0m\u001b[0;34m,\u001b[0m\u001b[0;36m1\u001b[0m\u001b[0;34m)\u001b[0m\u001b[0;34m\u001b[0m\u001b[0;34m\u001b[0m\u001b[0m\n\u001b[0m\u001b[1;32m     35\u001b[0m       \u001b[0mrequisicaoTempoC2\u001b[0m \u001b[0;34m=\u001b[0m \u001b[0mt\u001b[0m \u001b[0;34m+\u001b[0m \u001b[0mTempoC2\u001b[0m\u001b[0;34m[\u001b[0m\u001b[0;36m0\u001b[0m\u001b[0;34m]\u001b[0m\u001b[0;34m\u001b[0m\u001b[0;34m\u001b[0m\u001b[0m\n\u001b[1;32m     36\u001b[0m \u001b[0;34m\u001b[0m\u001b[0m\n",
            "\u001b[0;31mKeyboardInterrupt\u001b[0m: "
          ]
        }
      ]
    },
    {
      "cell_type": "code",
      "metadata": {
        "id": "Gv0eFTYyCEuy"
      },
      "source": [
        "simulacaoCenario1(\"LRU\", 100000)"
      ],
      "execution_count": null,
      "outputs": []
    },
    {
      "cell_type": "code",
      "metadata": {
        "id": "wGdrCsefCUc8"
      },
      "source": [
        "simulacaoCenario1(\"Random\", 100000)"
      ],
      "execution_count": null,
      "outputs": []
    },
    {
      "cell_type": "code",
      "metadata": {
        "id": "4HMg7hOnr438"
      },
      "source": [
        "simulacaoCenario2(\"FIFO\", 100000)"
      ],
      "execution_count": null,
      "outputs": []
    },
    {
      "cell_type": "markdown",
      "metadata": {
        "id": "BJVKHwXVt2V6"
      },
      "source": [
        "## Parte Analítica"
      ]
    },
    {
      "cell_type": "markdown",
      "metadata": {
        "id": "L94gjOxJigqZ"
      },
      "source": [
        "### Cenário 1\n",
        "\n"
      ]
    },
    {
      "cell_type": "markdown",
      "metadata": {
        "id": "oBXzvgMIvJd2"
      },
      "source": [
        "Determinamos matrizes de transição dos tipos FIFO, LRU e Random para realizar as nossas análises por cadeias de Markov.<br>\n",
        "Não ocorre de haver dois conteúdos iguais em uma mesma cache, então nunca teremos os estados AA, BB ou CC. Com isso, a matriz FIFO e a matriz LRU possuem os estados AB, AC, BA, BC, CA e CB. Já a matriz Random e a matriz Estática possuem os estados AB, AC e BC. No caso da Random, como o conteúdo é removido aleatoriamente, não importa a ordem, por exemplo se é AB ou BA, e por isso temos apenas esses 3 estados. E no caso da estática, por ela sempre armazenar os conteúdos mais populares e nunca mudar, a ordem também não importa."
      ]
    },
    {
      "cell_type": "markdown",
      "metadata": {
        "id": "zz5oYxmEsL2x"
      },
      "source": [
        "Aqui calcularemos a probabilidade de sucesso utilizando cadeias de Markov para comprovar analíticamente o que fizemos na simulação."
      ]
    },
    {
      "cell_type": "markdown",
      "metadata": {
        "id": "F3vgL7m44jUM"
      },
      "source": [
        "#### Funções"
      ]
    },
    {
      "cell_type": "code",
      "metadata": {
        "id": "-vk0wyhtdkjP"
      },
      "source": [
        "def GeraMatrizTransicao(conteudos, tipo, depurar = False):\n",
        "\n",
        "  estadosCache = list(permutations(conteudos, 2))\n",
        "  estadosCache\n",
        "  estadosCacheS = list(combinations_with_replacement(estadosCache, 2))\n",
        "  numconteudos = (len(conteudos))\n",
        "\n",
        "  pares = []\n",
        "\n",
        "  for i in range (len(estadosCacheS)):\n",
        "    estado = [''.join(ele) for ele in estadosCacheS[i]]\n",
        "    indice = estado[0] + estado[1]\n",
        "    pares.append(indice)  \n",
        "\n",
        "  matriz = {}\n",
        "  numColunas = len(pares)\n",
        "  linha = np.zeros((1, numColunas), dtype=int)\n",
        "  linha = list(linha[0])\n",
        "  matrizArray = []\n",
        "\n",
        "  for i in range(len(pares)):\n",
        "\n",
        "    cache1 = []\n",
        "    cache2 = []\n",
        "\n",
        "    indice = pares[i]\n",
        "\n",
        "    cache1.append(indice[0])\n",
        "    cache1.append(indice[1])\n",
        "    cache2.append(indice[2])\n",
        "    cache2.append(indice[3])\n",
        "\n",
        "    matriz[indice] = linha.copy()\n",
        "\n",
        "\n",
        "    for conteudo in conteudos:\n",
        "\n",
        "      c1_transicaopraEstado, tinhaConteudo = cacheReceivesReq(tipo, cache1,conteudo, depurar = False)\n",
        "      c2_transicaopraEstado, tinhaConteudo = cacheReceivesReq(tipo, cache2,conteudo, depurar = False)\n",
        "\n",
        "      novoEstadoOp1 = c1_transicaopraEstado[0]+c1_transicaopraEstado[1] + c2_transicaopraEstado[0] + c2_transicaopraEstado[1]\n",
        "      novoEstadoOp2 = c2_transicaopraEstado[0] + c2_transicaopraEstado[1] + c1_transicaopraEstado[0] + c1_transicaopraEstado[1] \n",
        "   \n",
        "\n",
        "\n",
        "      try:        \n",
        "        index = pares.index(novoEstadoOp1)\n",
        "\n",
        "      except:\n",
        "        index = pares.index(novoEstadoOp2)    \n",
        "\n",
        "      matriz[indice][index] = matriz[indice][index] +  Fraction(1,numconteudos)\n",
        "\n",
        "    matrizArray.append(matriz[indice])\n",
        "\n",
        "  matrizTransicao = Matrix(matrizArray)\n",
        "  estados = [[el] for el in pares]\n",
        "  if (depurar): \n",
        "    print(\"A matriz de transição do caso \" + str(tipo) + \" é:\")\n",
        "    print(matrizTransicao)\n",
        "    print(\"E seus estados são:\")\n",
        "    print(estados)\n",
        "    print()\n",
        "  return matrizTransicao, estados"
      ],
      "execution_count": 5,
      "outputs": []
    },
    {
      "cell_type": "code",
      "metadata": {
        "id": "EPVt8yZVATok"
      },
      "source": [
        "# Função para calcular a distribuição estacionária de uma cadeia de Markov por meio de uma matriz de transição P\n",
        "def dist_estacionaria(P):\n",
        "  evals, evecs = np.linalg.eig(P.T) #We have to transpose so that Markov transitions correspond to right multiplying by a column vector.  np.linalg.eig finds right eigenvectors.\n",
        "  evec1 = evecs[:,np.isclose(evals, 1)]\n",
        "  evec1 = evec1[:,0]\n",
        "  stationary = evec1 / evec1.sum()\n",
        "  stationary = stationary.real # parte real (acha autovalores e autovetores complexos)\n",
        "\n",
        "  #print(stationary)\n",
        "  return stationary"
      ],
      "execution_count": 7,
      "outputs": []
    },
    {
      "cell_type": "code",
      "metadata": {
        "id": "4X3QBwO1uXCa"
      },
      "source": [
        "# Função para transformar a distribuição estacionária em uma tupla\n",
        "def forma_tupla(P, depurar = False):\n",
        "  estacionaria_nomes = copy.deepcopy(estados)\n",
        "  if (depurar): print(\"Os estados são: \" + str(estacionaria_nomes))\n",
        "  estacionaria_valores = dist_estacionaria(P)\n",
        "  if (depurar): print(\"Os valores são: \" + str(estacionaria_valores))\n",
        "\n",
        "  for i in range (len(estacionaria_valores)):\n",
        "    estacionaria_nomes[i].append(estacionaria_valores[i])\n",
        "    if (depurar): print(estacionaria_nomes)\n",
        "\n",
        "  print(\"A distribuição estacionária é dada por: \" + str(estacionaria_nomes))\n",
        "  return estacionaria_nomes"
      ],
      "execution_count": 8,
      "outputs": []
    },
    {
      "cell_type": "code",
      "metadata": {
        "id": "6267-b-EiSDY"
      },
      "source": [
        "# Função para calcular a probabilidade de sucesso em uma matriz de transição\n",
        "# ATENÇÃO: Pode representar tanto uma cache quanto duas, depende de qual matriz\n",
        "# for passada. No caso de uma matriz relativa a apenas 1 cache, é necessário \n",
        "# executar a função sucesso_unindo_matrizes() para calcular o total.\n",
        "\n",
        "def sucesso_uma_matriz(P, depurar = False):\n",
        "  estacionaria = forma_tupla(P, depurar)\n",
        "  sucesso = 0\n",
        "  for i in range(len(prob)):\n",
        "    for j in range(len(estacionaria)):\n",
        "      \n",
        "      if (prob[i][0] in estacionaria[j][0]):\n",
        "        #if (depurar): print(\"\\nPi_\" + str(estacionaria[j][0])+\" * P(\" + str(prob[i][0]) + \")\")\n",
        "        #if (depurar): print(str(estacionaria[j][1])+\" * \" + str(prob[i][1]))\n",
        "        sucesso = sucesso + (prob[i][1]*estacionaria[j][1])\n",
        "        #if (depurar): print(\"Sucesso: \" + str(sucesso))\n",
        "  \n",
        "  return sucesso"
      ],
      "execution_count": 9,
      "outputs": []
    },
    {
      "cell_type": "code",
      "metadata": {
        "id": "HYS57W7OzoDf"
      },
      "source": [
        "# Função para calcular sucesso em ambas as caches, quando a matriz for relativa\n",
        "# a uma única cache\n",
        "\n",
        "def sucesso_unindo_matrizes(P, depurar = False):\n",
        "  sucesso = 0\n",
        "  falha_uma = 0\n",
        "  sucesso_uma = sucesso_uma_matriz(P, depurar)\n",
        "  falha_uma = 1 - sucesso_uma\n",
        "\n",
        "  # Stot = S*S + S*F (OU A ORDEM IMPORTA??? 2*S*F???)\n",
        "  sucesso = sucesso_uma * sucesso_uma + sucesso_uma * falha_uma\n",
        "  falha = 1 - sucesso\n",
        "  print(\"A probabilidade de sucesso unindo as duas matrizes é de \" + str(sucesso))\n",
        "  return sucesso"
      ],
      "execution_count": 10,
      "outputs": []
    },
    {
      "cell_type": "markdown",
      "metadata": {
        "id": "SIa_whUE4oy5"
      },
      "source": [
        "####Casos com 3 conteúdos"
      ]
    },
    {
      "cell_type": "code",
      "metadata": {
        "id": "dbpS_QE_gz0d"
      },
      "source": [
        "# declaração das probabilidades de sair cada tipo de requisção\n",
        "prob = [[\"A\", 1/3], [\"B\", 1/3], [\"C\", 1/3]]"
      ],
      "execution_count": 12,
      "outputs": []
    },
    {
      "cell_type": "markdown",
      "metadata": {
        "id": "Q6YYKUl-LiEs"
      },
      "source": [
        "#####Matrizes de transição representando apenas uma cache"
      ]
    },
    {
      "cell_type": "code",
      "metadata": {
        "colab": {
          "base_uri": "https://localhost:8080/"
        },
        "id": "-oZKmyja3cRx",
        "outputId": "d4de28ed-d61b-42ba-951b-e22bcfef256f"
      },
      "source": [
        "# Caso FIFO\n",
        "estados = [[\"AB\"], [\"AC\"], [\"BA\"], [\"BC\"], [\"CA\"], [\"CB\"]] \n",
        "markovCasoFIFO = np.array([[2/3, 0, 0, 0, 1/3, 0], \n",
        "                           [0, 2/3, 1/3, 0, 0, 0],\n",
        "                           [0, 0, 2/3, 0, 0, 1/3],\n",
        "                           [1/3, 0, 0, 2/3, 0, 0],\n",
        "                           [0, 0, 0, 1/3, 2/3, 0],\n",
        "                           [0, 1/3, 0, 0, 0, 2/3]])\n",
        "\n",
        "sucesso_unindo_matrizes(markovCasoFIFO)"
      ],
      "execution_count": null,
      "outputs": [
        {
          "output_type": "stream",
          "text": [
            "A distribuição estacionária é dada por: [['AB', 0.3333333333333337], ['AC', 0.0], ['BA', 0.0], ['BC', 0.33333333333333337], ['CA', 0.3333333333333329], ['CB', 0.0]]\n",
            "A probabilidade de sucesso unindo as duas matrizes é de 0.6666666666666666\n"
          ],
          "name": "stdout"
        },
        {
          "output_type": "execute_result",
          "data": {
            "text/plain": [
              "0.6666666666666666"
            ]
          },
          "metadata": {
            "tags": []
          },
          "execution_count": 56
        }
      ]
    },
    {
      "cell_type": "code",
      "metadata": {
        "colab": {
          "base_uri": "https://localhost:8080/"
        },
        "id": "oTJlwpbS3mhl",
        "outputId": "915b6363-4d79-4f11-84cc-9651b8f0ebff"
      },
      "source": [
        "# Caso LRU\n",
        "estados = [[\"AB\"], [\"AC\"], [\"BA\"], [\"BC\"], [\"CA\"], [\"CB\"]]\n",
        "markovCasoLRU  = np.array([[1/3, 0, 1/3, 0, 1/3, 0], \n",
        "                           [0, 1/3, 1/3, 0, 1/3, 0],\n",
        "                           [1/3, 0, 1/3, 0, 0, 1/3],\n",
        "                           [1/3, 0, 0, 1/3, 0, 1/3],\n",
        "                           [0, 1/3, 0, 1/3, 1/3, 0],\n",
        "                           [0, 1/3, 0, 1/3, 0, 1/3]])\n",
        "\n",
        "sucesso_unindo_matrizes(markovCasoLRU)"
      ],
      "execution_count": 13,
      "outputs": [
        {
          "output_type": "stream",
          "text": [
            "A distribuição estacionária é dada por: [['AB', 0.16666666666666674], ['AC', 0.1666666666666666], ['BA', 0.16666666666666674], ['BC', 0.1666666666666666], ['CA', 0.16666666666666674], ['CB', 0.1666666666666666]]\n",
            "A probabilidade de sucesso unindo as duas matrizes é de 0.6666666666666667\n"
          ],
          "name": "stdout"
        },
        {
          "output_type": "execute_result",
          "data": {
            "text/plain": [
              "0.6666666666666667"
            ]
          },
          "metadata": {
            "tags": []
          },
          "execution_count": 13
        }
      ]
    },
    {
      "cell_type": "code",
      "metadata": {
        "id": "Hjx9te1O3qx-",
        "colab": {
          "base_uri": "https://localhost:8080/"
        },
        "outputId": "727db4ea-4b98-4671-81fd-6eac8f5a067b"
      },
      "source": [
        "# Caso RANDOM\n",
        "estados = [[\"AB\"], [\"AC\"], [\"BC\"]]\n",
        "markovCasoRandom = np.array([[2/3, 1/6, 1/6], \n",
        "                             [1/6, 2/3, 1/6],\n",
        "                             [1/6, 1/6, 2/3]])\n",
        "sucesso_unindo_matrizes(markovCasoRandom)\n",
        "\n",
        "#TÁ ERRADO??"
      ],
      "execution_count": 20,
      "outputs": [
        {
          "output_type": "stream",
          "text": [
            "A distribuição estacionária é dada por: [['AB', 0.3333333333333333], ['AC', 0.33333333333333337], ['BC', 0.3333333333333333]]\n",
            "A probabilidade de sucesso unindo as duas matrizes é de 0.6666666666666667\n"
          ],
          "name": "stdout"
        },
        {
          "output_type": "execute_result",
          "data": {
            "text/plain": [
              "0.6666666666666667"
            ]
          },
          "metadata": {
            "tags": []
          },
          "execution_count": 20
        }
      ]
    },
    {
      "cell_type": "code",
      "metadata": {
        "colab": {
          "base_uri": "https://localhost:8080/"
        },
        "id": "PERQI2APKYRc",
        "outputId": "ca3f2166-4564-4895-f2e6-d62d453ff530"
      },
      "source": [
        "# Caso Estático\n",
        "estados = [[\"AB\"], [\"AC\"], [\"BC\"]]\n",
        "markovCasoEstatico  = np.array([[1, 0, 0], \n",
        "                                [0, 1, 0],\n",
        "                                [0, 0, 1]])\n",
        "\n",
        "sucesso_uma_matriz(markovCasoEstatico)\n",
        "# o motivo de calcularmos o sucesso de apenas uma é que como as caches começam\n",
        "# iguais, e não há mudanças no meio do caminho. Por esse motivo, utilizamos a \n",
        "# função sucesso_uma_matriz()"
      ],
      "execution_count": 14,
      "outputs": [
        {
          "output_type": "stream",
          "text": [
            "A distribuição estacionária é dada por: [['AB', 1.0], ['AC', 0.0], ['BC', 0.0]]\n"
          ],
          "name": "stdout"
        },
        {
          "output_type": "execute_result",
          "data": {
            "text/plain": [
              "0.6666666666666666"
            ]
          },
          "metadata": {
            "tags": []
          },
          "execution_count": 14
        }
      ]
    },
    {
      "cell_type": "markdown",
      "metadata": {
        "id": "F-myokldMeB1"
      },
      "source": [
        "#####Matrizes de transição representando duas caches"
      ]
    },
    {
      "cell_type": "code",
      "metadata": {
        "id": "yrf9ENbcCsYC",
        "colab": {
          "base_uri": "https://localhost:8080/"
        },
        "outputId": "8335bd72-9c2d-4bff-c755-3daac512bd61"
      },
      "source": [
        "# Caso FIFO\n",
        "matrizFIFO_3, estados = GeraMatrizTransicao([\"A\",\"B\",\"C\"],\"FIFO\")\n",
        "matrizFIFO_3 = np.array(matrizFIFO_3, dtype='float')\n",
        "\n",
        "sucesso_uma_matriz(matrizFIFO_3)"
      ],
      "execution_count": 27,
      "outputs": [
        {
          "output_type": "stream",
          "text": [
            "A distribuição estacionária é dada por: [['ABAB', 0.3333333333333337], ['ABAC', 0.0], ['ABBA', 0.0], ['ABBC', 0.0], ['ABCA', 0.0], ['ABCB', 0.0], ['ACAC', 0.0], ['ACBA', 0.0], ['ACBC', 0.0], ['ACCA', 0.0], ['ACCB', 0.0], ['BABA', 0.0], ['BABC', 0.0], ['BACA', 0.0], ['BACB', 0.0], ['BCBC', 0.33333333333333337], ['BCCA', 0.0], ['BCCB', 0.0], ['CACA', 0.3333333333333329], ['CACB', 0.0], ['CBCB', 0.0]]\n"
          ],
          "name": "stdout"
        },
        {
          "output_type": "execute_result",
          "data": {
            "text/plain": [
              "0.6666666666666666"
            ]
          },
          "metadata": {
            "tags": []
          },
          "execution_count": 27
        }
      ]
    },
    {
      "cell_type": "code",
      "metadata": {
        "colab": {
          "base_uri": "https://localhost:8080/"
        },
        "id": "o44BsFsKR2uY",
        "outputId": "77f197f6-f0f3-49de-985d-4394906442ec"
      },
      "source": [
        "array([[0.7, 0. , 0. , 0. , 0. , 0. , 0. , 0. , 0. , 0. , 0. , 0. , 0. , 0. , 0. , 0. , 0. , 0. , 0.3, 0. , 0. ],\n",
        "       [0. , 0.3, 0.3, 0. , 0. , 0. , 0. , 0. , 0. , 0.3, 0. , 0. , 0. , 0. , 0. , 0. , 0. , 0. , 0. , 0. , 0. ],\n",
        "       [0. , 0. , 0.7, 0. , 0. , 0. , 0. , 0. , 0. , 0. , 0. , 0. , 0. , 0. , 0. , 0. , 0. , 0. , 0. , 0.3, 0. ],\n",
        "       [0.3, 0. , 0. , 0.3, 0. , 0. , 0. , 0. , 0. , 0. , 0. , 0. , 0. , 0. , 0. , 0. , 0.3, 0. , 0. , 0. , 0. ],\n",
        "       [0. , 0. , 0. , 0.3, 0.3, 0. , 0. , 0. , 0. , 0. , 0. , 0. , 0. , 0. , 0. , 0. , 0. , 0. , 0.3, 0. , 0. ],\n",
        "       [0. , 0.3, 0. , 0. , 0. , 0.3, 0. , 0. , 0. , 0. , 0. , 0. , 0. , 0. , 0. , 0. , 0. , 0. , 0. , 0.3, 0. ],\n",
        "       [0. , 0. , 0. , 0. , 0. , 0. , 0.7, 0. , 0. , 0. , 0. , 0.3, 0. , 0. , 0. , 0. , 0. , 0. , 0. , 0. , 0. ],\n",
        "       [0. , 0. , 0. , 0. , 0. , 0. , 0. , 0.3, 0. , 0. , 0.3, 0.3, 0. , 0. , 0. , 0. , 0. , 0. , 0. , 0. , 0. ],\n",
        "       [0. , 0.3, 0. , 0. , 0. , 0. , 0. , 0. , 0.3, 0. , 0. , 0. , 0.3, 0. , 0. , 0. , 0. , 0. , 0. , 0. , 0. ],\n",
        "       [0. , 0. , 0. , 0. , 0. , 0. , 0. , 0. , 0. , 0.7, 0. , 0. , 0.3, 0. , 0. , 0. , 0. , 0. , 0. , 0. , 0. ],\n",
        "       [0. , 0. , 0. , 0. , 0. , 0. , 0.3, 0. , 0. , 0. , 0.3, 0. , 0. , 0. , 0.3, 0. , 0. , 0. , 0. , 0. , 0. ],\n",
        "       [0. , 0. , 0. , 0. , 0. , 0. , 0. , 0. , 0. , 0. , 0. , 0.7, 0. , 0. , 0. , 0. , 0. , 0. , 0. , 0. , 0.3],\n",
        "       [0. , 0. , 0.3, 0. , 0. , 0. , 0. , 0. , 0. , 0. , 0. , 0. , 0.3, 0. , 0. , 0. , 0. , 0.3, 0. , 0. , 0. ],\n",
        "       [0. , 0. , 0. , 0. , 0. , 0. , 0. , 0. , 0. , 0. , 0. , 0. , 0.3, 0.3, 0. , 0. , 0. , 0. , 0. , 0.3, 0. ],\n",
        "       [0. , 0. , 0. , 0. , 0. , 0. , 0. , 0.3, 0. , 0. , 0. , 0. , 0. , 0. , 0.3, 0. , 0. , 0. , 0. , 0. , 0.3],\n",
        "       [0.3, 0. , 0. , 0. , 0. , 0. , 0. , 0. , 0. , 0. , 0. , 0. , 0. , 0. , 0. , 0.7, 0. , 0. , 0. , 0. , 0. ],\n",
        "       [0. , 0. , 0. , 0. , 0.3, 0. , 0. , 0. , 0. , 0. , 0. , 0. , 0. , 0. , 0. , 0.3, 0.3, 0. , 0. , 0. , 0. ],\n",
        "       [0. , 0.3, 0. , 0. , 0. , 0. , 0. , 0. , 0. , 0. , 0. , 0. , 0. , 0. , 0. , 0. , 0. , 0.7, 0. , 0. , 0. ],\n",
        "       [0. , 0. , 0. , 0. , 0. , 0. , 0. , 0. , 0. , 0. , 0. , 0. , 0. , 0. , 0. , 0.3, 0. , 0. , 0.7, 0. , 0. ],\n",
        "       [0. , 0. , 0. , 0. , 0. , 0. , 0. , 0. , 0. , 0.3, 0. , 0. , 0. , 0. , 0. , 0. , 0. , 0.3, 0. , 0.3, 0. ],\n",
        "       [0. , 0. , 0. , 0. , 0. , 0. , 0.3, 0. , 0. , 0. , 0. , 0. , 0. , 0. , 0. , 0. , 0. , 0. , 0. , 0. , 0.7]]"
      ],
      "execution_count": 30,
      "outputs": [
        {
          "output_type": "execute_result",
          "data": {
            "text/plain": [
              "array([[0.7, 0. , 0. , 0. , 0. , 0. , 0. , 0. , 0. , 0. , 0. , 0. , 0. ,\n",
              "        0. , 0. , 0. , 0. , 0. , 0.3, 0. , 0. ],\n",
              "       [0. , 0.3, 0.3, 0. , 0. , 0. , 0. , 0. , 0. , 0.3, 0. , 0. , 0. ,\n",
              "        0. , 0. , 0. , 0. , 0. , 0. , 0. , 0. ],\n",
              "       [0. , 0. , 0.7, 0. , 0. , 0. , 0. , 0. , 0. , 0. , 0. , 0. , 0. ,\n",
              "        0. , 0. , 0. , 0. , 0. , 0. , 0.3, 0. ],\n",
              "       [0.3, 0. , 0. , 0.3, 0. , 0. , 0. , 0. , 0. , 0. , 0. , 0. , 0. ,\n",
              "        0. , 0. , 0. , 0.3, 0. , 0. , 0. , 0. ],\n",
              "       [0. , 0. , 0. , 0.3, 0.3, 0. , 0. , 0. , 0. , 0. , 0. , 0. , 0. ,\n",
              "        0. , 0. , 0. , 0. , 0. , 0.3, 0. , 0. ],\n",
              "       [0. , 0.3, 0. , 0. , 0. , 0.3, 0. , 0. , 0. , 0. , 0. , 0. , 0. ,\n",
              "        0. , 0. , 0. , 0. , 0. , 0. , 0.3, 0. ],\n",
              "       [0. , 0. , 0. , 0. , 0. , 0. , 0.7, 0. , 0. , 0. , 0. , 0.3, 0. ,\n",
              "        0. , 0. , 0. , 0. , 0. , 0. , 0. , 0. ],\n",
              "       [0. , 0. , 0. , 0. , 0. , 0. , 0. , 0.3, 0. , 0. , 0.3, 0.3, 0. ,\n",
              "        0. , 0. , 0. , 0. , 0. , 0. , 0. , 0. ],\n",
              "       [0. , 0.3, 0. , 0. , 0. , 0. , 0. , 0. , 0.3, 0. , 0. , 0. , 0.3,\n",
              "        0. , 0. , 0. , 0. , 0. , 0. , 0. , 0. ],\n",
              "       [0. , 0. , 0. , 0. , 0. , 0. , 0. , 0. , 0. , 0.7, 0. , 0. , 0.3,\n",
              "        0. , 0. , 0. , 0. , 0. , 0. , 0. , 0. ],\n",
              "       [0. , 0. , 0. , 0. , 0. , 0. , 0.3, 0. , 0. , 0. , 0.3, 0. , 0. ,\n",
              "        0. , 0.3, 0. , 0. , 0. , 0. , 0. , 0. ],\n",
              "       [0. , 0. , 0. , 0. , 0. , 0. , 0. , 0. , 0. , 0. , 0. , 0.7, 0. ,\n",
              "        0. , 0. , 0. , 0. , 0. , 0. , 0. , 0.3],\n",
              "       [0. , 0. , 0.3, 0. , 0. , 0. , 0. , 0. , 0. , 0. , 0. , 0. , 0.3,\n",
              "        0. , 0. , 0. , 0. , 0.3, 0. , 0. , 0. ],\n",
              "       [0. , 0. , 0. , 0. , 0. , 0. , 0. , 0. , 0. , 0. , 0. , 0. , 0.3,\n",
              "        0.3, 0. , 0. , 0. , 0. , 0. , 0.3, 0. ],\n",
              "       [0. , 0. , 0. , 0. , 0. , 0. , 0. , 0.3, 0. , 0. , 0. , 0. , 0. ,\n",
              "        0. , 0.3, 0. , 0. , 0. , 0. , 0. , 0.3],\n",
              "       [0.3, 0. , 0. , 0. , 0. , 0. , 0. , 0. , 0. , 0. , 0. , 0. , 0. ,\n",
              "        0. , 0. , 0.7, 0. , 0. , 0. , 0. , 0. ],\n",
              "       [0. , 0. , 0. , 0. , 0.3, 0. , 0. , 0. , 0. , 0. , 0. , 0. , 0. ,\n",
              "        0. , 0. , 0.3, 0.3, 0. , 0. , 0. , 0. ],\n",
              "       [0. , 0.3, 0. , 0. , 0. , 0. , 0. , 0. , 0. , 0. , 0. , 0. , 0. ,\n",
              "        0. , 0. , 0. , 0. , 0.7, 0. , 0. , 0. ],\n",
              "       [0. , 0. , 0. , 0. , 0. , 0. , 0. , 0. , 0. , 0. , 0. , 0. , 0. ,\n",
              "        0. , 0. , 0.3, 0. , 0. , 0.7, 0. , 0. ],\n",
              "       [0. , 0. , 0. , 0. , 0. , 0. , 0. , 0. , 0. , 0.3, 0. , 0. , 0. ,\n",
              "        0. , 0. , 0. , 0. , 0.3, 0. , 0.3, 0. ],\n",
              "       [0. , 0. , 0. , 0. , 0. , 0. , 0.3, 0. , 0. , 0. , 0. , 0. , 0. ,\n",
              "        0. , 0. , 0. , 0. , 0. , 0. , 0. , 0.7]])"
            ]
          },
          "metadata": {
            "tags": []
          },
          "execution_count": 30
        }
      ]
    },
    {
      "cell_type": "code",
      "metadata": {
        "colab": {
          "base_uri": "https://localhost:8080/"
        },
        "id": "OBmjPP7YM1Zq",
        "outputId": "c9b5e811-3942-4503-db8c-0b6380fee276"
      },
      "source": [
        "# Caso LRU\n",
        "matrizLRU_3, estados = GeraMatrizTransicao([\"A\",\"B\",\"C\"],\"LRU\")\n",
        "matrizLRU_3 = np.array(matrizLRU_3, dtype='float')\n",
        "\n",
        "sucesso_uma_matriz(matrizLRU_3)"
      ],
      "execution_count": 26,
      "outputs": [
        {
          "output_type": "stream",
          "text": [
            "A distribuição estacionária é dada por: [['ABAB', 0.16666666666666674], ['ABAC', 0.0], ['ABBA', 0.0], ['ABBC', 0.0], ['ABCA', 0.0], ['ABCB', 0.0], ['ACAC', 0.1666666666666666], ['ACBA', 0.0], ['ACBC', 0.0], ['ACCA', 0.0], ['ACCB', 0.0], ['BABA', 0.16666666666666674], ['BABC', 0.0], ['BACA', 0.0], ['BACB', 0.0], ['BCBC', 0.1666666666666666], ['BCCA', 0.0], ['BCCB', 0.0], ['CACA', 0.16666666666666674], ['CACB', 0.0], ['CBCB', 0.1666666666666666]]\n"
          ],
          "name": "stdout"
        },
        {
          "output_type": "execute_result",
          "data": {
            "text/plain": [
              "0.6666666666666667"
            ]
          },
          "metadata": {
            "tags": []
          },
          "execution_count": 26
        }
      ]
    },
    {
      "cell_type": "code",
      "metadata": {
        "colab": {
          "base_uri": "https://localhost:8080/"
        },
        "id": "aT5-B9-hNJNP",
        "outputId": "0f5920b7-ec5f-4a2e-8832-5b432437d3d6"
      },
      "source": [
        "# Caso Random: nossa função de gerar matrizes não funciona para\n",
        "# este caso, então a escrevemos manualmente\n",
        "\n",
        "estados = [[\"ABAB\"], [\"ABBC\"], [\"ABCA\"], [\"BCBC\"], [\"BCCA\"], [\"CACA\"]]\n",
        "matrizRandom_3 = np.array([[2/3, 0, 0, 1/12, 1/6, 1/12],\n",
        "                           [1/6, 1/3, 1/6, 1/6, 1/6, 0],\n",
        "                           [1/6, 1/6, 1/3, 0, 1/6, 1/6],\n",
        "                           [1/12, 0, 1/6, 2/3, 0, 1/12],\n",
        "                           [0, 1/6, 1/6, 1/6, 1/3, 1/6],\n",
        "                           [1/12, 0, 1/6, 1/12, 0, 2/3]])\n",
        "\n",
        "sucesso_uma_matriz(matrizRandom_3)"
      ],
      "execution_count": null,
      "outputs": [
        {
          "output_type": "stream",
          "text": [
            "A distribuição estacionária é dada por: [['ABAB', 0.22222222222222224], ['ABBC', 0.0666666666666666], ['ABCA', 0.1555555555555556], ['BCBC', 0.2044444444444445], ['BCCA', 0.11111111111111102], ['CACA', 0.2400000000000001]]\n"
          ],
          "name": "stdout"
        },
        {
          "output_type": "execute_result",
          "data": {
            "text/plain": [
              "0.7777777777777778"
            ]
          },
          "metadata": {
            "tags": []
          },
          "execution_count": 62
        }
      ]
    },
    {
      "cell_type": "code",
      "metadata": {
        "colab": {
          "base_uri": "https://localhost:8080/"
        },
        "id": "YeqCuL2vNRsm",
        "outputId": "9699917b-ccc0-49b9-e25a-88000fbf75e0"
      },
      "source": [
        "# Caso Estático\n",
        "matrizEstatico_3, estados = GeraMatrizTransicao([\"A\",\"B\",\"C\"],\"Estatico\")\n",
        "matrizEstatico_3 = np.array(matrizEstatico_3, dtype='float')\n",
        "\n",
        "sucesso_uma_matriz(matrizEstatico_3)"
      ],
      "execution_count": null,
      "outputs": [
        {
          "output_type": "stream",
          "text": [
            "A distribuição estacionária é dada por: [['ABAB', 1.0], ['ABAC', 0.0], ['ABBA', 0.0], ['ABBC', 0.0], ['ABCA', 0.0], ['ABCB', 0.0], ['ACAC', 0.0], ['ACBA', 0.0], ['ACBC', 0.0], ['ACCA', 0.0], ['ACCB', 0.0], ['BABA', 0.0], ['BABC', 0.0], ['BACA', 0.0], ['BACB', 0.0], ['BCBC', 0.0], ['BCCA', 0.0], ['BCCB', 0.0], ['CACA', 0.0], ['CACB', 0.0], ['CBCB', 0.0]]\n"
          ],
          "name": "stdout"
        },
        {
          "output_type": "execute_result",
          "data": {
            "text/plain": [
              "0.6666666666666666"
            ]
          },
          "metadata": {
            "tags": []
          },
          "execution_count": 63
        }
      ]
    },
    {
      "cell_type": "markdown",
      "metadata": {
        "id": "ID3wiy4TAcsL"
      },
      "source": [
        "####Casos com 4 Conteúdos"
      ]
    },
    {
      "cell_type": "code",
      "metadata": {
        "id": "btrzFXRyAcsU"
      },
      "source": [
        "# declaração das probabilidades de sair cada tipo de requisção\n",
        "prob = [[\"A\", 1/4], [\"B\", 1/4], [\"C\", 1/4], [\"D\", 1/4]]"
      ],
      "execution_count": null,
      "outputs": []
    },
    {
      "cell_type": "markdown",
      "metadata": {
        "id": "0dOn-9bfUu5Z"
      },
      "source": [
        "#####Matrizes de transição representando apenas uma cache"
      ]
    },
    {
      "cell_type": "code",
      "metadata": {
        "id": "u2VUI-9FAcsV",
        "colab": {
          "base_uri": "https://localhost:8080/"
        },
        "outputId": "53d4885a-b8de-4e69-f161-28239ea332b6"
      },
      "source": [
        "#Caso FIFO\n",
        "estados = [[\"AB\"], [\"AC\"], [\"AD\"], [\"BA\"], [\"BC\"], [\"BD\"], [\"CA\"], [\"CB\"], [\"CD\"], [\"DA\"], [\"DB\"], [\"DC\"]] \n",
        "markovCasoFIFO = np.array([[2/4, 0, 0, 0, 0, 0, 1/4, 0, 0, 1/4, 0, 0],\n",
        "                           [0, 2/4, 0, 1/4, 0, 0, 0, 0, 0, 1/4, 0, 0],\n",
        "                           [0, 0, 2/4, 1/4, 0, 0, 1/4, 0, 0, 0, 0, 0],\n",
        "                           [0, 0, 0, 2/4, 0, 0, 0, 1/4, 0, 0, 1/4, 0],\n",
        "                           [1/4, 0, 0, 0, 2/4, 0, 0, 0, 0, 0, 1/4, 0],\n",
        "                           [1/4, 0, 0, 0, 0, 2/4, 0, 1/4, 0, 0, 0, 0],\n",
        "                           [0, 0, 0, 0, 1/4, 0, 2/4, 0, 0, 0, 0, 1/4],\n",
        "                           [0, 1/4, 0, 0, 2/4, 0, 0, 0, 1/4, 0, 0, 0],\n",
        "                           [0, 1/4, 0, 0, 1/4, 0, 0, 0, 2/4, 0, 0, 0],\n",
        "                           [0, 0, 0, 0, 0, 1/4, 0, 0, 1/4, 2/4, 0, 0],\n",
        "                           [0, 0, 1/4, 0, 0, 0, 0, 0, 1/4, 0, 2/4, 0],\n",
        "                           [0, 0, 1/4, 0, 0, 1/4, 0, 0, 0, 0, 0, 2/4]])\n",
        "\n",
        "sucesso_unindo_matrizes(markovCasoFIFO)"
      ],
      "execution_count": null,
      "outputs": [
        {
          "output_type": "stream",
          "text": [
            "A distribuição estacionária é dada por: [['AB', 0.10087719298245611], ['AC', 0.07456140350877184], ['AD', 0.0745614035087719], ['BA', 0.07456140350877193], ['BC', 0.1359649122807018], ['BD', 0.06578947368421058], ['CA', 0.08771929824561402], ['CB', 0.0350877192982456], ['CD', 0.11403508771929839], ['DA', 0.08771929824561393], ['DB', 0.10526315789473685], ['DC', 0.04385964912280704]]\n",
            "A probabilidade de sucesso é de 0.5\n"
          ],
          "name": "stdout"
        },
        {
          "output_type": "execute_result",
          "data": {
            "text/plain": [
              "0.5"
            ]
          },
          "metadata": {
            "tags": []
          },
          "execution_count": 23
        }
      ]
    },
    {
      "cell_type": "code",
      "metadata": {
        "id": "yhXaMLHlAcsV",
        "colab": {
          "base_uri": "https://localhost:8080/"
        },
        "outputId": "a6d5c059-65b7-4754-b047-a68112ebebfc"
      },
      "source": [
        "#Caso LRU\n",
        "\n",
        "# a matriz está errada (é a FIFO com a primeira linha corrigida)\n",
        "\n",
        "\n",
        "estados = [[\"AB\"], [\"AC\"], [\"AD\"] , [\"BA\"], [\"BC\"], [\"BD\"] , [\"CA\"], [\"CB\"], [\"CD\"], [\"DA\"], [\"DB\"], [\"DC\"]] \n",
        "markovCasoLRU  = np.array([[1/4, 0, 0, 1/4, 0, 0, 1/4, 0, 0, 1/4, 0, 0],\n",
        "                           [0, 2/4, 0, 1/4, 0, 0, 0, 0, 0, 1/4, 0, 0],\n",
        "                           [0, 0, 2/4, 1/4, 0, 0, 1/4, 0, 0, 0, 0, 0],\n",
        "                           [0, 0, 0, 2/4, 0, 0, 0, 1/4, 0, 0, 1/4, 0],\n",
        "                           [1/4, 0, 0, 0, 2/4, 0, 0, 0, 0, 0, 1/4, 0],\n",
        "                           [1/4, 0, 0, 0, 0, 2/4, 0, 1/4, 0, 0, 0, 0],\n",
        "                           [0, 0, 0, 0, 1/4, 0, 2/4, 0, 0, 0, 0, 1/4],\n",
        "                           [0, 1/4, 0, 0, 2/4, 0, 0, 0, 1/4, 0, 0, 0],\n",
        "                           [0, 1/4, 0, 0, 1/4, 0, 0, 0, 2/4, 0, 0, 0],\n",
        "                           [0, 0, 0, 0, 0, 1/4, 0, 0, 1/4, 2/4, 0, 0],\n",
        "                           [0, 0, 1/4, 0, 0, 0, 0, 0, 1/4, 0, 2/4, 0],\n",
        "                           [0, 0, 1/4, 0, 0, 1/4, 0, 0, 0, 0, 0, 2/4]])\n",
        "\n",
        "sucesso_unindo_matrizes(markovCasoLRU)"
      ],
      "execution_count": null,
      "outputs": [
        {
          "output_type": "stream",
          "text": [
            "A distribuição estacionária é dada por: [['AB', 0.10087719298245611], ['AC', 0.07456140350877184], ['AD', 0.0745614035087719], ['BA', 0.07456140350877193], ['BC', 0.1359649122807018], ['BD', 0.06578947368421058], ['CA', 0.08771929824561402], ['CB', 0.0350877192982456], ['CD', 0.11403508771929839], ['DA', 0.08771929824561393], ['DB', 0.10526315789473685], ['DC', 0.04385964912280704]]\n",
            "A probabilidade de sucesso é de 0.5\n"
          ],
          "name": "stdout"
        },
        {
          "output_type": "execute_result",
          "data": {
            "text/plain": [
              "0.5"
            ]
          },
          "metadata": {
            "tags": []
          },
          "execution_count": 24
        }
      ]
    },
    {
      "cell_type": "code",
      "metadata": {
        "id": "yBD9dMuKAcsV"
      },
      "source": [
        "#Caso RANDOM\n",
        "estados = [[\"AB\"], [\"AC\"], [\"AD\"] , [\"BC\"], [\"BD\"], [\"CD\"]]\n",
        "markovCasoRandom = np.array([[2/4, 1/8, 1/8, 1/8, 1/8, 0],\n",
        "                             [1/8, 2/4, 1/8, 1/8, 0, 1/8],\n",
        "                             [1/8, 1/8, 2/4, 0, 1/8, 1/8],\n",
        "                             [1/8, 1/8, 0, 2/4, 1/8, 1/8],\n",
        "                             [1/8, 0, 1/8, 1/8, 2/4, 1/8],\n",
        "                             [0, 1/8, 1/8, 1/8, 1/8, 2/4]])\n",
        "\n",
        "sucesso_unindo_matrizes(markovCasoRandom)"
      ],
      "execution_count": null,
      "outputs": []
    },
    {
      "cell_type": "code",
      "metadata": {
        "id": "6lH2WRBzOYeE"
      },
      "source": [
        "#Caso Estático\n",
        "estados = [[\"AB\"], [\"AC\"], [\"AD\"], [\"BC\"], [\"BD\"], [\"CD\"]]\n",
        "markovCasoEstatico  = np.array([[1, 0, 0, 0, 0, 0], \n",
        "                                [0, 1, 0, 0, 0, 0],\n",
        "                                [0, 0, 1, 0, 0, 0],\n",
        "                                [0, 0, 0, 1, 0, 0],\n",
        "                                [0, 0, 0, 0, 1, 0],\n",
        "                                [0, 0, 0, 0, 0, 1]])\n",
        "\n",
        "sucesso_uma_matriz(markovCasoEstatico)"
      ],
      "execution_count": null,
      "outputs": []
    },
    {
      "cell_type": "markdown",
      "metadata": {
        "id": "qEaystErUxXh"
      },
      "source": [
        "#####Matrizes de transição representando duas caches"
      ]
    },
    {
      "cell_type": "code",
      "metadata": {
        "colab": {
          "base_uri": "https://localhost:8080/"
        },
        "id": "qMrS_jjGU561",
        "outputId": "0aca7e05-c434-4ab4-e78a-fd4b4417721f"
      },
      "source": [
        "# Caso FIFO\n",
        "matrizFIFO_4, estados = GeraMatrizTransicao([\"A\",\"B\",\"C\",\"D\"],\"FIFO\")\n",
        "matrizFIFO_4 = np.array(matrizFIFO_4, dtype='float')\n",
        "\n",
        "sucesso_uma_matriz(matrizFIFO_4)"
      ],
      "execution_count": null,
      "outputs": [
        {
          "output_type": "stream",
          "text": [
            "A distribuição estacionária é dada por: [['ABAB', 0.0833333333333334], ['ABAC', -3.103731976261765e-17], ['ABAD', 3.9076586603155214e-19], ['ABBA', -1.583954198241908e-17], ['ABBC', -1.229745720382705e-17], ['ABBD', 2.1589536086789073e-33], ['ABCA', -1.3663841337585618e-18], ['ABCB', 0.0], ['ABCD', 0.0], ['ABDA', 1.2596093359025874e-33], ['ABDB', 0.0], ['ABDC', 0.0], ['ACAC', 0.08333333333333333], ['ACAD', -4.137788994124517e-18], ['ACBA', -1.114682010865406e-35], ['ACBC', 0.0], ['ACBD', 0.0], ['ACCA', -2.2789366681675217e-17], ['ACCB', -4.372561049417602e-36], ['ACCD', 2.0650027547761653e-51], ['ACDA', 4.966306623310955e-53], ['ACDB', 0.0], ['ACDC', 0.0], ['ADAD', 0.08333333333333334], ['ADBA', -3.4463955693793494e-55], ['ADBC', 0.0], ['ADBD', 0.0], ['ADCA', 6.368282364733507e-69], ['ADCB', 0.0], ['ADCD', 0.0], ['ADDA', -1.712464062744473e-17], ['ADDB', -1.049120044851719e-55], ['ADDC', 1.8656821198015816e-69], ['BABA', 0.08333333333333334], ['BABC', -7.59260500522694e-18], ['BABD', -5.7043629891707615e-18], ['BACA', 0.0], ['BACB', -1.4417596394521503e-36], ['BACD', 0.0], ['BADA', 0.0], ['BADB', -3.129787255996064e-56], ['BADC', 0.0], ['BCBC', 0.08333333333333325], ['BCBD', -4.137788994124517e-18], ['BCCA', -4.099152401275691e-18], ['BCCB', -1.1226051487318786e-17], ['BCCD', 0.0], ['BCDA', 0.0], ['BCDB', 0.0], ['BCDC', 0.0], ['BDBD', 0.08333333333333325], ['BDCA', 0.0], ['BDCB', -1.433327209606861e-34], ['BDCD', 0.0], ['BDDA', -1.4864728045733069e-33], ['BDDB', -1.8078893755566114e-17], ['BDDC', -1.1146426642725618e-33], ['CACA', 0.08333333333333337], ['CACB', -4.7288518167455986e-18], ['CACD', -5.7043629891707615e-18], ['CADA', 0.0], ['CADB', 0.0], ['CADC', 1.6142006146084003e-68], ['CBCB', 0.08333333333333337], ['CBCD', -6.022447363190568e-18], ['CBDA', 0.0], ['CBDB', 0.0], ['CBDC', -4.3209363091856305e-34], ['CDCD', 0.08333333333333337], ['CDDA', 7.075644012394734e-52], ['CDDB', 0.0], ['CDDC', -1.2424918646962121e-17], ['DADA', 0.08333333333333337], ['DADB', -2.124067498425768e-17], ['DADC', -8.048066383146451e-18], ['DBDB', 0.08333333333333334], ['DBDC', -5.104550742887346e-18], ['DCDC', 0.0833333333333334]]\n"
          ],
          "name": "stdout"
        },
        {
          "output_type": "execute_result",
          "data": {
            "text/plain": [
              "0.5000000000000001"
            ]
          },
          "metadata": {
            "tags": []
          },
          "execution_count": 86
        }
      ]
    },
    {
      "cell_type": "code",
      "metadata": {
        "colab": {
          "base_uri": "https://localhost:8080/"
        },
        "id": "gl3I7CIhU562",
        "outputId": "8f1d4175-a51f-499b-f319-da2318a31880"
      },
      "source": [
        "# Caso LRU\n",
        "matrizLRU_4, estados = GeraMatrizTransicao([\"A\",\"B\",\"C\",\"D\"],\"LRU\")\n",
        "matrizLRU_4 = np.array(matrizLRU_4, dtype='float')\n",
        "\n",
        "sucesso_uma_matriz(matrizLRU_4)"
      ],
      "execution_count": null,
      "outputs": [
        {
          "output_type": "stream",
          "text": [
            "A distribuição estacionária é dada por: [['ABAB', 0.08333333333333336], ['ABAC', 0.0], ['ABAD', 0.0], ['ABBA', 0.0], ['ABBC', 0.0], ['ABBD', 0.0], ['ABCA', 0.0], ['ABCB', 0.0], ['ABCD', 0.0], ['ABDA', 0.0], ['ABDB', 0.0], ['ABDC', 0.0], ['ACAC', 0.08333333333333336], ['ACAD', 0.0], ['ACBA', 0.0], ['ACBC', 0.0], ['ACBD', 0.0], ['ACCA', 0.0], ['ACCB', 0.0], ['ACCD', 0.0], ['ACDA', 0.0], ['ACDB', 0.0], ['ACDC', 0.0], ['ADAD', 0.08333333333333333], ['ADBA', 0.0], ['ADBC', 0.0], ['ADBD', 0.0], ['ADCA', 0.0], ['ADCB', 0.0], ['ADCD', 0.0], ['ADDA', 0.0], ['ADDB', 0.0], ['ADDC', 0.0], ['BABA', 0.08333333333333336], ['BABC', 0.0], ['BABD', 0.0], ['BACA', 0.0], ['BACB', 0.0], ['BACD', 0.0], ['BADA', 0.0], ['BADB', 0.0], ['BADC', 0.0], ['BCBC', 0.08333333333333333], ['BCBD', 0.0], ['BCCA', 0.0], ['BCCB', 0.0], ['BCCD', 0.0], ['BCDA', 0.0], ['BCDB', 0.0], ['BCDC', 0.0], ['BDBD', 0.08333333333333333], ['BDCA', 0.0], ['BDCB', 0.0], ['BDCD', 0.0], ['BDDA', 0.0], ['BDDB', 0.0], ['BDDC', 0.0], ['CACA', 0.08333333333333337], ['CACB', 0.0], ['CACD', 0.0], ['CADA', 0.0], ['CADB', 0.0], ['CADC', 0.0], ['CBCB', 0.08333333333333333], ['CBCD', 0.0], ['CBDA', 0.0], ['CBDB', 0.0], ['CBDC', 0.0], ['CDCD', 0.08333333333333333], ['CDDA', 0.0], ['CDDB', 0.0], ['CDDC', 0.0], ['DADA', 0.08333333333333336], ['DADB', 0.0], ['DADC', 0.0], ['DBDB', 0.08333333333333333], ['DBDC', 0.0], ['DCDC', 0.08333333333333333]]\n"
          ],
          "name": "stdout"
        },
        {
          "output_type": "execute_result",
          "data": {
            "text/plain": [
              "0.49999999999999983"
            ]
          },
          "metadata": {
            "tags": []
          },
          "execution_count": 91
        }
      ]
    },
    {
      "cell_type": "code",
      "metadata": {
        "id": "Gy729FtsU562"
      },
      "source": [
        "# Caso Random: nossa função de gerar matrizes não funciona para\n",
        "# este caso, então a escrevemos manualmente\n",
        "\n",
        "estados = [[]]\n",
        "matrizRandom_4 = np.array([[]])\n",
        "\n",
        "#sucesso_uma_matriz(matrizRandom_4)"
      ],
      "execution_count": null,
      "outputs": []
    },
    {
      "cell_type": "code",
      "metadata": {
        "colab": {
          "base_uri": "https://localhost:8080/"
        },
        "id": "YNVnwgvkU563",
        "outputId": "f42da85d-1ef7-4bbe-f35a-19d19c4c5881"
      },
      "source": [
        "# Caso Estático\n",
        "matrizEstatico_4, estados = GeraMatrizTransicao([\"A\",\"B\",\"C\",\"D\"],\"Estatico\")\n",
        "matrizEstatico_4 = np.array(matrizEstatico_4, dtype='float')\n",
        "\n",
        "sucesso_uma_matriz(matrizEstatico_4)"
      ],
      "execution_count": null,
      "outputs": [
        {
          "output_type": "stream",
          "text": [
            "A distribuição estacionária é dada por: [['ABAB', 1.0], ['ABAC', 0.0], ['ABAD', 0.0], ['ABBA', 0.0], ['ABBC', 0.0], ['ABBD', 0.0], ['ABCA', 0.0], ['ABCB', 0.0], ['ABCD', 0.0], ['ABDA', 0.0], ['ABDB', 0.0], ['ABDC', 0.0], ['ACAC', 0.0], ['ACAD', 0.0], ['ACBA', 0.0], ['ACBC', 0.0], ['ACBD', 0.0], ['ACCA', 0.0], ['ACCB', 0.0], ['ACCD', 0.0], ['ACDA', 0.0], ['ACDB', 0.0], ['ACDC', 0.0], ['ADAD', 0.0], ['ADBA', 0.0], ['ADBC', 0.0], ['ADBD', 0.0], ['ADCA', 0.0], ['ADCB', 0.0], ['ADCD', 0.0], ['ADDA', 0.0], ['ADDB', 0.0], ['ADDC', 0.0], ['BABA', 0.0], ['BABC', 0.0], ['BABD', 0.0], ['BACA', 0.0], ['BACB', 0.0], ['BACD', 0.0], ['BADA', 0.0], ['BADB', 0.0], ['BADC', 0.0], ['BCBC', 0.0], ['BCBD', 0.0], ['BCCA', 0.0], ['BCCB', 0.0], ['BCCD', 0.0], ['BCDA', 0.0], ['BCDB', 0.0], ['BCDC', 0.0], ['BDBD', 0.0], ['BDCA', 0.0], ['BDCB', 0.0], ['BDCD', 0.0], ['BDDA', 0.0], ['BDDB', 0.0], ['BDDC', 0.0], ['CACA', 0.0], ['CACB', 0.0], ['CACD', 0.0], ['CADA', 0.0], ['CADB', 0.0], ['CADC', 0.0], ['CBCB', 0.0], ['CBCD', 0.0], ['CBDA', 0.0], ['CBDB', 0.0], ['CBDC', 0.0], ['CDCD', 0.0], ['CDDA', 0.0], ['CDDB', 0.0], ['CDDC', 0.0], ['DADA', 0.0], ['DADB', 0.0], ['DADC', 0.0], ['DBDB', 0.0], ['DBDC', 0.0], ['DCDC', 0.0]]\n"
          ],
          "name": "stdout"
        },
        {
          "output_type": "execute_result",
          "data": {
            "text/plain": [
              "0.5"
            ]
          },
          "metadata": {
            "tags": []
          },
          "execution_count": 92
        }
      ]
    },
    {
      "cell_type": "markdown",
      "metadata": {
        "id": "Pjqqm7orYegP"
      },
      "source": [
        "####Respostas às perguntas"
      ]
    },
    {
      "cell_type": "markdown",
      "metadata": {
        "id": "qCT3ZiqVYhgs"
      },
      "source": [
        "<h3> Qual tipo de cache é melhor?<br>\n",
        "\n",
        "Sempre preferiremos caches cujos conteúdos sejam diferentes. Exemplo: o par de caches [A,B] e [A,C].<br>\n",
        "Dessa forma, uma requisição de qualquer tipo (A, B ou C) sempre será atendida. Temos todas as possibilidades de conteúdos requisitados guardados nelas.\n",
        "Percebemos que nos casos FIFO e LRU, ainda que elas comecem diferentes, a partir do momento que ficarem iguais, nunca mais ficarão diferentes. No caso estático, só teremos caches com conteúdos diferentes se elas começarem diferentes, já que nunca mudarão ao longo das requisições (há a chance de começarem diferentes pois a popularidade de conteúdo neste cenário é determinada pela distribuição da probabilidade, que neste caso é uniforme).<br>\n",
        "Assim, concluímos que a Random é melhor para a nossa busca do sucesso. Em qualquer momento a cache pode ficar diferente, ainda que em algum momento elas fiquem iguais, pois o novo conteúdo entrará em uma posição aleatória de cada cache.\n",
        "<br><br>\n",
        "<h3> Irredutíveis ou redutíveis?\n",
        "\n",
        "<h4> Caso N = 3.<br>\n",
        "Nomearemos aqui os estados de 1 a 21 para facilitar a escrita e a explicação.<br>\n",
        "\n",
        "<h5> As cadeias FIFO são todas redutíveis: <br>\n",
        "\n",
        "* FIFO (uma cache): caminhos:\n",
        "** 1->5->4->1;\n",
        "** 2->3->6->2.\n",
        "\n",
        "* Não há comunicação entre 1 e 2, por exemplo\n",
        "<br>\n",
        "\n",
        "* FIFO (duas caches): caminhos: \n",
        "** 1->19->16->1;\n",
        "** 2->3->20->10->13->18->2;\n",
        "** etc. \n",
        "* Não há comunicação entre 1 e 2, por exemplo\n",
        "<br>\n",
        "\n",
        "<h5>  As cadeias LRU: <br>\n",
        "\n",
        "* LRU (uma cache) é irredutível: caminhos: \n",
        "** 1->3->6->2->5->4->1. \n",
        "* Completa! Dá para chegar em todos os estados começando de todos os estados.\n",
        "<br>\n",
        "\n",
        "* LRU (duas caches) é redutível: caminhos:\n",
        "** 1->12->21->7->19->16->1;\n",
        "** 2->12->1->19->7->19->16->21->12->1;\n",
        "** etc. \n",
        "* Não é possível chegar no 2 pelo 1 (o oposto é possível).\n",
        "<br>\n",
        "\n",
        "<h5> As cadeias Random são todas irredutíveis:<br>\n",
        "\n",
        "* Random (uma cache): caminho: \n",
        "** 1->2->3->1.\n",
        "* Completa! Dá para chegar em todos os estados começando de todos os estados.\n",
        "<br>\n",
        "\n",
        "* Random (duas caches): caminho:\n",
        "** 1->4->3->2->5->6->1.\n",
        "* Completa! Dá para chegar em todos os estados começando de todos os estados.\n",
        "<br>\n",
        "\n",
        "<h5> Todas as cadeias Estáticas são redutíveis. Não há nenhuma comunicação entre os estados. Independente de qual se começar, não é possível mudar de estado.<br>\n",
        "<br>\n",
        "<h3> O desempenho depende do estado inicial?<br>\n",
        "\n",
        "Sim, depende. Conforme discutimos na primeira pergunta, se as caches começarem iguais, só haverá casos de caches com conteúdos diferentes, sendo 100% de chance de sucesso, no caso das caches Random.<br>\n",
        "Se elas começarem diferentes, antes da convergência da FIFO e LRU, também haverá essa chance de 100% de ter qualquer conteúdo requisitado salvo na cache.<br>\n",
        "E as Estáticas permanecerão diferentes até o fim, já que nunca mudam, configurando 100% de chance de ter qualquer conteúdo requisitado salvo na cache sempre.\n",
        "<br><br>\n",
        "\n",
        "<h3> Analisando no caso N = 4, nossas respostas mudam?<br>\n",
        "\n",
        "Sim, algumas mudam.<br>\n",
        "\n",
        "No caso de determinarmos qual tipo de cache ainda é melhor, a resposta permanece a mesma. No entanto, vale ressaltar que um par de cache do tipo [A,B] e [A,C] não representa 100% de chance ter qualquer conteúdo requisitado salvo na cache. Apenas um par que contivesse todos os conteúdos (A, B, C e D) representariam. Se aumentassemos o número de N para números maiores do que o espaço total para armazenar os conteúdos (levando em conta as duas caches, que nessa modelagem representa 4), nunca teríamos a possibilidade de ter todos conteúdos requisitados salvos em alguma posição do nosso par de caches.\n",
        "\n",
        "<br>\n",
        "\n",
        "Nossa resposta sobre cadeias irredutíveis também muda. Um exemplo disso é a matriz de transição do caso FIFO de uma cache só, que agora é irredutível.\n",
        "Antes, a opção de ir para um estado além dele mesmo era para um único outro estado (2/3 e 1/3 de chance respectivamente). No caso de 4 conteúdos, teremos agora duas possíbilidades de transição além do estado atual (2/4, 1/4 e 1/4).<br>\n",
        "Veja o caminho: 1->7->5->11->3->4->8->2->10->6->1->7->12->6->1. Completa! Dá para chegar em todos os estados começando de todos os estados.<br>\n",
        "Conseguimos enxergar a relação entre um estado ter mais estados possíveis de transição e a cadeia se tornar irredutível ao conferir que voltar para o estado 1, e seguir para o estado 7, pudemos utilizar mais um caminho para chegar aos estados que ainda não haviam sido visitados, e chegar no começo de volta.\n",
        "\n",
        "<br>\n",
        "\n",
        "E, por fim, a nossa resposta sobre o desempenho não muda. Conforme alertamos nessa resposta no caso N = 3 e na resposta inicial do caso N = 4, preferiremos que elas fiquem diferentes em algum momento para que possamos abranger mais possibilidades de conteúdo salvos, e se, no caso da FIFO, LRU e Estáticas começarmos com estados iniciais de cada cache diferentes, teremos mais momentos onde elas permaneçam diferentes do que se começarmos com elas iguais.\n",
        "<br><br>\n",
        "Vale ressaltar que se o estado for [A,B] e [C,D], teremos sucesso em requisição de qualquer conteúdo, se for [A,B] e [C,D], teremos sucesso em 3 de 4, e se o estado for [A,B] e [A,B], apenas teremos sucesso em 2 de 4.\n"
      ]
    },
    {
      "cell_type": "markdown",
      "metadata": {
        "id": "ToFXNIAv8eNI"
      },
      "source": [
        "### Cenário 2\n",
        "\n"
      ]
    },
    {
      "cell_type": "markdown",
      "metadata": {
        "id": "V3Ylp3ue8eNQ"
      },
      "source": [
        "Temos as mesmas matrizes e os mesmos estados do cenário 1."
      ]
    },
    {
      "cell_type": "markdown",
      "metadata": {
        "id": "VSrhF4M18eNQ"
      },
      "source": [
        "Aqui calcularemos a probabilidade de user miss utilizando cadeias de Markov para comprovar analíticamente o que fizemos na simulação."
      ]
    },
    {
      "cell_type": "markdown",
      "metadata": {
        "id": "MXCb5PwF8eNQ"
      },
      "source": [
        "#### Funções"
      ]
    },
    {
      "cell_type": "markdown",
      "metadata": {
        "id": "frVoo4ygkF-p"
      },
      "source": [
        "As funções GeraMatrizTransicao(), dist_estacionária(P), forma_tupla(P) e sucesso_uma_matriz(P) se mantêm inalteradas."
      ]
    },
    {
      "cell_type": "code",
      "metadata": {
        "id": "0w04Px8AkTSr"
      },
      "source": [
        "# Função para calcular o user miss\n",
        "# Como precisamos que (falhe * falhe + falhe *  (não falhe * não tenha) + (não falhe * não tenha) * (não falhe * não tenha)),\n",
        "# podemos também calcular 1 - ((não falhe * tenha) * (não falhe * tenha) + (não falhe * tenha) * (não falhe * não tenha) + falhe * (não falhe * tenha))\n",
        "# 1 - os dois canais funcionarem e os dois terem, os dois canais funcionarem mas só um ter e um canal falhar e o outro ter\n",
        "def user_miss(P, p):\n",
        "  miss = 0\n",
        "  sucesso_uma = sucesso_uma_matriz(P)\n",
        "  nao_tem_uma = 1 - sucesso_uma\n",
        "\n",
        "  sucesso = p * sucesso_uma * p * sucesso_uma + p * sucesso_uma * p * nao_tem_uma + (1-p) * p * sucesso_uma\n",
        "  miss = 1 - sucesso\n",
        "  print(\"A probabilidade de User Miss é de \" + str(miss))\n",
        "  return miss"
      ],
      "execution_count": null,
      "outputs": []
    },
    {
      "cell_type": "code",
      "metadata": {
        "id": "5eTxd6CZsOFq"
      },
      "source": [
        "def user_miss_estatica(P, p):\n",
        "  miss = 0\n",
        "  sucesso_uma = sucesso_uma_matriz(P)\n",
        "  nao_tem_uma = 1 - sucesso_uma\n",
        "\n",
        "  miss = (1-p) * (1-p) + (1-p) * p * nao_tem_uma + p * p * nao_tem_uma\n",
        "  print(\"A probabilidade de User Miss é de \" + str(miss))\n",
        "  return miss"
      ],
      "execution_count": null,
      "outputs": []
    },
    {
      "cell_type": "code",
      "metadata": {
        "id": "QkZKHC3W38KZ"
      },
      "source": [
        "def user_miss_duas(P, p, depurar = False):\n",
        "  estacionaria = forma_tupla(P, depurar)\n",
        "  miss = 0\n",
        "\n",
        "  # user miss para o caso LRU de duas caches com apenas um espaço, e dois conteúdos, temos:\n",
        "  # Pmiss(LRU) = πAA((1 − q) + q(1 − p)^2) + πAB(1 − p) + πBB(q + (1 − q)(1 − p)^2)\n",
        "\n",
        "\n",
        "  return miss  "
      ],
      "execution_count": null,
      "outputs": []
    },
    {
      "cell_type": "markdown",
      "metadata": {
        "id": "4GRyo7Qu8eNR"
      },
      "source": [
        "####Casos com 3 Conteúdos"
      ]
    },
    {
      "cell_type": "code",
      "metadata": {
        "id": "sbwjZ_Tk8eNQ"
      },
      "source": [
        "# declaração das probabilidades de sair cada tipo de requisção\n",
        "prob = [[\"A\", 1/3], [\"B\", 1/3], [\"C\", 1/3]]\n",
        "p = 0.9"
      ],
      "execution_count": null,
      "outputs": []
    },
    {
      "cell_type": "code",
      "metadata": {
        "id": "sFc687E68eNS",
        "colab": {
          "base_uri": "https://localhost:8080/"
        },
        "outputId": "2db407b5-0b46-401f-ceeb-cda3ca651c30"
      },
      "source": [
        "#Caso FIFO\n",
        "estados = [[\"AB\"], [\"AC\"], [\"BA\"], [\"BC\"], [\"CA\"], [\"CB\"]] \n",
        "markovCasoFIFO = np.array([[2/3, 0, 0, 0, 1/3, 0], \n",
        "                           [0, 2/3, 1/3, 0, 0, 0],\n",
        "                           [0, 0, 2/3, 0, 0, 1/3],\n",
        "                           [1/3, 0, 0, 2/3, 0, 0],\n",
        "                           [0, 0, 0, 1/3, 2/3, 0],\n",
        "                           [0, 1/3, 0, 0, 0, 2/3]])\n",
        "\n",
        "user_miss(markovCasoFIFO, p)"
      ],
      "execution_count": null,
      "outputs": [
        {
          "output_type": "stream",
          "text": [
            "A distribuição estacionária é dada por: [['AB', 0.3333333333333337], ['AC', 0.0], ['BA', 0.0], ['BC', 0.33333333333333337], ['CA', 0.3333333333333329], ['CB', 0.0]]\n",
            "A probabilidade de User Miss é de 0.4\n"
          ],
          "name": "stdout"
        },
        {
          "output_type": "execute_result",
          "data": {
            "text/plain": [
              "0.4"
            ]
          },
          "metadata": {
            "tags": []
          },
          "execution_count": 97
        }
      ]
    },
    {
      "cell_type": "code",
      "metadata": {
        "id": "Tn9Lz1jY8eNS",
        "colab": {
          "base_uri": "https://localhost:8080/"
        },
        "outputId": "76fc7c81-bf0a-4dfd-b81a-6343d0d0a16e"
      },
      "source": [
        "#Caso LRU\n",
        "estados = [[\"AB\"], [\"AC\"], [\"BA\"], [\"BC\"], [\"CA\"], [\"CB\"]]\n",
        "markovCasoLRU  = np.array([[1/3, 0, 1/3, 0, 1/3, 0], \n",
        "                           [0, 1/3, 1/3, 0, 1/3, 0],\n",
        "                           [1/3, 0, 1/3, 0, 0, 1/3],\n",
        "                           [1/3, 0, 0, 1/3, 0, 1/3],\n",
        "                           [0, 1/3, 0, 1/3, 1/3, 0],\n",
        "                           [0, 1/3, 0, 1/3, 0, 1/3]])\n",
        "\n",
        "user_miss(markovCasoLRU, p)"
      ],
      "execution_count": null,
      "outputs": [
        {
          "output_type": "stream",
          "text": [
            "A distribuição estacionária é dada por: [['AB', 0.16666666666666674], ['AC', 0.1666666666666666], ['BA', 0.16666666666666674], ['BC', 0.1666666666666666], ['CA', 0.16666666666666674], ['CB', 0.1666666666666666]]\n",
            "A probabilidade de User Miss é de 0.3999999999999999\n"
          ],
          "name": "stdout"
        },
        {
          "output_type": "execute_result",
          "data": {
            "text/plain": [
              "0.3999999999999999"
            ]
          },
          "metadata": {
            "tags": []
          },
          "execution_count": 98
        }
      ]
    },
    {
      "cell_type": "code",
      "metadata": {
        "id": "wDn5RVJA8eNT",
        "colab": {
          "base_uri": "https://localhost:8080/"
        },
        "outputId": "575223b1-415c-4df4-dc39-dfea764af301"
      },
      "source": [
        "#Caso RANDOM\n",
        "estados = [[\"AB\"], [\"AC\"], [\"BC\"]]\n",
        "markovCasoRandom = np.array([[2/3, 1/6, 1/6], \n",
        "                             [1/6, 2/3, 1/6],\n",
        "                             [1/6, 1/6, 2/3]])\n",
        "\n",
        "user_miss(markovCasoRandom, p)"
      ],
      "execution_count": null,
      "outputs": [
        {
          "output_type": "stream",
          "text": [
            "A distribuição estacionária é dada por: [['AB', 0.3333333333333333], ['AC', 0.33333333333333337], ['BC', 0.3333333333333333]]\n",
            "A probabilidade de User Miss é de 0.3999999999999999\n"
          ],
          "name": "stdout"
        },
        {
          "output_type": "execute_result",
          "data": {
            "text/plain": [
              "0.3999999999999999"
            ]
          },
          "metadata": {
            "tags": []
          },
          "execution_count": 99
        }
      ]
    },
    {
      "cell_type": "code",
      "metadata": {
        "id": "6cufzgslQHun",
        "colab": {
          "base_uri": "https://localhost:8080/"
        },
        "outputId": "5a0e3a72-a130-4081-c0e2-23c768fc89ac"
      },
      "source": [
        "#Caso Estático\n",
        "estados = [[\"AB\"], [\"AC\"], [\"BA\"]]\n",
        "markovCasoEstatico  = np.array([[1, 0, 0], \n",
        "                                [0, 1, 0],\n",
        "                                [0, 0, 1]])\n",
        "\n",
        "user_miss_estatica(markovCasoEstatico, p)\n",
        "# o motivo de calcularmos o sucesso de apenas uma é que como as caches começam\n",
        "# iguais, e não há mudanças no meio do caminho. Por esse motivo, utilizamos a \n",
        "# função sucesso_uma_matriz()"
      ],
      "execution_count": null,
      "outputs": [
        {
          "output_type": "stream",
          "text": [
            "A distribuição estacionária é dada por: [['AB', 1.0], ['AC', 0.0], ['BA', 0.0]]\n",
            "A probabilidade de User Miss é de 0.31000000000000005\n"
          ],
          "name": "stdout"
        },
        {
          "output_type": "execute_result",
          "data": {
            "text/plain": [
              "0.31000000000000005"
            ]
          },
          "metadata": {
            "tags": []
          },
          "execution_count": 100
        }
      ]
    },
    {
      "cell_type": "markdown",
      "metadata": {
        "id": "SG4tshBM-cPg"
      },
      "source": [
        "####Casos com 4 Conteúdos"
      ]
    },
    {
      "cell_type": "code",
      "metadata": {
        "id": "zvKcG_g6_SvA"
      },
      "source": [
        "# declaração das probabilidades de sair cada tipo de requisção\n",
        "prob = [[\"A\", 1/4], [\"B\", 1/4], [\"C\", 1/4], [\"D\", 1/4]]\n",
        "p = 0.9"
      ],
      "execution_count": null,
      "outputs": []
    },
    {
      "cell_type": "code",
      "metadata": {
        "id": "gxrO4dXx-cPg",
        "colab": {
          "base_uri": "https://localhost:8080/"
        },
        "outputId": "c9e9c474-1f84-4b05-de42-6d754dd102ff"
      },
      "source": [
        "#Caso FIFO\n",
        "estados = [[\"AB\"], [\"AC\"], [\"AD\"], [\"BA\"], [\"BC\"], [\"BD\"], [\"CA\"], [\"CB\"], [\"CD\"], [\"DA\"], [\"DB\"], [\"DC\"]] \n",
        "markovCasoFIFO = np.array([[2/4, 0, 0, 0, 0, 0, 1/4, 0, 0, 1/4, 0, 0],\n",
        "                           [0, 2/4, 0, 1/4, 0, 0, 0, 0, 0, 1/4, 0, 0],\n",
        "                           [0, 0, 2/4, 1/4, 0, 0, 1/4, 0, 0, 0, 0, 0],\n",
        "                           [0, 0, 0, 2/4, 0, 0, 0, 1/4, 0, 0, 1/4, 0],\n",
        "                           [1/4, 0, 0, 0, 2/4, 0, 0, 0, 0, 0, 1/4, 0],\n",
        "                           [1/4, 0, 0, 0, 0, 2/4, 0, 1/4, 0, 0, 0, 0],\n",
        "                           [0, 0, 0, 0, 1/4, 0, 2/4, 0, 0, 0, 0, 1/4],\n",
        "                           [0, 1/4, 0, 0, 2/4, 0, 0, 0, 1/4, 0, 0, 0],\n",
        "                           [0, 1/4, 0, 0, 1/4, 0, 0, 0, 2/4, 0, 0, 0],\n",
        "                           [0, 0, 0, 0, 0, 1/4, 0, 0, 1/4, 2/4, 0, 0],\n",
        "                           [0, 0, 1/4, 0, 0, 0, 0, 0, 1/4, 0, 2/4, 0],\n",
        "                           [0, 0, 1/4, 0, 0, 1/4, 0, 0, 0, 0, 0, 2/4]])\n",
        "\n",
        "user_miss(markovCasoFIFO, p)"
      ],
      "execution_count": null,
      "outputs": [
        {
          "output_type": "stream",
          "text": [
            "A distribuição estacionária é dada por: [['AB', 0.10087719298245611], ['AC', 0.07456140350877184], ['AD', 0.0745614035087719], ['BA', 0.07456140350877193], ['BC', 0.1359649122807018], ['BD', 0.06578947368421058], ['CA', 0.08771929824561402], ['CB', 0.0350877192982456], ['CD', 0.11403508771929839], ['DA', 0.08771929824561393], ['DB', 0.10526315789473685], ['DC', 0.04385964912280704]]\n",
            "A probabilidade de User Miss é de 0.55\n"
          ],
          "name": "stdout"
        },
        {
          "output_type": "execute_result",
          "data": {
            "text/plain": [
              "0.55"
            ]
          },
          "metadata": {
            "tags": []
          },
          "execution_count": 102
        }
      ]
    },
    {
      "cell_type": "code",
      "metadata": {
        "id": "xEFqq0P_-cPh",
        "colab": {
          "base_uri": "https://localhost:8080/"
        },
        "outputId": "4811d6a7-7829-495c-eca1-36c540827dea"
      },
      "source": [
        "#Caso LRU\n",
        "estados = [[\"AB\"], [\"AC\"], [\"AD\"] , [\"BA\"], [\"BC\"], [\"BD\"] , [\"CA\"], [\"CB\"], [\"CD\"], [\"DA\"], [\"DB\"], [\"DC\"]] \n",
        "markovCasoLRU  = np.array([[2/4, 0, 0, 0, 0, 0, 1/4, 0, 0, 1/4, 0, 0],\n",
        "                           [0, 2/4, 0, 1/4, 0, 0, 0, 0, 0, 1/4, 0, 0],\n",
        "                           [0, 0, 2/4, 1/4, 0, 0, 1/4, 0, 0, 0, 0, 0],\n",
        "                           [0, 0, 0, 2/4, 0, 0, 0, 1/4, 0, 0, 1/4, 0],\n",
        "                           [1/4, 0, 0, 0, 2/4, 0, 0, 0, 0, 0, 1/4, 0],\n",
        "                           [1/4, 0, 0, 0, 0, 2/4, 0, 1/4, 0, 0, 0, 0],\n",
        "                           [0, 0, 0, 0, 1/4, 0, 2/4, 0, 0, 0, 0, 1/4],\n",
        "                           [0, 1/4, 0, 0, 2/4, 0, 0, 0, 1/4, 0, 0, 0],\n",
        "                           [0, 1/4, 0, 0, 1/4, 0, 0, 0, 2/4, 0, 0, 0],\n",
        "                           [0, 0, 0, 0, 0, 1/4, 0, 0, 1/4, 2/4, 0, 0],\n",
        "                           [0, 0, 1/4, 0, 0, 0, 0, 0, 1/4, 0, 2/4, 0],\n",
        "                           [0, 0, 1/4, 0, 0, 1/4, 0, 0, 0, 0, 0, 2/4]])\n",
        "\n",
        "user_miss(markovCasoLRU, p)"
      ],
      "execution_count": null,
      "outputs": [
        {
          "output_type": "stream",
          "text": [
            "A distribuição estacionária é dada por: [['AB', 0.10087719298245611], ['AC', 0.07456140350877184], ['AD', 0.0745614035087719], ['BA', 0.07456140350877193], ['BC', 0.1359649122807018], ['BD', 0.06578947368421058], ['CA', 0.08771929824561402], ['CB', 0.0350877192982456], ['CD', 0.11403508771929839], ['DA', 0.08771929824561393], ['DB', 0.10526315789473685], ['DC', 0.04385964912280704]]\n",
            "A probabilidade de User Miss é de 0.55\n"
          ],
          "name": "stdout"
        },
        {
          "output_type": "execute_result",
          "data": {
            "text/plain": [
              "0.55"
            ]
          },
          "metadata": {
            "tags": []
          },
          "execution_count": 103
        }
      ]
    },
    {
      "cell_type": "code",
      "metadata": {
        "id": "FEZOnAIn-cPh",
        "colab": {
          "base_uri": "https://localhost:8080/"
        },
        "outputId": "043b8b0a-a724-4ec1-f90b-5e610ef1398b"
      },
      "source": [
        "#Caso RANDOM\n",
        "estados = [[\"AB\"], [\"AC\"], [\"AD\"] , [\"BC\"], [\"BD\"], [\"CD\"]]\n",
        "markovCasoRandom = np.array([[2/4, 1/8, 1/8, 1/8, 1/8, 0],\n",
        "                             [1/8, 2/4, 1/8, 1/8, 0, 1/8],\n",
        "                             [1/8, 1/8, 2/4, 0, 1/8, 1/8],\n",
        "                             [1/8, 1/8, 0, 2/4, 1/8, 1/8],\n",
        "                             [1/8, 0, 1/8, 1/8, 2/4, 1/8],\n",
        "                             [0, 1/8, 1/8, 1/8, 1/8, 2/4]])\n",
        "\n",
        "user_miss(markovCasoRandom, p)"
      ],
      "execution_count": null,
      "outputs": [
        {
          "output_type": "stream",
          "text": [
            "A distribuição estacionária é dada por: [['AB', 0.16666666666666669], ['AC', 0.16666666666666655], ['AD', 0.16666666666666666], ['BC', 0.16666666666666666], ['BD', 0.16666666666666666], ['CD', 0.16666666666666669]]\n",
            "A probabilidade de User Miss é de 0.55\n"
          ],
          "name": "stdout"
        },
        {
          "output_type": "execute_result",
          "data": {
            "text/plain": [
              "0.55"
            ]
          },
          "metadata": {
            "tags": []
          },
          "execution_count": 104
        }
      ]
    },
    {
      "cell_type": "code",
      "metadata": {
        "id": "qEvg-7I7qMOu",
        "colab": {
          "base_uri": "https://localhost:8080/"
        },
        "outputId": "24854a08-b291-4168-9465-8e5e9e4902f4"
      },
      "source": [
        "#Caso Estático\n",
        "estados = [[\"AB\"], [\"AC\"], [\"AD\"], [\"BC\"], [\"BD\"], [\"CD\"]]\n",
        "markovCasoEstatico  = np.array([[1, 0, 0, 0, 0, 0], \n",
        "                                [0, 1, 0, 0, 0, 0],\n",
        "                                [0, 0, 1, 0, 0, 0],\n",
        "                                [0, 0, 0, 1, 0, 0],\n",
        "                                [0, 0, 0, 0, 1, 0],\n",
        "                                [0, 0, 0, 0, 0, 1]])\n",
        "\n",
        "user_miss_estatica(markovCasoEstatico, p)"
      ],
      "execution_count": null,
      "outputs": [
        {
          "output_type": "stream",
          "text": [
            "A distribuição estacionária é dada por: [['AB', 1.0], ['AC', 0.0], ['AD', 0.0], ['BC', 0.0], ['BD', 0.0], ['CD', 0.0]]\n",
            "A probabilidade de User Miss é de 0.46\n"
          ],
          "name": "stdout"
        },
        {
          "output_type": "execute_result",
          "data": {
            "text/plain": [
              "0.46"
            ]
          },
          "metadata": {
            "tags": []
          },
          "execution_count": 105
        }
      ]
    },
    {
      "cell_type": "markdown",
      "metadata": {
        "id": "VEI9N73Wrj2_"
      },
      "source": [
        "----------------------------------------------------------------------------------------------------------------------------------------------------------------\n",
        "\n",
        "#Coisas não oficiais da parte analítica"
      ]
    },
    {
      "cell_type": "code",
      "metadata": {
        "id": "oWdUW07Aus_y"
      },
      "source": [
        "#matrix_power(markovCasoFIFO, 10000).round(decimals=2)\n",
        "#matrix_power(markovCasoLRU, 10000).round(decimals=2)\n",
        "#matrix_power(markovCasoRandom, 10000).round(decimals=2)"
      ],
      "execution_count": null,
      "outputs": []
    },
    {
      "cell_type": "code",
      "metadata": {
        "colab": {
          "base_uri": "https://localhost:8080/"
        },
        "id": "8a_jF7t6N3sl",
        "outputId": "733b9901-9029-4be4-cc81-2fc14e7a6c68"
      },
      "source": [
        "dist_estacionaria(matrizRandom)"
      ],
      "execution_count": null,
      "outputs": [
        {
          "output_type": "execute_result",
          "data": {
            "text/plain": [
              "array([0.22222222, 0.06666667, 0.15555556, 0.20444444, 0.11111111,\n",
              "       0.24      ])"
            ]
          },
          "metadata": {
            "tags": []
          },
          "execution_count": 65
        }
      ]
    },
    {
      "cell_type": "code",
      "metadata": {
        "colab": {
          "base_uri": "https://localhost:8080/"
        },
        "id": "GcF42zwBONPE",
        "outputId": "68239871-3db7-4864-a81e-7c10be809e5f"
      },
      "source": [
        "0.22222222*(2/3) +0.06666667*1 +0.15555556*1 + 0.20444444*(2/3) +0.11111111 *1 + 0.24*(2/3)  "
      ],
      "execution_count": null,
      "outputs": [
        {
          "output_type": "execute_result",
          "data": {
            "text/plain": [
              "0.7777777799999999"
            ]
          },
          "metadata": {
            "tags": []
          },
          "execution_count": 35
        }
      ]
    },
    {
      "cell_type": "code",
      "metadata": {
        "colab": {
          "base_uri": "https://localhost:8080/"
        },
        "id": "faBEOzRbFfc-",
        "outputId": "0501308c-87a6-41ed-d552-f48e8e611ecf"
      },
      "source": [
        "1-(0.22222222*(1/3) + 0.20444444*(1/3) + 0.24 *(1/3))"
      ],
      "execution_count": null,
      "outputs": [
        {
          "output_type": "execute_result",
          "data": {
            "text/plain": [
              "0.7777777800000001"
            ]
          },
          "metadata": {
            "tags": []
          },
          "execution_count": 36
        }
      ]
    },
    {
      "cell_type": "code",
      "metadata": {
        "colab": {
          "base_uri": "https://localhost:8080/"
        },
        "id": "F8ddYkUCMJyh",
        "outputId": "de1e568f-e741-40c7-bc45-f1c6fd9c0aba"
      },
      "source": [
        "0.5 * 1/2 + 0.5 * 1/2"
      ],
      "execution_count": null,
      "outputs": [
        {
          "output_type": "execute_result",
          "data": {
            "text/plain": [
              "0.5"
            ]
          },
          "metadata": {
            "tags": []
          },
          "execution_count": 28
        }
      ]
    }
  ]
}