{
  "nbformat": 4,
  "nbformat_minor": 0,
  "metadata": {
    "colab": {
      "name": "Simulação AD.ipynb",
      "provenance": [],
      "collapsed_sections": [],
      "include_colab_link": true
    },
    "kernelspec": {
      "name": "python3",
      "display_name": "Python 3"
    },
    "language_info": {
      "name": "python"
    }
  },
  "cells": [
    {
      "cell_type": "markdown",
      "metadata": {
        "id": "view-in-github",
        "colab_type": "text"
      },
      "source": [
        "<a href=\"https://colab.research.google.com/github/siliconemonster/AD-TrabalhoFinal/blob/main/Simula%C3%A7%C3%A3o_AD.ipynb\" target=\"_parent\"><img src=\"https://colab.research.google.com/assets/colab-badge.svg\" alt=\"Open In Colab\"/></a>"
      ]
    },
    {
      "cell_type": "markdown",
      "metadata": {
        "id": "5aTNjkgw6BQE"
      },
      "source": [
        "### Importando bibliotecas"
      ]
    },
    {
      "cell_type": "code",
      "metadata": {
        "id": "9qMnzYxPsbKS"
      },
      "source": [
        "import random\n",
        "from random import sample\n",
        "from random import random\n",
        "from matplotlib import pyplot as plt\n",
        "from matplotlib.legend_handler import HandlerLine2D\n",
        "from collections import Counter\n",
        "import sympy as sy\n",
        "from numpy.linalg import matrix_power\n",
        "from fractions import Fraction\n",
        "import math\n",
        "from math import *\n",
        "import numpy as np\n",
        "from numpy import random\n",
        "import pandas as pd\n",
        "import queue \n",
        "from scipy.stats import poisson"
      ],
      "execution_count": 1,
      "outputs": []
    },
    {
      "cell_type": "markdown",
      "metadata": {
        "id": "KdkPXO0Ct0Mx"
      },
      "source": [
        "<h2> I. Simulação"
      ]
    },
    {
      "cell_type": "code",
      "metadata": {
        "id": "fzeFkanRyZr4"
      },
      "source": [
        "def initializeCache():  \n",
        "  cache = sample([1,2,3], k= 2)\n",
        "  return cache"
      ],
      "execution_count": null,
      "outputs": []
    },
    {
      "cell_type": "code",
      "metadata": {
        "id": "YnH1LxuqvDb2"
      },
      "source": [
        "def cacheReceivesReq(caso, cache, requisicao):\n",
        "  RequicaoAtendida = 0\n",
        "  #print(\"Conteudo Requisicao: \" + str(requisicao))\n",
        "  #print(\"Cache:\" + str(cache))\n",
        "\n",
        "  if (requisicao in cache):\n",
        "    if(caso == \"FIFO\" or caso == \"Random\" or caso == \"Estatica\"):\n",
        "      cache = cache\n",
        "      RequicaoAtendida = 1    \n",
        "      #print(\"Cache possui requisção!\") \n",
        "\n",
        "    elif (caso == \"LRU\"):\n",
        "      RequicaoAtendida = 1    \n",
        "      #print(\"Cache possui requisição!\")\n",
        "\n",
        "      cache.remove(requisicao)\n",
        "      cache.insert(0, requisicao)\n",
        "      #print(\"Novo estado da cache: \" + str(cache)) \n",
        "   \n",
        "  else:\n",
        "    if (caso == \"FIFO\" or caso == \"LRU\"):\n",
        "      cache.insert(0, requisicao)\n",
        "      del cache[-1]\n",
        "      #print(\"Novo estado da cache: \" + str(cache)) \n",
        "\n",
        "    elif (caso == \"Random\"):\n",
        "      cache.insert(0, requisicao)\n",
        "      del cache[random.randint(-2,0)]\n",
        "      #print(\"Novo estado da cache: \" + str(cache)) \n",
        "\n",
        "  return cache, RequicaoAtendida"
      ],
      "execution_count": null,
      "outputs": []
    },
    {
      "cell_type": "code",
      "metadata": {
        "id": "Mo4sZoaDxF40"
      },
      "source": [
        "def simulacaoCenario1(tipo, trials): \n",
        "    \n",
        "  mediaSucessos = []\n",
        "\n",
        "  for i in range(trials):\n",
        "\n",
        "    queueCache1 = {}\n",
        "    queueCache2 = {}\n",
        "\n",
        "    sucesso = 0\n",
        "    mediaSucesso = 0  \n",
        "\n",
        "    cache1 = initializeCache()\n",
        "    cache2 = initializeCache()\n",
        "\n",
        "    reqAtendidasC1 = []\n",
        "    reqAtendidasC2 = []\n",
        "\n",
        "\n",
        "    t = 0\n",
        "    max = 1000\n",
        "    while (t < max):\n",
        "\n",
        "      RequicaoAtendida = 0\n",
        "      requisicao = random.randint(1,4)\n",
        "\n",
        "      #print(\"Conteudo Requisitado: \" + str(requisicao))\n",
        "      #print(\"Cache 1: \" + str(cache1))\n",
        "      #print(\"Cache 2: \" + str(cache2))\n",
        "\n",
        "\n",
        "      TempoC1 = np.random.poisson(1/3,1)\n",
        "      requisicaoTempoC1 = t + TempoC1[0]\n",
        "      TempoC2 = np.random.poisson(1/3,1)\n",
        "      requisicaoTempoC2 = t + TempoC2[0]      \n",
        "\n",
        "\n",
        "      # Inserindo a requisição na fila\n",
        "      queueCache1[\"req\" + str(t)] = [requisicaoTempoC1,requisicao]\n",
        "      queueCache2[\"req\" + str(t)] = [requisicaoTempoC2,requisicao]\n",
        "      \n",
        "      # OrdenandO a Fila\n",
        "      queueCache1 = {k: v for k, v in sorted(queueCache1.items(), key=lambda item: item[1])}\n",
        "      queueCache2 = {k: v for k, v in sorted(queueCache2.items(), key=lambda item: item[1])}\n",
        "\n",
        "      #print(\"Fila cache 1:\" + str(queueCache1))\n",
        "      #print(\"Fila cache 2:\" + str(queueCache2))\n",
        "\n",
        "      while (1):\n",
        "\n",
        "        if (len(queueCache1)>0):\n",
        "          primRequisicao = list(queueCache1.keys())[0]\n",
        "          requisicao = queueCache1[primRequisicao]\n",
        "          conteudoReq = requisicao[1]          \n",
        "          tempoReeq = requisicao[0]\n",
        "\n",
        "          if (tempoReeq == t):\n",
        "            del queueCache1[primRequisicao]\n",
        "            #print(str(primRequisicao) + \" vai para a cache 1\")\n",
        "            cache1, RequicaoAtendida = cacheReceivesReq(tipo, cache1, conteudoReq)\n",
        "            if (RequicaoAtendida):\n",
        "              reqAtendidasC1.append(primRequisicao)\n",
        "              #print(\"Requisição atendida\")\n",
        "            #else:\n",
        "              #print(\"Requisição não atendida\")\n",
        "\n",
        "\n",
        "          else: break\n",
        "\n",
        "        else: break\n",
        "\n",
        "      while (1):\n",
        "\n",
        "        if(len(queueCache2)>0):\n",
        "\n",
        "          primRequisicao = list(queueCache2.keys())[0]\n",
        "          requisicao = queueCache2[primRequisicao]\n",
        "          conteudoReq = requisicao[1]\n",
        "          tempoReeq = requisicao[0]\n",
        "\n",
        "          if (tempoReeq == t):\n",
        "            del queueCache2[primRequisicao]\n",
        "            #print(str(primRequisicao) + \" vai para a cache 2\")\n",
        "            cache2, RequicaoAtendida = cacheReceivesReq(tipo, cache2, conteudoReq)\n",
        "            if (RequicaoAtendida):\n",
        "              reqAtendidasC2.append(primRequisicao)\n",
        "              #print(\"Requisição atendida\")\n",
        "            #else:\n",
        "              #print(\"Requisição não atendida\")\n",
        "\n",
        "          else: break\n",
        "        \n",
        "        else: break\n",
        "\n",
        "      #if(RequicaoAtendida):\n",
        "          #print(\"Sucesso!\")\n",
        "\n",
        "      t = t + 1\n",
        "\n",
        "      \n",
        "    #print(reqAtendidasC1)\n",
        "    #print(reqAtendidasC2)\n",
        "    reqAtendidas = list(set(reqAtendidasC1).union(set(reqAtendidasC2)))\n",
        "    #print(reqAtendidas)\n",
        "    sucessos = len(reqAtendidas)\n",
        "    #print(\"Sucessos = \" + str(sucessos))\n",
        "    mediaSucessos.append(sucessos/t)\n",
        "    \n",
        "  \n",
        "  print(\"Media Sucessos = \" + str(mediaSucessos))\n",
        "\n",
        "    \n",
        "  return mediaSucessos\n"
      ],
      "execution_count": null,
      "outputs": []
    },
    {
      "cell_type": "code",
      "metadata": {
        "colab": {
          "base_uri": "https://localhost:8080/"
        },
        "id": "YmwpbinAS2TB",
        "outputId": "bed47348-7c00-49b9-dee9-21300e9c051b"
      },
      "source": [
        "simulacaoCenario1(\"LRU\", 3)"
      ],
      "execution_count": null,
      "outputs": [
        {
          "output_type": "stream",
          "text": [
            "Media Sucessos = [0.721, 0.723, 0.722]\n"
          ],
          "name": "stdout"
        },
        {
          "output_type": "execute_result",
          "data": {
            "text/plain": [
              "[0.721, 0.723, 0.722]"
            ]
          },
          "metadata": {
            "tags": []
          },
          "execution_count": 18
        }
      ]
    },
    {
      "cell_type": "code",
      "metadata": {
        "colab": {
          "base_uri": "https://localhost:8080/"
        },
        "id": "SdcO_0Cg_9LI",
        "outputId": "bce4f50f-37d1-4ea8-f26f-b06d7624faf9"
      },
      "source": [
        "random.seed(8)\n",
        "tipo = \"FIFO\"\n",
        "\n",
        "queueCache1 = {}\n",
        "queueCache2 = {}\n",
        "\n",
        "sucesso = 0\n",
        "mediaSucesso = 0  \n",
        "\n",
        "cache1 = initializeCache()\n",
        "cache2 = initializeCache()\n",
        "t = 0\n",
        "max = 10\n",
        "while (t < max):\n",
        "\n",
        "  RequicaoAtendida = 0\n",
        "  requisicao = random.randint(1,4)\n",
        "\n",
        "  print(\"Conteudo Requisitado: \" + str(requisicao))\n",
        "  print(\"Cache 1: \" + str(cache1))\n",
        "  print(\"Cache 2: \" + str(cache2))\n",
        "\n",
        "\n",
        "  TempoC1 = np.random.poisson(1/3,1)\n",
        "  requisicaoTempoC1 = t + TempoC1[0]\n",
        "  TempoC2 = np.random.poisson(1/3,1)\n",
        "  requisicaoTempoC2 = t + TempoC2[0]      \n",
        "\n",
        "\n",
        "  # Inserindo a requisição na fila\n",
        "  queueCache1[\"req\" + str(t)] = [requisicaoTempoC1,requisicao]\n",
        "  queueCache2[\"req\" + str(t)] = [requisicaoTempoC2,requisicao]\n",
        "  \n",
        "  # OrdenandO a Fila\n",
        "  queueCache1 = {k: v for k, v in sorted(queueCache1.items(), key=lambda item: item[1])}\n",
        "  queueCache2 = {k: v for k, v in sorted(queueCache2.items(), key=lambda item: item[1])}\n",
        "\n",
        "  print(\"Fila cache 1:\" + str(queueCache1))\n",
        "  print(\"Fila cache 2:\" + str(queueCache2))\n",
        "\n",
        "  while (1):\n",
        "\n",
        "    if (len(queueCache1)>0):\n",
        "      primRequisicao = list(queueCache1.keys())[0]\n",
        "      requisicao = queueCache1[primRequisicao]\n",
        "      conteudoReq = requisicao[1]\n",
        "      tempoReeq = requisicao[0]\n",
        "\n",
        "      if (tempoReeq == t):\n",
        "        del queueCache1[primRequisicao]\n",
        "        print(str(primRequisicao) + \" vai para a cache 1\")\n",
        "        cache1, RequicaoAtendida = cacheReceivesReq(tipo, cache1, conteudoReq)\n",
        "        if (RequicaoAtendida):\n",
        "          print(\"Requisição atendida\")\n",
        "        else:\n",
        "          print(\"Requisição não atendida\")\n",
        "\n",
        "\n",
        "      else: break\n",
        "\n",
        "    else: break\n",
        "\n",
        "  while (1):\n",
        "\n",
        "    if(len(queueCache2)>0):\n",
        "\n",
        "      primRequisicao = list(queueCache2.keys())[0]\n",
        "      requisicao = queueCache2[primRequisicao]\n",
        "      conteudoReq = requisicao[1]\n",
        "      tempoReeq = requisicao[0]\n",
        "\n",
        "      if (tempoReeq == t):\n",
        "        del queueCache2[primRequisicao]\n",
        "        print(str(primRequisicao) + \" vai para a cache 2\")\n",
        "        cache2, RequicaoAtendida = cacheReceivesReq(tipo, cache2, conteudoReq)\n",
        "        if (RequicaoAtendida):\n",
        "          print(\"Requisição atendida\")\n",
        "        else:\n",
        "          print(\"Requisição não atendida\")\n",
        "\n",
        "      else: break\n",
        "    \n",
        "    else: break\n",
        "\n",
        "  if(RequicaoAtendida):\n",
        "      print(\"Sucesso!\")\n",
        "      sucesso = sucesso + 1  \n",
        "\n",
        "  t = t + 1\n",
        "  print(\"\")"
      ],
      "execution_count": null,
      "outputs": [
        {
          "output_type": "stream",
          "text": [
            "Conteudo Requisitado: 1\n",
            "Cache 1: [1, 3]\n",
            "Cache 2: [2, 1]\n",
            "Fila cache 1:{'req0': [2, 1]}\n",
            "Fila cache 2:{'req0': [0, 1]}\n",
            "req0 vai para a cache 2\n",
            "Requisição atendida\n",
            "Sucesso!\n",
            "\n",
            "Conteudo Requisitado: 1\n",
            "Cache 1: [1, 3]\n",
            "Cache 2: [2, 1]\n",
            "Fila cache 1:{'req1': [1, 1], 'req0': [2, 1]}\n",
            "Fila cache 2:{'req1': [2, 1]}\n",
            "req1 vai para a cache 1\n",
            "Requisição atendida\n",
            "Sucesso!\n",
            "\n",
            "Conteudo Requisitado: 1\n",
            "Cache 1: [1, 3]\n",
            "Cache 2: [2, 1]\n",
            "Fila cache 1:{'req0': [2, 1], 'req2': [3, 1]}\n",
            "Fila cache 2:{'req1': [2, 1], 'req2': [2, 1]}\n",
            "req0 vai para a cache 1\n",
            "Requisição atendida\n",
            "req1 vai para a cache 2\n",
            "Requisição atendida\n",
            "req2 vai para a cache 2\n",
            "Requisição atendida\n",
            "Sucesso!\n",
            "\n",
            "Conteudo Requisitado: 3\n",
            "Cache 1: [1, 3]\n",
            "Cache 2: [2, 1]\n",
            "Fila cache 1:{'req2': [3, 1], 'req3': [4, 3]}\n",
            "Fila cache 2:{'req3': [3, 3]}\n",
            "req2 vai para a cache 1\n",
            "Requisição atendida\n",
            "req3 vai para a cache 2\n",
            "Requisição não atendida\n",
            "\n",
            "Conteudo Requisitado: 1\n",
            "Cache 1: [1, 3]\n",
            "Cache 2: [3, 2]\n",
            "Fila cache 1:{'req3': [4, 3], 'req4': [5, 1]}\n",
            "Fila cache 2:{'req4': [4, 1]}\n",
            "req3 vai para a cache 1\n",
            "Requisição atendida\n",
            "req4 vai para a cache 2\n",
            "Requisição não atendida\n",
            "\n",
            "Conteudo Requisitado: 3\n",
            "Cache 1: [1, 3]\n",
            "Cache 2: [1, 3]\n",
            "Fila cache 1:{'req4': [5, 1], 'req5': [5, 3]}\n",
            "Fila cache 2:{'req5': [5, 3]}\n",
            "req4 vai para a cache 1\n",
            "Requisição atendida\n",
            "req5 vai para a cache 1\n",
            "Requisição atendida\n",
            "req5 vai para a cache 2\n",
            "Requisição atendida\n",
            "Sucesso!\n",
            "\n",
            "Conteudo Requisitado: 2\n",
            "Cache 1: [1, 3]\n",
            "Cache 2: [1, 3]\n",
            "Fila cache 1:{'req6': [6, 2]}\n",
            "Fila cache 2:{'req6': [6, 2]}\n",
            "req6 vai para a cache 1\n",
            "Requisição não atendida\n",
            "req6 vai para a cache 2\n",
            "Requisição não atendida\n",
            "\n",
            "Conteudo Requisitado: 1\n",
            "Cache 1: [2, 1]\n",
            "Cache 2: [2, 1]\n",
            "Fila cache 1:{'req7': [7, 1]}\n",
            "Fila cache 2:{'req7': [8, 1]}\n",
            "req7 vai para a cache 1\n",
            "Requisição atendida\n",
            "Sucesso!\n",
            "\n",
            "Conteudo Requisitado: 2\n",
            "Cache 1: [2, 1]\n",
            "Cache 2: [2, 1]\n",
            "Fila cache 1:{'req8': [9, 2]}\n",
            "Fila cache 2:{'req7': [8, 1], 'req8': [8, 2]}\n",
            "req7 vai para a cache 2\n",
            "Requisição atendida\n",
            "req8 vai para a cache 2\n",
            "Requisição atendida\n",
            "Sucesso!\n",
            "\n",
            "Conteudo Requisitado: 3\n",
            "Cache 1: [2, 1]\n",
            "Cache 2: [2, 1]\n",
            "Fila cache 1:{'req8': [9, 2], 'req9': [9, 3]}\n",
            "Fila cache 2:{'req9': [9, 3]}\n",
            "req8 vai para a cache 1\n",
            "Requisição atendida\n",
            "req9 vai para a cache 1\n",
            "Requisição não atendida\n",
            "req9 vai para a cache 2\n",
            "Requisição não atendida\n",
            "\n"
          ],
          "name": "stdout"
        }
      ]
    },
    {
      "cell_type": "code",
      "metadata": {
        "colab": {
          "base_uri": "https://localhost:8080/"
        },
        "id": "UojoWsZBASiD",
        "outputId": "db96cf72-b16e-4c0f-b0a1-1fc38b12cc46"
      },
      "source": [
        "len(queueCache1)\n"
      ],
      "execution_count": null,
      "outputs": [
        {
          "output_type": "execute_result",
          "data": {
            "text/plain": [
              "0"
            ]
          },
          "metadata": {
            "tags": []
          },
          "execution_count": 20
        }
      ]
    },
    {
      "cell_type": "code",
      "metadata": {
        "colab": {
          "base_uri": "https://localhost:8080/",
          "height": 35
        },
        "id": "aK7fpuFRDF3X",
        "outputId": "611aa142-17c1-492c-d00a-e4d6638ae3f0"
      },
      "source": [
        "primRequisicao[1]"
      ],
      "execution_count": null,
      "outputs": [
        {
          "output_type": "execute_result",
          "data": {
            "application/vnd.google.colaboratory.intrinsic+json": {
              "type": "string"
            },
            "text/plain": [
              "'e'"
            ]
          },
          "metadata": {
            "tags": []
          },
          "execution_count": 21
        }
      ]
    },
    {
      "cell_type": "code",
      "metadata": {
        "colab": {
          "base_uri": "https://localhost:8080/",
          "height": 162
        },
        "id": "LcK5Fl_mBVCd",
        "outputId": "02ace57a-b81b-4509-bdb2-b9aca5b66251"
      },
      "source": [
        "list(queueCache1.keys())[4]"
      ],
      "execution_count": null,
      "outputs": [
        {
          "output_type": "error",
          "ename": "IndexError",
          "evalue": "ignored",
          "traceback": [
            "\u001b[0;31m---------------------------------------------------------------------------\u001b[0m",
            "\u001b[0;31mIndexError\u001b[0m                                Traceback (most recent call last)",
            "\u001b[0;32m<ipython-input-22-880263485b82>\u001b[0m in \u001b[0;36m<module>\u001b[0;34m()\u001b[0m\n\u001b[0;32m----> 1\u001b[0;31m \u001b[0mlist\u001b[0m\u001b[0;34m(\u001b[0m\u001b[0mqueueCache1\u001b[0m\u001b[0;34m.\u001b[0m\u001b[0mkeys\u001b[0m\u001b[0;34m(\u001b[0m\u001b[0;34m)\u001b[0m\u001b[0;34m)\u001b[0m\u001b[0;34m[\u001b[0m\u001b[0;36m4\u001b[0m\u001b[0;34m]\u001b[0m\u001b[0;34m\u001b[0m\u001b[0;34m\u001b[0m\u001b[0m\n\u001b[0m",
            "\u001b[0;31mIndexError\u001b[0m: list index out of range"
          ]
        }
      ]
    },
    {
      "cell_type": "code",
      "metadata": {
        "id": "SCHbJ8UVpCpy"
      },
      "source": [
        "def simulacaoCenario2(tipo, trials):\n",
        "  queueCache1 = {}\n",
        "  queueCache2 = {}\n",
        "  sucesso = 0\n",
        "  mediaSucesso = 0  \n",
        "  cache1 = initializeCache()\n",
        "  cache2 = initializeCache()\n",
        "  usermiss = 0\n",
        "\n",
        "  \n",
        "  for i in range (trials):\n",
        "    RequicaoAtendida = 0\n",
        "\n",
        "    canal1 = random.rand()\n",
        "    canal1falhou = 1\n",
        "    sucessoc1 = 0\n",
        "    requisicao = random.randint(1,4) \n",
        "\n",
        "    #print(\"\\n Requisição: \" + str(requisicao))\n",
        "    #print(\"Cache 1: \" + str(cache1))\n",
        "    #print(\"Cache 2: \" + str(cache2))\n",
        "\n",
        "    if(canal1 <= 0.9):\n",
        "      cache1, RequicaoAtendida = cacheReceivesReq(tipo, cache1, requisicao)\n",
        "    #else:\n",
        "     # print(\"Canal Falhou\")\n",
        "\n",
        "    canal2 = random.rand()\n",
        "    if(canal2 <= 0.9):        \n",
        "      cache2, RequicaoAtendida = cacheReceivesReq(tipo, cache2, requisicao)\n",
        "    #else:\n",
        "     # print(\"Canal Falhou\")\n",
        "\n",
        "    if(RequicaoAtendida):\n",
        "      sucesso = sucesso + 1\n",
        "\n",
        "    else:\n",
        "      usermiss = usermiss + 1\n",
        "  print(\"Media Sucessos = \" + str(sucesso/trials)) \n",
        "  print(\"Usermiss = \" + str(usermiss))\n",
        "  print(\"Media Usermiss = \" + str(usermiss/trials))"
      ],
      "execution_count": null,
      "outputs": []
    },
    {
      "cell_type": "code",
      "metadata": {
        "colab": {
          "base_uri": "https://localhost:8080/",
          "height": 279
        },
        "id": "tRDNIWj52M0F",
        "outputId": "62511e85-3243-4e7d-a9b3-6e4070d237cd"
      },
      "source": [
        "simulacaoCenario1(\"FIFO\", 100000)"
      ],
      "execution_count": null,
      "outputs": [
        {
          "output_type": "error",
          "ename": "KeyboardInterrupt",
          "evalue": "ignored",
          "traceback": [
            "\u001b[0;31m---------------------------------------------------------------------------\u001b[0m",
            "\u001b[0;31mKeyboardInterrupt\u001b[0m                         Traceback (most recent call last)",
            "\u001b[0;32m<ipython-input-24-ecfc0f21dd9e>\u001b[0m in \u001b[0;36m<module>\u001b[0;34m()\u001b[0m\n\u001b[0;32m----> 1\u001b[0;31m \u001b[0msimulacaoCenario1\u001b[0m\u001b[0;34m(\u001b[0m\u001b[0;34m\"FIFO\"\u001b[0m\u001b[0;34m,\u001b[0m \u001b[0;36m100000\u001b[0m\u001b[0;34m)\u001b[0m\u001b[0;34m\u001b[0m\u001b[0;34m\u001b[0m\u001b[0m\n\u001b[0m",
            "\u001b[0;32m<ipython-input-17-892e0300ee03>\u001b[0m in \u001b[0;36msimulacaoCenario1\u001b[0;34m(tipo, trials)\u001b[0m\n\u001b[1;32m     38\u001b[0m       \u001b[0;31m# Inserindo a requisição na fila\u001b[0m\u001b[0;34m\u001b[0m\u001b[0;34m\u001b[0m\u001b[0;34m\u001b[0m\u001b[0m\n\u001b[1;32m     39\u001b[0m       \u001b[0mqueueCache1\u001b[0m\u001b[0;34m[\u001b[0m\u001b[0;34m\"req\"\u001b[0m \u001b[0;34m+\u001b[0m \u001b[0mstr\u001b[0m\u001b[0;34m(\u001b[0m\u001b[0mt\u001b[0m\u001b[0;34m)\u001b[0m\u001b[0;34m]\u001b[0m \u001b[0;34m=\u001b[0m \u001b[0;34m[\u001b[0m\u001b[0mrequisicaoTempoC1\u001b[0m\u001b[0;34m,\u001b[0m\u001b[0mrequisicao\u001b[0m\u001b[0;34m]\u001b[0m\u001b[0;34m\u001b[0m\u001b[0;34m\u001b[0m\u001b[0m\n\u001b[0;32m---> 40\u001b[0;31m       \u001b[0mqueueCache2\u001b[0m\u001b[0;34m[\u001b[0m\u001b[0;34m\"req\"\u001b[0m \u001b[0;34m+\u001b[0m \u001b[0mstr\u001b[0m\u001b[0;34m(\u001b[0m\u001b[0mt\u001b[0m\u001b[0;34m)\u001b[0m\u001b[0;34m]\u001b[0m \u001b[0;34m=\u001b[0m \u001b[0;34m[\u001b[0m\u001b[0mrequisicaoTempoC2\u001b[0m\u001b[0;34m,\u001b[0m\u001b[0mrequisicao\u001b[0m\u001b[0;34m]\u001b[0m\u001b[0;34m\u001b[0m\u001b[0;34m\u001b[0m\u001b[0m\n\u001b[0m\u001b[1;32m     41\u001b[0m \u001b[0;34m\u001b[0m\u001b[0m\n\u001b[1;32m     42\u001b[0m       \u001b[0;31m# OrdenandO a Fila\u001b[0m\u001b[0;34m\u001b[0m\u001b[0;34m\u001b[0m\u001b[0;34m\u001b[0m\u001b[0m\n",
            "\u001b[0;31mKeyboardInterrupt\u001b[0m: "
          ]
        }
      ]
    },
    {
      "cell_type": "code",
      "metadata": {
        "id": "Gv0eFTYyCEuy"
      },
      "source": [
        "simulacaoCenario1(\"LRU\", 100000)"
      ],
      "execution_count": null,
      "outputs": []
    },
    {
      "cell_type": "code",
      "metadata": {
        "id": "wGdrCsefCUc8"
      },
      "source": [
        "simulacaoCenario1(\"Random\", 100000)"
      ],
      "execution_count": null,
      "outputs": []
    },
    {
      "cell_type": "code",
      "metadata": {
        "id": "4HMg7hOnr438"
      },
      "source": [
        "simulacaoCenario2(\"FIFO\", 100000)"
      ],
      "execution_count": null,
      "outputs": []
    },
    {
      "cell_type": "code",
      "metadata": {
        "id": "US7B0iRV8dCF",
        "colab": {
          "base_uri": "https://localhost:8080/",
          "height": 52
        },
        "outputId": "04f85e9e-6745-4b48-a466-368075c5cb7f"
      },
      "source": [
        "'''\n",
        "casoFifoMarkov  = [[sy.Rational('2/3'), 0, 0, 0,sy.Rational('1/3'),0], \n",
        "    [0, sy.Rational('2/3'), sy.Rational('1/3'), 0,0,0],\n",
        "    [0, 0, sy.Rational('2/3'), 0,0,sy.Rational('1/3')],\n",
        "    [sy.Rational('1/3'), 0, sy.Rational('2/3'), 0,0,0],\n",
        "    [0, 0, 0, sy.Rational('1/3'),sy.Rational('2/3'),0],\n",
        "    [0, sy.Rational('1/3'), 0, 0,0,sy.Rational('2/3')]] '''"
      ],
      "execution_count": null,
      "outputs": [
        {
          "output_type": "execute_result",
          "data": {
            "application/vnd.google.colaboratory.intrinsic+json": {
              "type": "string"
            },
            "text/plain": [
              "\"\\ncasoFifoMarkov  = [[sy.Rational('2/3'), 0, 0, 0,sy.Rational('1/3'),0], \\n    [0, sy.Rational('2/3'), sy.Rational('1/3'), 0,0,0],\\n    [0, 0, sy.Rational('2/3'), 0,0,sy.Rational('1/3')],\\n    [sy.Rational('1/3'), 0, sy.Rational('2/3'), 0,0,0],\\n    [0, 0, 0, sy.Rational('1/3'),sy.Rational('2/3'),0],\\n    [0, sy.Rational('1/3'), 0, 0,0,sy.Rational('2/3')]] \""
            ]
          },
          "metadata": {
            "tags": []
          },
          "execution_count": 25
        }
      ]
    },
    {
      "cell_type": "code",
      "metadata": {
        "id": "rMWbSFqi_GAh",
        "colab": {
          "base_uri": "https://localhost:8080/"
        },
        "outputId": "21b51ec6-68fe-4428-cb5c-7fa125975734"
      },
      "source": [
        "matrix_power(markovCasoFIFO, 10000).round(decimals=2)"
      ],
      "execution_count": null,
      "outputs": [
        {
          "output_type": "execute_result",
          "data": {
            "text/plain": [
              "array([[0.33, 0.  , 0.  , 0.33, 0.33, 0.  ],\n",
              "       [0.  , 0.33, 0.33, 0.  , 0.  , 0.33],\n",
              "       [0.  , 0.33, 0.33, 0.  , 0.  , 0.33],\n",
              "       [0.33, 0.  , 0.  , 0.33, 0.33, 0.  ],\n",
              "       [0.33, 0.  , 0.  , 0.33, 0.33, 0.  ],\n",
              "       [0.  , 0.33, 0.33, 0.  , 0.  , 0.33]])"
            ]
          },
          "metadata": {
            "tags": []
          },
          "execution_count": 26
        }
      ]
    },
    {
      "cell_type": "code",
      "metadata": {
        "id": "74uEeQ-TC7pV",
        "colab": {
          "base_uri": "https://localhost:8080/"
        },
        "outputId": "6352c577-fa36-4cf6-df26-b45abe69f7f5"
      },
      "source": [
        "matrix_power(markovCasoLRU, 10000).round(decimals=2)"
      ],
      "execution_count": null,
      "outputs": [
        {
          "output_type": "execute_result",
          "data": {
            "text/plain": [
              "array([[0.17, 0.17, 0.17, 0.17, 0.17, 0.17],\n",
              "       [0.17, 0.17, 0.17, 0.17, 0.17, 0.17],\n",
              "       [0.17, 0.17, 0.17, 0.17, 0.17, 0.17],\n",
              "       [0.17, 0.17, 0.17, 0.17, 0.17, 0.17],\n",
              "       [0.17, 0.17, 0.17, 0.17, 0.17, 0.17],\n",
              "       [0.17, 0.17, 0.17, 0.17, 0.17, 0.17]])"
            ]
          },
          "metadata": {
            "tags": []
          },
          "execution_count": 27
        }
      ]
    },
    {
      "cell_type": "code",
      "metadata": {
        "id": "Aq_Lqrh9Djxe",
        "colab": {
          "base_uri": "https://localhost:8080/"
        },
        "outputId": "780de420-6cfe-4942-dc1d-64b8a60d8a59"
      },
      "source": [
        "matrix_power(markovCasoRandom, 10000).round(decimals=2)"
      ],
      "execution_count": null,
      "outputs": [
        {
          "output_type": "execute_result",
          "data": {
            "text/plain": [
              "array([[0.33, 0.33, 0.33],\n",
              "       [0.33, 0.33, 0.33],\n",
              "       [0.33, 0.33, 0.33]])"
            ]
          },
          "metadata": {
            "tags": []
          },
          "execution_count": 28
        }
      ]
    },
    {
      "cell_type": "code",
      "metadata": {
        "id": "DtAAdPL0_MZC"
      },
      "source": [
        "qCache1 = {}"
      ],
      "execution_count": null,
      "outputs": []
    },
    {
      "cell_type": "code",
      "metadata": {
        "id": "HqdtQN00_PTL",
        "colab": {
          "base_uri": "https://localhost:8080/",
          "height": 128
        },
        "outputId": "bd88b436-0343-421e-e968-b7552a5f91a5"
      },
      "source": [
        "qCache1 = "
      ],
      "execution_count": null,
      "outputs": [
        {
          "output_type": "error",
          "ename": "SyntaxError",
          "evalue": "ignored",
          "traceback": [
            "\u001b[0;36m  File \u001b[0;32m\"<ipython-input-32-36a6d6f5a298>\"\u001b[0;36m, line \u001b[0;32m1\u001b[0m\n\u001b[0;31m    qCache1 =\u001b[0m\n\u001b[0m              ^\u001b[0m\n\u001b[0;31mSyntaxError\u001b[0m\u001b[0;31m:\u001b[0m invalid syntax\n"
          ]
        }
      ]
    },
    {
      "cell_type": "markdown",
      "metadata": {
        "id": "ugoUNnJAtnFX"
      },
      "source": [
        "<h2> II. Parte Analítica"
      ]
    },
    {
      "cell_type": "markdown",
      "metadata": {
        "id": "zz5oYxmEsL2x"
      },
      "source": [
        "Por conta do modo que a função para encontrar a distribuição estacionária é feita, trataremos as matrizes de transição como arrays do numpy:"
      ]
    },
    {
      "cell_type": "code",
      "metadata": {
        "id": "EPVt8yZVATok",
        "colab": {
          "base_uri": "https://localhost:8080/"
        },
        "outputId": "49a0bf5e-2c34-4cca-9e3b-de23914b2760"
      },
      "source": [
        "markovCasoFIFO = np.array([[2/3, 0, 0, 0,1/3,0], \n",
        "                           [0, 2/3, 1/3, 0,0,0],\n",
        "                           [0, 0, 2/3, 0,0,1/3],\n",
        "                           [1/3, 0,0,2/3,0,0],\n",
        "                           [0, 0, 0, 1/3,2/3,0],\n",
        "                           [0, 1/3, 0, 0,0,2/3]])\n",
        "\n",
        "markovCasoLRU  = np.array([[1/3, 0, 1/3, 0,1/3,0], \n",
        "                           [0, 1/3, 1/3, 0,1/3,0],\n",
        "                           [1/3, 0, 1/3, 0,0,1/3],\n",
        "                           [1/3, 0,0,1/3,0,1/3],\n",
        "                           [0, 1/3, 0, 1/3,1/3,0],\n",
        "                           [0, 1/3, 0, 1/3,0,1/3]])\n",
        "\n",
        "markovCasoRandom = np.array([[2/3, 1/6, 1/6], \n",
        "                             [1/6, 2/3, 1/6],\n",
        "                             [1/6, 1/6, 2/3]])\n",
        "\n",
        "# Função para calcular a distribuição estacionária de uma cadeia de Markov por meio de uma matriz de transição P\n",
        "def dist_estacionaria(P):\n",
        "  evals, evecs = np.linalg.eig(P.T) #We have to transpose so that Markov transitions correspond to right multiplying by a column vector.  np.linalg.eig finds right eigenvectors.\n",
        "  evec1 = evecs[:,np.isclose(evals, 1)]\n",
        "  evec1 = evec1[:,0]\n",
        "  stationary = evec1 / evec1.sum()\n",
        "  stationary = stationary.real # parte real (acha autovalores e autovetores complexos)\n",
        "\n",
        "  print(stationary)\n",
        "\n",
        "dist_estacionaria(markovCasoFIFO)"
      ],
      "execution_count": 6,
      "outputs": [
        {
          "output_type": "stream",
          "text": [
            "[0.33333333 0.         0.         0.33333333 0.33333333 0.        ]\n"
          ],
          "name": "stdout"
        }
      ]
    }
  ]
}