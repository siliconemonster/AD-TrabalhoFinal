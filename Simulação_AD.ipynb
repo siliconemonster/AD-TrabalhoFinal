{
  "nbformat": 4,
  "nbformat_minor": 0,
  "metadata": {
    "colab": {
      "name": "Simulação AD.ipynb",
      "provenance": [],
      "collapsed_sections": [],
      "include_colab_link": true
    },
    "kernelspec": {
      "name": "python3",
      "display_name": "Python 3"
    },
    "language_info": {
      "name": "python"
    }
  },
  "cells": [
    {
      "cell_type": "markdown",
      "metadata": {
        "id": "view-in-github",
        "colab_type": "text"
      },
      "source": [
        "<a href=\"https://colab.research.google.com/github/siliconemonster/AD-TrabalhoFinal/blob/main/Simula%C3%A7%C3%A3o_AD.ipynb\" target=\"_parent\"><img src=\"https://colab.research.google.com/assets/colab-badge.svg\" alt=\"Open In Colab\"/></a>"
      ]
    },
    {
      "cell_type": "markdown",
      "metadata": {
        "id": "5aTNjkgw6BQE"
      },
      "source": [
        "### Importando bibliotecas"
      ]
    },
    {
      "cell_type": "code",
      "metadata": {
        "id": "9qMnzYxPsbKS"
      },
      "source": [
        "import random\n",
        "from random import sample\n",
        "from random import random\n",
        "from matplotlib import pyplot as plt\n",
        "from matplotlib.legend_handler import HandlerLine2D\n",
        "import math\n",
        "from math import *\n",
        "import numpy as np\n",
        "from numpy import random\n",
        "import pandas as pd\n",
        "import queue "
      ],
      "execution_count": 24,
      "outputs": []
    },
    {
      "cell_type": "code",
      "metadata": {
        "id": "wvgQJ5uTGvkg"
      },
      "source": [
        "def initializeCache():  \n",
        "  cache = sample([1,2,3], k= 2)\n",
        "  return cache\n",
        "\n",
        "def cacheReceivesReqFIFO(cache, requisicao):\n",
        "  RequicaoAtendida = 0\n",
        "\n",
        "  if (requisicao in cache):\n",
        "    cache = cache\n",
        "    RequicaoAtendida = 1    \n",
        "    print(\"Cache possui requisição!\") \n",
        "\n",
        "  else:\n",
        "    cache.insert(0, requisicao)\n",
        "    del cache[-1]\n",
        "    print(\"Novo estado da cache: \" + str(cache)) \n",
        "\n",
        "  return cache, RequicaoAtendida\n",
        "\n",
        "def cacheReceivesReq_LRU(cache, requisicao):\n",
        "  RequicaoAtendida = 0\n",
        "\n",
        "  if (requisicao in cache):\n",
        "    RequicaoAtendida = 1    \n",
        "    print(\"Cache possui requisição!\")\n",
        "\n",
        "    cache.remove(requisicao)\n",
        "    cache.insert(0, requisicao)\n",
        "    print(\"Novo estado da cache: \" + str(cache)) \n",
        "\n",
        "  else:\n",
        "    cache.insert(0, requisicao)\n",
        "    del cache[-1]\n",
        "    print(\"Novo estado da cache: \" + str(cache)) \n",
        "\n",
        "  return cache, RequicaoAtendida\n",
        "\n",
        "\n",
        "def cacheReceivesReqRandom(cache, requisicao):\n",
        "  RequicaoAtendida = 0\n",
        "\n",
        "  if (requisicao in cache):\n",
        "    cache = cache\n",
        "    RequicaoAtendida = 1    \n",
        "    print(\"Cache possui requisção!\")  \n",
        "\n",
        "  else:\n",
        "    cache.insert(0, requisicao)\n",
        "    del cache[random.randint(-2,0)]\n",
        "    print(\"Novo estado da cache: \" + str(cache)) \n",
        "\n",
        "  return cache, RequicaoAtendida"
      ],
      "execution_count": 25,
      "outputs": []
    },
    {
      "cell_type": "code",
      "metadata": {
        "id": "s-aHqm-jLaIB"
      },
      "source": [
        "def simulacao_FIFO(trials):\n",
        "  queueCache1 = []\n",
        "  queueCache2 = []\n",
        "  sucesso = 0\n",
        "  mediaSucesso = 0  \n",
        "  cache1 = initializeCache()\n",
        "  cache2 = initializeCache()\n",
        "  \n",
        "  for i in range (trials):\n",
        "    RequicaoAtendida = 0\n",
        "    requisicao = random.randint(1,4)\n",
        "    print(\"Requisição: \" + str(requisicao))\n",
        "    print(\"Cache 1: \" + str(cache1))\n",
        "    print(\"Cache 2: \" + str(cache2))\n",
        "\n",
        "    cache1, RequicaoAtendida = cacheReceivesReqFIFO(cache1, requisicao)\n",
        "    cache2, RequicaoAtendida = cacheReceivesReqFIFO(cache2, requisicao)\n",
        "\n",
        "    if(RequicaoAtendida):\n",
        "      sucesso = sucesso + 1\n",
        "\n",
        "  mediaSucesso = sucesso/trials \n",
        "  print(\"Media Sucessos =\" + str(mediaSucesso))\n",
        "  return mediaSucesso\n",
        "\n",
        "\n",
        "def simulacao_LRU(trials):\n",
        "  queueCache1 = []\n",
        "  queueCache2 = []\n",
        "  sucesso = 0\n",
        "  mediaSucesso = 0  \n",
        "  cache1 = initializeCache()\n",
        "  cache2 = initializeCache()\n",
        "  \n",
        "  for i in range (trials):\n",
        "    RequicaoAtendida = 0\n",
        "    requisicao = random.randint(1,4)\n",
        "    print(\"Requisição: \" + str(requisicao))\n",
        "    print(\"Cache 1: \" + str(cache1))\n",
        "    print(\"Cache 2: \" + str(cache2))\n",
        "\n",
        "    cache1, RequicaoAtendida = cacheReceivesReq_LRU(cache1, requisicao)\n",
        "    cache2, RequicaoAtendida = cacheReceivesReq_LRU(cache2, requisicao)\n",
        "\n",
        "    if(RequicaoAtendida):\n",
        "      sucesso = sucesso + 1\n",
        "\n",
        "  mediaSucesso = sucesso/trials \n",
        "  print(\"Media Sucessos =\" + str(mediaSucesso))\n",
        "  return mediaSucesso\n",
        "\n",
        "\n",
        "def simulacao_RANDOM(trials):\n",
        "  queueCache1 = []\n",
        "  queueCache2 = []\n",
        "  sucesso = 0\n",
        "  mediaSucesso = 0  \n",
        "  cache1 = initializeCache()\n",
        "  cache2 = initializeCache()\n",
        "  \n",
        "  for i in range (trials):\n",
        "    RequicaoAtendida = 0\n",
        "    requisicao = random.randint(1,4)\n",
        "    print(\"Requisição: \" + str(requisicao))\n",
        "    print(\"Cache 1: \" + str(cache1))\n",
        "    print(\"Cache 2: \" + str(cache2))\n",
        "\n",
        "    cache1, RequicaoAtendida = cacheReceivesReqRandom(cache1, requisicao)\n",
        "    cache2, RequicaoAtendida = cacheReceivesReqRandom(cache2, requisicao)\n",
        "\n",
        "    if(RequicaoAtendida):\n",
        "      sucesso = sucesso + 1\n",
        "\n",
        "  mediaSucesso = sucesso/trials \n",
        "  print(\"Media Sucessos =\" + str(mediaSucesso))\n",
        "  return mediaSucesso\n",
        "     "
      ],
      "execution_count": 26,
      "outputs": []
    },
    {
      "cell_type": "code",
      "metadata": {
        "colab": {
          "base_uri": "https://localhost:8080/"
        },
        "id": "rnH6d_jvd2GN",
        "outputId": "8bcd2965-d44f-40a6-ce28-46316c19955e"
      },
      "source": [
        "simulacao_LRU(10)"
      ],
      "execution_count": 27,
      "outputs": [
        {
          "output_type": "stream",
          "text": [
            "Requisição: 2\n",
            "Cache 1: [3, 2]\n",
            "Cache 2: [2, 1]\n",
            "Cache possui requisição!\n",
            "Novo estado da cache: [2, 3]\n",
            "Cache possui requisição!\n",
            "Novo estado da cache: [2, 1]\n",
            "Requisição: 2\n",
            "Cache 1: [2, 3]\n",
            "Cache 2: [2, 1]\n",
            "Cache possui requisição!\n",
            "Novo estado da cache: [2, 3]\n",
            "Cache possui requisição!\n",
            "Novo estado da cache: [2, 1]\n",
            "Requisição: 2\n",
            "Cache 1: [2, 3]\n",
            "Cache 2: [2, 1]\n",
            "Cache possui requisição!\n",
            "Novo estado da cache: [2, 3]\n",
            "Cache possui requisição!\n",
            "Novo estado da cache: [2, 1]\n",
            "Requisição: 3\n",
            "Cache 1: [2, 3]\n",
            "Cache 2: [2, 1]\n",
            "Cache possui requisição!\n",
            "Novo estado da cache: [3, 2]\n",
            "Novo estado da cache: [3, 2]\n",
            "Requisição: 2\n",
            "Cache 1: [3, 2]\n",
            "Cache 2: [3, 2]\n",
            "Cache possui requisição!\n",
            "Novo estado da cache: [2, 3]\n",
            "Cache possui requisição!\n",
            "Novo estado da cache: [2, 3]\n",
            "Requisição: 2\n",
            "Cache 1: [2, 3]\n",
            "Cache 2: [2, 3]\n",
            "Cache possui requisição!\n",
            "Novo estado da cache: [2, 3]\n",
            "Cache possui requisição!\n",
            "Novo estado da cache: [2, 3]\n",
            "Requisição: 2\n",
            "Cache 1: [2, 3]\n",
            "Cache 2: [2, 3]\n",
            "Cache possui requisição!\n",
            "Novo estado da cache: [2, 3]\n",
            "Cache possui requisição!\n",
            "Novo estado da cache: [2, 3]\n",
            "Requisição: 2\n",
            "Cache 1: [2, 3]\n",
            "Cache 2: [2, 3]\n",
            "Cache possui requisição!\n",
            "Novo estado da cache: [2, 3]\n",
            "Cache possui requisição!\n",
            "Novo estado da cache: [2, 3]\n",
            "Requisição: 2\n",
            "Cache 1: [2, 3]\n",
            "Cache 2: [2, 3]\n",
            "Cache possui requisição!\n",
            "Novo estado da cache: [2, 3]\n",
            "Cache possui requisição!\n",
            "Novo estado da cache: [2, 3]\n",
            "Requisição: 1\n",
            "Cache 1: [2, 3]\n",
            "Cache 2: [2, 3]\n",
            "Novo estado da cache: [1, 2]\n",
            "Novo estado da cache: [1, 2]\n",
            "Media Sucessos =0.8\n"
          ],
          "name": "stdout"
        },
        {
          "output_type": "execute_result",
          "data": {
            "text/plain": [
              "0.8"
            ]
          },
          "metadata": {
            "tags": []
          },
          "execution_count": 27
        }
      ]
    }
  ]
}