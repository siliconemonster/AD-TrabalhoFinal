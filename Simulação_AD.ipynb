{
  "nbformat": 4,
  "nbformat_minor": 0,
  "metadata": {
    "colab": {
      "name": "Simulação AD.ipynb",
      "provenance": [],
      "collapsed_sections": [
        "5aTNjkgw6BQE",
        "xZlCfWkcrxwt",
        "KdkPXO0Ct0Mx",
        "H5x6amW7r72u",
        "F3vgL7m44jUM",
        "ID3wiy4TAcsL",
        "4GRyo7Qu8eNR",
        "SG4tshBM-cPg",
        "VEI9N73Wrj2_"
      ],
      "include_colab_link": true
    },
    "kernelspec": {
      "name": "python3",
      "display_name": "Python 3"
    },
    "language_info": {
      "name": "python"
    }
  },
  "cells": [
    {
      "cell_type": "markdown",
      "metadata": {
        "id": "view-in-github",
        "colab_type": "text"
      },
      "source": [
        "<a href=\"https://colab.research.google.com/github/siliconemonster/AD-TrabalhoFinal/blob/main/Simula%C3%A7%C3%A3o_AD.ipynb\" target=\"_parent\"><img src=\"https://colab.research.google.com/assets/colab-badge.svg\" alt=\"Open In Colab\"/></a>"
      ]
    },
    {
      "cell_type": "markdown",
      "metadata": {
        "id": "5aTNjkgw6BQE"
      },
      "source": [
        "## Importando bibliotecas"
      ]
    },
    {
      "cell_type": "code",
      "metadata": {
        "id": "9qMnzYxPsbKS"
      },
      "source": [
        "import random\n",
        "from random import sample\n",
        "from random import random\n",
        "from matplotlib import pyplot as plt\n",
        "from matplotlib.legend_handler import HandlerLine2D\n",
        "from collections import Counter\n",
        "import sympy as sy\n",
        "from numpy.linalg import matrix_power\n",
        "from fractions import Fraction\n",
        "import math\n",
        "from math import *\n",
        "import numpy as np\n",
        "from numpy import random\n",
        "import pandas as pd\n",
        "import queue \n",
        "from scipy.stats import poisson"
      ],
      "execution_count": 59,
      "outputs": []
    },
    {
      "cell_type": "markdown",
      "metadata": {
        "id": "xZlCfWkcrxwt"
      },
      "source": [
        "## Funções Auxiliares"
      ]
    },
    {
      "cell_type": "code",
      "metadata": {
        "id": "X2yM60ijtmPG"
      },
      "source": [
        "def initializeCache():  \n",
        "  cache = sample([1,2,3], k= 2)\n",
        "  return cache"
      ],
      "execution_count": null,
      "outputs": []
    },
    {
      "cell_type": "code",
      "metadata": {
        "id": "YKYi5IdttmPH"
      },
      "source": [
        "def cacheReceivesReq(caso, cache, requisicao):\n",
        "  RequicaoAtendida = 0\n",
        "  #print(\"Conteudo Requisicao: \" + str(requisicao))\n",
        "  #print(\"Cache:\" + str(cache))\n",
        "\n",
        "  if (requisicao in cache):\n",
        "    if(caso == \"FIFO\" or caso == \"Random\" or caso == \"Estatica\"):\n",
        "      cache = cache\n",
        "      RequicaoAtendida = 1    \n",
        "      #print(\"Cache possui requisção!\") \n",
        "\n",
        "    elif (caso == \"LRU\"):\n",
        "      RequicaoAtendida = 1    \n",
        "      #print(\"Cache possui requisição!\")\n",
        "\n",
        "      cache.remove(requisicao)\n",
        "      cache.insert(0, requisicao)\n",
        "      #print(\"Novo estado da cache: \" + str(cache)) \n",
        "   \n",
        "  else:\n",
        "    if (caso == \"FIFO\" or caso == \"LRU\"):\n",
        "      cache.insert(0, requisicao)\n",
        "      del cache[-1]\n",
        "      #print(\"Novo estado da cache: \" + str(cache)) \n",
        "\n",
        "    elif (caso == \"Random\"):\n",
        "      cache.insert(0, requisicao)\n",
        "      del cache[random.randint(-2,0)]\n",
        "      #print(\"Novo estado da cache: \" + str(cache)) \n",
        "\n",
        "  return cache, RequicaoAtendida"
      ],
      "execution_count": null,
      "outputs": []
    },
    {
      "cell_type": "markdown",
      "metadata": {
        "id": "KdkPXO0Ct0Mx"
      },
      "source": [
        "## I. Simulação Cenário I"
      ]
    },
    {
      "cell_type": "code",
      "metadata": {
        "id": "suVu9BaPsR72"
      },
      "source": [
        "\n",
        "def simulacaoCenario1(numRequisicoes, caso):\n",
        "\n",
        "  Requisicoes = [[1,3],[2,2],[3,1]]\n",
        "  cache1 = initializeCache()\n",
        "  cache2 = initializeCache()\n",
        "  sucessos = 0 # contador de sucessos\n",
        "  requisicoes = 0 # contador de requisições\n",
        "\n",
        "  taxa = [1/3,1/3,1/3]\n",
        "\n",
        "  while (requisicoes <= numRequisicoes):\n",
        "\n",
        "    RequicaoAtendida = 0\n",
        "\n",
        "    evento = Requisicoes[0]\n",
        "    tempoAtual = evento[0]\n",
        "    conteudo = evento[1]\n",
        "\n",
        "    print(\"Tempo \" + str(tempoAtual) + \" ocorreu requesição do tipo \" + str(conteudo))\n",
        "    print(\"Cache 1:\" + str(cache1))\n",
        "    print(\"Cache 2:\" + str(cache2))\n",
        "\n",
        "    cache1, RequicaoAtendida = cacheReceivesReq(caso, cache1, conteudo)\n",
        "    cache2, RequicaoAtendida = cacheReceivesReq(caso, cache2, conteudo)  \n",
        "\n",
        "\n",
        "    if (RequicaoAtendida):\n",
        "      sucessos = sucessos + 1\n",
        "      print(\"Requisição foi atendida yay! \\n\")\n",
        "    \n",
        "    else:\n",
        "      print(\"Requisição não foi atendida :/ ! \\n\")\n",
        "\n",
        "    del Requisicoes[0]\n",
        "\n",
        "    tempoAgendado = tempoAtual + np.random.exponential(1/taxa[conteudo-1])\n",
        "    Requisicoes.append([tempoAgendado,conteudo])  \n",
        "    Requisicoes = sorted(Requisicoes, key=lambda tup: tup[0])\n",
        "\n",
        "    requisicoes = requisicoes + 1\n",
        "    print(\"Sucessos: \" + str(sucessos))\n"
      ],
      "execution_count": null,
      "outputs": []
    },
    {
      "cell_type": "markdown",
      "metadata": {
        "id": "H5x6amW7r72u"
      },
      "source": [
        "## Implementações Antigas"
      ]
    },
    {
      "cell_type": "code",
      "metadata": {
        "id": "Mo4sZoaDxF40"
      },
      "source": [
        "def simulacaoCenario1(tipo, trials): \n",
        "    \n",
        "  mediaSucessos = []\n",
        "\n",
        "  for i in range(trials):\n",
        "\n",
        "    queueCache1 = {}\n",
        "    queueCache2 = {}\n",
        "\n",
        "    sucesso = 0\n",
        "    mediaSucesso = 0  \n",
        "\n",
        "    cache1 = initializeCache()\n",
        "    cache2 = initializeCache()\n",
        "\n",
        "    reqAtendidasC1 = []\n",
        "    reqAtendidasC2 = []\n",
        "\n",
        "\n",
        "    t = 0\n",
        "    max = 1000\n",
        "    while (t < max):\n",
        "\n",
        "      RequicaoAtendida = 0\n",
        "      requisicao = random.randint(1,4)\n",
        "\n",
        "      #print(\"Conteudo Requisitado: \" + str(requisicao))\n",
        "      #print(\"Cache 1: \" + str(cache1))\n",
        "      #print(\"Cache 2: \" + str(cache2))\n",
        "\n",
        "\n",
        "      TempoC1 = np.random.poisson(1/3,1)\n",
        "      requisicaoTempoC1 = t + TempoC1[0]\n",
        "      TempoC2 = np.random.poisson(1/3,1)\n",
        "      requisicaoTempoC2 = t + TempoC2[0]      \n",
        "\n",
        "\n",
        "      # Inserindo a requisição na fila\n",
        "      queueCache1[\"req\" + str(t)] = [requisicaoTempoC1,requisicao]\n",
        "      queueCache2[\"req\" + str(t)] = [requisicaoTempoC2,requisicao]\n",
        "      \n",
        "      # OrdenandO a Fila\n",
        "      queueCache1 = {k: v for k, v in sorted(queueCache1.items(), key=lambda item: item[1])}\n",
        "      queueCache2 = {k: v for k, v in sorted(queueCache2.items(), key=lambda item: item[1])}\n",
        "\n",
        "      #print(\"Fila cache 1:\" + str(queueCache1))\n",
        "      #print(\"Fila cache 2:\" + str(queueCache2))\n",
        "\n",
        "      while (1):\n",
        "\n",
        "        if (len(queueCache1)>0):\n",
        "          primRequisicao = list(queueCache1.keys())[0]\n",
        "          requisicao = queueCache1[primRequisicao]\n",
        "          conteudoReq = requisicao[1]          \n",
        "          tempoReeq = requisicao[0]\n",
        "\n",
        "          if (tempoReeq == t):\n",
        "            del queueCache1[primRequisicao]\n",
        "            #print(str(primRequisicao) + \" vai para a cache 1\")\n",
        "            cache1, RequicaoAtendida = cacheReceivesReq(tipo, cache1, conteudoReq)\n",
        "            if (RequicaoAtendida):\n",
        "              reqAtendidasC1.append(primRequisicao)\n",
        "              #print(\"Requisição atendida\")\n",
        "            #else:\n",
        "              #print(\"Requisição não atendida\")\n",
        "\n",
        "\n",
        "          else: break\n",
        "\n",
        "        else: break\n",
        "\n",
        "      while (1):\n",
        "\n",
        "        if(len(queueCache2)>0):\n",
        "\n",
        "          primRequisicao = list(queueCache2.keys())[0]\n",
        "          requisicao = queueCache2[primRequisicao]\n",
        "          conteudoReq = requisicao[1]\n",
        "          tempoReeq = requisicao[0]\n",
        "\n",
        "          if (tempoReeq == t):\n",
        "            del queueCache2[primRequisicao]\n",
        "            #print(str(primRequisicao) + \" vai para a cache 2\")\n",
        "            cache2, RequicaoAtendida = cacheReceivesReq(tipo, cache2, conteudoReq)\n",
        "            if (RequicaoAtendida):\n",
        "              reqAtendidasC2.append(primRequisicao)\n",
        "              #print(\"Requisição atendida\")\n",
        "            #else:\n",
        "              #print(\"Requisição não atendida\")\n",
        "\n",
        "          else: break\n",
        "        \n",
        "        else: break\n",
        "\n",
        "      #if(RequicaoAtendida):\n",
        "          #print(\"Sucesso!\")\n",
        "\n",
        "      t = t + 1\n",
        "\n",
        "      \n",
        "    #print(reqAtendidasC1)\n",
        "    #print(reqAtendidasC2)\n",
        "    reqAtendidas = list(set(reqAtendidasC1).union(set(reqAtendidasC2)))\n",
        "    #print(reqAtendidas)\n",
        "    sucessos = len(reqAtendidas)\n",
        "    #print(\"Sucessos = \" + str(sucessos))\n",
        "    mediaSucessos.append(sucessos/t)\n",
        "    \n",
        "  \n",
        "  print(\"Media Sucessos = \" + str(mediaSucessos))\n",
        "\n",
        "    \n",
        "  return mediaSucessos\n"
      ],
      "execution_count": null,
      "outputs": []
    },
    {
      "cell_type": "code",
      "metadata": {
        "colab": {
          "base_uri": "https://localhost:8080/"
        },
        "id": "YmwpbinAS2TB",
        "outputId": "3acecc91-d06d-42cf-aa78-d51e8fa1b45b"
      },
      "source": [
        "simulacaoCenario1(\"LRU\", 3)"
      ],
      "execution_count": null,
      "outputs": [
        {
          "output_type": "stream",
          "text": [
            "Media Sucessos = [0.738, 0.736, 0.705]\n"
          ],
          "name": "stdout"
        },
        {
          "output_type": "execute_result",
          "data": {
            "text/plain": [
              "[0.738, 0.736, 0.705]"
            ]
          },
          "metadata": {
            "tags": []
          },
          "execution_count": 5
        }
      ]
    },
    {
      "cell_type": "code",
      "metadata": {
        "colab": {
          "base_uri": "https://localhost:8080/"
        },
        "id": "SdcO_0Cg_9LI",
        "outputId": "5e25851d-9ed3-4a8d-fb28-fd8860a1956f"
      },
      "source": [
        "random.seed(8)\n",
        "tipo = \"FIFO\"\n",
        "\n",
        "queueCache1 = {}\n",
        "queueCache2 = {}\n",
        "\n",
        "sucesso = 0\n",
        "mediaSucesso = 0  \n",
        "\n",
        "cache1 = initializeCache()\n",
        "cache2 = initializeCache()\n",
        "t = 0\n",
        "max = 10\n",
        "while (t < max):\n",
        "\n",
        "  RequicaoAtendida = 0\n",
        "  requisicao = random.randint(1,4)\n",
        "\n",
        "  print(\"Conteudo Requisitado: \" + str(requisicao))\n",
        "  print(\"Cache 1: \" + str(cache1))\n",
        "  print(\"Cache 2: \" + str(cache2))\n",
        "\n",
        "\n",
        "  TempoC1 = np.random.poisson(1/3,1)\n",
        "  requisicaoTempoC1 = t + TempoC1[0]\n",
        "  TempoC2 = np.random.poisson(1/3,1)\n",
        "  requisicaoTempoC2 = t + TempoC2[0]      \n",
        "\n",
        "\n",
        "  # Inserindo a requisição na fila\n",
        "  queueCache1[\"req\" + str(t)] = [requisicaoTempoC1,requisicao]\n",
        "  queueCache2[\"req\" + str(t)] = [requisicaoTempoC2,requisicao]\n",
        "  \n",
        "  # OrdenandO a Fila\n",
        "  queueCache1 = {k: v for k, v in sorted(queueCache1.items(), key=lambda item: item[1])}\n",
        "  queueCache2 = {k: v for k, v in sorted(queueCache2.items(), key=lambda item: item[1])}\n",
        "\n",
        "  print(\"Fila cache 1:\" + str(queueCache1))\n",
        "  print(\"Fila cache 2:\" + str(queueCache2))\n",
        "\n",
        "  while (1):\n",
        "\n",
        "    if (len(queueCache1)>0):\n",
        "      primRequisicao = list(queueCache1.keys())[0]\n",
        "      requisicao = queueCache1[primRequisicao]\n",
        "      conteudoReq = requisicao[1]\n",
        "      tempoReeq = requisicao[0]\n",
        "\n",
        "      if (tempoReeq == t):\n",
        "        del queueCache1[primRequisicao]\n",
        "        print(str(primRequisicao) + \" vai para a cache 1\")\n",
        "        cache1, RequicaoAtendida = cacheReceivesReq(tipo, cache1, conteudoReq)\n",
        "        if (RequicaoAtendida):\n",
        "          print(\"Requisição atendida\")\n",
        "        else:\n",
        "          print(\"Requisição não atendida\")\n",
        "\n",
        "\n",
        "      else: break\n",
        "\n",
        "    else: break\n",
        "\n",
        "  while (1):\n",
        "\n",
        "    if(len(queueCache2)>0):\n",
        "\n",
        "      primRequisicao = list(queueCache2.keys())[0]\n",
        "      requisicao = queueCache2[primRequisicao]\n",
        "      conteudoReq = requisicao[1]\n",
        "      tempoReeq = requisicao[0]\n",
        "\n",
        "      if (tempoReeq == t):\n",
        "        del queueCache2[primRequisicao]\n",
        "        print(str(primRequisicao) + \" vai para a cache 2\")\n",
        "        cache2, RequicaoAtendida = cacheReceivesReq(tipo, cache2, conteudoReq)\n",
        "        if (RequicaoAtendida):\n",
        "          print(\"Requisição atendida\")\n",
        "        else:\n",
        "          print(\"Requisição não atendida\")\n",
        "\n",
        "      else: break\n",
        "    \n",
        "    else: break\n",
        "\n",
        "  if(RequicaoAtendida):\n",
        "      print(\"Sucesso!\")\n",
        "      sucesso = sucesso + 1  \n",
        "\n",
        "  t = t + 1\n",
        "  print(\"\")"
      ],
      "execution_count": null,
      "outputs": [
        {
          "output_type": "stream",
          "text": [
            "Conteudo Requisitado: 1\n",
            "Cache 1: [1, 3]\n",
            "Cache 2: [3, 2]\n",
            "Fila cache 1:{'req0': [2, 1]}\n",
            "Fila cache 2:{'req0': [0, 1]}\n",
            "req0 vai para a cache 2\n",
            "Requisição não atendida\n",
            "\n",
            "Conteudo Requisitado: 1\n",
            "Cache 1: [1, 3]\n",
            "Cache 2: [1, 3]\n",
            "Fila cache 1:{'req1': [1, 1], 'req0': [2, 1]}\n",
            "Fila cache 2:{'req1': [2, 1]}\n",
            "req1 vai para a cache 1\n",
            "Requisição atendida\n",
            "Sucesso!\n",
            "\n",
            "Conteudo Requisitado: 1\n",
            "Cache 1: [1, 3]\n",
            "Cache 2: [1, 3]\n",
            "Fila cache 1:{'req0': [2, 1], 'req2': [3, 1]}\n",
            "Fila cache 2:{'req1': [2, 1], 'req2': [2, 1]}\n",
            "req0 vai para a cache 1\n",
            "Requisição atendida\n",
            "req1 vai para a cache 2\n",
            "Requisição atendida\n",
            "req2 vai para a cache 2\n",
            "Requisição atendida\n",
            "Sucesso!\n",
            "\n",
            "Conteudo Requisitado: 3\n",
            "Cache 1: [1, 3]\n",
            "Cache 2: [1, 3]\n",
            "Fila cache 1:{'req2': [3, 1], 'req3': [4, 3]}\n",
            "Fila cache 2:{'req3': [3, 3]}\n",
            "req2 vai para a cache 1\n",
            "Requisição atendida\n",
            "req3 vai para a cache 2\n",
            "Requisição atendida\n",
            "Sucesso!\n",
            "\n",
            "Conteudo Requisitado: 1\n",
            "Cache 1: [1, 3]\n",
            "Cache 2: [1, 3]\n",
            "Fila cache 1:{'req3': [4, 3], 'req4': [5, 1]}\n",
            "Fila cache 2:{'req4': [4, 1]}\n",
            "req3 vai para a cache 1\n",
            "Requisição atendida\n",
            "req4 vai para a cache 2\n",
            "Requisição atendida\n",
            "Sucesso!\n",
            "\n",
            "Conteudo Requisitado: 3\n",
            "Cache 1: [1, 3]\n",
            "Cache 2: [1, 3]\n",
            "Fila cache 1:{'req4': [5, 1], 'req5': [5, 3]}\n",
            "Fila cache 2:{'req5': [5, 3]}\n",
            "req4 vai para a cache 1\n",
            "Requisição atendida\n",
            "req5 vai para a cache 1\n",
            "Requisição atendida\n",
            "req5 vai para a cache 2\n",
            "Requisição atendida\n",
            "Sucesso!\n",
            "\n",
            "Conteudo Requisitado: 2\n",
            "Cache 1: [1, 3]\n",
            "Cache 2: [1, 3]\n",
            "Fila cache 1:{'req6': [6, 2]}\n",
            "Fila cache 2:{'req6': [6, 2]}\n",
            "req6 vai para a cache 1\n",
            "Requisição não atendida\n",
            "req6 vai para a cache 2\n",
            "Requisição não atendida\n",
            "\n",
            "Conteudo Requisitado: 1\n",
            "Cache 1: [2, 1]\n",
            "Cache 2: [2, 1]\n",
            "Fila cache 1:{'req7': [7, 1]}\n",
            "Fila cache 2:{'req7': [8, 1]}\n",
            "req7 vai para a cache 1\n",
            "Requisição atendida\n",
            "Sucesso!\n",
            "\n",
            "Conteudo Requisitado: 2\n",
            "Cache 1: [2, 1]\n",
            "Cache 2: [2, 1]\n",
            "Fila cache 1:{'req8': [9, 2]}\n",
            "Fila cache 2:{'req7': [8, 1], 'req8': [8, 2]}\n",
            "req7 vai para a cache 2\n",
            "Requisição atendida\n",
            "req8 vai para a cache 2\n",
            "Requisição atendida\n",
            "Sucesso!\n",
            "\n",
            "Conteudo Requisitado: 3\n",
            "Cache 1: [2, 1]\n",
            "Cache 2: [2, 1]\n",
            "Fila cache 1:{'req8': [9, 2], 'req9': [9, 3]}\n",
            "Fila cache 2:{'req9': [9, 3]}\n",
            "req8 vai para a cache 1\n",
            "Requisição atendida\n",
            "req9 vai para a cache 1\n",
            "Requisição não atendida\n",
            "req9 vai para a cache 2\n",
            "Requisição não atendida\n",
            "\n"
          ],
          "name": "stdout"
        }
      ]
    },
    {
      "cell_type": "code",
      "metadata": {
        "id": "SCHbJ8UVpCpy"
      },
      "source": [
        "def simulacaoCenario2(tipo, trials):\n",
        "  queueCache1 = {}\n",
        "  queueCache2 = {}\n",
        "  sucesso = 0\n",
        "  mediaSucesso = 0  \n",
        "  cache1 = initializeCache()\n",
        "  cache2 = initializeCache()\n",
        "  usermiss = 0\n",
        "\n",
        "  \n",
        "  for i in range (trials):\n",
        "    RequicaoAtendida = 0\n",
        "\n",
        "    canal1 = random.rand()\n",
        "    canal1falhou = 1\n",
        "    sucessoc1 = 0\n",
        "    requisicao = random.randint(1,4) \n",
        "\n",
        "    #print(\"\\n Requisição: \" + str(requisicao))\n",
        "    #print(\"Cache 1: \" + str(cache1))\n",
        "    #print(\"Cache 2: \" + str(cache2))\n",
        "\n",
        "    if(canal1 <= 0.9):\n",
        "      cache1, RequicaoAtendida = cacheReceivesReq(tipo, cache1, requisicao)\n",
        "    #else:\n",
        "     # print(\"Canal Falhou\")\n",
        "\n",
        "    canal2 = random.rand()\n",
        "    if(canal2 <= 0.9):        \n",
        "      cache2, RequicaoAtendida = cacheReceivesReq(tipo, cache2, requisicao)\n",
        "    #else:\n",
        "     # print(\"Canal Falhou\")\n",
        "\n",
        "    if(RequicaoAtendida):\n",
        "      sucesso = sucesso + 1\n",
        "\n",
        "    else:\n",
        "      usermiss = usermiss + 1\n",
        "  print(\"Media Sucessos = \" + str(sucesso/trials)) \n",
        "  print(\"Usermiss = \" + str(usermiss))\n",
        "  print(\"Media Usermiss = \" + str(usermiss/trials))"
      ],
      "execution_count": null,
      "outputs": []
    },
    {
      "cell_type": "code",
      "metadata": {
        "id": "tRDNIWj52M0F"
      },
      "source": [
        "simulacaoCenario1(\"FIFO\", 100000)"
      ],
      "execution_count": null,
      "outputs": []
    },
    {
      "cell_type": "code",
      "metadata": {
        "id": "Gv0eFTYyCEuy"
      },
      "source": [
        "simulacaoCenario1(\"LRU\", 100000)"
      ],
      "execution_count": null,
      "outputs": []
    },
    {
      "cell_type": "code",
      "metadata": {
        "id": "wGdrCsefCUc8"
      },
      "source": [
        "simulacaoCenario1(\"Random\", 100000)"
      ],
      "execution_count": null,
      "outputs": []
    },
    {
      "cell_type": "code",
      "metadata": {
        "id": "4HMg7hOnr438"
      },
      "source": [
        "simulacaoCenario2(\"FIFO\", 100000)"
      ],
      "execution_count": null,
      "outputs": []
    },
    {
      "cell_type": "markdown",
      "metadata": {
        "id": "BJVKHwXVt2V6"
      },
      "source": [
        "## Parte Analítica"
      ]
    },
    {
      "cell_type": "code",
      "metadata": {
        "id": "rMWbSFqi_GAh"
      },
      "source": [
        "#matrix_power(markovCasoFIFO, 10000).round(decimals=2)\n",
        "#matrix_power(markovCasoLRU, 10000).round(decimals=2)\n",
        "#matrix_power(markovCasoRandom, 10000).round(decimals=2)"
      ],
      "execution_count": null,
      "outputs": []
    },
    {
      "cell_type": "markdown",
      "metadata": {
        "id": "L94gjOxJigqZ"
      },
      "source": [
        "### Cenário 1\n",
        "\n"
      ]
    },
    {
      "cell_type": "markdown",
      "metadata": {
        "id": "oBXzvgMIvJd2"
      },
      "source": [
        "Determinamos matrizes de transição dos tipos FIFO, LRU e Random para realizar as nossas análises por cadeias de Markov.<br>\n",
        "Não ocorre de haver dois conteúdos iguais em uma mesma cache, então nunca teremos os estados AA, BB ou CC. Com isso, a matriz FIFO e a matriz LRU possuem os estados AB, AC, BA, BC, CA e CB. Já a matriz Random possui os estados AB, AC e BC (como o conteúdo é removido aleatoriamente, não importa a ordem, por exemplo se é AB ou BA, e por isso temos apenas esses 3 estados)."
      ]
    },
    {
      "cell_type": "markdown",
      "metadata": {
        "id": "zz5oYxmEsL2x"
      },
      "source": [
        "Aqui calcularemos a probabilidade de sucesso utilizando cadeias de Markov para comprovar analíticamente o que fizemos na simulação."
      ]
    },
    {
      "cell_type": "markdown",
      "metadata": {
        "id": "F3vgL7m44jUM"
      },
      "source": [
        "#### Funções"
      ]
    },
    {
      "cell_type": "code",
      "metadata": {
        "id": "dbpS_QE_gz0d"
      },
      "source": [
        "# declaração das probabilidades de sair cada tipo de requisção\n",
        "prob = [[\"A\",1/3], [\"B\",1/3], [\"C\",1/3]]"
      ],
      "execution_count": 195,
      "outputs": []
    },
    {
      "cell_type": "code",
      "metadata": {
        "id": "EPVt8yZVATok"
      },
      "source": [
        "# Função para calcular a distribuição estacionária de uma cadeia de Markov por meio de uma matriz de transição P\n",
        "def dist_estacionaria(P):\n",
        "  evals, evecs = np.linalg.eig(P.T) #We have to transpose so that Markov transitions correspond to right multiplying by a column vector.  np.linalg.eig finds right eigenvectors.\n",
        "  evec1 = evecs[:,np.isclose(evals, 1)]\n",
        "  evec1 = evec1[:,0]\n",
        "  stationary = evec1 / evec1.sum()\n",
        "  stationary = stationary.real # parte real (acha autovalores e autovetores complexos)\n",
        "\n",
        "  #print(stationary)\n",
        "  return stationary"
      ],
      "execution_count": 144,
      "outputs": []
    },
    {
      "cell_type": "code",
      "metadata": {
        "id": "4X3QBwO1uXCa"
      },
      "source": [
        "# Função para transformar a distribuição estacionária em uma tupla\n",
        "def forma_tupla(P):\n",
        "  estacionaria_nomes = copy.deepcopy(estados)\n",
        "  estacionaria_valores = dist_estacionaria(P)\n",
        "\n",
        "  for i in range (len(estacionaria_valores)):\n",
        "    estacionaria_nomes[i].append(estacionaria_valores[i])\n",
        "\n",
        "  print(\"A distribuição estacionária é dada por: \" + str(estacionaria_nomes))\n",
        "  return estacionaria_nomes"
      ],
      "execution_count": 145,
      "outputs": []
    },
    {
      "cell_type": "code",
      "metadata": {
        "id": "6267-b-EiSDY"
      },
      "source": [
        "# Função para calcular a probabilidade de sucesso em uma única cache\n",
        "def calcula_sucesso(P):\n",
        "  estacionaria = forma_tupla(P)\n",
        "  sucesso = 0\n",
        "  for i in range(len(prob)):\n",
        "    for j in range(len(estacionaria)):\n",
        "      \n",
        "      if (prob[i][0] in estacionaria[j][0]):\n",
        "        #print(\"\\nPi_\" + str(estacionaria[j][0])+\" * P(\" + str(prob[i][0]) + \")\")\n",
        "        #print(str(estacionaria[j][1])+\" * \" + str(prob[i][1]))\n",
        "        sucesso = sucesso + (prob[i][1]*estacionaria[j][1])\n",
        "        #print(\"Sucesso: \" + str(sucesso))\n",
        "  \n",
        "  return sucesso"
      ],
      "execution_count": 199,
      "outputs": []
    },
    {
      "cell_type": "code",
      "metadata": {
        "id": "HYS57W7OzoDf"
      },
      "source": [
        "# Função para calcular sucesso em ambas as caches \n",
        "def sucesso_total(P):\n",
        "  sucesso = 0\n",
        "  falha_uma = 0\n",
        "  sucesso_uma = calcula_sucesso(P)\n",
        "  falha_uma = 1 - sucesso_uma\n",
        "\n",
        "  # Stot = S*S + S*F (OU A ORDEM IMPORTA??? 2*S*F???)\n",
        "  sucesso = sucesso_uma * sucesso_uma + sucesso_uma * falha_uma\n",
        "  falha = 1 - sucesso\n",
        "  print(\"A probabilidade de sucesso é de \" + str(sucesso))\n",
        "  return sucesso"
      ],
      "execution_count": 147,
      "outputs": []
    },
    {
      "cell_type": "markdown",
      "metadata": {
        "id": "SIa_whUE4oy5"
      },
      "source": [
        "####Casos com 3 conteúdos"
      ]
    },
    {
      "cell_type": "code",
      "metadata": {
        "colab": {
          "base_uri": "https://localhost:8080/"
        },
        "id": "-oZKmyja3cRx",
        "outputId": "84ccb789-bdd7-4da7-f121-ff02a8cbe172"
      },
      "source": [
        "#Caso FIFO\n",
        "estados = [[\"AB\"], [\"AC\"], [\"BA\"], [\"BC\"], [\"CA\"], [\"CB\"]] \n",
        "markovCasoFIFO = np.array([[2/3, 0, 0, 0,1/3,0], \n",
        "                           [0, 2/3, 1/3, 0,0,0],\n",
        "                           [0, 0, 2/3, 0,0,1/3],\n",
        "                           [1/3, 0,0,2/3,0,0],\n",
        "                           [0, 0, 0, 1/3,2/3,0],\n",
        "                           [0, 1/3, 0, 0,0,2/3]])\n",
        "\n",
        "sucesso_total(markovCasoFIFO)"
      ],
      "execution_count": 151,
      "outputs": [
        {
          "output_type": "stream",
          "text": [
            "A distribuição estacionária é dada por: [['AB', 0.3333333333333337], ['AC', 0.0], ['BA', 0.0], ['BC', 0.33333333333333337], ['CA', 0.3333333333333329], ['CB', 0.0]]\n",
            "A probabilidade de sucesso é de 0.6666666666666666\n"
          ],
          "name": "stdout"
        },
        {
          "output_type": "execute_result",
          "data": {
            "text/plain": [
              "0.6666666666666666"
            ]
          },
          "metadata": {
            "tags": []
          },
          "execution_count": 151
        }
      ]
    },
    {
      "cell_type": "code",
      "metadata": {
        "colab": {
          "base_uri": "https://localhost:8080/"
        },
        "id": "oTJlwpbS3mhl",
        "outputId": "369ef9ee-6f1a-4255-a069-3c7eeb3884d3"
      },
      "source": [
        "#Caso LRU\n",
        "estados = [[\"AB\"], [\"AC\"], [\"BA\"], [\"BC\"], [\"CA\"], [\"CB\"]]\n",
        "markovCasoLRU  = np.array([[1/3, 0, 1/3, 0,1/3,0], \n",
        "                           [0, 1/3, 1/3, 0,1/3,0],\n",
        "                           [1/3, 0, 1/3, 0,0,1/3],\n",
        "                           [1/3, 0,0,1/3,0,1/3],\n",
        "                           [0, 1/3, 0, 1/3,1/3,0],\n",
        "                           [0, 1/3, 0, 1/3,0,1/3]])\n",
        "\n",
        "sucesso_total(markovCasoLRU)"
      ],
      "execution_count": 152,
      "outputs": [
        {
          "output_type": "stream",
          "text": [
            "A distribuição estacionária é dada por: [['AB', 0.16666666666666674], ['AC', 0.1666666666666666], ['BA', 0.16666666666666674], ['BC', 0.1666666666666666], ['CA', 0.16666666666666674], ['CB', 0.1666666666666666]]\n",
            "A probabilidade de sucesso é de 0.6666666666666667\n"
          ],
          "name": "stdout"
        },
        {
          "output_type": "execute_result",
          "data": {
            "text/plain": [
              "0.6666666666666667"
            ]
          },
          "metadata": {
            "tags": []
          },
          "execution_count": 152
        }
      ]
    },
    {
      "cell_type": "code",
      "metadata": {
        "colab": {
          "base_uri": "https://localhost:8080/"
        },
        "id": "Hjx9te1O3qx-",
        "outputId": "cf22fb06-0b25-49b5-8ad1-6f745b06e677"
      },
      "source": [
        "#Caso RANDOM\n",
        "estados = [[\"AB\"], [\"AC\"], [\"BC\"]]\n",
        "markovCasoRandom = np.array([[2/3, 1/6, 1/6], \n",
        "                             [1/6, 2/3, 1/6],\n",
        "                             [1/6, 1/6, 2/3]])\n",
        "sucesso_total(markovCasoRandom)"
      ],
      "execution_count": 153,
      "outputs": [
        {
          "output_type": "stream",
          "text": [
            "A distribuição estacionária é dada por: [['AB', 0.3333333333333333], ['AC', 0.33333333333333337], ['BC', 0.3333333333333333]]\n",
            "A probabilidade de sucesso é de 0.6666666666666667\n"
          ],
          "name": "stdout"
        },
        {
          "output_type": "execute_result",
          "data": {
            "text/plain": [
              "0.6666666666666667"
            ]
          },
          "metadata": {
            "tags": []
          },
          "execution_count": 153
        }
      ]
    },
    {
      "cell_type": "code",
      "metadata": {
        "colab": {
          "base_uri": "https://localhost:8080/"
        },
        "id": "PERQI2APKYRc",
        "outputId": "c585ebe6-b7e7-4a0d-b4f9-eb6cbc2675d8"
      },
      "source": [
        "#Caso Estático\n",
        "estados = [[\"AB\"], [\"AC\"], [\"BA\"]]\n",
        "markovCasoEstatico  = np.array([[1, 0, 0], \n",
        "                                [0, 1, 0],\n",
        "                                [0, 0, 1]])\n",
        "\n",
        "calcula_sucesso(markovCasoEstatico)\n",
        "# o motivo de calcularmos o sucesso de apenas uma é que como as caches começam\n",
        "# iguais, e não há mudanças no meio do caminho. Por esse motivo, utilizamos a \n",
        "# função calcula_sucesso()"
      ],
      "execution_count": 200,
      "outputs": [
        {
          "output_type": "stream",
          "text": [
            "A distribuição estacionária é dada por: [['AB', 1.0], ['AC', 0.0], ['BA', 0.0]]\n"
          ],
          "name": "stdout"
        },
        {
          "output_type": "execute_result",
          "data": {
            "text/plain": [
              "0.6666666666666666"
            ]
          },
          "metadata": {
            "tags": []
          },
          "execution_count": 200
        }
      ]
    },
    {
      "cell_type": "markdown",
      "metadata": {
        "id": "ID3wiy4TAcsL"
      },
      "source": [
        "####Casos com 4 Conteúdos"
      ]
    },
    {
      "cell_type": "code",
      "metadata": {
        "id": "btrzFXRyAcsU"
      },
      "source": [
        "# declaração das probabilidades de sair cada tipo de requisção\n",
        "prob = [[\"A\",1/4], [\"B\",1/4], [\"C\",1/4], [\"D\",1/4]]"
      ],
      "execution_count": 201,
      "outputs": []
    },
    {
      "cell_type": "code",
      "metadata": {
        "colab": {
          "base_uri": "https://localhost:8080/"
        },
        "id": "u2VUI-9FAcsV",
        "outputId": "8648ff6e-bb2a-4e23-839a-9e80009fbb02"
      },
      "source": [
        "#Caso FIFO\n",
        "estados = [[\"AB\"], [\"AC\"], [\"AD\"], [\"BA\"], [\"BC\"], [\"BD\"], [\"CA\"], [\"CB\"], [\"CD\"], [\"DA\"], [\"DB\"], [\"DC\"]] \n",
        "markovCasoFIFO = np.array([[2/4, 0, 0, 0, 0, 0, 1/4, 0, 0, 1/4, 0, 0],\n",
        "                           [0, 2/4, 0, 1/4, 0, 0, 0, 0, 0, 1/4, 0, 0],\n",
        "                           [0, 0, 2/4, 1/4, 0, 0, 1/4, 0, 0, 0, 0, 0],\n",
        "                           [0, 0, 0, 2/4, 0, 0, 0, 1/4, 0, 0, 1/4, 0],\n",
        "                           [1/4, 0, 0, 0, 2/4, 0, 0, 0, 0, 0, 1/4, 0],\n",
        "                           [1/4, 0, 0, 0, 0, 2/4, 0, 1/4, 0, 0, 0, 0],\n",
        "                           [0, 0, 0, 0, 1/4, 0, 2/4, 0, 0, 0, 0, 1/4],\n",
        "                           [0, 1/4, 0, 0, 2/4, 0, 0, 0, 1/4, 0, 0, 0],\n",
        "                           [0, 1/4, 0, 0, 1/4, 0, 0, 0, 2/4, 0, 0, 0],\n",
        "                           [0, 0, 0, 0, 0, 1/4, 0, 0, 1/4, 2/4, 0, 0],\n",
        "                           [0, 0, 1/4, 0, 0, 0, 0, 0, 1/4, 0, 2/4, 0],\n",
        "                           [0, 0, 1/4, 0, 0, 1/4, 0, 0, 0, 0, 0, 2/4]])\n",
        "\n",
        "sucesso_total(markovCasoFIFO)"
      ],
      "execution_count": 202,
      "outputs": [
        {
          "output_type": "stream",
          "text": [
            "A distribuição estacionária é dada por: [['AB', 0.10087719298245611], ['AC', 0.07456140350877184], ['AD', 0.0745614035087719], ['BA', 0.07456140350877193], ['BC', 0.1359649122807018], ['BD', 0.06578947368421058], ['CA', 0.08771929824561402], ['CB', 0.0350877192982456], ['CD', 0.11403508771929839], ['DA', 0.08771929824561393], ['DB', 0.10526315789473685], ['DC', 0.04385964912280704]]\n",
            "A probabilidade de sucesso é de 0.5\n"
          ],
          "name": "stdout"
        },
        {
          "output_type": "execute_result",
          "data": {
            "text/plain": [
              "0.5"
            ]
          },
          "metadata": {
            "tags": []
          },
          "execution_count": 202
        }
      ]
    },
    {
      "cell_type": "code",
      "metadata": {
        "colab": {
          "base_uri": "https://localhost:8080/"
        },
        "id": "yhXaMLHlAcsV",
        "outputId": "d5de7127-15f8-42a1-ac13-5bb5f0f08375"
      },
      "source": [
        "#Caso LRU\n",
        "estados = [[\"AB\"], [\"AC\"], [\"AD\"] , [\"BA\"], [\"BC\"], [\"BD\"] , [\"CA\"], [\"CB\"], [\"CD\"], [\"DA\"], [\"DB\"], [\"DC\"]] \n",
        "markovCasoLRU  = np.array([[2/4, 0, 0, 0, 0, 0, 1/4, 0, 0, 1/4, 0, 0],\n",
        "                           [0, 2/4, 0, 1/4, 0, 0, 0, 0, 0, 1/4, 0, 0],\n",
        "                           [0, 0, 2/4, 1/4, 0, 0, 1/4, 0, 0, 0, 0, 0],\n",
        "                           [0, 0, 0, 2/4, 0, 0, 0, 1/4, 0, 0, 1/4, 0],\n",
        "                           [1/4, 0, 0, 0, 2/4, 0, 0, 0, 0, 0, 1/4, 0],\n",
        "                           [1/4, 0, 0, 0, 0, 2/4, 0, 1/4, 0, 0, 0, 0],\n",
        "                           [0, 0, 0, 0, 1/4, 0, 2/4, 0, 0, 0, 0, 1/4],\n",
        "                           [0, 1/4, 0, 0, 2/4, 0, 0, 0, 1/4, 0, 0, 0],\n",
        "                           [0, 1/4, 0, 0, 1/4, 0, 0, 0, 2/4, 0, 0, 0],\n",
        "                           [0, 0, 0, 0, 0, 1/4, 0, 0, 1/4, 2/4, 0, 0],\n",
        "                           [0, 0, 1/4, 0, 0, 0, 0, 0, 1/4, 0, 2/4, 0],\n",
        "                           [0, 0, 1/4, 0, 0, 1/4, 0, 0, 0, 0, 0, 2/4]])\n",
        "\n",
        "sucesso_total(markovCasoLRU)"
      ],
      "execution_count": 203,
      "outputs": [
        {
          "output_type": "stream",
          "text": [
            "A distribuição estacionária é dada por: [['AB', 0.10087719298245611], ['AC', 0.07456140350877184], ['AD', 0.0745614035087719], ['BA', 0.07456140350877193], ['BC', 0.1359649122807018], ['BD', 0.06578947368421058], ['CA', 0.08771929824561402], ['CB', 0.0350877192982456], ['CD', 0.11403508771929839], ['DA', 0.08771929824561393], ['DB', 0.10526315789473685], ['DC', 0.04385964912280704]]\n",
            "A probabilidade de sucesso é de 0.5\n"
          ],
          "name": "stdout"
        },
        {
          "output_type": "execute_result",
          "data": {
            "text/plain": [
              "0.5"
            ]
          },
          "metadata": {
            "tags": []
          },
          "execution_count": 203
        }
      ]
    },
    {
      "cell_type": "code",
      "metadata": {
        "colab": {
          "base_uri": "https://localhost:8080/"
        },
        "id": "yBD9dMuKAcsV",
        "outputId": "73a7068e-2bf2-4106-f08c-5e560857e9e6"
      },
      "source": [
        "#Caso RANDOM\n",
        "estados = [[\"AB\"], [\"AC\"], [\"AD\"] , [\"BC\"], [\"BD\"], [\"CD\"]]\n",
        "markovCasoRandom = np.array([[2/4, 1/8, 1/8, 1/8, 1/8, 0],\n",
        "                             [1/8, 2/4, 1/8, 1/8, 0, 1/8],\n",
        "                             [1/8, 1/8, 2/4, 0, 1/8, 1/8],\n",
        "                             [1/8, 1/8, 0, 2/4, 1/8, 1/8],\n",
        "                             [1/8, 0, 1/8, 1/8, 2/4, 1/8],\n",
        "                             [0, 1/8, 1/8, 1/8, 1/8, 2/4]])\n",
        "sucesso_total(markovCasoRandom)"
      ],
      "execution_count": 204,
      "outputs": [
        {
          "output_type": "stream",
          "text": [
            "A distribuição estacionária é dada por: [['AB', 0.16666666666666669], ['AC', 0.16666666666666655], ['AD', 0.16666666666666666], ['BC', 0.16666666666666666], ['BD', 0.16666666666666666], ['CD', 0.16666666666666669]]\n",
            "A probabilidade de sucesso é de 0.5\n"
          ],
          "name": "stdout"
        },
        {
          "output_type": "execute_result",
          "data": {
            "text/plain": [
              "0.5"
            ]
          },
          "metadata": {
            "tags": []
          },
          "execution_count": 204
        }
      ]
    },
    {
      "cell_type": "code",
      "metadata": {
        "colab": {
          "base_uri": "https://localhost:8080/"
        },
        "id": "6lH2WRBzOYeE",
        "outputId": "16344919-45b6-4a2a-c3d8-16e7117f4de9"
      },
      "source": [
        "#Caso Estático\n",
        "estados = [[\"AB\"], [\"AC\"], [\"BA\"]]\n",
        "markovCasoEstatico  = np.array([[1, 0, 0], \n",
        "                                [0, 1, 0],\n",
        "                                [0, 0, 1]])\n",
        "\n",
        "calcula_sucesso(markovCasoEstatico)"
      ],
      "execution_count": 205,
      "outputs": [
        {
          "output_type": "stream",
          "text": [
            "A distribuição estacionária é dada por: [['AB', 1.0], ['AC', 0.0], ['BA', 0.0]]\n"
          ],
          "name": "stdout"
        },
        {
          "output_type": "execute_result",
          "data": {
            "text/plain": [
              "0.5"
            ]
          },
          "metadata": {
            "tags": []
          },
          "execution_count": 205
        }
      ]
    },
    {
      "cell_type": "markdown",
      "metadata": {
        "id": "ToFXNIAv8eNI"
      },
      "source": [
        "### Cenário 2\n",
        "\n"
      ]
    },
    {
      "cell_type": "markdown",
      "metadata": {
        "id": "V3Ylp3ue8eNQ"
      },
      "source": [
        "Temos as mesmas matrizes e os mesmos estados do cenário 1."
      ]
    },
    {
      "cell_type": "markdown",
      "metadata": {
        "id": "VSrhF4M18eNQ"
      },
      "source": [
        "Aqui calcularemos a probabilidade de sucesso utilizando cadeias de Markov para comprovar analíticamente o que fizemos na simulação."
      ]
    },
    {
      "cell_type": "markdown",
      "metadata": {
        "id": "MXCb5PwF8eNQ"
      },
      "source": [
        "#### Funções"
      ]
    },
    {
      "cell_type": "code",
      "metadata": {
        "id": "vXXIrTJy8eNR"
      },
      "source": [
        "# Função para calcular a distribuição estacionária de uma cadeia de Markov por meio de uma matriz de transição P\n",
        "def dist_estacionaria(P):\n",
        "  evals, evecs = np.linalg.eig(P.T) #We have to transpose so that Markov transitions correspond to right multiplying by a column vector.  np.linalg.eig finds right eigenvectors.\n",
        "  evec1 = evecs[:,np.isclose(evals, 1)]\n",
        "  evec1 = evec1[:,0]\n",
        "  stationary = evec1 / evec1.sum()\n",
        "  stationary = stationary.real # parte real (acha autovalores e autovetores complexos)\n",
        "\n",
        "  #print(stationary)\n",
        "  return stationary"
      ],
      "execution_count": null,
      "outputs": []
    },
    {
      "cell_type": "code",
      "metadata": {
        "id": "03mi7tgo8eNR"
      },
      "source": [
        "# Função para transformar a distribuição estacionária em uma tupla\n",
        "def forma_tupla(P):\n",
        "  estacionaria_nomes = copy.deepcopy(estados)\n",
        "  estacionaria_valores = dist_estacionaria(P)\n",
        "\n",
        "  for i in range (len(estacionaria_valores)):\n",
        "    estacionaria_nomes[i].append(estacionaria_valores[i])\n",
        "\n",
        "  print(\"A distribuição estacionária é dada por: \" + str(estacionaria_nomes))\n",
        "  return estacionaria_nomes"
      ],
      "execution_count": null,
      "outputs": []
    },
    {
      "cell_type": "code",
      "metadata": {
        "id": "4Bg7vjoY8eNR"
      },
      "source": [
        "# Função para calcular a probabilidade de sucesso em uma única cache\n",
        "def calcula_sucesso(P):\n",
        "  estacionaria = forma_tupla(P)\n",
        "  sucesso = 0\n",
        "  for i in range(len(prob)):\n",
        "    for j in range(len(estacionaria)):\n",
        "      \n",
        "      if (prob[i][0] in estacionaria[j][0]):\n",
        "        #print(\"\\nPi_\" + str(estacionaria[j][0])+\" * P(\" + str(prob[i][0]) + \")\")\n",
        "        #print(str(estacionaria[j][1])+\" * \" + str(prob[i][1]))\n",
        "        sucesso = sucesso + (prob[i][1]*estacionaria[j][1])\n",
        "        #print(\"Sucesso: \" + str(sucesso))\n",
        "  \n",
        "  return sucesso"
      ],
      "execution_count": null,
      "outputs": []
    },
    {
      "cell_type": "code",
      "metadata": {
        "id": "O-fnOsU28eNR"
      },
      "source": [
        "# Função para calcular sucesso em ambas as caches \n",
        "def sucesso_total(P):\n",
        "  sucesso = 0\n",
        "  falha_uma = 0\n",
        "  sucesso_uma = calcula_sucesso(P)\n",
        "  falha_uma = 1 - sucesso_uma\n",
        "\n",
        "  # Stot = S*S + S*F (OU A ORDEM IMPORTA??? 2*S*F???)\n",
        "  sucesso = sucesso_uma * sucesso_uma + sucesso_uma * falha_uma\n",
        "  falha = 1 - sucesso\n",
        "  print(\"A probabilidade de sucesso é de \" + str(sucesso))\n",
        "  return sucesso"
      ],
      "execution_count": null,
      "outputs": []
    },
    {
      "cell_type": "markdown",
      "metadata": {
        "id": "4GRyo7Qu8eNR"
      },
      "source": [
        "####Casos com 3 Conteúdos"
      ]
    },
    {
      "cell_type": "code",
      "metadata": {
        "id": "sbwjZ_Tk8eNQ"
      },
      "source": [
        "# declaração das probabilidades de sair cada tipo de requisção\n",
        "prob = [[\"A\",1/3], [\"B\",1/3], [\"C\",1/3]]"
      ],
      "execution_count": 154,
      "outputs": []
    },
    {
      "cell_type": "code",
      "metadata": {
        "colab": {
          "base_uri": "https://localhost:8080/"
        },
        "id": "sFc687E68eNS",
        "outputId": "84ccb789-bdd7-4da7-f121-ff02a8cbe172"
      },
      "source": [
        "#Caso FIFO\n",
        "estados = [[\"AB\"], [\"AC\"], [\"BA\"], [\"BC\"], [\"CA\"], [\"CB\"]] \n",
        "markovCasoFIFO = np.array([[2/3, 0, 0, 0,1/3,0], \n",
        "                           [0, 2/3, 1/3, 0,0,0],\n",
        "                           [0, 0, 2/3, 0,0,1/3],\n",
        "                           [1/3, 0,0,2/3,0,0],\n",
        "                           [0, 0, 0, 1/3,2/3,0],\n",
        "                           [0, 1/3, 0, 0,0,2/3]])\n",
        "\n",
        "sucesso_total(markovCasoFIFO)"
      ],
      "execution_count": null,
      "outputs": [
        {
          "output_type": "stream",
          "text": [
            "A distribuição estacionária é dada por: [['AB', 0.3333333333333337], ['AC', 0.0], ['BA', 0.0], ['BC', 0.33333333333333337], ['CA', 0.3333333333333329], ['CB', 0.0]]\n",
            "A probabilidade de sucesso é de 0.6666666666666666\n"
          ],
          "name": "stdout"
        },
        {
          "output_type": "execute_result",
          "data": {
            "text/plain": [
              "0.6666666666666666"
            ]
          },
          "metadata": {
            "tags": []
          },
          "execution_count": 151
        }
      ]
    },
    {
      "cell_type": "code",
      "metadata": {
        "colab": {
          "base_uri": "https://localhost:8080/"
        },
        "id": "Tn9Lz1jY8eNS",
        "outputId": "369ef9ee-6f1a-4255-a069-3c7eeb3884d3"
      },
      "source": [
        "#Caso LRU\n",
        "estados = [[\"AB\"], [\"AC\"], [\"BA\"], [\"BC\"], [\"CA\"], [\"CB\"]]\n",
        "markovCasoLRU  = np.array([[1/3, 0, 1/3, 0,1/3,0], \n",
        "                           [0, 1/3, 1/3, 0,1/3,0],\n",
        "                           [1/3, 0, 1/3, 0,0,1/3],\n",
        "                           [1/3, 0,0,1/3,0,1/3],\n",
        "                           [0, 1/3, 0, 1/3,1/3,0],\n",
        "                           [0, 1/3, 0, 1/3,0,1/3]])\n",
        "\n",
        "sucesso_total(markovCasoLRU)"
      ],
      "execution_count": null,
      "outputs": [
        {
          "output_type": "stream",
          "text": [
            "A distribuição estacionária é dada por: [['AB', 0.16666666666666674], ['AC', 0.1666666666666666], ['BA', 0.16666666666666674], ['BC', 0.1666666666666666], ['CA', 0.16666666666666674], ['CB', 0.1666666666666666]]\n",
            "A probabilidade de sucesso é de 0.6666666666666667\n"
          ],
          "name": "stdout"
        },
        {
          "output_type": "execute_result",
          "data": {
            "text/plain": [
              "0.6666666666666667"
            ]
          },
          "metadata": {
            "tags": []
          },
          "execution_count": 152
        }
      ]
    },
    {
      "cell_type": "code",
      "metadata": {
        "colab": {
          "base_uri": "https://localhost:8080/"
        },
        "id": "wDn5RVJA8eNT",
        "outputId": "cf22fb06-0b25-49b5-8ad1-6f745b06e677"
      },
      "source": [
        "#Caso RANDOM\n",
        "estados = [[\"AB\"], [\"AC\"], [\"BC\"]]\n",
        "markovCasoRandom = np.array([[2/3, 1/6, 1/6], \n",
        "                             [1/6, 2/3, 1/6],\n",
        "                             [1/6, 1/6, 2/3]])\n",
        "sucesso_total(markovCasoRandom)"
      ],
      "execution_count": null,
      "outputs": [
        {
          "output_type": "stream",
          "text": [
            "A distribuição estacionária é dada por: [['AB', 0.3333333333333333], ['AC', 0.33333333333333337], ['BC', 0.3333333333333333]]\n",
            "A probabilidade de sucesso é de 0.6666666666666667\n"
          ],
          "name": "stdout"
        },
        {
          "output_type": "execute_result",
          "data": {
            "text/plain": [
              "0.6666666666666667"
            ]
          },
          "metadata": {
            "tags": []
          },
          "execution_count": 153
        }
      ]
    },
    {
      "cell_type": "markdown",
      "metadata": {
        "id": "SG4tshBM-cPg"
      },
      "source": [
        "####Casos com 4 Conteúdos"
      ]
    },
    {
      "cell_type": "code",
      "metadata": {
        "id": "zvKcG_g6_SvA"
      },
      "source": [
        "# declaração das probabilidades de sair cada tipo de requisção\n",
        "prob = [[\"A\",1/4], [\"B\",1/4], [\"C\",1/4], [\"D\",1/4]]"
      ],
      "execution_count": null,
      "outputs": []
    },
    {
      "cell_type": "code",
      "metadata": {
        "colab": {
          "base_uri": "https://localhost:8080/"
        },
        "id": "gxrO4dXx-cPg",
        "outputId": "c6fae013-1624-4314-e60d-c315d138cb10"
      },
      "source": [
        "#Caso FIFO\n",
        "estados = [[\"AB\"], [\"AC\"], [\"AD\"], [\"BA\"], [\"BC\"], [\"BD\"], [\"CA\"], [\"CB\"], [\"CD\"], [\"DA\"], [\"DB\"], [\"DC\"]] \n",
        "markovCasoFIFO = np.array([[2/4, 0, 0, 0, 0, 0, 1/4, 0, 0, 1/4, 0, 0],\n",
        "                           [0, 2/4, 0, 1/4, 0, 0, 0, 0, 0, 1/4, 0, 0],\n",
        "                           [0, 0, 2/4, 1/4, 0, 0, 1/4, 0, 0, 0, 0, 0],\n",
        "                           [0, 0, 0, 2/4, 0, 0, 0, 1/4, 0, 0, 1/4, 0],\n",
        "                           [1/4, 0, 0, 0, 2/4, 0, 0, 0, 0, 0, 1/4, 0],\n",
        "                           [1/4, 0, 0, 0, 0, 2/4, 0, 1/4, 0, 0, 0, 0],\n",
        "                           [0, 0, 0, 0, 1/4, 0, 2/4, 0, 0, 0, 0, 1/4],\n",
        "                           [0, 1/4, 0, 0, 2/4, 0, 0, 0, 1/4, 0, 0, 0],\n",
        "                           [0, 1/4, 0, 0, 1/4, 0, 0, 0, 2/4, 0, 0, 0],\n",
        "                           [0, 0, 0, 0, 0, 1/4, 0, 0, 1/4, 2/4, 0, 0],\n",
        "                           [0, 0, 1/4, 0, 0, 0, 0, 0, 1/4, 0, 2/4, 0],\n",
        "                           [0, 0, 1/4, 0, 0, 1/4, 0, 0, 0, 0, 0, 2/4]])\n",
        "\n",
        "sucesso_total(markovCasoFIFO)"
      ],
      "execution_count": 175,
      "outputs": [
        {
          "output_type": "stream",
          "text": [
            "A distribuição estacionária é dada por: [['AB', 0.10087719298245611], ['AC', 0.07456140350877184], ['AD', 0.0745614035087719], ['BA', 0.07456140350877193], ['BC', 0.1359649122807018], ['BD', 0.06578947368421058], ['CA', 0.08771929824561402], ['CB', 0.0350877192982456], ['CD', 0.11403508771929839], ['DA', 0.08771929824561393], ['DB', 0.10526315789473685], ['DC', 0.04385964912280704]]\n",
            "A probabilidade de sucesso é de 0.5\n"
          ],
          "name": "stdout"
        },
        {
          "output_type": "execute_result",
          "data": {
            "text/plain": [
              "0.5"
            ]
          },
          "metadata": {
            "tags": []
          },
          "execution_count": 175
        }
      ]
    },
    {
      "cell_type": "code",
      "metadata": {
        "colab": {
          "base_uri": "https://localhost:8080/"
        },
        "id": "xEFqq0P_-cPh",
        "outputId": "17af5467-d5ec-4980-cc7f-934dfdf337fb"
      },
      "source": [
        "#Caso LRU\n",
        "estados = [[\"AB\"], [\"AC\"], [\"AD\"] , [\"BA\"], [\"BC\"], [\"BD\"] , [\"CA\"], [\"CB\"], [\"CD\"], [\"DA\"], [\"DB\"], [\"DC\"]] \n",
        "markovCasoLRU  = np.array([[2/4, 0, 0, 0, 0, 0, 1/4, 0, 0, 1/4, 0, 0],\n",
        "                           [0, 2/4, 0, 1/4, 0, 0, 0, 0, 0, 1/4, 0, 0],\n",
        "                           [0, 0, 2/4, 1/4, 0, 0, 1/4, 0, 0, 0, 0, 0],\n",
        "                           [0, 0, 0, 2/4, 0, 0, 0, 1/4, 0, 0, 1/4, 0],\n",
        "                           [1/4, 0, 0, 0, 2/4, 0, 0, 0, 0, 0, 1/4, 0],\n",
        "                           [1/4, 0, 0, 0, 0, 2/4, 0, 1/4, 0, 0, 0, 0],\n",
        "                           [0, 0, 0, 0, 1/4, 0, 2/4, 0, 0, 0, 0, 1/4],\n",
        "                           [0, 1/4, 0, 0, 2/4, 0, 0, 0, 1/4, 0, 0, 0],\n",
        "                           [0, 1/4, 0, 0, 1/4, 0, 0, 0, 2/4, 0, 0, 0],\n",
        "                           [0, 0, 0, 0, 0, 1/4, 0, 0, 1/4, 2/4, 0, 0],\n",
        "                           [0, 0, 1/4, 0, 0, 0, 0, 0, 1/4, 0, 2/4, 0],\n",
        "                           [0, 0, 1/4, 0, 0, 1/4, 0, 0, 0, 0, 0, 2/4]])\n",
        "\n",
        "sucesso_total(markovCasoLRU)"
      ],
      "execution_count": 176,
      "outputs": [
        {
          "output_type": "stream",
          "text": [
            "A distribuição estacionária é dada por: [['AB', 0.10087719298245611], ['AC', 0.07456140350877184], ['AD', 0.0745614035087719], ['BA', 0.07456140350877193], ['BC', 0.1359649122807018], ['BD', 0.06578947368421058], ['CA', 0.08771929824561402], ['CB', 0.0350877192982456], ['CD', 0.11403508771929839], ['DA', 0.08771929824561393], ['DB', 0.10526315789473685], ['DC', 0.04385964912280704]]\n",
            "A probabilidade de sucesso é de 0.5\n"
          ],
          "name": "stdout"
        },
        {
          "output_type": "execute_result",
          "data": {
            "text/plain": [
              "0.5"
            ]
          },
          "metadata": {
            "tags": []
          },
          "execution_count": 176
        }
      ]
    },
    {
      "cell_type": "code",
      "metadata": {
        "colab": {
          "base_uri": "https://localhost:8080/"
        },
        "id": "FEZOnAIn-cPh",
        "outputId": "92bfe85a-440d-4a4d-e049-4816b56469c4"
      },
      "source": [
        "#Caso RANDOM\n",
        "estados = [[\"AB\"], [\"AC\"], [\"AD\"] , [\"BC\"], [\"BD\"], [\"CD\"]]\n",
        "markovCasoRandom = np.array([[2/4, 1/8, 1/8, 1/8, 1/8, 0],\n",
        "                             [1/8, 2/4, 1/8, 1/8, 0, 1/8],\n",
        "                             [1/8, 1/8, 2/4, 0, 1/8, 1/8],\n",
        "                             [1/8, 1/8, 0, 2/4, 1/8, 1/8],\n",
        "                             [1/8, 0, 1/8, 1/8, 2/4, 1/8],\n",
        "                             [0, 1/8, 1/8, 1/8, 1/8, 2/4]])\n",
        "sucesso_total(markovCasoRandom)"
      ],
      "execution_count": 181,
      "outputs": [
        {
          "output_type": "stream",
          "text": [
            "A distribuição estacionária é dada por: [['AB', 0.16666666666666669], ['AC', 0.16666666666666655], ['AD', 0.16666666666666666], ['BC', 0.16666666666666666], ['BD', 0.16666666666666666], ['CD', 0.16666666666666669]]\n",
            "A probabilidade de sucesso é de 0.5\n"
          ],
          "name": "stdout"
        },
        {
          "output_type": "execute_result",
          "data": {
            "text/plain": [
              "0.5"
            ]
          },
          "metadata": {
            "tags": []
          },
          "execution_count": 181
        }
      ]
    },
    {
      "cell_type": "markdown",
      "metadata": {
        "id": "VEI9N73Wrj2_"
      },
      "source": [
        "----------------------------------------------------------------------------------------------------------------------------------------------------------------\n",
        "\n",
        "#Coisas não oficiais da parte analítica"
      ]
    },
    {
      "cell_type": "code",
      "metadata": {
        "id": "fC3fBAi_684i"
      },
      "source": [
        "# Função para calcular a probabilidade de falha em uma única cache\n",
        "def calcula_falha(P):\n",
        "  estacionaria = forma_tupla(P)\n",
        "  falha = 0\n",
        "  for i in range(len(prob)):\n",
        "    for j in range(len(estacionaria)):\n",
        "      \n",
        "      if (prob[i][0] not in estacionaria[j][0]):\n",
        "        #print(\"\\nPi_\" + str(estacionaria[j][0])+\" * P(\" + str(prob[i][0]) + \")\")\n",
        "        #print(str(estacionaria[j][1])+\" * \" + str(prob[i][1]))\n",
        "        falha = falha + (prob[i][1]*estacionaria[j][1])\n",
        "        #print(\"Falha: \" + str(sucesso))\n",
        "  \n",
        "  return falha"
      ],
      "execution_count": null,
      "outputs": []
    },
    {
      "cell_type": "code",
      "metadata": {
        "colab": {
          "base_uri": "https://localhost:8080/"
        },
        "id": "aP7RHWi68srg",
        "outputId": "5a4e4f41-20a5-45ec-aea8-6e8ddf3c6eb3"
      },
      "source": [
        "# Função para calcular falha em ambas as caches \n",
        "def falha_total(P):\n",
        "  sucesso_uma = 0\n",
        "  falha = 0\n",
        "  falha_uma = calcula_falha(P)\n",
        "  sucesso_uma = 1 - falha_uma\n",
        "\n",
        "  # Ftot = F*F\n",
        "  falha = falha_uma * falha_uma\n",
        "  sucesso = 1 - falha\n",
        "  print(sucesso)\n",
        "\n",
        "  return falha\n",
        "\n",
        "falha_total(markovCasoFIFO)"
      ],
      "execution_count": null,
      "outputs": [
        {
          "output_type": "stream",
          "text": [
            "[0.33333333 0.         0.         0.33333333 0.33333333 0.        ]\n",
            "0.8888888888888888\n"
          ],
          "name": "stdout"
        },
        {
          "output_type": "execute_result",
          "data": {
            "text/plain": [
              "0.1111111111111111"
            ]
          },
          "metadata": {
            "tags": []
          },
          "execution_count": 64
        }
      ]
    },
    {
      "cell_type": "code",
      "metadata": {
        "id": "aT5-B9-hNJNP"
      },
      "source": [
        "markovCasoRandomDuas = np.array([[2/3, 0, 0,1/9,1/9,1/9], \n",
        "                             [1/6, 1/3, 1/6,1/6,1/6,0],\n",
        "                             [1/6, 1/6, 1/3,0,1/6,1/6],\n",
        "                             [1/9, 0, 1/9,2/3,0,1/9],\n",
        "                             [0, 1/6, 1/6,1/6,1/3,1/6],\n",
        "                             [1/9, 0, 1/9,1/9,0,2/3]])"
      ],
      "execution_count": null,
      "outputs": []
    },
    {
      "cell_type": "code",
      "metadata": {
        "colab": {
          "base_uri": "https://localhost:8080/"
        },
        "id": "8a_jF7t6N3sl",
        "outputId": "4b2463e7-daa2-4698-8e95-c1869d13ee48"
      },
      "source": [
        "dist_estacionaria(markovCasoRandomDuas)"
      ],
      "execution_count": null,
      "outputs": [
        {
          "output_type": "stream",
          "text": [
            "[0.25       0.05       0.11666667 0.2375     0.08333333 0.2625    ]\n"
          ],
          "name": "stdout"
        },
        {
          "output_type": "execute_result",
          "data": {
            "text/plain": [
              "array([0.25      , 0.05      , 0.11666667, 0.2375    , 0.08333333,\n",
              "       0.2625    ])"
            ]
          },
          "metadata": {
            "tags": []
          },
          "execution_count": 56
        }
      ]
    },
    {
      "cell_type": "code",
      "metadata": {
        "id": "GcF42zwBONPE"
      },
      "source": [
        "0.25*(2/3) + 0.2375*(2/3) + 0.2625*(2/3) + 0.05  + 0.11666667  + 0.08333333"
      ],
      "execution_count": null,
      "outputs": []
    }
  ]
}