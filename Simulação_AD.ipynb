{
  "nbformat": 4,
  "nbformat_minor": 0,
  "metadata": {
    "colab": {
      "name": "Simulação AD.ipynb",
      "provenance": [],
      "collapsed_sections": [],
      "include_colab_link": true
    },
    "kernelspec": {
      "name": "python3",
      "display_name": "Python 3"
    },
    "language_info": {
      "name": "python"
    }
  },
  "cells": [
    {
      "cell_type": "markdown",
      "metadata": {
        "id": "view-in-github",
        "colab_type": "text"
      },
      "source": [
        "<a href=\"https://colab.research.google.com/github/siliconemonster/AD-TrabalhoFinal/blob/main/Simula%C3%A7%C3%A3o_AD.ipynb\" target=\"_parent\"><img src=\"https://colab.research.google.com/assets/colab-badge.svg\" alt=\"Open In Colab\"/></a>"
      ]
    },
    {
      "cell_type": "markdown",
      "metadata": {
        "id": "5aTNjkgw6BQE"
      },
      "source": [
        "### Importando bibliotecas"
      ]
    },
    {
      "cell_type": "code",
      "metadata": {
        "id": "9qMnzYxPsbKS"
      },
      "source": [
        "import random\n",
        "from random import sample\n",
        "from random import random\n",
        "from matplotlib import pyplot as plt\n",
        "from matplotlib.legend_handler import HandlerLine2D\n",
        "from collections import Counter\n",
        "import sympy as sy\n",
        "from numpy.linalg import matrix_power\n",
        "from fractions import Fraction\n",
        "import math\n",
        "from math import *\n",
        "import numpy as np\n",
        "from numpy import random\n",
        "import pandas as pd\n",
        "import queue \n",
        "from scipy.stats import poisson"
      ],
      "execution_count": 1,
      "outputs": []
    },
    {
      "cell_type": "markdown",
      "metadata": {
        "id": "KdkPXO0Ct0Mx"
      },
      "source": [
        "<h2> I. Simulação"
      ]
    },
    {
      "cell_type": "code",
      "metadata": {
        "id": "fzeFkanRyZr4"
      },
      "source": [
        "def initializeCache():  \n",
        "  cache = sample([1,2,3], k= 2)\n",
        "  return cache"
      ],
      "execution_count": 2,
      "outputs": []
    },
    {
      "cell_type": "code",
      "metadata": {
        "id": "YnH1LxuqvDb2"
      },
      "source": [
        "def cacheReceivesReq(caso, cache, requisicao):\n",
        "  RequicaoAtendida = 0\n",
        "  #print(\"Conteudo Requisicao: \" + str(requisicao))\n",
        "  #print(\"Cache:\" + str(cache))\n",
        "\n",
        "  if (requisicao in cache):\n",
        "    if(caso == \"FIFO\" or caso == \"Random\" or caso == \"Estatica\"):\n",
        "      cache = cache\n",
        "      RequicaoAtendida = 1    \n",
        "      #print(\"Cache possui requisção!\") \n",
        "\n",
        "    elif (caso == \"LRU\"):\n",
        "      RequicaoAtendida = 1    \n",
        "      #print(\"Cache possui requisição!\")\n",
        "\n",
        "      cache.remove(requisicao)\n",
        "      cache.insert(0, requisicao)\n",
        "      #print(\"Novo estado da cache: \" + str(cache)) \n",
        "   \n",
        "  else:\n",
        "    if (caso == \"FIFO\" or caso == \"LRU\"):\n",
        "      cache.insert(0, requisicao)\n",
        "      del cache[-1]\n",
        "      #print(\"Novo estado da cache: \" + str(cache)) \n",
        "\n",
        "    elif (caso == \"Random\"):\n",
        "      cache.insert(0, requisicao)\n",
        "      del cache[random.randint(-2,0)]\n",
        "      #print(\"Novo estado da cache: \" + str(cache)) \n",
        "\n",
        "  return cache, RequicaoAtendida"
      ],
      "execution_count": 3,
      "outputs": []
    },
    {
      "cell_type": "code",
      "metadata": {
        "id": "Mo4sZoaDxF40"
      },
      "source": [
        "def simulacaoCenario1(tipo, trials): \n",
        "    \n",
        "  mediaSucessos = []\n",
        "\n",
        "  for i in range(trials):\n",
        "\n",
        "    queueCache1 = {}\n",
        "    queueCache2 = {}\n",
        "\n",
        "    sucesso = 0\n",
        "    mediaSucesso = 0  \n",
        "\n",
        "    cache1 = initializeCache()\n",
        "    cache2 = initializeCache()\n",
        "\n",
        "    reqAtendidasC1 = []\n",
        "    reqAtendidasC2 = []\n",
        "\n",
        "\n",
        "    t = 0\n",
        "    max = 1000\n",
        "    while (t < max):\n",
        "\n",
        "      RequicaoAtendida = 0\n",
        "      requisicao = random.randint(1,4)\n",
        "\n",
        "      #print(\"Conteudo Requisitado: \" + str(requisicao))\n",
        "      #print(\"Cache 1: \" + str(cache1))\n",
        "      #print(\"Cache 2: \" + str(cache2))\n",
        "\n",
        "\n",
        "      TempoC1 = np.random.poisson(1/3,1)\n",
        "      requisicaoTempoC1 = t + TempoC1[0]\n",
        "      TempoC2 = np.random.poisson(1/3,1)\n",
        "      requisicaoTempoC2 = t + TempoC2[0]      \n",
        "\n",
        "\n",
        "      # Inserindo a requisição na fila\n",
        "      queueCache1[\"req\" + str(t)] = [requisicaoTempoC1,requisicao]\n",
        "      queueCache2[\"req\" + str(t)] = [requisicaoTempoC2,requisicao]\n",
        "      \n",
        "      # OrdenandO a Fila\n",
        "      queueCache1 = {k: v for k, v in sorted(queueCache1.items(), key=lambda item: item[1])}\n",
        "      queueCache2 = {k: v for k, v in sorted(queueCache2.items(), key=lambda item: item[1])}\n",
        "\n",
        "      #print(\"Fila cache 1:\" + str(queueCache1))\n",
        "      #print(\"Fila cache 2:\" + str(queueCache2))\n",
        "\n",
        "      while (1):\n",
        "\n",
        "        if (len(queueCache1)>0):\n",
        "          primRequisicao = list(queueCache1.keys())[0]\n",
        "          requisicao = queueCache1[primRequisicao]\n",
        "          conteudoReq = requisicao[1]          \n",
        "          tempoReeq = requisicao[0]\n",
        "\n",
        "          if (tempoReeq == t):\n",
        "            del queueCache1[primRequisicao]\n",
        "            #print(str(primRequisicao) + \" vai para a cache 1\")\n",
        "            cache1, RequicaoAtendida = cacheReceivesReq(tipo, cache1, conteudoReq)\n",
        "            if (RequicaoAtendida):\n",
        "              reqAtendidasC1.append(primRequisicao)\n",
        "              #print(\"Requisição atendida\")\n",
        "            #else:\n",
        "              #print(\"Requisição não atendida\")\n",
        "\n",
        "\n",
        "          else: break\n",
        "\n",
        "        else: break\n",
        "\n",
        "      while (1):\n",
        "\n",
        "        if(len(queueCache2)>0):\n",
        "\n",
        "          primRequisicao = list(queueCache2.keys())[0]\n",
        "          requisicao = queueCache2[primRequisicao]\n",
        "          conteudoReq = requisicao[1]\n",
        "          tempoReeq = requisicao[0]\n",
        "\n",
        "          if (tempoReeq == t):\n",
        "            del queueCache2[primRequisicao]\n",
        "            #print(str(primRequisicao) + \" vai para a cache 2\")\n",
        "            cache2, RequicaoAtendida = cacheReceivesReq(tipo, cache2, conteudoReq)\n",
        "            if (RequicaoAtendida):\n",
        "              reqAtendidasC2.append(primRequisicao)\n",
        "              #print(\"Requisição atendida\")\n",
        "            #else:\n",
        "              #print(\"Requisição não atendida\")\n",
        "\n",
        "          else: break\n",
        "        \n",
        "        else: break\n",
        "\n",
        "      #if(RequicaoAtendida):\n",
        "          #print(\"Sucesso!\")\n",
        "\n",
        "      t = t + 1\n",
        "\n",
        "      \n",
        "    #print(reqAtendidasC1)\n",
        "    #print(reqAtendidasC2)\n",
        "    reqAtendidas = list(set(reqAtendidasC1).union(set(reqAtendidasC2)))\n",
        "    #print(reqAtendidas)\n",
        "    sucessos = len(reqAtendidas)\n",
        "    #print(\"Sucessos = \" + str(sucessos))\n",
        "    mediaSucessos.append(sucessos/t)\n",
        "    \n",
        "  \n",
        "  print(\"Media Sucessos = \" + str(mediaSucessos))\n",
        "\n",
        "    \n",
        "  return mediaSucessos\n"
      ],
      "execution_count": 4,
      "outputs": []
    },
    {
      "cell_type": "code",
      "metadata": {
        "colab": {
          "base_uri": "https://localhost:8080/"
        },
        "id": "YmwpbinAS2TB",
        "outputId": "3acecc91-d06d-42cf-aa78-d51e8fa1b45b"
      },
      "source": [
        "simulacaoCenario1(\"LRU\", 3)"
      ],
      "execution_count": 5,
      "outputs": [
        {
          "output_type": "stream",
          "text": [
            "Media Sucessos = [0.738, 0.736, 0.705]\n"
          ],
          "name": "stdout"
        },
        {
          "output_type": "execute_result",
          "data": {
            "text/plain": [
              "[0.738, 0.736, 0.705]"
            ]
          },
          "metadata": {
            "tags": []
          },
          "execution_count": 5
        }
      ]
    },
    {
      "cell_type": "code",
      "metadata": {
        "colab": {
          "base_uri": "https://localhost:8080/"
        },
        "id": "SdcO_0Cg_9LI",
        "outputId": "5e25851d-9ed3-4a8d-fb28-fd8860a1956f"
      },
      "source": [
        "random.seed(8)\n",
        "tipo = \"FIFO\"\n",
        "\n",
        "queueCache1 = {}\n",
        "queueCache2 = {}\n",
        "\n",
        "sucesso = 0\n",
        "mediaSucesso = 0  \n",
        "\n",
        "cache1 = initializeCache()\n",
        "cache2 = initializeCache()\n",
        "t = 0\n",
        "max = 10\n",
        "while (t < max):\n",
        "\n",
        "  RequicaoAtendida = 0\n",
        "  requisicao = random.randint(1,4)\n",
        "\n",
        "  print(\"Conteudo Requisitado: \" + str(requisicao))\n",
        "  print(\"Cache 1: \" + str(cache1))\n",
        "  print(\"Cache 2: \" + str(cache2))\n",
        "\n",
        "\n",
        "  TempoC1 = np.random.poisson(1/3,1)\n",
        "  requisicaoTempoC1 = t + TempoC1[0]\n",
        "  TempoC2 = np.random.poisson(1/3,1)\n",
        "  requisicaoTempoC2 = t + TempoC2[0]      \n",
        "\n",
        "\n",
        "  # Inserindo a requisição na fila\n",
        "  queueCache1[\"req\" + str(t)] = [requisicaoTempoC1,requisicao]\n",
        "  queueCache2[\"req\" + str(t)] = [requisicaoTempoC2,requisicao]\n",
        "  \n",
        "  # OrdenandO a Fila\n",
        "  queueCache1 = {k: v for k, v in sorted(queueCache1.items(), key=lambda item: item[1])}\n",
        "  queueCache2 = {k: v for k, v in sorted(queueCache2.items(), key=lambda item: item[1])}\n",
        "\n",
        "  print(\"Fila cache 1:\" + str(queueCache1))\n",
        "  print(\"Fila cache 2:\" + str(queueCache2))\n",
        "\n",
        "  while (1):\n",
        "\n",
        "    if (len(queueCache1)>0):\n",
        "      primRequisicao = list(queueCache1.keys())[0]\n",
        "      requisicao = queueCache1[primRequisicao]\n",
        "      conteudoReq = requisicao[1]\n",
        "      tempoReeq = requisicao[0]\n",
        "\n",
        "      if (tempoReeq == t):\n",
        "        del queueCache1[primRequisicao]\n",
        "        print(str(primRequisicao) + \" vai para a cache 1\")\n",
        "        cache1, RequicaoAtendida = cacheReceivesReq(tipo, cache1, conteudoReq)\n",
        "        if (RequicaoAtendida):\n",
        "          print(\"Requisição atendida\")\n",
        "        else:\n",
        "          print(\"Requisição não atendida\")\n",
        "\n",
        "\n",
        "      else: break\n",
        "\n",
        "    else: break\n",
        "\n",
        "  while (1):\n",
        "\n",
        "    if(len(queueCache2)>0):\n",
        "\n",
        "      primRequisicao = list(queueCache2.keys())[0]\n",
        "      requisicao = queueCache2[primRequisicao]\n",
        "      conteudoReq = requisicao[1]\n",
        "      tempoReeq = requisicao[0]\n",
        "\n",
        "      if (tempoReeq == t):\n",
        "        del queueCache2[primRequisicao]\n",
        "        print(str(primRequisicao) + \" vai para a cache 2\")\n",
        "        cache2, RequicaoAtendida = cacheReceivesReq(tipo, cache2, conteudoReq)\n",
        "        if (RequicaoAtendida):\n",
        "          print(\"Requisição atendida\")\n",
        "        else:\n",
        "          print(\"Requisição não atendida\")\n",
        "\n",
        "      else: break\n",
        "    \n",
        "    else: break\n",
        "\n",
        "  if(RequicaoAtendida):\n",
        "      print(\"Sucesso!\")\n",
        "      sucesso = sucesso + 1  \n",
        "\n",
        "  t = t + 1\n",
        "  print(\"\")"
      ],
      "execution_count": 6,
      "outputs": [
        {
          "output_type": "stream",
          "text": [
            "Conteudo Requisitado: 1\n",
            "Cache 1: [1, 3]\n",
            "Cache 2: [3, 2]\n",
            "Fila cache 1:{'req0': [2, 1]}\n",
            "Fila cache 2:{'req0': [0, 1]}\n",
            "req0 vai para a cache 2\n",
            "Requisição não atendida\n",
            "\n",
            "Conteudo Requisitado: 1\n",
            "Cache 1: [1, 3]\n",
            "Cache 2: [1, 3]\n",
            "Fila cache 1:{'req1': [1, 1], 'req0': [2, 1]}\n",
            "Fila cache 2:{'req1': [2, 1]}\n",
            "req1 vai para a cache 1\n",
            "Requisição atendida\n",
            "Sucesso!\n",
            "\n",
            "Conteudo Requisitado: 1\n",
            "Cache 1: [1, 3]\n",
            "Cache 2: [1, 3]\n",
            "Fila cache 1:{'req0': [2, 1], 'req2': [3, 1]}\n",
            "Fila cache 2:{'req1': [2, 1], 'req2': [2, 1]}\n",
            "req0 vai para a cache 1\n",
            "Requisição atendida\n",
            "req1 vai para a cache 2\n",
            "Requisição atendida\n",
            "req2 vai para a cache 2\n",
            "Requisição atendida\n",
            "Sucesso!\n",
            "\n",
            "Conteudo Requisitado: 3\n",
            "Cache 1: [1, 3]\n",
            "Cache 2: [1, 3]\n",
            "Fila cache 1:{'req2': [3, 1], 'req3': [4, 3]}\n",
            "Fila cache 2:{'req3': [3, 3]}\n",
            "req2 vai para a cache 1\n",
            "Requisição atendida\n",
            "req3 vai para a cache 2\n",
            "Requisição atendida\n",
            "Sucesso!\n",
            "\n",
            "Conteudo Requisitado: 1\n",
            "Cache 1: [1, 3]\n",
            "Cache 2: [1, 3]\n",
            "Fila cache 1:{'req3': [4, 3], 'req4': [5, 1]}\n",
            "Fila cache 2:{'req4': [4, 1]}\n",
            "req3 vai para a cache 1\n",
            "Requisição atendida\n",
            "req4 vai para a cache 2\n",
            "Requisição atendida\n",
            "Sucesso!\n",
            "\n",
            "Conteudo Requisitado: 3\n",
            "Cache 1: [1, 3]\n",
            "Cache 2: [1, 3]\n",
            "Fila cache 1:{'req4': [5, 1], 'req5': [5, 3]}\n",
            "Fila cache 2:{'req5': [5, 3]}\n",
            "req4 vai para a cache 1\n",
            "Requisição atendida\n",
            "req5 vai para a cache 1\n",
            "Requisição atendida\n",
            "req5 vai para a cache 2\n",
            "Requisição atendida\n",
            "Sucesso!\n",
            "\n",
            "Conteudo Requisitado: 2\n",
            "Cache 1: [1, 3]\n",
            "Cache 2: [1, 3]\n",
            "Fila cache 1:{'req6': [6, 2]}\n",
            "Fila cache 2:{'req6': [6, 2]}\n",
            "req6 vai para a cache 1\n",
            "Requisição não atendida\n",
            "req6 vai para a cache 2\n",
            "Requisição não atendida\n",
            "\n",
            "Conteudo Requisitado: 1\n",
            "Cache 1: [2, 1]\n",
            "Cache 2: [2, 1]\n",
            "Fila cache 1:{'req7': [7, 1]}\n",
            "Fila cache 2:{'req7': [8, 1]}\n",
            "req7 vai para a cache 1\n",
            "Requisição atendida\n",
            "Sucesso!\n",
            "\n",
            "Conteudo Requisitado: 2\n",
            "Cache 1: [2, 1]\n",
            "Cache 2: [2, 1]\n",
            "Fila cache 1:{'req8': [9, 2]}\n",
            "Fila cache 2:{'req7': [8, 1], 'req8': [8, 2]}\n",
            "req7 vai para a cache 2\n",
            "Requisição atendida\n",
            "req8 vai para a cache 2\n",
            "Requisição atendida\n",
            "Sucesso!\n",
            "\n",
            "Conteudo Requisitado: 3\n",
            "Cache 1: [2, 1]\n",
            "Cache 2: [2, 1]\n",
            "Fila cache 1:{'req8': [9, 2], 'req9': [9, 3]}\n",
            "Fila cache 2:{'req9': [9, 3]}\n",
            "req8 vai para a cache 1\n",
            "Requisição atendida\n",
            "req9 vai para a cache 1\n",
            "Requisição não atendida\n",
            "req9 vai para a cache 2\n",
            "Requisição não atendida\n",
            "\n"
          ],
          "name": "stdout"
        }
      ]
    },
    {
      "cell_type": "code",
      "metadata": {
        "colab": {
          "base_uri": "https://localhost:8080/"
        },
        "id": "UojoWsZBASiD",
        "outputId": "b46e79ed-63ba-4696-9f9a-4f458616fbc5"
      },
      "source": [
        "len(queueCache1)\n"
      ],
      "execution_count": 7,
      "outputs": [
        {
          "output_type": "execute_result",
          "data": {
            "text/plain": [
              "0"
            ]
          },
          "metadata": {
            "tags": []
          },
          "execution_count": 7
        }
      ]
    },
    {
      "cell_type": "code",
      "metadata": {
        "colab": {
          "base_uri": "https://localhost:8080/",
          "height": 35
        },
        "id": "aK7fpuFRDF3X",
        "outputId": "1971b22c-ff5b-47f9-924f-8de098b1426d"
      },
      "source": [
        "primRequisicao[1]"
      ],
      "execution_count": 8,
      "outputs": [
        {
          "output_type": "execute_result",
          "data": {
            "application/vnd.google.colaboratory.intrinsic+json": {
              "type": "string"
            },
            "text/plain": [
              "'e'"
            ]
          },
          "metadata": {
            "tags": []
          },
          "execution_count": 8
        }
      ]
    },
    {
      "cell_type": "code",
      "metadata": {
        "id": "SCHbJ8UVpCpy"
      },
      "source": [
        "def simulacaoCenario2(tipo, trials):\n",
        "  queueCache1 = {}\n",
        "  queueCache2 = {}\n",
        "  sucesso = 0\n",
        "  mediaSucesso = 0  \n",
        "  cache1 = initializeCache()\n",
        "  cache2 = initializeCache()\n",
        "  usermiss = 0\n",
        "\n",
        "  \n",
        "  for i in range (trials):\n",
        "    RequicaoAtendida = 0\n",
        "\n",
        "    canal1 = random.rand()\n",
        "    canal1falhou = 1\n",
        "    sucessoc1 = 0\n",
        "    requisicao = random.randint(1,4) \n",
        "\n",
        "    #print(\"\\n Requisição: \" + str(requisicao))\n",
        "    #print(\"Cache 1: \" + str(cache1))\n",
        "    #print(\"Cache 2: \" + str(cache2))\n",
        "\n",
        "    if(canal1 <= 0.9):\n",
        "      cache1, RequicaoAtendida = cacheReceivesReq(tipo, cache1, requisicao)\n",
        "    #else:\n",
        "     # print(\"Canal Falhou\")\n",
        "\n",
        "    canal2 = random.rand()\n",
        "    if(canal2 <= 0.9):        \n",
        "      cache2, RequicaoAtendida = cacheReceivesReq(tipo, cache2, requisicao)\n",
        "    #else:\n",
        "     # print(\"Canal Falhou\")\n",
        "\n",
        "    if(RequicaoAtendida):\n",
        "      sucesso = sucesso + 1\n",
        "\n",
        "    else:\n",
        "      usermiss = usermiss + 1\n",
        "  print(\"Media Sucessos = \" + str(sucesso/trials)) \n",
        "  print(\"Usermiss = \" + str(usermiss))\n",
        "  print(\"Media Usermiss = \" + str(usermiss/trials))"
      ],
      "execution_count": 9,
      "outputs": []
    },
    {
      "cell_type": "code",
      "metadata": {
        "id": "tRDNIWj52M0F"
      },
      "source": [
        "simulacaoCenario1(\"FIFO\", 100000)"
      ],
      "execution_count": null,
      "outputs": []
    },
    {
      "cell_type": "code",
      "metadata": {
        "id": "Gv0eFTYyCEuy"
      },
      "source": [
        "simulacaoCenario1(\"LRU\", 100000)"
      ],
      "execution_count": null,
      "outputs": []
    },
    {
      "cell_type": "code",
      "metadata": {
        "id": "wGdrCsefCUc8"
      },
      "source": [
        "simulacaoCenario1(\"Random\", 100000)"
      ],
      "execution_count": null,
      "outputs": []
    },
    {
      "cell_type": "code",
      "metadata": {
        "id": "4HMg7hOnr438"
      },
      "source": [
        "simulacaoCenario2(\"FIFO\", 100000)"
      ],
      "execution_count": null,
      "outputs": []
    },
    {
      "cell_type": "code",
      "metadata": {
        "id": "US7B0iRV8dCF"
      },
      "source": [
        "'''\n",
        "casoFifoMarkov  = [[sy.Rational('2/3'), 0, 0, 0,sy.Rational('1/3'),0], \n",
        "    [0, sy.Rational('2/3'), sy.Rational('1/3'), 0,0,0],\n",
        "    [0, 0, sy.Rational('2/3'), 0,0,sy.Rational('1/3')],\n",
        "    [sy.Rational('1/3'), 0, sy.Rational('2/3'), 0,0,0],\n",
        "    [0, 0, 0, sy.Rational('1/3'),sy.Rational('2/3'),0],\n",
        "    [0, sy.Rational('1/3'), 0, 0,0,sy.Rational('2/3')]] '''"
      ],
      "execution_count": null,
      "outputs": []
    },
    {
      "cell_type": "code",
      "metadata": {
        "id": "rMWbSFqi_GAh",
        "colab": {
          "base_uri": "https://localhost:8080/"
        },
        "outputId": "d07d4376-7506-4476-ebf1-a0f47f97c440"
      },
      "source": [
        "matrix_power(markovCasoFIFO, 10000).round(decimals=2)"
      ],
      "execution_count": null,
      "outputs": [
        {
          "output_type": "execute_result",
          "data": {
            "text/plain": [
              "array([[0.33, 0.  , 0.  , 0.33, 0.33, 0.  ],\n",
              "       [0.  , 0.33, 0.33, 0.  , 0.  , 0.33],\n",
              "       [0.  , 0.33, 0.33, 0.  , 0.  , 0.33],\n",
              "       [0.33, 0.  , 0.  , 0.33, 0.33, 0.  ],\n",
              "       [0.33, 0.  , 0.  , 0.33, 0.33, 0.  ],\n",
              "       [0.  , 0.33, 0.33, 0.  , 0.  , 0.33]])"
            ]
          },
          "metadata": {
            "tags": []
          },
          "execution_count": 14
        }
      ]
    },
    {
      "cell_type": "code",
      "metadata": {
        "id": "74uEeQ-TC7pV",
        "colab": {
          "base_uri": "https://localhost:8080/"
        },
        "outputId": "27606f3e-d7ec-4840-abe4-b7b06c43094a"
      },
      "source": [
        "matrix_power(markovCasoLRU, 10000).round(decimals=2)"
      ],
      "execution_count": null,
      "outputs": [
        {
          "output_type": "execute_result",
          "data": {
            "text/plain": [
              "array([[0.17, 0.17, 0.17, 0.17, 0.17, 0.17],\n",
              "       [0.17, 0.17, 0.17, 0.17, 0.17, 0.17],\n",
              "       [0.17, 0.17, 0.17, 0.17, 0.17, 0.17],\n",
              "       [0.17, 0.17, 0.17, 0.17, 0.17, 0.17],\n",
              "       [0.17, 0.17, 0.17, 0.17, 0.17, 0.17],\n",
              "       [0.17, 0.17, 0.17, 0.17, 0.17, 0.17]])"
            ]
          },
          "metadata": {
            "tags": []
          },
          "execution_count": 15
        }
      ]
    },
    {
      "cell_type": "code",
      "metadata": {
        "id": "Aq_Lqrh9Djxe",
        "colab": {
          "base_uri": "https://localhost:8080/"
        },
        "outputId": "3c269112-3d11-42b4-e969-d46283b9e914"
      },
      "source": [
        "matrix_power(markovCasoRandom, 10000).round(decimals=2)"
      ],
      "execution_count": null,
      "outputs": [
        {
          "output_type": "execute_result",
          "data": {
            "text/plain": [
              "array([[0.33, 0.33, 0.33],\n",
              "       [0.33, 0.33, 0.33],\n",
              "       [0.33, 0.33, 0.33]])"
            ]
          },
          "metadata": {
            "tags": []
          },
          "execution_count": 16
        }
      ]
    },
    {
      "cell_type": "code",
      "metadata": {
        "id": "DtAAdPL0_MZC"
      },
      "source": [
        "qCache1 = {}"
      ],
      "execution_count": null,
      "outputs": []
    },
    {
      "cell_type": "code",
      "metadata": {
        "id": "HqdtQN00_PTL"
      },
      "source": [
        "qCache1 = "
      ],
      "execution_count": null,
      "outputs": []
    },
    {
      "cell_type": "markdown",
      "metadata": {
        "id": "ugoUNnJAtnFX"
      },
      "source": [
        "<h2> II. Parte Analítica"
      ]
    },
    {
      "cell_type": "markdown",
      "metadata": {
        "id": "L94gjOxJigqZ"
      },
      "source": [
        "<h3> Cenário 1"
      ]
    },
    {
      "cell_type": "markdown",
      "metadata": {
        "id": "zz5oYxmEsL2x"
      },
      "source": [
        "Aqui calcularemos a probabilidade de sucesso utilizando cadeias de Markov para comprovar analíticamente o que fizemos na simulação."
      ]
    },
    {
      "cell_type": "code",
      "metadata": {
        "id": "dbpS_QE_gz0d"
      },
      "source": [
        "# declaração das matrizes de transição - uma única cache\n",
        "\n",
        "#FIFO - Estados são: AB, AC, BA, BC, CA e CB\n",
        "markovCasoFIFO = np.array([[2/3, 0, 0, 0,1/3,0], \n",
        "                           [0, 2/3, 1/3, 0,0,0],\n",
        "                           [0, 0, 2/3, 0,0,1/3],\n",
        "                           [1/3, 0,0,2/3,0,0],\n",
        "                           [0, 0, 0, 1/3,2/3,0],\n",
        "                           [0, 1/3, 0, 0,0,2/3]])\n",
        "\n",
        "#LRU - Estados são: AB, AC, BA, BC, CA e CB\n",
        "markovCasoLRU  = np.array([[1/3, 0, 1/3, 0,1/3,0], \n",
        "                           [0, 1/3, 1/3, 0,1/3,0],\n",
        "                           [1/3, 0, 1/3, 0,0,1/3],\n",
        "                           [1/3, 0,0,1/3,0,1/3],\n",
        "                           [0, 1/3, 0, 1/3,1/3,0],\n",
        "                           [0, 1/3, 0, 1/3,0,1/3]])\n",
        "\n",
        "#RANDOM - Estados são: AB, AC e BC\n",
        "markovCasoRandom = np.array([[2/3, 1/6, 1/6], \n",
        "                             [1/6, 2/3, 1/6],\n",
        "                             [1/6, 1/6, 2/3]])\n",
        "\n",
        "# declaração das probabilidades de sair cada tipo de requisção\n",
        "prob = [[\"A\",1/3], [\"B\",1/3], [\"C\",1/3]]\n",
        "estados = [[\"AB\"], [\"AC\"], [\"BA\"], [\"BC\"], [\"CA\"], [\"CB\"]]"
      ],
      "execution_count": 12,
      "outputs": []
    },
    {
      "cell_type": "code",
      "metadata": {
        "id": "EPVt8yZVATok"
      },
      "source": [
        "# Função para calcular a distribuição estacionária de uma cadeia de Markov por meio de uma matriz de transição P\n",
        "def dist_estacionaria(P):\n",
        "  evals, evecs = np.linalg.eig(P.T) #We have to transpose so that Markov transitions correspond to right multiplying by a column vector.  np.linalg.eig finds right eigenvectors.\n",
        "  evec1 = evecs[:,np.isclose(evals, 1)]\n",
        "  evec1 = evec1[:,0]\n",
        "  stationary = evec1 / evec1.sum()\n",
        "  stationary = stationary.real # parte real (acha autovalores e autovetores complexos)\n",
        "\n",
        "  print(stationary)\n",
        "  return stationary"
      ],
      "execution_count": 13,
      "outputs": []
    },
    {
      "cell_type": "code",
      "metadata": {
        "id": "4X3QBwO1uXCa"
      },
      "source": [
        "# Função para transformar a distribuição estacionária em uma tupla\n",
        "def forma_tupla(P):\n",
        "  estacionaria_nomes = estados\n",
        "  estacionaria_valores = dist_estacionaria(P)\n",
        "\n",
        "  for i in range (len(estacionaria_valores)):\n",
        "    estacionaria_nomes[i].append(estacionaria_valores[i])\n",
        "\n",
        "  return estacionaria_nomes"
      ],
      "execution_count": 14,
      "outputs": []
    },
    {
      "cell_type": "code",
      "metadata": {
        "id": "6267-b-EiSDY"
      },
      "source": [
        "# Função para calcular a probabilidade de sucesso em uma única cache\n",
        "def calcula_sucesso(P):\n",
        "  estacionaria = forma_tupla(P)\n",
        "  sucesso = 0\n",
        "  for i in range(len(prob)):\n",
        "    for j in range(len(estacionaria)):\n",
        "      \n",
        "      if (prob[i][0] in estacionaria[j][0]):\n",
        "        #print(\"\\nPi_\" + str(estacionaria[j][0])+\" * P(\" + str(prob[i][0]) + \")\")\n",
        "        #print(str(estacionaria[j][1])+\" * \" + str(prob[i][1]))\n",
        "        sucesso = sucesso + (prob[i][1]*estacionaria[j][1])\n",
        "        #print(\"Sucesso: \" + str(sucesso))\n",
        "  \n",
        "  return sucesso"
      ],
      "execution_count": 44,
      "outputs": []
    },
    {
      "cell_type": "code",
      "metadata": {
        "colab": {
          "base_uri": "https://localhost:8080/"
        },
        "id": "HYS57W7OzoDf",
        "outputId": "e4a080a6-da72-4d79-eb37-d7bf8e7a2aba"
      },
      "source": [
        "# Função para calcular sucesso em ambas as caches \n",
        "def sucesso_total(P):\n",
        "  sucesso = 0\n",
        "  falha_uma = 0\n",
        "  sucesso_uma = calcula_sucesso(P)\n",
        "  falha_uma = 1 - sucesso_uma\n",
        "\n",
        "  # Stot = S*S + S*F (OU A ORDEM IMPORTA??? 2*S*F???)\n",
        "  sucesso = sucesso_uma * sucesso_uma + 2 * sucesso_uma * falha_uma\n",
        "  falha = 1 - sucesso\n",
        "\n",
        "  return sucesso\n",
        "\n",
        "sucesso_total(markovCasoFIFO)"
      ],
      "execution_count": 62,
      "outputs": [
        {
          "output_type": "stream",
          "text": [
            "[0.33333333 0.         0.         0.33333333 0.33333333 0.        ]\n"
          ],
          "name": "stdout"
        },
        {
          "output_type": "execute_result",
          "data": {
            "text/plain": [
              "0.8888888888888888"
            ]
          },
          "metadata": {
            "tags": []
          },
          "execution_count": 62
        }
      ]
    },
    {
      "cell_type": "code",
      "metadata": {
        "id": "fC3fBAi_684i"
      },
      "source": [
        "# Função para calcular a probabilidade de falha em uma única cache\n",
        "def calcula_falha(P):\n",
        "  estacionaria = forma_tupla(P)\n",
        "  falha = 0\n",
        "  for i in range(len(prob)):\n",
        "    for j in range(len(estacionaria)):\n",
        "      \n",
        "      if (prob[i][0] not in estacionaria[j][0]):\n",
        "        #print(\"\\nPi_\" + str(estacionaria[j][0])+\" * P(\" + str(prob[i][0]) + \")\")\n",
        "        #print(str(estacionaria[j][1])+\" * \" + str(prob[i][1]))\n",
        "        falha = falha + (prob[i][1]*estacionaria[j][1])\n",
        "        #print(\"Falha: \" + str(sucesso))\n",
        "  \n",
        "  return falha"
      ],
      "execution_count": 63,
      "outputs": []
    },
    {
      "cell_type": "code",
      "metadata": {
        "colab": {
          "base_uri": "https://localhost:8080/"
        },
        "id": "aP7RHWi68srg",
        "outputId": "5a4e4f41-20a5-45ec-aea8-6e8ddf3c6eb3"
      },
      "source": [
        "# Função para calcular falha em ambas as caches \n",
        "def falha_total(P):\n",
        "  sucesso_uma = 0\n",
        "  falha = 0\n",
        "  falha_uma = calcula_falha(P)\n",
        "  sucesso_uma = 1 - falha_uma\n",
        "\n",
        "  # Ftot = F*F\n",
        "  falha = falha_uma * falha_uma\n",
        "  sucesso = 1 - falha\n",
        "  print(sucesso)\n",
        "\n",
        "  return falha\n",
        "\n",
        "falha_total(markovCasoFIFO)"
      ],
      "execution_count": 64,
      "outputs": [
        {
          "output_type": "stream",
          "text": [
            "[0.33333333 0.         0.         0.33333333 0.33333333 0.        ]\n",
            "0.8888888888888888\n"
          ],
          "name": "stdout"
        },
        {
          "output_type": "execute_result",
          "data": {
            "text/plain": [
              "0.1111111111111111"
            ]
          },
          "metadata": {
            "tags": []
          },
          "execution_count": 64
        }
      ]
    }
  ]
}