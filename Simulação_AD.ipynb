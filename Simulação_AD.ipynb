{
  "nbformat": 4,
  "nbformat_minor": 0,
  "metadata": {
    "colab": {
      "name": "Simulação AD.ipynb",
      "provenance": [],
      "collapsed_sections": [
        "5aTNjkgw6BQE",
        "xZlCfWkcrxwt",
        "KdkPXO0Ct0Mx",
        "H5x6amW7r72u",
        "F3vgL7m44jUM",
        "SIa_whUE4oy5",
        "ID3wiy4TAcsL",
        "ToFXNIAv8eNI",
        "MXCb5PwF8eNQ",
        "SG4tshBM-cPg"
      ],
      "include_colab_link": true
    },
    "kernelspec": {
      "display_name": "Python 3",
      "name": "python3"
    },
    "language_info": {
      "name": "python"
    }
  },
  "cells": [
    {
      "cell_type": "markdown",
      "metadata": {
        "id": "view-in-github",
        "colab_type": "text"
      },
      "source": [
        "<a href=\"https://colab.research.google.com/github/siliconemonster/AD-TrabalhoFinal/blob/main/Simula%C3%A7%C3%A3o_AD.ipynb\" target=\"_parent\"><img src=\"https://colab.research.google.com/assets/colab-badge.svg\" alt=\"Open In Colab\"/></a>"
      ]
    },
    {
      "cell_type": "markdown",
      "metadata": {
        "id": "5aTNjkgw6BQE"
      },
      "source": [
        "## Importando bibliotecas"
      ]
    },
    {
      "cell_type": "code",
      "metadata": {
        "id": "9qMnzYxPsbKS"
      },
      "source": [
        "import random\n",
        "from random import sample\n",
        "from random import random\n",
        "from matplotlib import pyplot as plt\n",
        "from matplotlib.legend_handler import HandlerLine2D\n",
        "from collections import Counter\n",
        "import sympy as sy\n",
        "from numpy.linalg import matrix_power\n",
        "from fractions import Fraction\n",
        "import math\n",
        "from math import *\n",
        "import numpy as np\n",
        "from numpy import random\n",
        "import pandas as pd\n",
        "import queue \n",
        "from scipy.stats import poisson\n",
        "import copy"
      ],
      "execution_count": 19,
      "outputs": []
    },
    {
      "cell_type": "markdown",
      "metadata": {
        "id": "xZlCfWkcrxwt"
      },
      "source": [
        "## Funções Auxiliares"
      ]
    },
    {
      "cell_type": "code",
      "metadata": {
        "id": "X2yM60ijtmPG"
      },
      "source": [
        "def initializeCache():  \n",
        "  cache = sample([1,2,3], k= 2)\n",
        "  return cache"
      ],
      "execution_count": null,
      "outputs": []
    },
    {
      "cell_type": "code",
      "metadata": {
        "id": "YKYi5IdttmPH"
      },
      "source": [
        "def cacheReceivesReq(caso, cache, requisicao):\n",
        "  RequicaoAtendida = 0\n",
        "  #print(\"Conteudo Requisicao: \" + str(requisicao))\n",
        "  #print(\"Cache:\" + str(cache))\n",
        "\n",
        "  if (requisicao in cache):\n",
        "    if(caso == \"FIFO\" or caso == \"Random\" or caso == \"Estatica\"):\n",
        "      cache = cache\n",
        "      RequicaoAtendida = 1    \n",
        "      #print(\"Cache possui requisção!\") \n",
        "\n",
        "    elif (caso == \"LRU\"):\n",
        "      RequicaoAtendida = 1    \n",
        "      #print(\"Cache possui requisição!\")\n",
        "\n",
        "      cache.remove(requisicao)\n",
        "      cache.insert(0, requisicao)\n",
        "      #print(\"Novo estado da cache: \" + str(cache)) \n",
        "   \n",
        "  else:\n",
        "    if (caso == \"FIFO\" or caso == \"LRU\"):\n",
        "      cache.insert(0, requisicao)\n",
        "      del cache[-1]\n",
        "      #print(\"Novo estado da cache: \" + str(cache)) \n",
        "\n",
        "    elif (caso == \"Random\"):\n",
        "      cache.insert(0, requisicao)\n",
        "      del cache[random.randint(-2,0)]\n",
        "      #print(\"Novo estado da cache: \" + str(cache)) \n",
        "\n",
        "  return cache, RequicaoAtendida"
      ],
      "execution_count": null,
      "outputs": []
    },
    {
      "cell_type": "markdown",
      "metadata": {
        "id": "KdkPXO0Ct0Mx"
      },
      "source": [
        "## I. Simulação Cenário I"
      ]
    },
    {
      "cell_type": "code",
      "metadata": {
        "id": "suVu9BaPsR72"
      },
      "source": [
        "\n",
        "def simulacaoCenario1(numRequisicoes, caso):\n",
        "\n",
        "  Requisicoes = [[1,3],[2,2],[3,1]]\n",
        "  cache1 = initializeCache()\n",
        "  cache2 = initializeCache()\n",
        "  sucessos = 0 # contador de sucessos\n",
        "  requisicoes = 0 # contador de requisições\n",
        "\n",
        "  taxa = [1/3,1/3,1/3]\n",
        "\n",
        "  while (requisicoes <= numRequisicoes):\n",
        "\n",
        "    RequicaoAtendida = 0\n",
        "\n",
        "    evento = Requisicoes[0]\n",
        "    tempoAtual = evento[0]\n",
        "    conteudo = evento[1]\n",
        "\n",
        "    print(\"Tempo \" + str(tempoAtual) + \" ocorreu requesição do tipo \" + str(conteudo))\n",
        "    print(\"Cache 1:\" + str(cache1))\n",
        "    print(\"Cache 2:\" + str(cache2))\n",
        "\n",
        "    cache1, RequicaoAtendida = cacheReceivesReq(caso, cache1, conteudo)\n",
        "    cache2, RequicaoAtendida = cacheReceivesReq(caso, cache2, conteudo)  \n",
        "\n",
        "\n",
        "    if (RequicaoAtendida):\n",
        "      sucessos = sucessos + 1\n",
        "      print(\"Requisição foi atendida yay! \\n\")\n",
        "    \n",
        "    else:\n",
        "      print(\"Requisição não foi atendida :/ ! \\n\")\n",
        "\n",
        "    del Requisicoes[0]\n",
        "\n",
        "    tempoAgendado = tempoAtual + np.random.exponential(1/taxa[conteudo-1])\n",
        "    Requisicoes.append([tempoAgendado,conteudo])  \n",
        "    Requisicoes = sorted(Requisicoes, key=lambda tup: tup[0])\n",
        "\n",
        "    requisicoes = requisicoes + 1\n",
        "    print(\"Sucessos: \" + str(sucessos))\n"
      ],
      "execution_count": null,
      "outputs": []
    },
    {
      "cell_type": "markdown",
      "metadata": {
        "id": "H5x6amW7r72u"
      },
      "source": [
        "## Implementações Antigas"
      ]
    },
    {
      "cell_type": "code",
      "metadata": {
        "id": "Mo4sZoaDxF40"
      },
      "source": [
        "def simulacaoCenario1(tipo, trials): \n",
        "    \n",
        "  mediaSucessos = []\n",
        "\n",
        "  for i in range(trials):\n",
        "\n",
        "    queueCache1 = {}\n",
        "    queueCache2 = {}\n",
        "\n",
        "    sucesso = 0\n",
        "    mediaSucesso = 0  \n",
        "\n",
        "    cache1 = initializeCache()\n",
        "    cache2 = initializeCache()\n",
        "\n",
        "    reqAtendidasC1 = []\n",
        "    reqAtendidasC2 = []\n",
        "\n",
        "\n",
        "    t = 0\n",
        "    max = 1000\n",
        "    while (t < max):\n",
        "\n",
        "      RequicaoAtendida = 0\n",
        "      requisicao = random.randint(1,4)\n",
        "\n",
        "      #print(\"Conteudo Requisitado: \" + str(requisicao))\n",
        "      #print(\"Cache 1: \" + str(cache1))\n",
        "      #print(\"Cache 2: \" + str(cache2))\n",
        "\n",
        "\n",
        "      TempoC1 = np.random.poisson(1/3,1)\n",
        "      requisicaoTempoC1 = t + TempoC1[0]\n",
        "      TempoC2 = np.random.poisson(1/3,1)\n",
        "      requisicaoTempoC2 = t + TempoC2[0]      \n",
        "\n",
        "\n",
        "      # Inserindo a requisição na fila\n",
        "      queueCache1[\"req\" + str(t)] = [requisicaoTempoC1,requisicao]\n",
        "      queueCache2[\"req\" + str(t)] = [requisicaoTempoC2,requisicao]\n",
        "      \n",
        "      # OrdenandO a Fila\n",
        "      queueCache1 = {k: v for k, v in sorted(queueCache1.items(), key=lambda item: item[1])}\n",
        "      queueCache2 = {k: v for k, v in sorted(queueCache2.items(), key=lambda item: item[1])}\n",
        "\n",
        "      #print(\"Fila cache 1:\" + str(queueCache1))\n",
        "      #print(\"Fila cache 2:\" + str(queueCache2))\n",
        "\n",
        "      while (1):\n",
        "\n",
        "        if (len(queueCache1)>0):\n",
        "          primRequisicao = list(queueCache1.keys())[0]\n",
        "          requisicao = queueCache1[primRequisicao]\n",
        "          conteudoReq = requisicao[1]          \n",
        "          tempoReeq = requisicao[0]\n",
        "\n",
        "          if (tempoReeq == t):\n",
        "            del queueCache1[primRequisicao]\n",
        "            #print(str(primRequisicao) + \" vai para a cache 1\")\n",
        "            cache1, RequicaoAtendida = cacheReceivesReq(tipo, cache1, conteudoReq)\n",
        "            if (RequicaoAtendida):\n",
        "              reqAtendidasC1.append(primRequisicao)\n",
        "              #print(\"Requisição atendida\")\n",
        "            #else:\n",
        "              #print(\"Requisição não atendida\")\n",
        "\n",
        "\n",
        "          else: break\n",
        "\n",
        "        else: break\n",
        "\n",
        "      while (1):\n",
        "\n",
        "        if(len(queueCache2)>0):\n",
        "\n",
        "          primRequisicao = list(queueCache2.keys())[0]\n",
        "          requisicao = queueCache2[primRequisicao]\n",
        "          conteudoReq = requisicao[1]\n",
        "          tempoReeq = requisicao[0]\n",
        "\n",
        "          if (tempoReeq == t):\n",
        "            del queueCache2[primRequisicao]\n",
        "            #print(str(primRequisicao) + \" vai para a cache 2\")\n",
        "            cache2, RequicaoAtendida = cacheReceivesReq(tipo, cache2, conteudoReq)\n",
        "            if (RequicaoAtendida):\n",
        "              reqAtendidasC2.append(primRequisicao)\n",
        "              #print(\"Requisição atendida\")\n",
        "            #else:\n",
        "              #print(\"Requisição não atendida\")\n",
        "\n",
        "          else: break\n",
        "        \n",
        "        else: break\n",
        "\n",
        "      #if(RequicaoAtendida):\n",
        "          #print(\"Sucesso!\")\n",
        "\n",
        "      t = t + 1\n",
        "\n",
        "      \n",
        "    #print(reqAtendidasC1)\n",
        "    #print(reqAtendidasC2)\n",
        "    reqAtendidas = list(set(reqAtendidasC1).union(set(reqAtendidasC2)))\n",
        "    #print(reqAtendidas)\n",
        "    sucessos = len(reqAtendidas)\n",
        "    #print(\"Sucessos = \" + str(sucessos))\n",
        "    mediaSucessos.append(sucessos/t)\n",
        "    \n",
        "  \n",
        "  print(\"Media Sucessos = \" + str(mediaSucessos))\n",
        "\n",
        "    \n",
        "  return mediaSucessos\n"
      ],
      "execution_count": null,
      "outputs": []
    },
    {
      "cell_type": "code",
      "metadata": {
        "colab": {
          "base_uri": "https://localhost:8080/"
        },
        "id": "YmwpbinAS2TB",
        "outputId": "8c0f012a-9003-4bb1-8a92-c2cb5d5d12bd"
      },
      "source": [
        "simulacaoCenario1(\"LRU\", 3)"
      ],
      "execution_count": null,
      "outputs": [
        {
          "output_type": "stream",
          "text": [
            "Media Sucessos = [0.715, 0.71, 0.708]\n"
          ],
          "name": "stdout"
        },
        {
          "output_type": "execute_result",
          "data": {
            "text/plain": [
              "[0.715, 0.71, 0.708]"
            ]
          },
          "metadata": {
            "tags": []
          },
          "execution_count": 7
        }
      ]
    },
    {
      "cell_type": "code",
      "metadata": {
        "colab": {
          "base_uri": "https://localhost:8080/"
        },
        "id": "SdcO_0Cg_9LI",
        "outputId": "d11c3c81-ae27-4c3b-d92e-6701ab21b99e"
      },
      "source": [
        "random.seed(8)\n",
        "tipo = \"FIFO\"\n",
        "\n",
        "queueCache1 = {}\n",
        "queueCache2 = {}\n",
        "\n",
        "sucesso = 0\n",
        "mediaSucesso = 0  \n",
        "\n",
        "cache1 = initializeCache()\n",
        "cache2 = initializeCache()\n",
        "t = 0\n",
        "max = 10\n",
        "while (t < max):\n",
        "\n",
        "  RequicaoAtendida = 0\n",
        "  requisicao = random.randint(1,4)\n",
        "\n",
        "  print(\"Conteudo Requisitado: \" + str(requisicao))\n",
        "  print(\"Cache 1: \" + str(cache1))\n",
        "  print(\"Cache 2: \" + str(cache2))\n",
        "\n",
        "\n",
        "  TempoC1 = np.random.poisson(1/3,1)\n",
        "  requisicaoTempoC1 = t + TempoC1[0]\n",
        "  TempoC2 = np.random.poisson(1/3,1)\n",
        "  requisicaoTempoC2 = t + TempoC2[0]      \n",
        "\n",
        "\n",
        "  # Inserindo a requisição na fila\n",
        "  queueCache1[\"req\" + str(t)] = [requisicaoTempoC1,requisicao]\n",
        "  queueCache2[\"req\" + str(t)] = [requisicaoTempoC2,requisicao]\n",
        "  \n",
        "  # OrdenandO a Fila\n",
        "  queueCache1 = {k: v for k, v in sorted(queueCache1.items(), key=lambda item: item[1])}\n",
        "  queueCache2 = {k: v for k, v in sorted(queueCache2.items(), key=lambda item: item[1])}\n",
        "\n",
        "  print(\"Fila cache 1:\" + str(queueCache1))\n",
        "  print(\"Fila cache 2:\" + str(queueCache2))\n",
        "\n",
        "  while (1):\n",
        "\n",
        "    if (len(queueCache1)>0):\n",
        "      primRequisicao = list(queueCache1.keys())[0]\n",
        "      requisicao = queueCache1[primRequisicao]\n",
        "      conteudoReq = requisicao[1]\n",
        "      tempoReeq = requisicao[0]\n",
        "\n",
        "      if (tempoReeq == t):\n",
        "        del queueCache1[primRequisicao]\n",
        "        print(str(primRequisicao) + \" vai para a cache 1\")\n",
        "        cache1, RequicaoAtendida = cacheReceivesReq(tipo, cache1, conteudoReq)\n",
        "        if (RequicaoAtendida):\n",
        "          print(\"Requisição atendida\")\n",
        "        else:\n",
        "          print(\"Requisição não atendida\")\n",
        "\n",
        "\n",
        "      else: break\n",
        "\n",
        "    else: break\n",
        "\n",
        "  while (1):\n",
        "\n",
        "    if(len(queueCache2)>0):\n",
        "\n",
        "      primRequisicao = list(queueCache2.keys())[0]\n",
        "      requisicao = queueCache2[primRequisicao]\n",
        "      conteudoReq = requisicao[1]\n",
        "      tempoReeq = requisicao[0]\n",
        "\n",
        "      if (tempoReeq == t):\n",
        "        del queueCache2[primRequisicao]\n",
        "        print(str(primRequisicao) + \" vai para a cache 2\")\n",
        "        cache2, RequicaoAtendida = cacheReceivesReq(tipo, cache2, conteudoReq)\n",
        "        if (RequicaoAtendida):\n",
        "          print(\"Requisição atendida\")\n",
        "        else:\n",
        "          print(\"Requisição não atendida\")\n",
        "\n",
        "      else: break\n",
        "    \n",
        "    else: break\n",
        "\n",
        "  if(RequicaoAtendida):\n",
        "      print(\"Sucesso!\")\n",
        "      sucesso = sucesso + 1  \n",
        "\n",
        "  t = t + 1\n",
        "  print(\"\")"
      ],
      "execution_count": null,
      "outputs": [
        {
          "output_type": "stream",
          "text": [
            "Conteudo Requisitado: 1\n",
            "Cache 1: [2, 3]\n",
            "Cache 2: [2, 1]\n",
            "Fila cache 1:{'req0': [2, 1]}\n",
            "Fila cache 2:{'req0': [0, 1]}\n",
            "req0 vai para a cache 2\n",
            "Requisição atendida\n",
            "Sucesso!\n",
            "\n",
            "Conteudo Requisitado: 1\n",
            "Cache 1: [2, 3]\n",
            "Cache 2: [2, 1]\n",
            "Fila cache 1:{'req1': [1, 1], 'req0': [2, 1]}\n",
            "Fila cache 2:{'req1': [2, 1]}\n",
            "req1 vai para a cache 1\n",
            "Requisição não atendida\n",
            "\n",
            "Conteudo Requisitado: 1\n",
            "Cache 1: [1, 2]\n",
            "Cache 2: [2, 1]\n",
            "Fila cache 1:{'req0': [2, 1], 'req2': [3, 1]}\n",
            "Fila cache 2:{'req1': [2, 1], 'req2': [2, 1]}\n",
            "req0 vai para a cache 1\n",
            "Requisição atendida\n",
            "req1 vai para a cache 2\n",
            "Requisição atendida\n",
            "req2 vai para a cache 2\n",
            "Requisição atendida\n",
            "Sucesso!\n",
            "\n",
            "Conteudo Requisitado: 3\n",
            "Cache 1: [1, 2]\n",
            "Cache 2: [2, 1]\n",
            "Fila cache 1:{'req2': [3, 1], 'req3': [4, 3]}\n",
            "Fila cache 2:{'req3': [3, 3]}\n",
            "req2 vai para a cache 1\n",
            "Requisição atendida\n",
            "req3 vai para a cache 2\n",
            "Requisição não atendida\n",
            "\n",
            "Conteudo Requisitado: 1\n",
            "Cache 1: [1, 2]\n",
            "Cache 2: [3, 2]\n",
            "Fila cache 1:{'req3': [4, 3], 'req4': [5, 1]}\n",
            "Fila cache 2:{'req4': [4, 1]}\n",
            "req3 vai para a cache 1\n",
            "Requisição não atendida\n",
            "req4 vai para a cache 2\n",
            "Requisição não atendida\n",
            "\n",
            "Conteudo Requisitado: 3\n",
            "Cache 1: [3, 1]\n",
            "Cache 2: [1, 3]\n",
            "Fila cache 1:{'req4': [5, 1], 'req5': [5, 3]}\n",
            "Fila cache 2:{'req5': [5, 3]}\n",
            "req4 vai para a cache 1\n",
            "Requisição atendida\n",
            "req5 vai para a cache 1\n",
            "Requisição atendida\n",
            "req5 vai para a cache 2\n",
            "Requisição atendida\n",
            "Sucesso!\n",
            "\n",
            "Conteudo Requisitado: 2\n",
            "Cache 1: [3, 1]\n",
            "Cache 2: [1, 3]\n",
            "Fila cache 1:{'req6': [6, 2]}\n",
            "Fila cache 2:{'req6': [6, 2]}\n",
            "req6 vai para a cache 1\n",
            "Requisição não atendida\n",
            "req6 vai para a cache 2\n",
            "Requisição não atendida\n",
            "\n",
            "Conteudo Requisitado: 1\n",
            "Cache 1: [2, 3]\n",
            "Cache 2: [2, 1]\n",
            "Fila cache 1:{'req7': [7, 1]}\n",
            "Fila cache 2:{'req7': [8, 1]}\n",
            "req7 vai para a cache 1\n",
            "Requisição não atendida\n",
            "\n",
            "Conteudo Requisitado: 2\n",
            "Cache 1: [1, 2]\n",
            "Cache 2: [2, 1]\n",
            "Fila cache 1:{'req8': [9, 2]}\n",
            "Fila cache 2:{'req7': [8, 1], 'req8': [8, 2]}\n",
            "req7 vai para a cache 2\n",
            "Requisição atendida\n",
            "req8 vai para a cache 2\n",
            "Requisição atendida\n",
            "Sucesso!\n",
            "\n",
            "Conteudo Requisitado: 3\n",
            "Cache 1: [1, 2]\n",
            "Cache 2: [2, 1]\n",
            "Fila cache 1:{'req8': [9, 2], 'req9': [9, 3]}\n",
            "Fila cache 2:{'req9': [9, 3]}\n",
            "req8 vai para a cache 1\n",
            "Requisição atendida\n",
            "req9 vai para a cache 1\n",
            "Requisição não atendida\n",
            "req9 vai para a cache 2\n",
            "Requisição não atendida\n",
            "\n"
          ],
          "name": "stdout"
        }
      ]
    },
    {
      "cell_type": "code",
      "metadata": {
        "id": "SCHbJ8UVpCpy"
      },
      "source": [
        "def simulacaoCenario2(tipo, trials):\n",
        "  queueCache1 = {}\n",
        "  queueCache2 = {}\n",
        "  sucesso = 0\n",
        "  mediaSucesso = 0  \n",
        "  cache1 = initializeCache()\n",
        "  cache2 = initializeCache()\n",
        "  usermiss = 0\n",
        "\n",
        "  \n",
        "  for i in range (trials):\n",
        "    RequicaoAtendida = 0\n",
        "\n",
        "    canal1 = random.rand()\n",
        "    canal1falhou = 1\n",
        "    sucessoc1 = 0\n",
        "    requisicao = random.randint(1,4) \n",
        "\n",
        "    #print(\"\\n Requisição: \" + str(requisicao))\n",
        "    #print(\"Cache 1: \" + str(cache1))\n",
        "    #print(\"Cache 2: \" + str(cache2))\n",
        "\n",
        "    if(canal1 <= 0.9):\n",
        "      cache1, RequicaoAtendida = cacheReceivesReq(tipo, cache1, requisicao)\n",
        "    #else:\n",
        "     # print(\"Canal Falhou\")\n",
        "\n",
        "    canal2 = random.rand()\n",
        "    if(canal2 <= 0.9):        \n",
        "      cache2, RequicaoAtendida = cacheReceivesReq(tipo, cache2, requisicao)\n",
        "    #else:\n",
        "     # print(\"Canal Falhou\")\n",
        "\n",
        "    if(RequicaoAtendida):\n",
        "      sucesso = sucesso + 1\n",
        "\n",
        "    else:\n",
        "      usermiss = usermiss + 1\n",
        "  print(\"Media Sucessos = \" + str(sucesso/trials)) \n",
        "  print(\"Usermiss = \" + str(usermiss))\n",
        "  print(\"Media Usermiss = \" + str(usermiss/trials))"
      ],
      "execution_count": null,
      "outputs": []
    },
    {
      "cell_type": "code",
      "metadata": {
        "colab": {
          "base_uri": "https://localhost:8080/",
          "height": 278
        },
        "id": "tRDNIWj52M0F",
        "outputId": "33c99f99-4fe9-4478-915a-6f08733159ae"
      },
      "source": [
        "simulacaoCenario1(\"FIFO\", 100000)"
      ],
      "execution_count": null,
      "outputs": [
        {
          "output_type": "error",
          "ename": "KeyboardInterrupt",
          "evalue": "ignored",
          "traceback": [
            "\u001b[0;31m---------------------------------------------------------------------------\u001b[0m",
            "\u001b[0;31mKeyboardInterrupt\u001b[0m                         Traceback (most recent call last)",
            "\u001b[0;32m<ipython-input-10-ecfc0f21dd9e>\u001b[0m in \u001b[0;36m<module>\u001b[0;34m()\u001b[0m\n\u001b[0;32m----> 1\u001b[0;31m \u001b[0msimulacaoCenario1\u001b[0m\u001b[0;34m(\u001b[0m\u001b[0;34m\"FIFO\"\u001b[0m\u001b[0;34m,\u001b[0m \u001b[0;36m100000\u001b[0m\u001b[0;34m)\u001b[0m\u001b[0;34m\u001b[0m\u001b[0;34m\u001b[0m\u001b[0m\n\u001b[0m",
            "\u001b[0;32m<ipython-input-6-892e0300ee03>\u001b[0m in \u001b[0;36msimulacaoCenario1\u001b[0;34m(tipo, trials)\u001b[0m\n\u001b[1;32m     32\u001b[0m       \u001b[0mTempoC1\u001b[0m \u001b[0;34m=\u001b[0m \u001b[0mnp\u001b[0m\u001b[0;34m.\u001b[0m\u001b[0mrandom\u001b[0m\u001b[0;34m.\u001b[0m\u001b[0mpoisson\u001b[0m\u001b[0;34m(\u001b[0m\u001b[0;36m1\u001b[0m\u001b[0;34m/\u001b[0m\u001b[0;36m3\u001b[0m\u001b[0;34m,\u001b[0m\u001b[0;36m1\u001b[0m\u001b[0;34m)\u001b[0m\u001b[0;34m\u001b[0m\u001b[0;34m\u001b[0m\u001b[0m\n\u001b[1;32m     33\u001b[0m       \u001b[0mrequisicaoTempoC1\u001b[0m \u001b[0;34m=\u001b[0m \u001b[0mt\u001b[0m \u001b[0;34m+\u001b[0m \u001b[0mTempoC1\u001b[0m\u001b[0;34m[\u001b[0m\u001b[0;36m0\u001b[0m\u001b[0;34m]\u001b[0m\u001b[0;34m\u001b[0m\u001b[0;34m\u001b[0m\u001b[0m\n\u001b[0;32m---> 34\u001b[0;31m       \u001b[0mTempoC2\u001b[0m \u001b[0;34m=\u001b[0m \u001b[0mnp\u001b[0m\u001b[0;34m.\u001b[0m\u001b[0mrandom\u001b[0m\u001b[0;34m.\u001b[0m\u001b[0mpoisson\u001b[0m\u001b[0;34m(\u001b[0m\u001b[0;36m1\u001b[0m\u001b[0;34m/\u001b[0m\u001b[0;36m3\u001b[0m\u001b[0;34m,\u001b[0m\u001b[0;36m1\u001b[0m\u001b[0;34m)\u001b[0m\u001b[0;34m\u001b[0m\u001b[0;34m\u001b[0m\u001b[0m\n\u001b[0m\u001b[1;32m     35\u001b[0m       \u001b[0mrequisicaoTempoC2\u001b[0m \u001b[0;34m=\u001b[0m \u001b[0mt\u001b[0m \u001b[0;34m+\u001b[0m \u001b[0mTempoC2\u001b[0m\u001b[0;34m[\u001b[0m\u001b[0;36m0\u001b[0m\u001b[0;34m]\u001b[0m\u001b[0;34m\u001b[0m\u001b[0;34m\u001b[0m\u001b[0m\n\u001b[1;32m     36\u001b[0m \u001b[0;34m\u001b[0m\u001b[0m\n",
            "\u001b[0;31mKeyboardInterrupt\u001b[0m: "
          ]
        }
      ]
    },
    {
      "cell_type": "code",
      "metadata": {
        "id": "Gv0eFTYyCEuy"
      },
      "source": [
        "simulacaoCenario1(\"LRU\", 100000)"
      ],
      "execution_count": null,
      "outputs": []
    },
    {
      "cell_type": "code",
      "metadata": {
        "id": "wGdrCsefCUc8"
      },
      "source": [
        "simulacaoCenario1(\"Random\", 100000)"
      ],
      "execution_count": null,
      "outputs": []
    },
    {
      "cell_type": "code",
      "metadata": {
        "id": "4HMg7hOnr438"
      },
      "source": [
        "simulacaoCenario2(\"FIFO\", 100000)"
      ],
      "execution_count": null,
      "outputs": []
    },
    {
      "cell_type": "markdown",
      "metadata": {
        "id": "BJVKHwXVt2V6"
      },
      "source": [
        "## Parte Analítica"
      ]
    },
    {
      "cell_type": "markdown",
      "metadata": {
        "id": "L94gjOxJigqZ"
      },
      "source": [
        "### Cenário 1\n",
        "\n"
      ]
    },
    {
      "cell_type": "markdown",
      "metadata": {
        "id": "oBXzvgMIvJd2"
      },
      "source": [
        "Determinamos matrizes de transição dos tipos FIFO, LRU e Random para realizar as nossas análises por cadeias de Markov.<br>\n",
        "Não ocorre de haver dois conteúdos iguais em uma mesma cache, então nunca teremos os estados AA, BB ou CC. Com isso, a matriz FIFO e a matriz LRU possuem os estados AB, AC, BA, BC, CA e CB. Já a matriz Random e a matriz Estática possuem os estados AB, AC e BC. No caso da Random, como o conteúdo é removido aleatoriamente, não importa a ordem, por exemplo se é AB ou BA, e por isso temos apenas esses 3 estados. E no caso da estática, por ela sempre armazenar os conteúdos mais populares e nunca mudar, a ordem também não importa."
      ]
    },
    {
      "cell_type": "markdown",
      "metadata": {
        "id": "zz5oYxmEsL2x"
      },
      "source": [
        "Aqui calcularemos a probabilidade de sucesso utilizando cadeias de Markov para comprovar analíticamente o que fizemos na simulação."
      ]
    },
    {
      "cell_type": "markdown",
      "metadata": {
        "id": "F3vgL7m44jUM"
      },
      "source": [
        "#### Funções"
      ]
    },
    {
      "cell_type": "code",
      "metadata": {
        "id": "EPVt8yZVATok"
      },
      "source": [
        "# Função para calcular a distribuição estacionária de uma cadeia de Markov por meio de uma matriz de transição P\n",
        "def dist_estacionaria(P):\n",
        "  evals, evecs = np.linalg.eig(P.T) #We have to transpose so that Markov transitions correspond to right multiplying by a column vector.  np.linalg.eig finds right eigenvectors.\n",
        "  evec1 = evecs[:,np.isclose(evals, 1)]\n",
        "  evec1 = evec1[:,0]\n",
        "  stationary = evec1 / evec1.sum()\n",
        "  stationary = stationary.real # parte real (acha autovalores e autovetores complexos)\n",
        "\n",
        "  #print(stationary)\n",
        "  return stationary"
      ],
      "execution_count": 20,
      "outputs": []
    },
    {
      "cell_type": "code",
      "metadata": {
        "id": "4X3QBwO1uXCa"
      },
      "source": [
        "# Função para transformar a distribuição estacionária em uma tupla\n",
        "def forma_tupla(P):\n",
        "  estacionaria_nomes = copy.deepcopy(estados)\n",
        "  estacionaria_valores = dist_estacionaria(P)\n",
        "\n",
        "  for i in range (len(estacionaria_valores)):\n",
        "    estacionaria_nomes[i].append(estacionaria_valores[i])\n",
        "\n",
        "  print(\"A distribuição estacionária é dada por: \" + str(estacionaria_nomes))\n",
        "  return estacionaria_nomes"
      ],
      "execution_count": 21,
      "outputs": []
    },
    {
      "cell_type": "code",
      "metadata": {
        "id": "6267-b-EiSDY"
      },
      "source": [
        "# Função para calcular a probabilidade de sucesso em uma única cache\n",
        "def calcula_sucesso(P):\n",
        "  estacionaria = forma_tupla(P)\n",
        "  sucesso = 0\n",
        "  for i in range(len(prob)):\n",
        "    for j in range(len(estacionaria)):\n",
        "      \n",
        "      if (prob[i][0] in estacionaria[j][0]):\n",
        "        #print(\"\\nPi_\" + str(estacionaria[j][0])+\" * P(\" + str(prob[i][0]) + \")\")\n",
        "        #print(str(estacionaria[j][1])+\" * \" + str(prob[i][1]))\n",
        "        sucesso = sucesso + (prob[i][1]*estacionaria[j][1])\n",
        "        #print(\"Sucesso: \" + str(sucesso))\n",
        "  \n",
        "  return sucesso"
      ],
      "execution_count": 22,
      "outputs": []
    },
    {
      "cell_type": "code",
      "metadata": {
        "id": "HYS57W7OzoDf"
      },
      "source": [
        "# Função para calcular sucesso em ambas as caches \n",
        "def sucesso_total(P):\n",
        "  sucesso = 0\n",
        "  falha_uma = 0\n",
        "  sucesso_uma = calcula_sucesso(P)\n",
        "  falha_uma = 1 - sucesso_uma\n",
        "\n",
        "  # Stot = S*S + S*F (OU A ORDEM IMPORTA??? 2*S*F???)\n",
        "  sucesso = sucesso_uma * sucesso_uma + sucesso_uma * falha_uma\n",
        "  falha = 1 - sucesso\n",
        "  print(\"A probabilidade de sucesso é de \" + str(sucesso))\n",
        "  return sucesso"
      ],
      "execution_count": 23,
      "outputs": []
    },
    {
      "cell_type": "markdown",
      "metadata": {
        "id": "SIa_whUE4oy5"
      },
      "source": [
        "####Casos com 3 conteúdos"
      ]
    },
    {
      "cell_type": "code",
      "metadata": {
        "id": "dbpS_QE_gz0d"
      },
      "source": [
        "# declaração das probabilidades de sair cada tipo de requisção\n",
        "prob = [[\"A\", 1/3], [\"B\", 1/3], [\"C\", 1/3]]"
      ],
      "execution_count": 26,
      "outputs": []
    },
    {
      "cell_type": "code",
      "metadata": {
        "colab": {
          "base_uri": "https://localhost:8080/"
        },
        "id": "-oZKmyja3cRx",
        "outputId": "3418f6a0-50d3-44cc-9cf2-f630ed6e4e03"
      },
      "source": [
        "#Caso FIFO\n",
        "estados = [[\"AB\"], [\"AC\"], [\"BA\"], [\"BC\"], [\"CA\"], [\"CB\"]] \n",
        "markovCasoFIFO = np.array([[2/3, 0, 0, 0, 1/3, 0], \n",
        "                           [0, 2/3, 1/3, 0, 0, 0],\n",
        "                           [0, 0, 2/3, 0, 0, 1/3],\n",
        "                           [1/3, 0, 0, 2/3, 0, 0],\n",
        "                           [0, 0, 0, 1/3, 2/3, 0],\n",
        "                           [0, 1/3, 0, 0, 0, 2/3]])\n",
        "\n",
        "sucesso_total(markovCasoFIFO)"
      ],
      "execution_count": 27,
      "outputs": [
        {
          "output_type": "stream",
          "text": [
            "A distribuição estacionária é dada por: [['AB', 0.3333333333333337], ['AC', 0.0], ['BA', 0.0], ['BC', 0.33333333333333337], ['CA', 0.3333333333333329], ['CB', 0.0]]\n",
            "A probabilidade de sucesso é de 0.6666666666666666\n"
          ],
          "name": "stdout"
        },
        {
          "output_type": "execute_result",
          "data": {
            "text/plain": [
              "0.6666666666666666"
            ]
          },
          "metadata": {
            "tags": []
          },
          "execution_count": 27
        }
      ]
    },
    {
      "cell_type": "code",
      "metadata": {
        "id": "1yXybIJFCtWg"
      },
      "source": [
        "#Caso FIFO\n",
        "estados = [[\"AB\"], [\"AC\"], [\"BA\"], [\"BC\"], [\"CA\"], [\"CB\"]] \n",
        "markovCasoFIFO = np.array([[2/3, 0, 0, 0, 1/3, 0], \n",
        "                           [0, 2/3, 1/3, 0, 0, 0],\n",
        "                           [0, 0, 2/3, 0, 0, 1/3],\n",
        "                           [1/3, 0, 0, 2/3, 0, 0],\n",
        "                           [0, 0, 0, 1/3, 2/3, 0],\n",
        "                           [0, 1/3, 0, 0, 0, 2/3]])"
      ],
      "execution_count": null,
      "outputs": []
    },
    {
      "cell_type": "code",
      "metadata": {
        "id": "oTJlwpbS3mhl"
      },
      "source": [
        "#Caso LRU\n",
        "estados = [[\"AB\"], [\"AC\"], [\"BA\"], [\"BC\"], [\"CA\"], [\"CB\"]]\n",
        "markovCasoLRU  = np.array([[1/3, 0, 1/3, 0, 1/3, 0], \n",
        "                           [0, 1/3, 1/3, 0, 1/3, 0],\n",
        "                           [1/3, 0, 1/3, 0, 0, 1/3],\n",
        "                           [1/3, 0, 0, 1/3, 0, 1/3],\n",
        "                           [0, 1/3, 0, 1/3, 1/3, 0],\n",
        "                           [0, 1/3, 0, 1/3, 0, 1/3]])\n",
        "\n",
        "sucesso_total(markovCasoLRU)"
      ],
      "execution_count": null,
      "outputs": []
    },
    {
      "cell_type": "code",
      "metadata": {
        "id": "Hjx9te1O3qx-"
      },
      "source": [
        "#Caso RANDOM\n",
        "estados = [[\"AB\"], [\"AC\"], [\"BC\"]]\n",
        "markovCasoRandom = np.array([[2/3, 1/6, 1/6], \n",
        "                             [1/6, 2/3, 1/6],\n",
        "                             [1/6, 1/6, 2/3]])\n",
        "sucesso_total(markovCasoRandom)"
      ],
      "execution_count": null,
      "outputs": []
    },
    {
      "cell_type": "code",
      "metadata": {
        "id": "PERQI2APKYRc"
      },
      "source": [
        "#Caso Estático\n",
        "estados = [[\"AB\"], [\"AC\"], [\"BC\"]]\n",
        "markovCasoEstatico  = np.array([[1, 0, 0], \n",
        "                                [0, 1, 0],\n",
        "                                [0, 0, 1]])\n",
        "\n",
        "calcula_sucesso(markovCasoEstatico)\n",
        "# o motivo de calcularmos o sucesso de apenas uma é que como as caches começam\n",
        "# iguais, e não há mudanças no meio do caminho. Por esse motivo, utilizamos a \n",
        "# função calcula_sucesso()"
      ],
      "execution_count": null,
      "outputs": []
    },
    {
      "cell_type": "markdown",
      "metadata": {
        "id": "ID3wiy4TAcsL"
      },
      "source": [
        "####Casos com 4 Conteúdos"
      ]
    },
    {
      "cell_type": "code",
      "metadata": {
        "id": "btrzFXRyAcsU"
      },
      "source": [
        "# declaração das probabilidades de sair cada tipo de requisção\n",
        "prob = [[\"A\", 1/4], [\"B\", 1/4], [\"C\", 1/4], [\"D\", 1/4]]"
      ],
      "execution_count": null,
      "outputs": []
    },
    {
      "cell_type": "code",
      "metadata": {
        "id": "u2VUI-9FAcsV"
      },
      "source": [
        "#Caso FIFO\n",
        "estados = [[\"AB\"], [\"AC\"], [\"AD\"], [\"BA\"], [\"BC\"], [\"BD\"], [\"CA\"], [\"CB\"], [\"CD\"], [\"DA\"], [\"DB\"], [\"DC\"]] \n",
        "markovCasoFIFO = np.array([[2/4, 0, 0, 0, 0, 0, 1/4, 0, 0, 1/4, 0, 0],\n",
        "                           [0, 2/4, 0, 1/4, 0, 0, 0, 0, 0, 1/4, 0, 0],\n",
        "                           [0, 0, 2/4, 1/4, 0, 0, 1/4, 0, 0, 0, 0, 0],\n",
        "                           [0, 0, 0, 2/4, 0, 0, 0, 1/4, 0, 0, 1/4, 0],\n",
        "                           [1/4, 0, 0, 0, 2/4, 0, 0, 0, 0, 0, 1/4, 0],\n",
        "                           [1/4, 0, 0, 0, 0, 2/4, 0, 1/4, 0, 0, 0, 0],\n",
        "                           [0, 0, 0, 0, 1/4, 0, 2/4, 0, 0, 0, 0, 1/4],\n",
        "                           [0, 1/4, 0, 0, 2/4, 0, 0, 0, 1/4, 0, 0, 0],\n",
        "                           [0, 1/4, 0, 0, 1/4, 0, 0, 0, 2/4, 0, 0, 0],\n",
        "                           [0, 0, 0, 0, 0, 1/4, 0, 0, 1/4, 2/4, 0, 0],\n",
        "                           [0, 0, 1/4, 0, 0, 0, 0, 0, 1/4, 0, 2/4, 0],\n",
        "                           [0, 0, 1/4, 0, 0, 1/4, 0, 0, 0, 0, 0, 2/4]])\n",
        "\n",
        "sucesso_total(markovCasoFIFO)"
      ],
      "execution_count": null,
      "outputs": []
    },
    {
      "cell_type": "code",
      "metadata": {
        "id": "yhXaMLHlAcsV"
      },
      "source": [
        "#Caso LRU\n",
        "estados = [[\"AB\"], [\"AC\"], [\"AD\"] , [\"BA\"], [\"BC\"], [\"BD\"] , [\"CA\"], [\"CB\"], [\"CD\"], [\"DA\"], [\"DB\"], [\"DC\"]] \n",
        "markovCasoLRU  = np.array([[2/4, 0, 0, 0, 0, 0, 1/4, 0, 0, 1/4, 0, 0],\n",
        "                           [0, 2/4, 0, 1/4, 0, 0, 0, 0, 0, 1/4, 0, 0],\n",
        "                           [0, 0, 2/4, 1/4, 0, 0, 1/4, 0, 0, 0, 0, 0],\n",
        "                           [0, 0, 0, 2/4, 0, 0, 0, 1/4, 0, 0, 1/4, 0],\n",
        "                           [1/4, 0, 0, 0, 2/4, 0, 0, 0, 0, 0, 1/4, 0],\n",
        "                           [1/4, 0, 0, 0, 0, 2/4, 0, 1/4, 0, 0, 0, 0],\n",
        "                           [0, 0, 0, 0, 1/4, 0, 2/4, 0, 0, 0, 0, 1/4],\n",
        "                           [0, 1/4, 0, 0, 2/4, 0, 0, 0, 1/4, 0, 0, 0],\n",
        "                           [0, 1/4, 0, 0, 1/4, 0, 0, 0, 2/4, 0, 0, 0],\n",
        "                           [0, 0, 0, 0, 0, 1/4, 0, 0, 1/4, 2/4, 0, 0],\n",
        "                           [0, 0, 1/4, 0, 0, 0, 0, 0, 1/4, 0, 2/4, 0],\n",
        "                           [0, 0, 1/4, 0, 0, 1/4, 0, 0, 0, 0, 0, 2/4]])\n",
        "\n",
        "sucesso_total(markovCasoLRU)"
      ],
      "execution_count": null,
      "outputs": []
    },
    {
      "cell_type": "code",
      "metadata": {
        "id": "yBD9dMuKAcsV"
      },
      "source": [
        "#Caso RANDOM\n",
        "estados = [[\"AB\"], [\"AC\"], [\"AD\"] , [\"BC\"], [\"BD\"], [\"CD\"]]\n",
        "markovCasoRandom = np.array([[2/4, 1/8, 1/8, 1/8, 1/8, 0],\n",
        "                             [1/8, 2/4, 1/8, 1/8, 0, 1/8],\n",
        "                             [1/8, 1/8, 2/4, 0, 1/8, 1/8],\n",
        "                             [1/8, 1/8, 0, 2/4, 1/8, 1/8],\n",
        "                             [1/8, 0, 1/8, 1/8, 2/4, 1/8],\n",
        "                             [0, 1/8, 1/8, 1/8, 1/8, 2/4]])\n",
        "\n",
        "sucesso_total(markovCasoRandom)"
      ],
      "execution_count": null,
      "outputs": []
    },
    {
      "cell_type": "code",
      "metadata": {
        "id": "6lH2WRBzOYeE"
      },
      "source": [
        "#Caso Estático\n",
        "estados = [[\"AB\"], [\"AC\"], [\"AD\"], [\"BC\"], [\"BD\"], [\"CD\"]]\n",
        "markovCasoEstatico  = np.array([[1, 0, 0, 0, 0, 0], \n",
        "                                [0, 1, 0, 0, 0, 0],\n",
        "                                [0, 0, 1, 0, 0, 0],\n",
        "                                [0, 0, 0, 1, 0, 0],\n",
        "                                [0, 0, 0, 0, 1, 0],\n",
        "                                [0, 0, 0, 0, 0, 1]])\n",
        "\n",
        "calcula_sucesso(markovCasoEstatico)"
      ],
      "execution_count": null,
      "outputs": []
    },
    {
      "cell_type": "markdown",
      "metadata": {
        "id": "ToFXNIAv8eNI"
      },
      "source": [
        "### Cenário 2\n",
        "\n"
      ]
    },
    {
      "cell_type": "markdown",
      "metadata": {
        "id": "V3Ylp3ue8eNQ"
      },
      "source": [
        "Temos as mesmas matrizes e os mesmos estados do cenário 1."
      ]
    },
    {
      "cell_type": "markdown",
      "metadata": {
        "id": "VSrhF4M18eNQ"
      },
      "source": [
        "Aqui calcularemos a probabilidade de user miss utilizando cadeias de Markov para comprovar analíticamente o que fizemos na simulação."
      ]
    },
    {
      "cell_type": "markdown",
      "metadata": {
        "id": "MXCb5PwF8eNQ"
      },
      "source": [
        "#### Funções"
      ]
    },
    {
      "cell_type": "markdown",
      "metadata": {
        "id": "frVoo4ygkF-p"
      },
      "source": [
        "As funções dist_estacionária(P), forma_tupla(P) e calcula_sucesso(P) se mantêm inalteradas."
      ]
    },
    {
      "cell_type": "code",
      "metadata": {
        "id": "0w04Px8AkTSr"
      },
      "source": [
        "# Função para calcular o user miss\n",
        "# Como precisamos que (falhe * falhe + falhe *  (não falhe * não tenha) + (não falhe * não tenha) * (não falhe * não tenha)),\n",
        "# podemos também calcular 1 - ((não falhe * tenha) * (não falhe * tenha) + (não falhe * tenha) * (não falhe * não tenha) + falhe * (não falhe * tenha))\n",
        "# 1 - os dois canais funcionarem e os dois terem, os dois canais funcionarem mas só um ter e um canal falhar e o outro ter\n",
        "def user_miss(P, p):\n",
        "  miss = 0\n",
        "  sucesso_uma = calcula_sucesso(P)\n",
        "  nao_tem_uma = 1 - sucesso_uma\n",
        "\n",
        "  sucesso = p * sucesso_uma * p * sucesso_uma + p * sucesso_uma * p * nao_tem_uma + (1-p) * p * sucesso_uma\n",
        "  miss = 1 - sucesso\n",
        "  print(\"A probabilidade de User Miss é de \" + str(miss))\n",
        "  return miss"
      ],
      "execution_count": null,
      "outputs": []
    },
    {
      "cell_type": "code",
      "metadata": {
        "id": "5eTxd6CZsOFq"
      },
      "source": [
        "def user_miss_estatica(P, p):\n",
        "  miss = 0\n",
        "  sucesso_uma = calcula_sucesso(P)\n",
        "  nao_tem_uma = 1 - sucesso_uma\n",
        "\n",
        "  miss = (1-p) * (1-p) + (1-p) * p * nao_tem_uma + p * p * nao_tem_uma\n",
        "  print(\"A probabilidade de User Miss é de \" + str(miss))\n",
        "  return miss"
      ],
      "execution_count": null,
      "outputs": []
    },
    {
      "cell_type": "markdown",
      "metadata": {
        "id": "4GRyo7Qu8eNR"
      },
      "source": [
        "####Casos com 3 Conteúdos"
      ]
    },
    {
      "cell_type": "code",
      "metadata": {
        "id": "sbwjZ_Tk8eNQ"
      },
      "source": [
        "# declaração das probabilidades de sair cada tipo de requisção\n",
        "prob = [[\"A\", 1/3], [\"B\", 1/3], [\"C\", 1/3]]\n",
        "p = 0.9"
      ],
      "execution_count": null,
      "outputs": []
    },
    {
      "cell_type": "code",
      "metadata": {
        "id": "sFc687E68eNS"
      },
      "source": [
        "#Caso FIFO\n",
        "estados = [[\"AB\"], [\"AC\"], [\"BA\"], [\"BC\"], [\"CA\"], [\"CB\"]] \n",
        "markovCasoFIFO = np.array([[2/3, 0, 0, 0, 1/3, 0], \n",
        "                           [0, 2/3, 1/3, 0, 0, 0],\n",
        "                           [0, 0, 2/3, 0, 0, 1/3],\n",
        "                           [1/3, 0, 0, 2/3, 0, 0],\n",
        "                           [0, 0, 0, 1/3, 2/3, 0],\n",
        "                           [0, 1/3, 0, 0, 0, 2/3]])\n",
        "\n",
        "user_miss(markovCasoFIFO, p)"
      ],
      "execution_count": null,
      "outputs": []
    },
    {
      "cell_type": "code",
      "metadata": {
        "id": "Tn9Lz1jY8eNS"
      },
      "source": [
        "#Caso LRU\n",
        "estados = [[\"AB\"], [\"AC\"], [\"BA\"], [\"BC\"], [\"CA\"], [\"CB\"]]\n",
        "markovCasoLRU  = np.array([[1/3, 0, 1/3, 0, 1/3, 0], \n",
        "                           [0, 1/3, 1/3, 0, 1/3, 0],\n",
        "                           [1/3, 0, 1/3, 0, 0, 1/3],\n",
        "                           [1/3, 0, 0, 1/3, 0, 1/3],\n",
        "                           [0, 1/3, 0, 1/3, 1/3, 0],\n",
        "                           [0, 1/3, 0, 1/3, 0, 1/3]])\n",
        "\n",
        "user_miss(markovCasoLRU, p)"
      ],
      "execution_count": null,
      "outputs": []
    },
    {
      "cell_type": "code",
      "metadata": {
        "id": "wDn5RVJA8eNT"
      },
      "source": [
        "#Caso RANDOM\n",
        "estados = [[\"AB\"], [\"AC\"], [\"BC\"]]\n",
        "markovCasoRandom = np.array([[2/3, 1/6, 1/6], \n",
        "                             [1/6, 2/3, 1/6],\n",
        "                             [1/6, 1/6, 2/3]])\n",
        "\n",
        "user_miss(markovCasoRandom, p)"
      ],
      "execution_count": null,
      "outputs": []
    },
    {
      "cell_type": "code",
      "metadata": {
        "id": "6cufzgslQHun"
      },
      "source": [
        "#Caso Estático\n",
        "estados = [[\"AB\"], [\"AC\"], [\"BA\"]]\n",
        "markovCasoEstatico  = np.array([[1, 0, 0], \n",
        "                                [0, 1, 0],\n",
        "                                [0, 0, 1]])\n",
        "\n",
        "user_miss_estatica(markovCasoEstatico, p)\n",
        "# o motivo de calcularmos o sucesso de apenas uma é que como as caches começam\n",
        "# iguais, e não há mudanças no meio do caminho. Por esse motivo, utilizamos a \n",
        "# função calcula_sucesso()"
      ],
      "execution_count": null,
      "outputs": []
    },
    {
      "cell_type": "markdown",
      "metadata": {
        "id": "SG4tshBM-cPg"
      },
      "source": [
        "####Casos com 4 Conteúdos"
      ]
    },
    {
      "cell_type": "code",
      "metadata": {
        "id": "zvKcG_g6_SvA"
      },
      "source": [
        "# declaração das probabilidades de sair cada tipo de requisção\n",
        "prob = [[\"A\", 1/4], [\"B\", 1/4], [\"C\", 1/4], [\"D\", 1/4]]\n",
        "p = 0.9"
      ],
      "execution_count": null,
      "outputs": []
    },
    {
      "cell_type": "code",
      "metadata": {
        "id": "gxrO4dXx-cPg"
      },
      "source": [
        "#Caso FIFO\n",
        "estados = [[\"AB\"], [\"AC\"], [\"AD\"], [\"BA\"], [\"BC\"], [\"BD\"], [\"CA\"], [\"CB\"], [\"CD\"], [\"DA\"], [\"DB\"], [\"DC\"]] \n",
        "markovCasoFIFO = np.array([[2/4, 0, 0, 0, 0, 0, 1/4, 0, 0, 1/4, 0, 0],\n",
        "                           [0, 2/4, 0, 1/4, 0, 0, 0, 0, 0, 1/4, 0, 0],\n",
        "                           [0, 0, 2/4, 1/4, 0, 0, 1/4, 0, 0, 0, 0, 0],\n",
        "                           [0, 0, 0, 2/4, 0, 0, 0, 1/4, 0, 0, 1/4, 0],\n",
        "                           [1/4, 0, 0, 0, 2/4, 0, 0, 0, 0, 0, 1/4, 0],\n",
        "                           [1/4, 0, 0, 0, 0, 2/4, 0, 1/4, 0, 0, 0, 0],\n",
        "                           [0, 0, 0, 0, 1/4, 0, 2/4, 0, 0, 0, 0, 1/4],\n",
        "                           [0, 1/4, 0, 0, 2/4, 0, 0, 0, 1/4, 0, 0, 0],\n",
        "                           [0, 1/4, 0, 0, 1/4, 0, 0, 0, 2/4, 0, 0, 0],\n",
        "                           [0, 0, 0, 0, 0, 1/4, 0, 0, 1/4, 2/4, 0, 0],\n",
        "                           [0, 0, 1/4, 0, 0, 0, 0, 0, 1/4, 0, 2/4, 0],\n",
        "                           [0, 0, 1/4, 0, 0, 1/4, 0, 0, 0, 0, 0, 2/4]])\n",
        "\n",
        "user_miss(markovCasoFIFO, p)"
      ],
      "execution_count": null,
      "outputs": []
    },
    {
      "cell_type": "code",
      "metadata": {
        "id": "xEFqq0P_-cPh"
      },
      "source": [
        "#Caso LRU\n",
        "estados = [[\"AB\"], [\"AC\"], [\"AD\"] , [\"BA\"], [\"BC\"], [\"BD\"] , [\"CA\"], [\"CB\"], [\"CD\"], [\"DA\"], [\"DB\"], [\"DC\"]] \n",
        "markovCasoLRU  = np.array([[2/4, 0, 0, 0, 0, 0, 1/4, 0, 0, 1/4, 0, 0],\n",
        "                           [0, 2/4, 0, 1/4, 0, 0, 0, 0, 0, 1/4, 0, 0],\n",
        "                           [0, 0, 2/4, 1/4, 0, 0, 1/4, 0, 0, 0, 0, 0],\n",
        "                           [0, 0, 0, 2/4, 0, 0, 0, 1/4, 0, 0, 1/4, 0],\n",
        "                           [1/4, 0, 0, 0, 2/4, 0, 0, 0, 0, 0, 1/4, 0],\n",
        "                           [1/4, 0, 0, 0, 0, 2/4, 0, 1/4, 0, 0, 0, 0],\n",
        "                           [0, 0, 0, 0, 1/4, 0, 2/4, 0, 0, 0, 0, 1/4],\n",
        "                           [0, 1/4, 0, 0, 2/4, 0, 0, 0, 1/4, 0, 0, 0],\n",
        "                           [0, 1/4, 0, 0, 1/4, 0, 0, 0, 2/4, 0, 0, 0],\n",
        "                           [0, 0, 0, 0, 0, 1/4, 0, 0, 1/4, 2/4, 0, 0],\n",
        "                           [0, 0, 1/4, 0, 0, 0, 0, 0, 1/4, 0, 2/4, 0],\n",
        "                           [0, 0, 1/4, 0, 0, 1/4, 0, 0, 0, 0, 0, 2/4]])\n",
        "\n",
        "user_miss(markovCasoLRU, p)"
      ],
      "execution_count": null,
      "outputs": []
    },
    {
      "cell_type": "code",
      "metadata": {
        "id": "FEZOnAIn-cPh"
      },
      "source": [
        "#Caso RANDOM\n",
        "estados = [[\"AB\"], [\"AC\"], [\"AD\"] , [\"BC\"], [\"BD\"], [\"CD\"]]\n",
        "markovCasoRandom = np.array([[2/4, 1/8, 1/8, 1/8, 1/8, 0],\n",
        "                             [1/8, 2/4, 1/8, 1/8, 0, 1/8],\n",
        "                             [1/8, 1/8, 2/4, 0, 1/8, 1/8],\n",
        "                             [1/8, 1/8, 0, 2/4, 1/8, 1/8],\n",
        "                             [1/8, 0, 1/8, 1/8, 2/4, 1/8],\n",
        "                             [0, 1/8, 1/8, 1/8, 1/8, 2/4]])\n",
        "\n",
        "user_miss(markovCasoRandom, p)"
      ],
      "execution_count": null,
      "outputs": []
    },
    {
      "cell_type": "code",
      "metadata": {
        "id": "qEvg-7I7qMOu"
      },
      "source": [
        "#Caso Estático\n",
        "estados = [[\"AB\"], [\"AC\"], [\"AD\"], [\"BC\"], [\"BD\"], [\"CD\"]]\n",
        "markovCasoEstatico  = np.array([[1, 0, 0, 0, 0, 0], \n",
        "                                [0, 1, 0, 0, 0, 0],\n",
        "                                [0, 0, 1, 0, 0, 0],\n",
        "                                [0, 0, 0, 1, 0, 0],\n",
        "                                [0, 0, 0, 0, 1, 0],\n",
        "                                [0, 0, 0, 0, 0, 1]])\n",
        "\n",
        "user_miss_estatica(markovCasoEstatico, p)"
      ],
      "execution_count": null,
      "outputs": []
    },
    {
      "cell_type": "markdown",
      "metadata": {
        "id": "VEI9N73Wrj2_"
      },
      "source": [
        "----------------------------------------------------------------------------------------------------------------------------------------------------------------\n",
        "\n",
        "#Coisas não oficiais da parte analítica"
      ]
    },
    {
      "cell_type": "code",
      "metadata": {
        "id": "fC3fBAi_684i"
      },
      "source": [
        "# Função para calcular a probabilidade de falha em uma única cache\n",
        "def calcula_falha(P):\n",
        "  estacionaria = forma_tupla(P)\n",
        "  falha = 0\n",
        "  for i in range(len(prob)):\n",
        "    for j in range(len(estacionaria)):\n",
        "      \n",
        "      if (prob[i][0] not in estacionaria[j][0]):\n",
        "        #print(\"\\nPi_\" + str(estacionaria[j][0])+\" * P(\" + str(prob[i][0]) + \")\")\n",
        "        #print(str(estacionaria[j][1])+\" * \" + str(prob[i][1]))\n",
        "        falha = falha + (prob[i][1]*estacionaria[j][1])\n",
        "        #print(\"Falha: \" + str(sucesso))\n",
        "  \n",
        "  return falha"
      ],
      "execution_count": 62,
      "outputs": []
    },
    {
      "cell_type": "code",
      "metadata": {
        "id": "aP7RHWi68srg"
      },
      "source": [
        "# Função para calcular falha em ambas as caches \n",
        "def falha_total(P):\n",
        "  sucesso_uma = 0\n",
        "  falha = 0\n",
        "  falha_uma = calcula_falha(P)\n",
        "  sucesso_uma = 1 - falha_uma\n",
        "\n",
        "  # Ftot = F*F\n",
        "  falha = falha_uma * falha_uma\n",
        "  sucesso = 1 - falha\n",
        "  print(sucesso)\n",
        "\n",
        "  return falha\n",
        "\n",
        "falha_total(markovCasoFIFO)"
      ],
      "execution_count": null,
      "outputs": []
    },
    {
      "cell_type": "code",
      "metadata": {
        "id": "oWdUW07Aus_y"
      },
      "source": [
        "#matrix_power(markovCasoFIFO, 10000).round(decimals=2)\n",
        "#matrix_power(markovCasoLRU, 10000).round(decimals=2)\n",
        "#matrix_power(markovCasoRandom, 10000).round(decimals=2)"
      ],
      "execution_count": null,
      "outputs": []
    },
    {
      "cell_type": "code",
      "metadata": {
        "id": "aT5-B9-hNJNP"
      },
      "source": [
        "markovCasoRandomDuas = np.array([[2/3, 0, 0,1/9,1/9,1/9], \n",
        "                             [1/6, 1/3, 1/6,1/6,1/6,0],\n",
        "                             [1/6, 1/6, 1/3,0,1/6,1/6],\n",
        "                             [1/9, 0, 1/9,2/3,0,1/9],\n",
        "                             [0, 1/6, 1/6,1/6,1/3,1/6],\n",
        "                             [1/9, 0, 1/9,1/9,0,2/3]])"
      ],
      "execution_count": 24,
      "outputs": []
    },
    {
      "cell_type": "code",
      "metadata": {
        "colab": {
          "base_uri": "https://localhost:8080/"
        },
        "id": "sp-LiWB4DFB-",
        "outputId": "e13ead4c-0d06-429c-ba53-c4aca33f7169"
      },
      "source": [
        "prob = [[\"A\", 1/3], [\"B\", 1/3], [\"C\", 1/3]]\n",
        "estados = [[\"ABAB\"], [\"ABBC\"], [\"ABCA\"], [\"BCBC\"], [\"BCCA\"], [\"CACA\"]]\n",
        "calcula_sucesso(markovCasoRandomDuas)"
      ],
      "execution_count": 28,
      "outputs": [
        {
          "output_type": "stream",
          "text": [
            "A distribuição estacionária é dada por: [['ABAB', 0.25000000000000006], ['ABBC', 0.04999999999999992], ['ABCA', 0.11666666666666661], ['BCBC', 0.23750000000000013], ['BCCA', 0.08333333333333336], ['CACA', 0.2625]]\n"
          ],
          "name": "stdout"
        },
        {
          "output_type": "execute_result",
          "data": {
            "text/plain": [
              "0.75"
            ]
          },
          "metadata": {
            "tags": []
          },
          "execution_count": 28
        }
      ]
    },
    {
      "cell_type": "code",
      "metadata": {
        "id": "8a_jF7t6N3sl"
      },
      "source": [
        "dist_estacionaria(markovCasoRandomDuas)"
      ],
      "execution_count": null,
      "outputs": []
    },
    {
      "cell_type": "code",
      "metadata": {
        "id": "GcF42zwBONPE"
      },
      "source": [
        "0.25*(2/3) + 0.2375*(2/3) + 0.2625*(2/3) + 0.05  + 0.11666667  + 0.08333333"
      ],
      "execution_count": null,
      "outputs": []
    }
  ]
}